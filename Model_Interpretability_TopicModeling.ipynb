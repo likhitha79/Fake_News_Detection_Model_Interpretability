{
  "nbformat": 4,
  "nbformat_minor": 0,
  "metadata": {
    "colab": {
      "name": "Model_Interpretability_TopicModeling",
      "provenance": []
    },
    "kernelspec": {
      "name": "python3",
      "display_name": "Python 3"
    },
    "language_info": {
      "name": "python"
    }
  },
  "cells": [
    {
      "cell_type": "code",
      "metadata": {
        "id": "BucORsHquEjc"
      },
      "source": [
        "import pandas as pd"
      ],
      "execution_count": null,
      "outputs": []
    },
    {
      "cell_type": "code",
      "metadata": {
        "id": "Hj_xUZqQuGP2"
      },
      "source": [
        "train = pd.read_excel('/content/drive/MyDrive/FakeNewsData/fakeNewsData/Constraint_English_Train.xlsx')\n",
        "val = pd.read_excel('/content/drive/MyDrive/FakeNewsData/fakeNewsData/Constraint_English_Val.xlsx')"
      ],
      "execution_count": null,
      "outputs": []
    },
    {
      "cell_type": "code",
      "metadata": {
        "colab": {
          "base_uri": "https://localhost:8080/"
        },
        "id": "DKJjIid7uJtf",
        "outputId": "49800537-4edd-41a4-b1ec-43a49abaae3d"
      },
      "source": [
        "train.head(5)"
      ],
      "execution_count": null,
      "outputs": [
        {
          "output_type": "execute_result",
          "data": {
            "text/html": [
              "<div>\n",
              "<style scoped>\n",
              "    .dataframe tbody tr th:only-of-type {\n",
              "        vertical-align: middle;\n",
              "    }\n",
              "\n",
              "    .dataframe tbody tr th {\n",
              "        vertical-align: top;\n",
              "    }\n",
              "\n",
              "    .dataframe thead th {\n",
              "        text-align: right;\n",
              "    }\n",
              "</style>\n",
              "<table border=\"1\" class=\"dataframe\">\n",
              "  <thead>\n",
              "    <tr style=\"text-align: right;\">\n",
              "      <th></th>\n",
              "      <th>id</th>\n",
              "      <th>tweet</th>\n",
              "      <th>label</th>\n",
              "    </tr>\n",
              "  </thead>\n",
              "  <tbody>\n",
              "    <tr>\n",
              "      <th>0</th>\n",
              "      <td>1</td>\n",
              "      <td>The CDC currently reports 99031 deaths. In gen...</td>\n",
              "      <td>real</td>\n",
              "    </tr>\n",
              "    <tr>\n",
              "      <th>1</th>\n",
              "      <td>2</td>\n",
              "      <td>States reported 1121 deaths a small rise from ...</td>\n",
              "      <td>real</td>\n",
              "    </tr>\n",
              "    <tr>\n",
              "      <th>2</th>\n",
              "      <td>3</td>\n",
              "      <td>Politically Correct Woman (Almost) Uses Pandem...</td>\n",
              "      <td>fake</td>\n",
              "    </tr>\n",
              "    <tr>\n",
              "      <th>3</th>\n",
              "      <td>4</td>\n",
              "      <td>#IndiaFightsCorona: We have 1524 #COVID testin...</td>\n",
              "      <td>real</td>\n",
              "    </tr>\n",
              "    <tr>\n",
              "      <th>4</th>\n",
              "      <td>5</td>\n",
              "      <td>Populous states can generate large case counts...</td>\n",
              "      <td>real</td>\n",
              "    </tr>\n",
              "  </tbody>\n",
              "</table>\n",
              "</div>"
            ],
            "text/plain": [
              "   id                                              tweet label\n",
              "0   1  The CDC currently reports 99031 deaths. In gen...  real\n",
              "1   2  States reported 1121 deaths a small rise from ...  real\n",
              "2   3  Politically Correct Woman (Almost) Uses Pandem...  fake\n",
              "3   4  #IndiaFightsCorona: We have 1524 #COVID testin...  real\n",
              "4   5  Populous states can generate large case counts...  real"
            ]
          },
          "metadata": {},
          "execution_count": 3
        }
      ]
    },
    {
      "cell_type": "code",
      "metadata": {
        "id": "UGTLvHrKuU4Q"
      },
      "source": [
        "import gensim, spacy, logging, warnings\n",
        "import gensim.corpora as corpora\n",
        "from gensim.utils import lemmatize, simple_preprocess\n",
        "from gensim.models import CoherenceModel"
      ],
      "execution_count": null,
      "outputs": []
    },
    {
      "cell_type": "code",
      "metadata": {
        "colab": {
          "base_uri": "https://localhost:8080/"
        },
        "id": "UbgccMcvuaHo",
        "outputId": "7658dadb-0fc6-45ae-8a09-255d5a1fb74d"
      },
      "source": [
        "#Remove stop words\n",
        "import nltk as nltk\n",
        "nltk.download('stopwords')\n",
        "nltk.download('punkt')\n",
        "from nltk.corpus import stopwords"
      ],
      "execution_count": null,
      "outputs": [
        {
          "output_type": "stream",
          "name": "stdout",
          "text": [
            "[nltk_data] Downloading package stopwords to /root/nltk_data...\n",
            "[nltk_data]   Unzipping corpora/stopwords.zip.\n",
            "[nltk_data] Downloading package punkt to /root/nltk_data...\n",
            "[nltk_data]   Unzipping tokenizers/punkt.zip.\n"
          ]
        }
      ]
    },
    {
      "cell_type": "code",
      "metadata": {
        "id": "OlU7SAgQucRm"
      },
      "source": [
        "%matplotlib inline\n",
        "warnings.filterwarnings(\"ignore\",category=DeprecationWarning)"
      ],
      "execution_count": null,
      "outputs": []
    },
    {
      "cell_type": "code",
      "metadata": {
        "id": "nq2KEC6KueFi"
      },
      "source": [
        "tweets = train['tweet'].values.tolist()"
      ],
      "execution_count": null,
      "outputs": []
    },
    {
      "cell_type": "code",
      "metadata": {
        "colab": {
          "base_uri": "https://localhost:8080/"
        },
        "id": "vAhyAqTOuo5r",
        "outputId": "446ab59b-fb75-4dc1-d961-b4ca7df3c16a"
      },
      "source": [
        "tweets[0]"
      ],
      "execution_count": null,
      "outputs": [
        {
          "output_type": "execute_result",
          "data": {
            "application/vnd.google.colaboratory.intrinsic+json": {
              "type": "string"
            },
            "text/plain": [
              "'The CDC currently reports 99031 deaths. In general the discrepancies in death counts between different sources are small and explicable. The death toll stands at roughly 100000 people today.'"
            ]
          },
          "metadata": {},
          "execution_count": 8
        }
      ]
    },
    {
      "cell_type": "code",
      "metadata": {
        "id": "8hqURoqpuqr4"
      },
      "source": [
        "def token_builder(sentences) :\n",
        "   for sent in sentences:     \n",
        "        sent = gensim.utils.simple_preprocess(str(sent), deacc=True) \n",
        "        yield(sent)  \n"
      ],
      "execution_count": null,
      "outputs": []
    },
    {
      "cell_type": "code",
      "metadata": {
        "id": "NnK_fZ2wu3DW"
      },
      "source": [
        "tweet_tokens = list(token_builder(tweets))"
      ],
      "execution_count": null,
      "outputs": []
    },
    {
      "cell_type": "code",
      "metadata": {
        "colab": {
          "base_uri": "https://localhost:8080/"
        },
        "id": "wMQ8cVepw4Nt",
        "outputId": "0b8426a9-62c9-4f3f-9aaf-b93934bac3cd"
      },
      "source": [
        "tweet_tokens[0]"
      ],
      "execution_count": null,
      "outputs": [
        {
          "output_type": "execute_result",
          "data": {
            "text/plain": [
              "['the',\n",
              " 'cdc',\n",
              " 'currently',\n",
              " 'reports',\n",
              " 'deaths',\n",
              " 'in',\n",
              " 'general',\n",
              " 'the',\n",
              " 'discrepancies',\n",
              " 'in',\n",
              " 'death',\n",
              " 'counts',\n",
              " 'between',\n",
              " 'different',\n",
              " 'sources',\n",
              " 'are',\n",
              " 'small',\n",
              " 'and',\n",
              " 'explicable',\n",
              " 'the',\n",
              " 'death',\n",
              " 'toll',\n",
              " 'stands',\n",
              " 'at',\n",
              " 'roughly',\n",
              " 'people',\n",
              " 'today']"
            ]
          },
          "metadata": {},
          "execution_count": 11
        }
      ]
    },
    {
      "cell_type": "code",
      "metadata": {
        "colab": {
          "base_uri": "https://localhost:8080/"
        },
        "id": "la8Di86qw5t8",
        "outputId": "cea68a84-ccf0-4582-dd1a-f9ca9a637ecf"
      },
      "source": [
        "# Build the bigram and trigram models\n",
        "bigram = gensim.models.Phrases(tweet_tokens, min_count=3, threshold=50) # higher threshold fewer phrases.\n",
        "trigram = gensim.models.Phrases(bigram[tweet_tokens], threshold=50)  \n",
        "bigram_mod = gensim.models.phrases.Phraser(bigram)\n",
        "trigram_mod = gensim.models.phrases.Phraser(trigram)"
      ],
      "execution_count": null,
      "outputs": [
        {
          "output_type": "stream",
          "name": "stderr",
          "text": [
            "/usr/local/lib/python3.7/dist-packages/gensim/models/phrases.py:598: UserWarning: For a faster implementation, use the gensim.models.phrases.Phraser class\n",
            "  warnings.warn(\"For a faster implementation, use the gensim.models.phrases.Phraser class\")\n"
          ]
        }
      ]
    },
    {
      "cell_type": "code",
      "metadata": {
        "id": "K8HwhDo5xBut"
      },
      "source": [
        "stop_words = stopwords.words('english')\n",
        "stop_words.extend(['from', 'subject', 're', 'edu', 'use', 'not', 'would', 'say', 'could','be', 'know', 'good', 'go', 'get', 'do', 'done', 'try', 'many', 'some', 'nice', 'thank', 'think', 'see', 'rather', 'easy', 'easily', 'lot', 'lack', 'make', 'want', 'seem', 'run', 'need', 'even', 'right', 'line', 'even', 'also', 'may', 'take', 'come','co','https'])"
      ],
      "execution_count": null,
      "outputs": []
    },
    {
      "cell_type": "code",
      "metadata": {
        "id": "9FZqbfqUxG1p"
      },
      "source": [
        "def process_docs(texts, stop_words=stop_words, allowed_postags=['NOUN', 'ADJ', 'VERB', 'ADV']):\n",
        "    texts = [[word for word in simple_preprocess(str(doc)) if word not in stop_words] for doc in texts]\n",
        "    texts = [bigram_mod[doc] for doc in texts]\n",
        "    texts = [trigram_mod[bigram_mod[doc]] for doc in texts]\n",
        "    texts_out = []\n",
        "    nlp = spacy.load('en', disable=['parser', 'ner'])\n",
        "    for sent in texts:\n",
        "        doc = nlp(\" \".join(sent)) \n",
        "        texts_out.append([token.lemma_ for token in doc if token.pos_ in allowed_postags])\n",
        "    # remove stopwords once more after lemmatization   \n",
        "    texts_out = [[word for word in simple_preprocess(str(doc)) if word not in stop_words] for doc in texts_out] \n",
        "    return texts_out\n"
      ],
      "execution_count": null,
      "outputs": []
    },
    {
      "cell_type": "code",
      "metadata": {
        "id": "sfoy09qbxLNx"
      },
      "source": [
        "tweets_data = process_docs(tweet_tokens)"
      ],
      "execution_count": null,
      "outputs": []
    },
    {
      "cell_type": "code",
      "metadata": {
        "id": "ss9dfklwxSj3"
      },
      "source": [
        "# Create Dictionary\n",
        "id2word = corpora.Dictionary(tweets_data)"
      ],
      "execution_count": null,
      "outputs": []
    },
    {
      "cell_type": "code",
      "metadata": {
        "colab": {
          "base_uri": "https://localhost:8080/"
        },
        "id": "fZszWw-JxaqJ",
        "outputId": "274f46df-701f-4390-ae96-2ce3f434a16b"
      },
      "source": [
        "print(id2word.token2id)"
      ],
      "execution_count": null,
      "outputs": [
        {
          "output_type": "stream",
          "name": "stdout",
          "text": [
            "{'count': 0, 'currently': 1, 'death': 2, 'different': 3, 'discrepancy': 4, 'explicable': 5, 'general': 6, 'people': 7, 'report': 8, 'roughly': 9, 'small': 10, 'source': 11, 'stand': 12, 'today': 13, 'last': 14, 'rise': 15, 'state': 16, 'almost': 17, 'bag': 18, 'correct': 19, 'excuse': 20, 'pandemic': 21, 'plastic': 22, 'politically': 23, 'reuse': 24, 'woman': 25, 'icmrdelhi': 26, 'laboratory': 27, 'test': 28, 'testing': 29, 'case': 30, 'generate': 31, 'large': 32, 'look': 33, 'new': 34, 'populous': 35, 'show': 36, 'average': 37, 'datum': 38, 'decline': 39, 'factor': 40, 'fe': 41, 'find': 42, 'hhigdd': 43, 'infect': 44, 'order': 45, 'person': 46, 'place': 47, 'put': 48, 'rate': 49, 'restriction': 50, 'stay_home': 51, 'time': 52, 'away': 53, 'covid': 54, 'learn': 55, 'recommendation': 56, 'symptom': 57, 'call': 58, 'chaotic': 59, 'dedqzehasb': 60, 'disaster': 61, 'clearly': 62, 'game_plan': 63, 'kind': 64, 'leave': 65, 'analysis': 66, 'chloroquine': 67, 'lancet': 68, 'macrolide': 69, 'multinational': 70, 'retraction': 71, 'treatment': 72, 'daily': 73, 'illness': 74, 'precaution': 75, 'protect': 76, 'respiratory': 77, 'simple': 78, 'spread': 79, 'hour': 80, 'jazz': 81, 'matter': 82, 'month': 83, 'age': 84, 'announce': 85, 'cohort': 86, 'dose': 87, 'first': 88, 'participant': 89, 'read': 90, 'vaccine': 91, 'cross': 92, 'cumulative': 93, 'date': 94, 'reach': 95, 'tpm': 96, 'practice': 97, 'surface': 98, 'ufv': 99, 'amp': 100, 'positive': 101, 'related': 102, 'total': 103, 'die': 104, 'incompetence': 105, 'nearly': 106, 'negligence': 107, 'pat': 108, 'unbelievable': 109, 'work': 110, 'yet': 111, 'achieve': 112, 'consecutive': 113, 'continue': 114, 'country': 115, 'day': 116, 'ddnewslive': 117, 'high': 118, 'level': 119, 'peak': 120, 'scale': 121, 'eoayeqh': 122, 'jnarqekghr': 123, 'plan': 124, 'ship': 125, 'aussie': 126, 'australian': 127, 'claim': 128, 'conspiracy': 129, 'evidence': 130, 'fine': 131, 'include': 132, 'post': 133, 'screenshot': 134, 'segment': 135, 'talk': 136, 'television': 137, 'fact': 138, 'greatly': 139, 'late': 140, 'misinformation': 141, 'name': 142, 'natural': 143, 'sadden': 144, 'alert_level': 145, 'app': 146, 'download': 147, 'encourage': 148, 'important': 149, 'keep': 150, 'record': 151, 'remain': 152, 'similar': 153, 'useful': 154, 'ask': 155, 'break': 156, 'due': 157, 'foreign': 158, 'increase': 159, 'nation': 160, 'news': 161, 'confirm': 162, 'covax_facility': 163, 'delighted': 164, 'drtedro': 165, 'economy': 166, 'grow': 167, 'join': 168, 'middle': 169, 'number': 170, 'participate': 171, 'upper': 172, 'urge': 173, 'anxiety': 174, 'brain': 175, 'change': 176, 'cn': 177, 'function': 178, 'intrigue': 179, 'invasion': 180, 'kwqjmfrt': 181, 'mood': 182, 'possibility': 183, 'ai': 184, 'baby': 185, 'job': 186, 'develop': 187, 'chunk': 188, 'evaluation': 189, 'gather': 190, 'huge': 191, 'bring': 192, 'quarantine': 193, 'routine_teste': 194, 'stay': 195, 'tests_completed': 196, 'yesterday': 197, 'effective': 198, 'heat': 199, 'hydrogen': 200, 'light': 201, 'mask': 202, 'peroxide': 203, 'uv': 204, 'vaporized': 205, 'belong': 206, 'focus': 207, 'list': 208, 'moment': 209, 'pgxjssarcb': 210, 'recent': 211, 'reply': 212, 'response': 213, 'shift': 214, 'timeline': 215, 'trump': 216, 'update': 217, 'virus': 218, 'chant': 219, 'doctor': 220, 'image': 221, 'share': 222, 'aoumld': 223, 'apart': 224, 'choose': 225, 'event': 226, 'face_cover': 227, 'fourthofjuly': 228, 'gathering': 229, 'outdoors': 230, 'slow': 231, 'spend': 232, 'weekend': 233, 'boost': 234, 'breastfeed': 235, 'efficacy': 236, 'mother': 237, 'stop': 238, 'flight': 239, 'hault': 240, 'ban': 241, 'botch': 242, 'curve': 243, 'desantis': 244, 'flatten': 245, 'accurate': 246, 'control': 247, 'ensure': 248, 'error': 249, 'government': 250, 'improve': 251, 'process': 252, 'quality': 253, 'remain_committe': 254, 'reporting': 255, 'transparent': 256, 'fight': 257, 'invent': 258, 'video': 259, 'alone': 260, 'fgcegi': 261, 'cough': 262, 'directly': 263, 'addition': 264, 'company': 265, 'far': 266, 'fund': 267, 'generous': 268, 'individual': 269, 'launch': 270, 'member': 271, 'mobilize': 272, 'philanthropy': 273, 'support': 274, 'football': 275, 'help': 276, 'hospital': 277, 'hotel': 278, 'patient': 279, 'pay': 280, 'player': 281, 'staff': 282, 'turn': 283, 'airport': 284, 'asymptomatic': 285, 'border': 286, 'early': 287, 'expect': 288, 'involve': 289, 'measure': 290, 'operational': 291, 'part': 292, 'surveillance': 293, 'wide': 294, 'worker': 295, 'insist': 296, 'progress': 297, 'exceed': 298, 'recovery': 299, 'active': 300, 'caseload': 301, 'high_level': 302, 'howhfx': 303, 'one': 304, 'presently': 305, 'top': 306, 'wpe': 307, 'departure': 308, 'facility': 309, 'become': 310, 'child': 311, 'compulsory': 312, 'cope': 313, 'explainer': 314, 'infection': 315, 'pupil': 316, 'return': 317, 'school': 318, 'struggle': 319, 'delay': 320, 'ready': 321, 'ring': 322, 'scientist': 323, 'help_prevent': 324, 'help_protect': 325, 'public': 326, 'wear': 327, 'wear_mask': 328, 'widely_use': 329, 'enpey': 330, 'gombe': 331, 'river': 332, 'already': 333, 'ahead': 334, 'rt_mohfw_india': 335, 'surge': 336, 'sustain': 337, 'exhaust': 338, 'surrender': 339, 'force': 340, 'medical': 341, 'protective': 342, 'delive': 343, 'flyer': 344, 'move': 345, 'offline': 346, 'site': 347, 'tell': 348, 'user': 349, 'bridge': 350, 'dead': 351, 'live': 352, 'vywwp': 353, 'allow': 354, 'fail': 355, 'resident': 356, 'rule': 357, 'central': 358, 'give': 359, 'open': 360, 'permission': 361, 'approve': 362, 'coronaupdate': 363, 'covidtesting': 364, 'covidupdate': 365, 'lab': 366, 'tavyickc': 367, 'availability': 368, 'pressure': 369, 'examine': 370, 'kid': 371, 'lockdown': 372, 'paper': 373, 'white': 374, 'affect': 375, 'group': 376, 'intense': 377, 'relatively': 378, 'transmission': 379, 'resign': 380, 'bear': 381, 'responsible': 382, 'alexismadrigal': 383, 'definitely': 384, 'hard': 385, 'real': 386, 'specialist': 387, 'thing': 388, 'ayush': 389, 'cow': 390, 'expert': 391, 'prevent': 392, 'treat': 393, 'yoga': 394, 'blow': 395, 'carry': 396, 'cause': 397, 'clear': 398, 'droplet': 399, 'hand': 400, 'health': 401, 'infected': 402, 'main': 403, 'mode': 404, 'possible': 405, 'problem': 406, 'regardless': 407, 'second': 408, 'smoke': 409, 'smoker': 410, 'steer': 411, 'various': 412, 'article': 413, 'human': 414, 'modify': 415, 'dyk': 416, 'handwashing': 417, 'way': 418, 'accord': 419, 'recoveryrate': 420, 'back': 421, 'dip': 422, 'hdqfxq': 423, 'holiday': 424, 'jump': 425, 'monday': 426, 'publish': 427, 'still': 428, 'sunday': 429, 'tend': 430, 'empty': 431, 'remedy': 432, 'salt': 433, 'youtube': 434, 'derail': 435, 'development': 436, 'dramatically': 437, 'eradication': 438, 'goal': 439, 'hunger': 440, 'poverty': 441, 'question': 442, 'sustainable': 443, 'circulation': 444, 'taint': 445, 'track': 446, 'contribute': 447, 'fatality': 448, 'asian': 449, 'black': 450, 'citizen': 451, 'commonly': 452, 'community': 453, 'consequence': 454, 'ethnic': 455, 'key': 456, 'minority': 457, 'old': 458, 'origin': 459, 'poorly': 460, 'protection': 461, 'social': 462, 'syndemic': 463, 'underline': 464, 'vulnerability': 465, 'welfare': 466, 'lakh': 467, 'fall': 468, 'low': 469, 'significantly': 470, 'bereavement': 471, 'cluster': 472, 'sub': 473, 'covidー': 474, 'breakdown': 475, 'big': 476, 'likely': 477, 'soon': 478, 'trvo': 479, 'week': 480, 'recover': 481, 'wvqslxqbpc': 482, 'commitment': 483, 'detail': 484, 'enable': 485, 'expand': 486, 'mechanism': 487, 'set': 488, 'visit': 489, 'birth': 490, 'hscywgpr': 491, 'pregnant_woman': 492, 'premature': 493, 'complete': 494, 'effectively': 495, 'medicine': 496, 'project': 497, 'proper': 498, 'trial': 499, 'underway': 500, 'world': 501, 'close': 502, 'compare': 503, 'base': 504, 'close_contact': 505, 'connect': 506, 'existing': 507, 'investigation': 508, 'outbreak': 509, 'alcohol': 510, 'amount': 511, 'apply': 512, 'burn': 513, 'catch': 514, 'end': 515, 'fire': 516, 'message': 517, 'precautionary': 518, 'sanitizer': 519, 'stove': 520, 'buy': 521, 'novartis': 522, 'primary': 523, 'supplier': 524, 'accept': 525, 'home': 526, 'student': 527, 'ronaldo': 528, 'recoverie': 529, 'asjumw': 530, 'chance': 531, 'fever': 532, 'fightflu': 533, 'flu': 534, 'fp': 535, 'next': 536, 'suddenly': 537, 'watch': 538, 'rhinovirus': 539, 'suspect': 540, 'breathe': 541, 'hospitalization': 542, 'lxfaqqx': 543, 'manrecav': 544, 'mean': 545, 'require': 546, 'ventilator': 547, 'actress': 548, 'admit': 549, 'contract': 550, 'wrong': 551, 'sudden': 552, 'syndrome': 553, 'deadly': 554, 'party': 555, 'emphasis': 556, 'dashboard': 557, 'quite': 558, 'reason': 559, 'refuse': 560, 'table': 561, 'well': 562, 'drive': 563, 'much': 564, 'solid': 565, 'tests_complete': 566, 'bihar': 567, 'chief': 568, 'extend': 569, 'lose': 570, 'nationalist': 571, 'residence': 572, 'view': 573, 'population': 574, 'profit': 575, 'reduce': 576, 'vaccination': 577, 'adequate': 578, 'hold': 579, 'inter': 580, 'meeting': 581, 'movement': 582, 'oxygen': 583, 'unrestricted': 584, 'ut': 585, 'virtual': 586, 'attend': 587, 'field': 588, 'implementation': 589, 'story': 590, 'telehealth': 591, 'topic': 592, 'vwvkebacnf': 593, 'boy': 594, 'healthy': 595, 'life': 596, 'smqhswqt': 597, 'collate': 598, 'collection': 599, 'data': 600, 'inform': 601, 'nigerian': 602, 'nyo': 603, 'pm': 604, 'receive': 605, 'result': 606, 'team': 607, 'effort': 608, 'finally': 609, 'hope': 610, 'htyv': 611, 'major': 612, 'partnership': 613, 'racial': 614, 'tracker': 615, 'version': 616, 'volunteer': 617, 'estimate': 618, 'exposure': 619, 'long': 620, 'median': 621, 'onset': 622, 'effect': 623, 'side': 624, 'icu': 625, 'middlemore': 626, 'probable': 627, 'author': 628, 'avoid': 629, 'full': 630, 'interruption': 631, 'program': 632, 'publication': 633, 'risk': 634, 'save_live': 635, 'xey': 636, 'access': 637, 'behavior': 638, 'crisis': 639, 'decision': 640, 'informed': 641, 'leader': 642, 'model': 643, 'must': 644, 'projection': 645, 'transparency': 646, 'vital': 647, 'advise': 648, 'minister': 649, 'reassured': 650, 'awareness': 651, 'grassroot': 652, 'mniu': 653, 'newly': 654, 'nfeltp': 655, 'obt': 656, 'provide': 657, 'rapid': 658, 'reactivate': 659, 'strengthen': 660, 'walk': 661, 'nadu': 662, 'ntodwipflp': 663, 'detect': 664, 'mandate': 665, 'passenger': 666, 'screening': 667, 'single': 668, 'blood': 669, 'inject': 670, 'accounting': 671, 'dataset': 672, 'separate': 673, 'activity': 674, 'coach': 675, 'mqskvf': 676, 'organization': 677, 'resume': 678, 'safety': 679, 'sick': 680, 'sport': 681, 'tip': 682, 'tnpx': 683, 'visitor': 684, 'youth': 685, 'politician': 686, 'district': 687, 'exhibit': 688, 'globalwarme': 689, 'leak': 690, 'ooxu': 691, 'planet': 692, 'current': 693, 'gum': 694, 'system': 695, 'night': 696, 'pesticide': 697, 'spray': 698, 'declare': 699, 'bypass': 700, 'care': 701, 'sign': 702, 'socialdistance': 703, 'bleach': 704, 'disinfect': 705, 'food': 706, 'product': 707, 'solution': 708, 'available': 709, 'free': 710, 'actively': 711, 'doubt': 712, 'explore': 713, 'failure': 714, 'raise': 715, 'saliva': 716, 'significant': 717, 'action': 718, 'bmj': 719, 'gps': 720, 'write': 721, 'cautious': 722, 'distribute': 723, 'express': 724, 'longer': 725, 'optimism': 726, 'spring': 727, 'srnfkura': 728, 'unclear': 729, 'widely': 730, 'artificially': 731, 'cddxgjrrw': 732, 'check': 733, 'context': 734, 'deflate': 735, 'period': 736, 'produce': 737, 'situation': 738, 'tackle': 739, 'transitional': 740, 'tuohxwun': 741, 'weekly': 742, 'awnpnmp': 743, 'dhanbad': 744, 'video_show': 745, 'lakshadweep': 746, 'last_hrs': 747, 'ugeq': 748, 'smallpox': 749, 'tfmvxr': 750, 'believe': 751, 'election': 752, 'former': 753, 'address': 754, 'equity': 755, 'ethnic_group': 756, 'healthequity': 757, 'inequity': 758, 'opportunity': 759, 'ovro': 760, 'strategy': 761, 'amazon': 762, 'cure': 763, 'offer': 764, 'often': 765, 'page': 766, 'sell': 767, 'toxic': 768, 'slowly': 769, 'add': 770, 'certain': 771, 'year': 772, 'allocate': 773, 'consideration': 774, 'overall': 775, 'phase': 776, 'proportionally': 777, 'relation': 778, 'simultaneously': 779, 'threat': 780, 'able': 781, 'confirmation': 782, 'hat': 783, 'injection': 784, 'million': 785, 'note': 786, 'within_hour': 787, 'trend': 788, 'yduwnhfwy': 789, 'hypertension': 790, 'mortality': 791, 'twofold': 792, 'face_covering': 793, 'ft': 794, 'interested': 795, 'wash': 796, 'wear_cloth': 797, 'beach': 798, 'never': 799, 'raleigh': 800, 'oyo': 801, 'plateau': 802, 'continuously': 803, 'prayer': 804, 'rooftop': 805, 'accelerator': 806, 'aim': 807, 'disease': 808, 'form': 809, 'tool': 810, 'plummet': 811, 'positive_rate': 812, 'nurse': 813, 'professional': 814, 'temporary': 815, 'vacancy': 816, 'ceremony': 817, 'daughter': 818, 'decease': 819, 'funeral': 820, 'image_show': 821, 'mandatory': 822, 'overseas': 823, 'photo': 824, 'policy': 825, 'recently': 826, 'shortly': 827, 'thondaman': 828, 'traveler': 829, 'violate': 830, 'contact': 831, 'identify': 832, 'morning': 833, 'remainder': 834, 'tokoroa': 835, 'arrival': 836, 'jgwgoj': 837, 'prepare': 838, 'region': 839, 'step': 840, 'xsbv': 841, 'covidview': 842, 'indicator': 843, 'lag': 844, 'usually': 845, 'wptwivfqf': 846, 'afaracare': 847, 'direct': 848, 'feel': 849, 'gargle': 850, 'true': 851, 'expose': 852, 'less': 853, 'lung': 854, 'monkey': 855, 'vaccinate': 856, 'deal': 857, 'dscsm': 858, 'measle': 859, 'adult': 860, 'ambulance': 861, 'capacity': 862, 'centre': 863, 'emergency': 864, 'grateful': 865, 'ihstower': 866, 'operation': 867, 'port': 868, 'service': 869, 'transportation': 870, 'sadly': 871, 'speedy': 872, 'ward': 873, 'indian': 874, 'pray': 875, 'begin': 876, 'downward': 877, 'nationwide': 878, 'past': 879, 'tioecwn': 880, 'nagpur': 881, 'american': 882, 'counterpart': 883, 'hispanic': 884, 'hospitalize': 885, 'hpmlwpxd': 886, 'non': 887, 'enter': 888, 'partner': 889, 'permit': 890, 'caqhv': 891, 'several': 892, 'impose': 893, 'states_ut': 894, 'hdb': 895, 'mh': 896, 'mix': 897, 'season': 898, 'study': 899, 'lie': 900, 'bail': 901, 'demand': 902, 'pension': 903, 'relate': 904, 'anti_vaxxer': 905, 'decide': 906, 'pretend': 907, 'xq': 908, 'yib': 909, 'backlogge': 910, 'local': 911, 'danger': 912, 'regard': 913, 'casual': 914, 'test_result': 915, 'wait': 916, 'face': 917, 'priority': 918, 'antibody': 919, 'false': 920, 'gqfttymg': 921, 'mild': 922, 'represent': 923, 'beat': 924, 'man': 925, 'ggjyvfjzrc': 926, 'leg': 927, 'flee': 928, 'masse': 929, 'particularly': 930, 'steep': 931, 'worrisome': 932, 'decade': 933, 'employment': 934, 'finding': 935, 'physician': 936, 'research': 937, 'woolrigvku': 938, 'entire': 939, 'restrict': 940, 'unwell': 941, 'animal': 942, 'deer': 943, 'herd': 944, 'internet': 945, 'picture': 946, 'road': 947, 'round': 948, 'wild': 949, 'bbzkvmkc': 950, 'chart': 951, 'mitigation': 952, 'optimistic': 953, 'point': 954, 'suggest': 955, 'elderberry': 956, 'extremely': 957, 'follow': 958, 'importance': 959, 'insightful': 960, 'really': 961, 'summary': 962, 'tout': 963, 'trust': 964, 'vitamin': 965, 'website': 966, 'great': 967, 'however': 968, 'obviously': 969, 'stun': 970, 'uwgw': 971, 'vgzrm': 972, 'sldrvxxfcz': 973, 'administrative': 974, 'agree': 975, 'charge': 976, 'delhite': 977, 'fate': 978, 'ganga': 979, 'imply': 980, 'miserably': 981, 'responsibility': 982, 'sack': 983, 'consider': 984, 'import': 985, 'label': 986, 'account': 987, 'assume': 988, 'assumption': 989, 'bed': 990, 'double': 991, 'occupancy': 992, 'assessment': 993, 'bame': 994, 'potentially': 995, 'save': 996, 'discover': 997, 'flat': 998, 'regional': 999, 'steady': 1000, 'link': 1001, 'tested_positive': 1002, 'busy': 1003, 'nrugoqj': 1004, 'plea': 1005, 'aid': 1006, 'duty': 1007, 'garden': 1008, 'space': 1009, 'stamp': 1010, 'isolate': 1011, 'negative': 1012, 'chris_fairchild': 1013, 'frequency': 1014, 'ozpoahr': 1015, 'sep': 1016, 'blame': 1017, 'sluggish': 1018, 'broaden': 1019, 'criterion': 1020, 'erratically': 1021, 'grade': 1022, 'pende': 1023, 'third': 1024, 'tracking': 1025, 'ani': 1026, 'climb': 1027, 'covidnewsbymib': 1028, 'historic': 1029, 'last_hours': 1030, 'exact': 1031, 'match': 1032, 'broadcast': 1033, 'map': 1034, 'penis': 1035, 'rtve': 1036, 'size': 1037, 'diverse': 1038, 'hd': 1039, 'planning': 1040, 'offering': 1041, 'decrease': 1042, 'forecast': 1043, 'jhb': 1044, 'predict': 1045, 'week_ende': 1046, 'bank': 1047, 'developer': 1048, 'drjudyamikovit': 1049, 'encyclopedia': 1050, 'mikovit': 1051, 'promise': 1052, 'scientific': 1053, 'viable': 1054, 'viral': 1055, 'rename': 1056, 'clean': 1057, 'distance': 1058, 'maintain': 1059, 'safe': 1060, 'safely': 1061, 'pkmc': 1062, 'success': 1063, 'university': 1064, 'earlier': 1065, 'new_zealand': 1066, 'denounce': 1067, 'french': 1068, 'photo_show': 1069, 'police': 1070, 'violence': 1071, 'day_average': 1072, 'cabbage': 1073, 'consume': 1074, 'ca': 1075, 'complicate': 1076, 'example': 1077, 'mon': 1078, 'output': 1079, 'pronounce': 1080, 'tue': 1081, 'especially': 1082, 'highlight': 1083, 'hit': 1084, 'strong': 1085, 'bhopal': 1086, 'city': 1087, 'manipur': 1088, 'start': 1089, 'tomorrow': 1090, 'diagnose': 1091, 'thread': 1092, 'attribute': 1093, 'body': 1094, 'chemical': 1095, 'chinese': 1096, 'document': 1097, 'immune_system': 1098, 'least': 1099, 'methylxanthine': 1100, 'performing': 1101, 'propaganda': 1102, 'stimulate': 1103, 'theobromine': 1104, 'theophylline': 1105, 'clarification': 1106, 'debunk': 1107, 'euomfkdku': 1108, 'fast': 1109, 'lqlfunenn': 1110, 'travel': 1111, 'alob': 1112, 'gavinnewsom': 1113, 'livestream': 1114, 'observer': 1115, 'sharp': 1116, 'isolation': 1117, 'pose': 1118, 'release': 1119, 'door': 1120, 'hpv': 1121, 'kill': 1122, 'young': 1123, 'face_covere': 1124, 'material': 1125, 'properly': 1126, 'abortion': 1127, 'actor': 1128, 'air': 1129, 'allegedly': 1130, 'alumnus': 1131, 'apturi': 1132, 'area': 1133, 'army': 1134, 'arrest': 1135, 'arrive': 1136, 'assistant': 1137, 'audio': 1138, 'await': 1139, 'ayurvedic': 1140, 'banknote': 1141, 'barmer': 1142, 'beaten': 1143, 'belgian': 1144, 'bill': 1145, 'blog_post': 1146, 'bomb': 1147, 'campaign': 1148, 'cancer': 1149, 'caption': 1150, 'celebrity': 1151, 'challenge': 1152, 'collapse': 1153, 'college': 1154, 'colour': 1155, 'completely': 1156, 'condition': 1157, 'corona': 1158, 'create': 1159, 'crime': 1160, 'deceased': 1161, 'defeat': 1162, 'diet': 1163, 'director': 1164, 'donate': 1165, 'drink': 1166, 'drinking': 1167, 'drug': 1168, 'egyptian': 1169, 'elective': 1170, 'eligible': 1171, 'essential': 1172, 'exception': 1173, 'extension': 1174, 'flag': 1175, 'flour': 1176, 'foot': 1177, 'forbid': 1178, 'foreigner': 1179, 'fortaleza': 1180, 'funding': 1181, 'governor': 1182, 'guinean': 1183, 'gun': 1184, 'head': 1185, 'herbal': 1186, 'homeopathic': 1187, 'house': 1188, 'immobilize': 1189, 'ineffective': 1190, 'inherit': 1191, 'instagram': 1192, 'instruction': 1193, 'invention': 1194, 'israeli': 1195, 'item': 1196, 'judaism': 1197, 'kept': 1198, 'kg': 1199, 'kick': 1200, 'laborer': 1201, 'latvian': 1202, 'lift': 1203, 'location': 1204, 'lock': 1205, 'lokckdown': 1206, 'malunggay': 1207, 'manufacture': 1208, 'market': 1209, 'massive': 1210, 'migrant': 1211, 'military': 1212, 'minute': 1213, 'money': 1214, 'mouth': 1215, 'national': 1216, 'notice': 1217, 'olive': 1218, 'oscillococcinum': 1219, 'pass': 1220, 'peace': 1221, 'pick': 1222, 'pin': 1223, 'police_officer': 1224, 'policeman': 1225, 'poor': 1226, 'prisoner': 1227, 'professor': 1228, 'propose': 1229, 'protest': 1230, 'prove': 1231, 'purport': 1232, 'purportedly': 1233, 'rebuke': 1234, 'refer': 1235, 'register': 1236, 'religious': 1237, 'riot': 1238, 'rsv': 1239, 'scream': 1240, 'send': 1241, 'serious': 1242, 'shared_thousand': 1243, 'shirt': 1244, 'smoking': 1245, 'soldier': 1246, 'somehow': 1247, 'stat': 1248, 'stick': 1249, 'stock': 1250, 'street': 1251, 'sunlight': 1252, 'superintendent': 1253, 'supply': 1254, 'surgery': 1255, 'syncytial': 1256, 'tea': 1257, 'text': 1258, 'thus': 1259, 'tie': 1260, 'token': 1261, 'tonight': 1262, 'touch': 1263, 'turkish': 1264, 'unavailability': 1265, 'unidentified': 1266, 'unrestrictive': 1267, 'video_showe': 1268, 'viewed_thousand': 1269, 'warn': 1270, 'wave': 1271, 'wet': 1272, 'whatsapp': 1273, 'wheat': 1274, 'whistleblower': 1275, 'wonderful': 1276, 'worked': 1277, 'associate': 1278, 'twice': 1279, 'banana': 1280, 'email': 1281, 'feedback': 1282, 'issue': 1283, 'sorry': 1284, 'containment': 1285, 'focused': 1286, 'percentage': 1287, 'steadily': 1288, 'dua': 1289, 'present': 1290, 'request': 1291, 'experiment': 1292, 'italian': 1293, 'truth': 1294, 'circulate': 1295, 'insurance': 1296, 'kin': 1297, 'activ': 1298, 'bilateral': 1299, 'nationalism': 1300, 'block': 1301, 'prescription': 1302, 'quietly': 1303, 'reverse': 1304, 'fridayfeele': 1305, 'horrible': 1306, 'stayathome': 1307, 'stayhome': 1308, 'bicarbonate': 1309, 'ever': 1310, 'exercise': 1311, 'greatest': 1312, 'iodine': 1313, 'jsolomonreport': 1314, 'protein': 1315, 'sodium': 1316, 'contaminate': 1317, 'deepinder': 1318, 'delivery': 1319, 'eat': 1320, 'remember': 1321, 'spit': 1322, 'alert': 1323, 'entity': 1324, 'global': 1325, 'international': 1326, 'miss': 1327, 'sole': 1328, 'collect': 1329, 'multiple': 1330, 'pool': 1331, 'procurement': 1332, 'facemask': 1333, 'skin': 1334, 'healthline': 1335, 'observe': 1336, 'regularly': 1337, 'volume': 1338, 'reimpose': 1339, 'aside': 1340, 'compassionate': 1341, 'exemption': 1342, 'reminder': 1343, 'speak': 1344, 'scare': 1345, 'days_since': 1346, 'determined': 1347, 'dfhf': 1348, 'discharge': 1349, 'pvpa': 1350, 'simpson': 1351, 'consultation': 1352, 'tests_conducte': 1353, 'auction': 1354, 'cdcdirector': 1355, 'crew': 1356, 'numerous': 1357, 'previous': 1358, 'sail': 1359, 'sbhx': 1360, 'voyage': 1361, 'hurt': 1362, 'private_lab': 1363, 'severely': 1364, 'widespread': 1365, 'epidemic': 1366, 'impact': 1367, 'intervention': 1368, 'mcwqjg': 1369, 'medium': 1370, 'outlet': 1371, 'tnqvrh': 1372, 'information': 1373, 'rt_cdcdirector': 1374, 'cove': 1375, 'delegation': 1376, 'dispatch': 1377, 'tunisian': 1378, 'anti': 1379, 'bad': 1380, 'better': 1381, 'ivermectin': 1382, 'malarial': 1383, 'observation': 1384, 'otherwise': 1385, 'routinely': 1386, 'sure': 1387, 'drop': 1388, 'reproduction': 1389, 'science': 1390, 'yoycpflaag': 1391, 'county': 1392, 'ethnicity': 1393, 'info': 1394, 'net': 1395, 'race': 1396, 'recital': 1397, 'verse': 1398, 'iirhpkqf': 1399, 'affordable': 1400, 'island': 1401, 'price': 1402, 'worse': 1403, 'crore': 1404, 'row': 1405, 'build': 1406, 'genome': 1407, 'production': 1408, 'rapidly': 1409, 'rd': 1410, 'validate': 1411, 'wider': 1412, 'burial': 1413, 'grave': 1414, 'opening': 1415, 'panic': 1416, 'lakhs': 1417, 'prevention': 1418, 'mixed': 1419, 'statistic': 1420, 'registration': 1421, 'leash': 1422, 'leather': 1423, 'tight': 1424, 'ydligbd': 1425, 'admission': 1426, 'disparity': 1427, 'resource': 1428, 'suffer': 1429, 'tribal': 1430, 'activate': 1431, 'family': 1432, 'manipulate': 1433, 'plandemic': 1434, 'fqezaxa': 1435, 'bonus': 1436, 'method': 1437, 'range': 1438, 'speciman': 1439, 'unfortunately': 1440, 'value': 1441, 'zzmgdntlcg': 1442, 'marriage': 1443, 'allegation': 1444, 'inquiry': 1445, 'maternity': 1446, 'deem': 1447, 'dentist': 1448, 'invite': 1449, 'risky': 1450, 'dup': 1451, 'sguity': 1452, 'property': 1453, 'extent': 1454, 'infectivity': 1455, 'play': 1456, 'prior': 1457, 'role': 1458, 'cell': 1459, 'nature': 1460, 'researcher': 1461, 'vero': 1462, 'difficult': 1463, 'interpret': 1464, 'metric': 1465, 'rt': 1466, 'working': 1467, 'airborne': 1468, 'reconsider': 1469, 'depress': 1470, 'inexplicable': 1471, 'motivating': 1472, 'respect': 1473, 'caveat': 1474, 'eseczbkz': 1475, 'fear': 1476, 'psychiatrist': 1477, 'sexual': 1478, 'sort': 1479, 'tuberculosis': 1480, 'illegal': 1481, 'patent': 1482, 'ability': 1483, 'comfortably': 1484, 'covid__covidー': 1485, 'else': 1486, 'kindly': 1487, 'workout': 1488, 'color': 1489, 'income': 1490, 'pollution': 1491, 'dzjusllspc': 1492, 'inclusion': 1493, 'ncdclabnetwork': 1494, 'pleased': 1495, 'hack': 1496, 'phone': 1497, 'occur': 1498, 'south': 1499, 'toll': 1500, 'accommodation': 1501, 'deserve': 1502, 'employer': 1503, 'folk': 1504, 'front': 1505, 'glad': 1506, 'qclurustbv': 1507, 'cut': 1508, 'heavily': 1509, 'indebted': 1510, 'interest': 1511, 'kzbfprew': 1512, 'bereave': 1513, 'victim': 1514, 'clinical': 1515, 'deficiency': 1516, 'extensive': 1517, 'hselive': 1518, 'immediately': 1519, 'protocol': 1520, 'severity': 1521, 'sufficient': 1522, 'enjoy': 1523, 'loss': 1524, 'recommend': 1525, 'taste': 1526, 'actually': 1527, 'govlarryhogan': 1528, 'govrondesantis': 1529, 'zoidyiengk': 1530, 'deaths': 1531, 'inhabitant': 1532, 'roadtrip': 1533, 'tipsadvice': 1534, 'trip': 1535, 'vacation': 1536, 'johnshopkinsepi': 1537, 'overwhelmed': 1538, 'spiky': 1539, 'surprised': 1540, 'tangerinelaw': 1541, 'vulnerable': 1542, 'habit': 1543, 'apple': 1544, 'concerned': 1545, 'consult': 1546, 'strand': 1547, 'answer': 1548, 'bat': 1549, 'originate': 1550, 'wyzbdvrqsh': 1551, 'axis': 1552, 'ptbxknbv': 1553, 'confused': 1554, 'totally': 1555, 'battle': 1556, 'takeaway': 1557, 'vary': 1558, 'entirely': 1559, 'translate': 1560, 'bid': 1561, 'final': 1562, 'goodbye': 1563, 'wife': 1564, 'ad': 1565, 'nkmvzqe': 1566, 'togrz': 1567, 'additional': 1568, 'explain': 1569, 'grocery': 1570, 'milk': 1571, 'newspaper': 1572, 'sale': 1573, 'schedule': 1574, 'store': 1575, 'pfio': 1576, 'wou': 1577, 'flwnskr': 1578, 'tick': 1579, 'pediatric': 1580, 'diagnosis': 1581, 'employ': 1582, 'mortalityrate': 1583, 'spike': 1584, 'trace': 1585, 'comparable': 1586, 'fascinate': 1587, 'meanwhile': 1588, 'territory': 1589, 'variation': 1590, 'goodnight': 1591, 'limited': 1592, 'lemon': 1593, 'ddindialive': 1594, 'sample': 1595, 'politifacttexas': 1596, 'experience': 1597, 'connected': 1598, 'ogun': 1599, 'contacttracer': 1600, 'contain': 1601, 'green': 1602, 'hire': 1603, 'newyork': 1604, 'excess': 1605, 'ten': 1606, 'thousand': 1607, 'departament': 1608, 'appear': 1609, 'pet': 1610, 'camel': 1611, 'iranian': 1612, 'urine': 1613, 'transmit': 1614, 'cfr': 1615, 'coordinated': 1616, 'fwpongfk': 1617, 'slide': 1618, 'track_treat': 1619, 'business': 1620, 'closure': 1621, 'elect': 1622, 'keepusclose': 1623, 'presidency': 1624, 'tweet': 1625, 'convert': 1626, 'ongoing': 1627, 'stadium': 1628, 'manufacturer': 1629, 'anonymously': 1630, 'slum': 1631, 'confirmed': 1632, 'cured_recovere': 1633, 'samples_teste': 1634, 'explode': 1635, 'intubate': 1636, 'conduct': 1637, 'eventually': 1638, 'facilitate': 1639, 'hospitalisation': 1640, 'lead': 1641, 'mortality_rate': 1642, 'seamless': 1643, 'sustained': 1644, 'comprehensive': 1645, 'sometime': 1646, 'target': 1647, 'uwepwev': 1648, 'contagious': 1649, 'foclejcz': 1650, 'room': 1651, 'budget': 1652, 'hence': 1653, 'opposition': 1654, 'parliament': 1655, 'proposal': 1656, 'reconvene': 1657, 'relief': 1658, 'supplementary': 1659, 'bepdelta': 1660, 'bioweapon': 1661, 'cache': 1662, 'carrier': 1663, 'gunsupplie': 1664, 'magickly': 1665, 'official_figure': 1666, 'buying': 1667, 'normal': 1668, 'warning': 1669, 'summarize': 1670, 'monitoring': 1671, 'piabizlaw': 1672, 'ldf': 1673, 'praise': 1674, 'fake': 1675, 'stage': 1676, 'difficulty': 1677, 'enforce': 1678, 'merseyside': 1679, 'tough': 1680, 'moderate': 1681, 'acute': 1682, 'seek': 1683, 'sometimes': 1684, 'gap': 1685, 'figure': 1686, 'bdroewd': 1687, 'fare': 1688, 'term': 1689, 'approach': 1690, 'shoot': 1691, 'standard': 1692, 'combination': 1693, 'administration': 1694, 'supermarket': 1695, 'reassert': 1696, 'rest': 1697, 'beware': 1698, 'remove': 1699, 'emerge': 1700, 'factchecke': 1701, 'fakenew': 1702, 'ozvv': 1703, 'repeatedly': 1704, 'attempt': 1705, 'frustrating': 1706, 'resolve': 1707, 'agreement': 1708, 'criticize': 1709, 'financial': 1710, 'financially': 1711, 'provision': 1712, 'absorb': 1713, 'best': 1714, 'enough': 1715, 'headroom': 1716, 'pldkas': 1717, 'portion': 1718, 'umijv': 1719, 'vinguptamd': 1720, 'voice': 1721, 'terrible': 1722, 'cimb': 1723, 'hundred': 1724, 'improvement': 1725, 'thelancet': 1726, 'state_report': 1727, 'midland': 1728, 'common': 1729, 'fly': 1730, 'disappointing': 1731, 'authorization': 1732, 'meet': 1733, 'review': 1734, 'statutory': 1735, 'unlikely': 1736, 'tdktzt': 1737, 'susceptibility': 1738, 'fgsqlmknsf': 1739, 'little': 1740, 'vegetarian': 1741, 'condom': 1742, 'factory': 1743, 'prophylactic': 1744, 'messaging': 1745, 'hospitality': 1746, 'canal': 1747, 'dolphin': 1748, 'swan': 1749, 'disorder': 1750, 'option': 1751, 'substance': 1752, 'maine': 1753, 'resort': 1754, 'pop': 1755, 'positivity_rate': 1756, 'alter': 1757, 'caroline': 1758, 'orpf': 1759, 'sweet': 1760, 'vqcp': 1761, 'word': 1762, 'basis': 1763, 'class': 1764, 'reopen': 1765, 'taki': 1766, 'voluntary': 1767, 'bucket': 1768, 'caution': 1769, 'default': 1770, 'ground': 1771, 'logic': 1772, 'ppe': 1773, 'strain': 1774, 'tested_negative': 1775, 'tzchlfbxtg': 1776, 'covaxin': 1777, 'covaxine': 1778, 'boil': 1779, 'bowl': 1780, 'freshly': 1781, 'garlic': 1782, 'feelbetter': 1783, 'worried': 1784, 'bar': 1785, 'church': 1786, 'plague': 1787, 'prophesy': 1788, 'shut': 1789, 'nejm': 1790, 'thought': 1791, 'employee': 1792, 'classify': 1793, 'fastest': 1794, 'pacific': 1795, 'collective': 1796, 'illustrate': 1797, 'shipwreck': 1798, 'friend': 1799, 'friendship': 1800, 'hook': 1801, 'seriously': 1802, 'smile': 1803, 'twitter': 1804, 'bath': 1805, 'cold': 1806, 'soda': 1807, 'archived': 1808, 'cheap': 1809, 'handy': 1810, 'turmeric': 1811, 'creep': 1812, 'surprising': 1813, 'wlbfspafzw': 1814, 'box': 1815, 'comedian': 1816, 'deliver': 1817, 'gain': 1818, 'host': 1819, 'online': 1820, 'penny': 1821, 'publicity': 1822, 'traction': 1823, 'chemtrail': 1824, 'trail': 1825, 'trigger': 1826, 'cdcmmwr': 1827, 'lkhztoy': 1828, 'payment': 1829, 'display': 1830, 'poster': 1831, 'retail': 1832, 'venue': 1833, 'debate': 1834, 'detriment': 1835, 'dissect': 1836, 'erscongress': 1837, 'antihistamine': 1838, 'management': 1839, 'prescribe': 1840, 'routine': 1841, 'wevotedtoleave': 1842, 'wrzffjjbtl': 1843, 'pain': 1844, 'registered': 1845, 'black_live': 1846, 'devastating': 1847, 'society': 1848, 'whole': 1849, 'bubble': 1850, 'tourist': 1851, 'elderly': 1852, 'lying': 1853, 'morgue': 1854, 'relative': 1855, 'rescue': 1856, 'leadership': 1857, 'enforcement': 1858, 'guideline': 1859, 'oebzyd': 1860, 'strict': 1861, 'unlock': 1862, 'crush': 1863, 'hrookwwqof': 1864, 'manufacturing': 1865, 'revitalize': 1866, 'sector': 1867, 'cvcppescmy': 1868, 'shortage': 1869, 'fiction': 1870, 'mystery': 1871, 'novel': 1872, 'continuous': 1873, 'peg': 1874, 'drone': 1875, 'footage': 1876, 'scary': 1877, 'terrifying': 1878, 'prison': 1879, 'hcps': 1880, 'log': 1881, 'lvzejloxmh': 1882, 'optimization': 1883, 'profile': 1884, 'private': 1885, 'raid': 1886, 'dominate': 1887, 'ny': 1888, 'symptomatic': 1889, 'bless': 1890, 'controversial': 1891, 'position': 1892, 'charging': 1893, 'cost': 1894, 'dps': 1895, 'pandamic': 1896, 'rupee': 1897, 'selling': 1898, 'unfortunate': 1899, 'jurisdiction': 1900, 'blue': 1901, 'germ': 1902, 'outwards': 1903, 'surgical': 1904, 'dyom': 1905, 'increased_risk': 1906, 'rcrgk': 1907, 'weigh': 1908, 'converge': 1909, 'cpfg': 1910, 'cuttingforstone': 1911, 'erictopol': 1912, 'podcast': 1913, 'tech': 1914, 'wearable': 1915, 'lion': 1916, 'corpse': 1917, 'incinerate': 1918, 'georgian': 1919, 'official': 1920, 'aqvgkpukyv': 1921, 'half': 1922, 'dismissal': 1923, 'obscure': 1924, 'usp': 1925, 'simply': 1926, 'corporation': 1927, 'cover': 1928, 'concentrate': 1929, 'quarter': 1930, 'sjeiotv': 1931, 'traveller': 1932, 'cruise': 1933, 'fatal': 1934, 'perfect': 1935, 'choice': 1936, 'escape': 1937, 'intend': 1938, 'ioqv_omdka': 1939, 'particle': 1940, 'select': 1941, 'svgj': 1942, 'wearamask': 1943, 'attack': 1944, 'differe': 1945, 'spot': 1946, 'channel': 1947, 'slack': 1948, 'conference': 1949, 'laboratorie': 1950, 'course': 1951, 'golf': 1952, 'instuction': 1953, 'locate': 1954, 'pregnant': 1955, 'quit': 1956, 'cddlboeue': 1957, 'pregnancy': 1958, 'understand': 1959, 'wbvgig': 1960, 'donation': 1961, 'zyzznbge': 1962, 'iq': 1963, 'candidate': 1964, 'cepivaccine': 1965, 'discussion': 1966, 'successful': 1967, 'enugu': 1968, 'vlqzsxqacq': 1969, 'unseat': 1970, 'drift': 1971, 'slight': 1972, 'hygiene': 1973, 'metre': 1974, 'rfior': 1975, 'wearing_face': 1976, 'years_old': 1977, 'hojnhqo': 1978, 'frustration': 1979, 'hotspot': 1980, 'inverness': 1981, 'mpg': 1982, 'pqkdkzgrgr': 1983, 'appeal': 1984, 'burglar': 1985, 'crash': 1986, 'criminal': 1987, 'crook': 1988, 'hrwqopfw': 1989, 'coming': 1990, 'discuss': 1991, 'foxandfriend': 1992, 'prot': 1993, 'dangerous': 1994, 'mail': 1995, 'vote': 1996, 'amplify': 1997, 'bacterium': 1998, 'electromagnetic': 1999, 'hypoxia': 2000, 'inflammation': 2001, 'radiation': 2002, 'realise': 2003, 'category': 2004, 'ministry': 2005, 'suit': 2006, 'yellow': 2007, 'sensitivity': 2008, 'commodity': 2009, 'decontamination': 2010, 'followlasg': 2011, 'nigeriafeltp': 2012, 'xfiutayid': 2013, 'ctxdp': 2014, 'industry': 2015, 'toilet_paper': 2016, 'assure': 2017, 'center': 2018, 'dress': 2019, 'floor': 2020, 'gown': 2021, 'heal': 2022, 'wall': 2023, 'benefit': 2024, 'labour': 2025, 'withdraw': 2026, 'cloth': 2027, 'miracle': 2028, 'moneylaundere': 2029, 'televangelist': 2030, 'donor': 2031, 'ease': 2032, 'gay': 2033, 'hot': 2034, 'coronavirususa': 2035, 'notdye': 2036, 'panel': 2037, 'enrollment': 2038, 'fbmsah': 2039, 'press': 2040, 'rzwlycguud': 2041, 'approval': 2042, 'certify': 2043, 'concordance': 2044, 'evaluate': 2045, 'icmr': 2046, 'kit': 2047, 'saketgokhale': 2048, 'special': 2049, 'therefore': 2050, 'bacteria': 2051, 'influence': 2052, 'moreover': 2053, 'thrombosis': 2054, 'globally': 2055, 'couch': 2056, 'tv': 2057, 'asuncion': 2058, 'capital': 2059, 'cemetery': 2060, 'bxvgmfuyrj': 2061, 'akbarpur': 2062, 'chain': 2063, 'biology': 2064, 'detection': 2065, 'genomic': 2066, 'indigenously': 2067, 'integrative': 2068, 'sequence': 2069, 'technology': 2070, 'advice': 2071, 'factcheck': 2072, 'sugnp': 2073, 'inaccessible': 2074, 'mile': 2075, 'mobile': 2076, 'promote': 2077, 'rural': 2078, 'restaurant': 2079, 'backfille': 2080, 'backlogged': 2081, 'forward': 2082, 'noticeable': 2083, 'time_serie': 2084, 'benue': 2085, 'ekiti_river': 2086, 'century': 2087, 'fami': 2088, 'clinic': 2089, 'gp': 2090, 'remind': 2091, 'depend': 2092, 'nigeria': 2093, 'waikato': 2094, 'indicate': 2095, 'revise': 2096, 'specifie': 2097, 'throw': 2098, 'clinician': 2099, 'obxso': 2100, 'dyzkmm': 2101, 'upto': 2102, 'zgk': 2103, 'advertisement': 2104, 'boasting': 2105, 'card': 2106, 'disinfection': 2107, 'compliance': 2108, 'continent': 2109, 'sequencing': 2110, 'agency': 2111, 'bacterial': 2112, 'cheat': 2113, 'cudnt': 2114, 'verify': 2115, 'wth': 2116, 'fake_news': 2117, 'forget': 2118, 'genbf': 2119, 'infodemic': 2120, 'precede': 2121, 'absence': 2122, 'breath': 2123, 'breathing': 2124, 'ibom': 2125, 'adhere': 2126, 'critical': 2127, 'kzftjc': 2128, 'archillect': 2129, 'faster': 2130, 'donaldtrump': 2131, 'roll': 2132, 'stockpile': 2133, 'strategic': 2134, 'toilet': 2135, 'zktbfbw': 2136, 'evacuation': 2137, 'route': 2138, 'shelter': 2139, 'dexamethasone': 2140, 'exper': 2141, 'ewxe': 2142, 'personnel': 2143, 'training': 2144, 'ujhegnjq': 2145, 'rohnxgct': 2146, 'dept': 2147, 'odd': 2148, 'rating': 2149, 'bhagalpur': 2150, 'lcwn': 2151, 'tvnp': 2152, 'snake': 2153, 'eds': 2154, 'strap': 2155, 'vpurrkopv': 2156, 'wildfire_smoke': 2157, 'anchor': 2158, 'famous': 2159, 'applause': 2160, 'handle': 2161, 'irish': 2162, 'organisation': 2163, 'organise': 2164, 'correspond': 2165, 'dermatologic': 2166, 'exist': 2167, 'ezmbwdhlxm': 2168, 'olosxeelxg': 2169, 'pattern': 2170, 'clkj': 2171, 'affected': 2172, 'lodge': 2173, 'surpass': 2174, 'worldwide': 2175, 'worst': 2176, 'contacted': 2177, 'adoption': 2178, 'bastard': 2179, 'heartwarme': 2180, 'consistent': 2181, 'wahohh': 2182, 'epidemiological': 2183, 'aground': 2184, 'clever': 2185, 'investigator': 2186, 'magic': 2187, 'quickly': 2188, 'switch': 2189, 'vitamind': 2190, 'accompanying': 2191, 'human_trial': 2192, 'jointly': 2193, 'hugging': 2194, 'birthday': 2195, 'markle': 2196, 'communal': 2197, 'perform': 2198, 'deceive': 2199, 'punish': 2200, 'sex': 2201, 'intra': 2202, 'cnrn': 2203, 'mid': 2204, 'nl': 2205, 'biscuit': 2206, 'domestic': 2207, 'hungry': 2208, 'tanda': 2209, 'imitate': 2210, 'washing': 2211, 'zookeeper': 2212, 'self': 2213, 'mrstncijma': 2214, 'every_minute': 2215, 'couple': 2216, 'respirator': 2217, 'type': 2218, 'cancel': 2219, 'cancellation': 2220, 'railway': 2221, 'suburban': 2222, 'train': 2223, 'wake': 2224, 'family_member': 2225, 'consistently': 2226, 'yrnbulrjrt': 2227, 'horny': 2228, 'necessary': 2229, 'operate': 2230, 'toxicity': 2231, 'ir': 2232, 'landmark': 2233, 'records_highest': 2234, 'bread': 2235, 'slice': 2236, 'spin': 2237, 'continuity': 2238, 'dental': 2239, 'disrupt': 2240, 'partially': 2241, 'respond': 2242, 'rxgkhtem': 2243, 'hydroxy': 2244, 'instead': 2245, 'murder': 2246, 'politicize': 2247, 'robreiner': 2248, 'brazilian': 2249, 'earn': 2250, 'federal': 2251, 'municipality': 2252, 'amgacdzb': 2253, 'annual': 2254, 'difference': 2255, 'welcome': 2256, 'gdfjrxl': 2257, 'realdonaldtrump': 2258, 'pzrmh_bl': 2259, 'uackidmrq': 2260, 'gas': 2261, 'tear': 2262, 'guy': 2263, 'lowest': 2264, 'nonetheless': 2265, 'probably': 2266, 'partial': 2267, 'regular': 2268, 'remain_close': 2269, 'resumption': 2270, 'unlocking': 2271, 'wise': 2272, 'anytime': 2273, 'elimination': 2274, 'together': 2275, 'demonstrate': 2276, 'workplace': 2277, 'comparison': 2278, 'contact_trace': 2279, 'enhance': 2280, 'implement': 2281, 'overwhelm': 2282, 'begum': 2283, 'driver': 2284, 'coronavirus': 2285, 'efnjvird': 2286, 'pmqs': 2287, 'legal': 2288, 'liable': 2289, 'regulation': 2290, 'specify': 2291, 'transport': 2292, 'witness': 2293, 'zndxt': 2294, 'elsieilori': 2295, 'majority': 2296, 'allowance': 2297, 'convict': 2298, 'inmate': 2299, 'monthly': 2300, 'voting': 2301, 'mdieay': 2302, 'mobility': 2303, 'pre': 2304, 'resurgence': 2305, 'progressively': 2306, 'covering': 2307, 'ghkzrp': 2308, 'loved_one': 2309, 'wsn': 2310, 'presidential': 2311, 'rodly': 2312, 'barrier': 2313, 'distinct': 2314, 'fundamental': 2315, 'latinx': 2316, 'overlap': 2317, 'underserve': 2318, 'understanding': 2319, 'grant': 2320, 'arm': 2321, 'severe': 2322, 'therapeutic': 2323, 'therapy': 2324, 'upgh': 2325, 'fjmwknifyt': 2326, 'heroin': 2327, 'package': 2328, 'qmyxvghdbx': 2329, 'stimulus': 2330, 'dry': 2331, 'trouble': 2332, 'auckland_city': 2333, 'freely': 2334, 'reveal': 2335, 'wearer': 2336, 'digestive': 2337, 'sanitize': 2338, 'committed': 2339, 'ncdcwer': 2340, 'obyjuwd': 2341, 'tblqhji': 2342, 'absolute': 2343, 'aintropy': 2344, 'ozsfd': 2345, 'uzjt': 2346, 'uruguay': 2347, 'healthcare': 2348, 'rethink': 2349, 'baseball': 2350, 'infest': 2351, 'ponkr': 2352, 'onzfynu': 2353, 'chariot': 2354, 'curfew': 2355, 'ignore': 2356, 'teen': 2357, 'efficiently': 2358, 'equitable': 2359, 'fairly': 2360, 'rihwnivq': 2361, 'cremate': 2362, 'afewpoint': 2363, 'basic': 2364, 'begentle': 2365, 'carlsbadcharlie': 2366, 'discomfort': 2367, 'dosn': 2368, 'fccologne': 2369, 'macid': 2370, 'mindedmusically': 2371, 'nowadays': 2372, 'pollen': 2373, 'robgooder': 2374, 'tablet': 2375, 'the_leaver': 2376, 'triplegggx': 2377, 'afaik': 2378, 'conclusive': 2379, 'downside': 2380, 'ish': 2381, 'latitude': 2382, 'northern': 2383, 'winter': 2384, 'bcenhowwnp': 2385, 'mussel': 2386, 'pqis': 2387, 'rubber': 2388, 'tqssq': 2389, 'statement': 2390, 'uneven': 2391, 'iqzignm': 2392, 'breaking': 2393, 'abbreviation': 2394, 'btbc': 2395, 'meaning': 2396, 'near': 2397, 'slowthespread': 2398, 'deformity': 2399, 'classic': 2400, 'dropping': 2401, 'endemic': 2402, 'exactly': 2403, 'inhalation': 2404, 'pangolin': 2405, 'vector': 2406, 'advisory': 2407, 'allocation': 2408, 'appropriate': 2409, 'fair': 2410, 'contracting': 2411, 'ply': 2412, 'uwbcaeli': 2413, 'jrymlr': 2414, 'twitt': 2415, 'collaboration': 2416, 'engagement': 2417, 'expertise': 2418, 'stakeholder': 2419, 'wellbee': 2420, 'slightly': 2421, 'fact_checke': 2422, 'secure': 2423, 'speech': 2424, 'membrane': 2425, 'sokoto': 2426, 'criminalize': 2427, 'emga': 2428, 'office': 2429, 'pmat': 2430, 'transfer': 2431, 'distribution': 2432, 'ghana': 2433, 'serve': 2434, 'warrant': 2435, 'gift': 2436, 'satire': 2437, 'vladimir_putin': 2438, 'holy': 2439, 'throat': 2440, 'bwtqls': 2441, 'ggdgl': 2442, 'obesity': 2443, 'bbmp': 2444, 'cremation': 2445, 'crematorium': 2446, 'decent': 2447, 'iaspankajpandey': 2448, 'let': 2449, 'quick': 2450, 'rashokabjp': 2451, 'ratnaprabha_ias': 2452, 'waste': 2453, 'govnedlamont': 2454, 'jvzwraazqu': 2455, 'yvr': 2456, 'overwhelming': 2457, 'potential': 2458, 'relaxed': 2459, 'qkkt': 2460, 'native': 2461, 'careful': 2462, 'cjxrzavbsp': 2463, 'mess': 2464, 'olympicgame': 2465, 'postponement': 2466, 'deity': 2467, 'hm': 2468, 'outlaw': 2469, 'worship': 2470, 'hdalw': 2471, 'vfwdslx': 2472, 'critic': 2473, 'mask_weare': 2474, 'lygnrayldw': 2475, 'plkbhzo': 2476, 'salary': 2477, 'communicate': 2478, 'language': 2479, 'compatibility': 2480, 'alarm': 2481, 'extra': 2482, 'foodshortage': 2483, 'onion': 2484, 'pepper': 2485, 'ax': 2486, 'huarggc': 2487, 'dominant': 2488, 'faint': 2489, 'mistreat': 2490, 'deny': 2491, 'confound': 2492, 'lump': 2493, 'messy': 2494, 'presumptive': 2495, 'genuine': 2496, 'hopefully': 2497, 'mfsm': 2498, 'punch': 2499, 'recipe': 2500, 'tsvd': 2501, 'mass': 2502, 'eipkjvjf': 2503, 'stay_feet': 2504, 'summer': 2505, 'wonder': 2506, 'calculate': 2507, 'impossible': 2508, 'consumption': 2509, 'soup': 2510, 'shave': 2511, 'qxnveiqta': 2512, 'ppn': 2513, 'compile': 2514, 'helpful': 2515, 'hiccup': 2516, 'politic': 2517, 'window': 2518, 'ambiguous': 2519, 'mp': 2520, 'cuban': 2521, 'corticosteroid': 2522, 'describe': 2523, 'procedure': 2524, 'sheep': 2525, 'attention': 2526, 'homeisolation': 2527, 'saturation': 2528, 'consensus': 2529, 'nlqnvrfgvb': 2530, 'steroid': 2531, 'permanent': 2532, 'nnpamqim': 2533, 'european': 2534, 'rooxvsvg': 2535, 'adequately': 2536, 'building': 2537, 'fit': 2538, 'occupation': 2539, 'thorough': 2540, 'kettle': 2541, 'balance': 2542, 'brjkzm': 2543, 'compromising': 2544, 'sensible': 2545, 'decree': 2546, 'discard': 2547, 'ingredient': 2548, 'shivraj': 2549, 'exit': 2550, 'self_isolation': 2551, 'celebrate': 2552, 'ijhmpjbo': 2553, 'tefvlh': 2554, 'accompanie': 2555, 'recognize': 2556, 'weep': 2557, 'limit': 2558, 'wedding': 2559, 'oxford': 2560, 'immune': 2561, 'independent': 2562, 'weak': 2563, 'humanity': 2564, 'lesson': 2565, 'outside': 2566, 'useless': 2567, 'comply': 2568, 'congregation': 2569, 'reteste': 2570, 'destroy': 2571, 'divorce': 2572, 'husband': 2573, 'ycnztxeapw': 2574, 'authorize': 2575, 'bedroom': 2576, 'enrol': 2577, 'inspect': 2578, 'parental': 2579, 'teacher': 2580, 'interview': 2581, 'producer': 2582, 'jcxbvij': 2583, 'overdose': 2584, 'comedk': 2585, 'entrance': 2586, 'exam': 2587, 'lagos': 2588, 'rjtssqlcwx': 2589, 'dna': 2590, 'forever': 2591, 'elevated': 2592, 'influenza': 2593, 'xzrcf': 2594, 'engage': 2595, 'epic': 2596, 'fourth': 2597, 'mizus': 2598, 'webinar': 2599, 'lfrh': 2600, 'depart': 2601, 'guest': 2602, 'augment': 2603, 'dg': 2604, 'iocykpjsiz': 2605, 'sage': 2606, 'wane': 2607, 'record_high': 2608, 'bdee': 2609, 'diabete': 2610, 'jylx': 2611, 'qgliapg': 2612, 'vmwjq': 2613, 'pretty': 2614, 'randomize': 2615, 'newhampshire': 2616, 'appoint': 2617, 'foremost': 2618, 'firmly': 2619, 'prompt': 2620, 'compilation': 2621, 'belate': 2622, 'circumcision': 2623, 'concern': 2624, 'crosse': 2625, 'infrastructure': 2626, 'prime': 2627, 'wisdom': 2628, 'mlgnykquv': 2629, 'yen': 2630, 'coronacheck': 2631, 'iksscmrxoz': 2632, 'vcg': 2633, 'overcrowd': 2634, 'eradicate': 2635, 'moron': 2636, 'covax': 2637, 'portfolio': 2638, 'jnwgsfgtuh': 2639, 'cubdy': 2640, 'female': 2641, 'gender': 2642, 'male': 2643, 'fvs': 2644, 'vvtjcr': 2645, 'previously': 2646, 'satellite': 2647, 'town': 2648, 'unable': 2649, 'headquarters': 2650, 'confidence': 2651, 'ebaq': 2652, 'edge': 2653, 'southern': 2654, 'western': 2655, 'gunpoint': 2656, 'rob': 2657, 'antibiotic': 2658, 'greet': 2659, 'happy': 2660, 'liquid': 2661, 'msg': 2662, 'silver': 2663, 'surviver': 2664, 'inspirational': 2665, 'truly': 2666, 'curry': 2667, 'replace': 2668, 'zcxml': 2669, 'arrangement': 2670, 'investigate': 2671, 'meantime': 2672, 'survive': 2673, 'bluposjae': 2674, 'outpace': 2675, 'downturn': 2676, 'economic': 2677, 'complexity': 2678, 'defense': 2679, 'invoke': 2680, 'complication': 2681, 'finance': 2682, 'root': 2683, 'surprise': 2684, 'comorbiditie': 2685, 'paie': 2686, 'corv': 2687, 'inactive': 2688, 'sputnik': 2689, 'unnamed': 2690, 'vac': 2691, 'immunity': 2692, 'unaffected': 2693, 'backlog': 2694, 'barely': 2695, 'clarify': 2696, 'broad': 2697, 'dynamic': 2698, 'around': 2699, 'sneeze': 2700, 'wearafacemask': 2701, 'clinical_trial': 2702, 'ewuuf': 2703, 'fxhntokmnp': 2704, 'eme': 2705, 'stroke': 2706, 'affiliate': 2707, 'biden': 2708, 'deep': 2709, 'distinguish': 2710, 'endorse': 2711, 'foxnews': 2712, 'mfebbwdigf': 2713, 'officer': 2714, 'soil': 2715, 'widow': 2716, 'evangelical': 2717, 'extremist': 2718, 'libertarian': 2719, 'wing': 2720, 'thirty': 2721, 'spokesman': 2722, 'tour': 2723, 'platform': 2724, 'equipment': 2725, 'perfume': 2726, 'hazard': 2727, 'labor': 2728, 'qualified': 2729, 'breach': 2730, 'certificate': 2731, 'happen': 2732, 'ordinary': 2733, 'proportional': 2734, 'fupivnyfmp': 2735, 'reinforce': 2736, 'recognition': 2737, 'uk_warn': 2738, 'unethical': 2739, 'protestor': 2740, 'pharmaceutical': 2741, 'tdyve': 2742, 'guide': 2743, 'kgvgcpxcp': 2744, 'ton': 2745, 'clinical_trend': 2746, 'cns': 2747, 'depression': 2748, 'fihnbolfha': 2749, 'intriguing': 2750, 'ryby': 2751, 'ip': 2752, 'aware': 2753, 'deployment': 2754, 'extreme': 2755, 'immunize': 2756, 'network': 2757, 'personal': 2758, 'privacy': 2759, 'signal': 2760, 'tower': 2761, 'bjp': 2762, 'book': 2763, 'intermediate': 2764, 'mention': 2765, 'mostly': 2766, 'zoology': 2767, 'eganbglxvz': 2768, 'burqa': 2769, 'clothe': 2770, 'muslim': 2771, 'balcony': 2772, 'singe': 2773, 'song': 2774, 'accunalysis': 2775, 'diagnostic': 2776, 'dnbn': 2777, 'mpzeluswx': 2778, 'pma': 2779, 'tojq': 2780, 'bribe': 2781, 'gujarat': 2782, 'unveil': 2783, 'cocaine': 2784, 'deduction': 2785, 'refund': 2786, 'scam': 2787, 'ticket': 2788, 'unknown_source': 2789, 'attitude': 2790, 'japanese': 2791, 'pgpuu': 2792, 'alive': 2793, 'torjeoohnv': 2794, 'car': 2795, 'purchase': 2796, 'seat': 2797, 'ghne': 2798, 'spur': 2799, 'doublingrate': 2800, 'kcdajij': 2801, 'ers': 2802, 'nationally': 2803, 'uivwbr': 2804, 'misdiagnose': 2805, 'pneumonia': 2806, 'bird': 2807, 'style': 2808, 'fuck': 2809, 'upszwri': 2810, 'featuring': 2811, 'gbbuczkwv': 2812, 'nose': 2813, 'nostril': 2814, 'snugly': 2815, 'genocide': 2816, 'cornwall': 2817, 'opxl': 2818, 'maybe': 2819, 'film': 2820, 'spanish': 2821, 'assist': 2822, 'bqpnndwx': 2823, 'calibrate': 2824, 'push': 2825, 'timely': 2826, 'umbrella': 2827, 'love': 2828, 'oil': 2829, 'palm': 2830, 'spoonful': 2831, 'urgently': 2832, 'amish': 2833, 'contend': 2834, 'growth': 2835, 'idea': 2836, 'dilemma': 2837, 'postpone': 2838, 'huntzrtqpb': 2839, 'cry': 2840, 'explanation': 2841, 'oaiptev': 2842, 'fct': 2843, 'jmchydhta': 2844, 'plot': 2845, 'factsnotfear': 2846, 'knowthefact': 2847, 'water': 2848, 'referral': 2849, 'urgent': 2850, 'commit': 2851, 'roof': 2852, 'suicide': 2853, 'aajtak': 2854, 'hantavirus': 2855, 'lockdownnow': 2856, 'lockdownquery': 2857, 'resemble': 2858, 'short': 2859, 'usage': 2860, 'preparedness': 2861, 'zopbjyby': 2862, 'guidance': 2863, 'healthworker': 2864, 'capture': 2865, 'hemiiyvmoq': 2866, 'distress': 2867, 'prhatldqy': 2868, 'combine': 2869, 'commensurate': 2870, 'airnewsalert': 2871, 'ashwinikchoubey': 2872, 'omper': 2873, 'proportion': 2874, 'uaw': 2875, 'aurangabad': 2876, 'rashtriya': 2877, 'sangh': 2878, 'swayamsevak': 2879, 'file': 2880, 'lawsuit': 2881, 'honour': 2882, 'icmrfightscovid': 2883, 'war': 2884, 'application': 2885, 'grieve': 2886, 'crowd': 2887, 'toy': 2888, 'tpbnintiwc': 2889, 'vmll': 2890, 'rank': 2891, 'achievable': 2892, 'ambitious': 2893, 'hugely': 2894, 'ramp': 2895, 'gkjf': 2896, 'fart': 2897, 'customer': 2898, 'igh': 2899, 'owner': 2900, 'documentary': 2901, 'popularity': 2902, 'protagonist': 2903, 'rumour': 2904, 'brace': 2905, 'breakfast': 2906, 'care_home': 2907, 'deputy': 2908, 'ihbwco': 2909, 'lbl': 2910, 'living': 2911, 'nucutvay': 2912, 'wage': 2913, 'fan': 2914, 'wildfire': 2915, 'ally': 2916, 'charter': 2917, 'christchurch': 2918, 'dozen': 2919, 'pause': 2920, 'plug': 2921, 'rudimentary': 2922, 'smooth': 2923, 'workflow': 2924, 'gym': 2925, 'economist': 2926, 'modeller': 2927, 'shape': 2928, 'vaccineepi': 2929, 'later': 2930, 'kokgoy': 2931, 'usk': 2932, 'additive': 2933, 'admin': 2934, 'allege': 2935, 'always': 2936, 'apologise': 2937, 'applaud': 2938, 'bus': 2939, 'caesarean': 2940, 'chicken': 2941, 'command': 2942, 'coverup': 2943, 'describing': 2944, 'downfall': 2945, 'draw': 2946, 'english': 2947, 'entitle': 2948, 'fibrosis': 2949, 'fish': 2950, 'founder': 2951, 'helpless': 2952, 'hug': 2953, 'indirectly': 2954, 'kothapet': 2955, 'media': 2956, 'mer': 2957, 'nap': 2958, 'secret': 2959, 'section': 2960, 'seeker': 2961, 'senegal': 2962, 'senegalese': 2963, 'sickness': 2964, 'swine_flu': 2965, 'tank': 2966, 'threaten': 2967, 'tijuana': 2968, 'undergo': 2969, 'usd': 2970, 'wheel': 2971, 'wine': 2972, 'worry': 2973, 'zanzibar': 2974, 'bite': 2975, 'bind': 2976, 'kmedve': 2977, 'worth_note': 2978, 'wrinkle': 2979, 'democratic': 2980, 'excerpt': 2981, 'letter': 2982, 'dbycmluxvc': 2983, 'apprise': 2984, 'gom': 2985, 'commissioner': 2986, 'lrsw': 2987, 'german': 2988, 'steal': 2989, 'testing_kit': 2990, 'morbidly': 2991, 'none': 2992, 'earth': 2993, 'electrification': 2994, 'implication': 2995, 'concentration': 2996, 'bengali': 2997, 'apqxpndtq': 2998, 'returnee': 2999, 'assess': 3000, 'chronic': 3001, 'umpe': 3002, 'appalling': 3003, 'chair': 3004, 'condemn': 3005, 'fop': 3006, 'negligent': 3007, 'twxm': 3008, 'baseline': 3009, 'latest_cdc': 3010, 'northeastern': 3011, 'northwestern': 3012, 'unreported': 3013, 'pier': 3014, 'reflect': 3015, 'index': 3016, 'travel_history': 3017, 'hangover': 3018, 'largely': 3019, 'sdaowt': 3020, 'imo': 3021, 'anant': 3022, 'dung': 3023, 'fear_mongering': 3024, 'legislator': 3025, 'scientifically': 3026, 'tjv': 3027, 'law': 3028, 'health_worker': 3029, 'overarch': 3030, 'pwbynaheaz': 3031, 'layoff': 3032, 'marketplace': 3033, 'sponsor': 3034, 'strip': 3035, 'civil': 3036, 'seasonal': 3037, 'security': 3038, 'solve': 3039, 'telangana': 3040, 'illuminate': 3041, 'intensity': 3042, 'aggressively': 3043, 'comprehensively': 3044, 'desire': 3045, 'invasive': 3046, 'scrub': 3047, 'theatre': 3048, 'peokegurq': 3049, 'power': 3050, 'hear': 3051, 'suitable': 3052, 'wgfumgxjrp': 3053, 'specific': 3054, 'conversation': 3055, 'face_mask': 3056, 'frequent': 3057, 'hitfmcalabar': 3058, 'pzr': 3059, 'zdx': 3060, 'investigative': 3061, 'da': 3062, 'facilitation': 3063, 'substantively': 3064, 'qtmcgydkql': 3065, 'ggw': 3066, 'sqhe': 3067, 'actnow': 3068, 'dpmlworyg': 3069, 'lax': 3070, 'nytime': 3071, 'reignite': 3072, 'tamp': 3073, 'coordinate': 3074, 'cooking': 3075, 'relax': 3076, 'skill': 3077, 'shot': 3078, 'focusse': 3079, 'freedom': 3080, 'hinder': 3081, 'zfbr': 3082, 'accelerate': 3083, 'accidental': 3084, 'harmful': 3085, 'leakage': 3086, 'backbone': 3087, 'derive': 3088, 'genetic': 3089, 'irrefutably': 3090, 'manipulation': 3091, 'angel': 3092, 'bankrupt': 3093, 'broke': 3094, 'constantly': 3095, 'optimise': 3096, 'overly': 3097, 'act': 3098, 'disappear': 3099, 'assert': 3100, 'convalescent': 3101, 'plasma': 3102, 'sicker': 3103, 'clarity': 3104, 'mislabele': 3105, 'reposte': 3106, 'airing': 3107, 'falsehood': 3108, 'history': 3109, 'miq': 3110, 'comment': 3111, 'tape': 3112, 'gygogw': 3113, 'belaru': 3114, 'hysteria': 3115, 'household': 3116, 'indoor': 3117, 'asleep': 3118, 'comatose': 3119, 'highest': 3120, 'communication': 3121, 'educator': 3122, 'negative_result': 3123, 'clearance': 3124, 'pcr': 3125, 'fwhd': 3126, 'thb': 3127, 'mistake': 3128, 'ugfqgwe': 3129, 'vastly': 3130, 'yvulkpzvb': 3131, 'ray': 3132, 'future': 3133, 'pt': 3134, 'rzutrkw': 3135, 'scenario': 3136, 'thwarting': 3137, 'canadian': 3138, 'embrace': 3139, 'fully': 3140, 'scold': 3141, 'spawn': 3142, 'shop': 3143, 'timing': 3144, 'unisted': 3145, 'advocacy': 3146, 'jpbq': 3147, 'inevitable': 3148, 'inspire': 3149, 'uocg': 3150, 'contag': 3151, 'feature': 3152, 'last_week': 3153, 'pmoindia': 3154, 'diligently': 3155, 'frontline': 3156, 'contamination': 3157, 'flareup': 3158, 'reporter': 3159, 'slump': 3160, 'higher': 3161, 'obvious': 3162, 'positivity': 3163, 'gear': 3164, 'cleaning': 3165, 'disinfecting': 3166, 'keyboard': 3167, 'laptop': 3168, 'mice': 3169, 'critically': 3170, 'perinatal': 3171, 'owxa': 3172, 'brother': 3173, 'educate': 3174, 'father': 3175, 'grandparent': 3176, 'sister': 3177, 'tdruhhu': 3178, 'accurately': 3179, 'cmc': 3180, 'score': 3181, 'preventing': 3182, 'math': 3183, 'ratio': 3184, 'seed': 3185, 'terminator': 3186, 'length': 3187, 'officially': 3188, 'cite': 3189, 'erroneously': 3190, 'export': 3191, 'popular': 3192, 'dreoehanire': 3193, 'hmh': 3194, 'responder': 3195, 'constituent': 3196, 'endocrine': 3197, 'particular': 3198, 'bounce': 3199, 'industrialist': 3200, 'slowdown': 3201, 'degree': 3202, 'normality': 3203, 'ptooeitec': 3204, 'combat': 3205, 'successfully': 3206, 'contribution': 3207, 'incentive': 3208, 'qbuk': 3209, 'djnkm': 3210, 'vyle': 3211, 'xnopr': 3212, 'chat': 3213, 'distant': 3214, 'physically': 3215, 'staying': 3216, 'outcome': 3217, 'validation': 3218, 'raccoon': 3219, 'approximately': 3220, 'finish': 3221, 'self_isolate': 3222, 'elite': 3223, 'crown': 3224, 'disinfectant': 3225, 'fresh': 3226, 'phenolic': 3227, 'sagar': 3228, 'cnfeiid': 3229, 'debt': 3230, 'incur': 3231, 'merit': 3232, 'tax': 3233, 'earre': 3234, 'pearl': 3235, 'predator': 3236, 'billion': 3237, 'bfast': 3238, 'found': 3239, 'honey': 3240, 'noon': 3241, 'metal': 3242, 'accident': 3243, 'exaggerate': 3244, 'instruct': 3245, 'wound': 3246, 'dog': 3247, 'pile': 3248, 'lekdzilnnk': 3249, 'differently': 3250, 'react': 3251, 'selfcare': 3252, 'stress': 3253, 'stressful': 3254, 'congratulate': 3255, 'placard': 3256, 'qibgggcz': 3257, 'entry': 3258, 'tab': 3259, 'ingest': 3260, 'frequently': 3261, 'pharmacy': 3262, 'sanitis': 3263, 'stall': 3264, 'hint': 3265, 'iebc': 3266, 'compromise': 3267, 'pre_symptomatic': 3268, 'mutation': 3269, 'tgno': 3270, 'meatpacker': 3271, 'crucial': 3272, 'reversed': 3273, 'adjust': 3274, 'ppl': 3275, 'italian_doctors': 3276, 'succumb': 3277, 'theater': 3278, 'cumming': 3279, 'herd_immunity': 3280, 'selflessly': 3281, 'delhiite': 3282, 'serological': 3283, 'survey': 3284, 'aspirin': 3285, 'pm_et': 3286, 'pvjnbr': 3287, 'acquire': 3288, 'design': 3289, 'naturally': 3290, 'manage': 3291, 'wyxdaw': 3292, 'helpline': 3293, 'burning': 3294, 'amlw': 3295, 'monitor': 3296, 'screen': 3297, 'gtwyooegz': 3298, 'msa': 3299, 'parent': 3300, 'prioritise': 3301, 'coronil': 3302, 'establish': 3303, 'devise': 3304, 'madagascan': 3305, 'organic': 3306, 'proud': 3307, 'evening': 3308, 'wtrog': 3309, 'chirayu': 3310, 'formula': 3311, 'colleague': 3312, 'cellphone': 3313, 'notify': 3314, 'opt': 3315, 'mosque': 3316, 'subside': 3317, 'wear_face': 3318, 'afm': 3319, 'enterovirus': 3320, 'bharatbiotech': 3321, 'depzm': 3322, 'mislead': 3323, 'rache': 3324, 'directive': 3325, 'supporter': 3326, 'ovxuu': 3327, 'sxtg': 3328, 'contact_tracing': 3329, 'vallance': 3330, 'cheque': 3331, 'eb': 3332, 'rent': 3333, 'tbc': 3334, 'tenant': 3335, 'vow': 3336, 'secession': 3337, 'discovery': 3338, 'keenly': 3339, 'wtd': 3340, 'midday': 3341, 'gyi': 3342, 'snsi': 3343, 'lsmoh': 3344, 'chlorine': 3345, 'sesame': 3346, 'uts': 3347, 'boss': 3348, 'cflxpm': 3349, 'chairman': 3350, 'face_masks': 3351, 'fyn': 3352, 'ongoe': 3353, 'vpjj': 3354, 'wdc': 3355, 'nonpregnant': 3356, 'idh': 3357, 'labs_processe': 3358, 'yydwqvrc': 3359, 'minimum': 3360, 'retweete': 3361, 'aggregated': 3362, 'engineer': 3363, 'epidemiologist': 3364, 'knowledge': 3365, 'org': 3366, 'talente': 3367, 'sywstohk': 3368, 'nursing': 3369, 'uptake': 3370, 'promptly': 3371, 'deploy': 3372, 'paramilitary': 3373, 'halt': 3374, 'ofvmgs': 3375, 'vrhtgjirmq': 3376, 'underlie': 3377, 'meter': 3378, 'setting': 3379, 'avoid_touching': 3380, 'proof': 3381, 'reference': 3382, 'synchronize': 3383, 'profesion': 3384, 'rish': 3385, 'thefred': 3386, 'closely': 3387, 'sanitizing': 3388, 'vodka': 3389, 'navajo': 3390, 'ubgrxkvg': 3391, 'load': 3392, 'skilled': 3393, 'red': 3394, 'tov': 3395, 'utal': 3396, 'ruin': 3397, 'weapon': 3398, 'effectiveness': 3399, 'efficiency': 3400, 'identity': 3401, 'slowing': 3402, 'cdu': 3403, 'eye': 3404, 'heart': 3405, 'lifetime': 3406, 'possibly': 3407, 'gune': 3408, 'stable': 3409, 'approx': 3410, 'assistance': 3411, 'rs_crore': 3412, 'ie': 3413, 'excite': 3414, 'mom': 3415, 'win': 3416, 'discharged': 3417, 'officialfcta': 3418, 'wrongly': 3419, 'nz': 3420, 'gkunudv': 3421, 'harvardme': 3422, 'medtwitter': 3423, 'midst': 3424, 'opthalmology': 3425, 'rare': 3426, 'retroactively': 3427, 'killer': 3428, 'scan': 3429, 'suggestion': 3430, 'ultra': 3431, 'takeover': 3432, 'meaningless': 3433, 'oxcymgc': 3434, 'gldutdl': 3435, 'realize': 3436, 'coverage': 3437, 'cruelty': 3438, 'jpumoxeh': 3439, 'politifact': 3440, 'zd': 3441, 'aspect': 3442, 'participation': 3443, 'principal': 3444, 'detailed': 3445, 'lay': 3446, 'months_ago': 3447, 'unacceptable': 3448, 'xjxsdn': 3449, 'pikyxh': 3450, 'eyltaa': 3451, 'equitably': 3452, 'briefing': 3453, 'generating': 3454, 'inarguable': 3455, 'ggfi': 3456, 'pkgdr': 3457, 'casualty': 3458, 'dhnrve': 3459, 'disruption': 3460, 'tragedy': 3461, 'unconscionable': 3462, 'census': 3463, 'define': 3464, 'nekg': 3465, 'northeast': 3466, 'intelligent': 3467, 'kxc': 3468, 'ozone': 3469, 'sterilization': 3470, 'uvled': 3471, 'dear': 3472, 'intervene': 3473, 'sea': 3474, 'seafood': 3475, 'jobless': 3476, 'unemployment': 3477, 'oiiovxjvlw': 3478, 'eviction': 3479, 'freeze': 3480, 'homeless': 3481, 'appointment': 3482, 'shake': 3483, 'station': 3484, 'immigrant': 3485, 'amjoo': 3486, 'cop': 3487, 'norm': 3488, 'latter': 3489, 'scclemon': 3490, 'typically': 3491, 'repeatable': 3492, 'structure': 3493, 'task': 3494, 'kmqwgf': 3495, 'akwa_ibom': 3496, 'repeat': 3497, 'iwdarfheug': 3498, 'mast': 3499, 'billionaire': 3500, 'poisonous': 3501, 'quote': 3502, 'chest': 3503, 'clutch': 3504, 'tightly': 3505, 'dead_bodie': 3506, 'hallway': 3507, 'puzzle': 3508, 'uncertainty': 3509, 'according': 3510, 'fqnff': 3511, 'metformin': 3512, 'observational': 3513, 'randomized': 3514, 'uthc': 3515, 'essential_trip': 3516, 'wkthuxkfu': 3517, 'govts': 3518, 'mum': 3519, 'cured_discharge': 3520, 'migrate': 3521, 'plane': 3522, 'conceal': 3523, 'eliminate': 3524, 'fuel': 3525, 'tulsatrumprally': 3526, 'gnruo': 3527, 'ztz': 3528, 'facecover': 3529, 'imprisonment': 3530, 'punishable': 3531, 'violation': 3532, 'lzvhgvt': 3533, 'records_high': 3534, 'conclude': 3535, 'subsequently': 3536, 'prostatecancer': 3537, 'rival': 3538, 'pot': 3539, 'rt_cdcemergency': 3540, 'ixqxu': 3541, 'peer': 3542, 'thinking': 3543, 'poleaxe': 3544, 'powerful': 3545, 'hodsclqetl': 3546, 'myuzxhqprb': 3547, 'api': 3548, 'fix': 3549, 'higher_risk': 3550, 'older_adult': 3551, 'iqhkcifprg': 3552, 'abound': 3553, 'readily': 3554, 'left': 3555, 'siren': 3556, 'rotorua': 3557, 'rydge': 3558, 'hospitalise': 3559, 'monoclonal': 3560, 'promising': 3561, 'trialle': 3562, 'dhcaa': 3563, 'authority': 3564, 'respective': 3565, 'chemotherapy': 3566, 'collaborative': 3567, 'collectively': 3568, 'efficient': 3569, 'encouraging': 3570, 'responsive': 3571, 'kzmvziowln': 3572, 'medication': 3573, 'abysmal': 3574, 'michigander': 3575, 'witch': 3576, 'buffet': 3577, 'individually': 3578, 'salad': 3579, 'served': 3580, 'fact_checking': 3581, 'reporterslab': 3582, 'filter': 3583, 'kidney': 3584, 'known': 3585, 'unknown': 3586, 'kiaf': 3587, 'mxv': 3588, 'fhebigjxvb': 3589, 'introduce': 3590, 'scotland': 3591, 'seal': 3592, 'buck': 3593, 'normally': 3594, 'respectively': 3595, 'npgkjj': 3596, 'staysafe': 3597, 'implemented': 3598, 'overload': 3599, 'donald_trump': 3600, 'vinegar': 3601, 'court': 3602, 'southeast': 3603, 'interrupt': 3604, 'revive': 3605, 'hyderabad': 3606, 'tracer_app': 3607, 'commercial': 3608, 'presumably': 3609, 'provider': 3610, 'vknyj': 3611, 'jtpg': 3612, 'precipitously': 3613, 'sense': 3614, 'matamata': 3615, 'periods_day': 3616, 'ehwvyw': 3617, 'fauci': 3618, 'fighter': 3619, 'united_state': 3620, 'virology': 3621, 'anticoagulant': 3622, 'autopsy': 3623, 'disobey': 3624, 'ecuadorian': 3625, 'inflammatorie': 3626, 'taht': 3627, 'british': 3628, 'cleaner': 3629, 'coin': 3630, 'reduction': 3631, 'pm_th': 3632, 'bit': 3633, 'click': 3634, 'emukei': 3635, 'ly': 3636, 'nowhttps': 3637, 'sms': 3638, 'chemist': 3639, 'hamper': 3640, 'braindead': 3641, 'series': 3642, 'utdl': 3643, 'walking': 3644, 'com': 3645, 'fwd': 3646, 'initiative': 3647, 'journalist': 3648, 'reqest': 3649, 'straight': 3650, 'ainbfqa': 3651, 'tuesdaylive': 3652, 'tune': 3653, 'dkfftxogzz': 3654, 'dread': 3655, 'arguably': 3656, 'prexisting': 3657, 'announcement': 3658, 'edinburghuni': 3659, 'rinse': 3660, 'vlgb': 3661, 'jihadi': 3662, 'lewd': 3663, 'pulp': 3664, 'spitting': 3665, 'stomp': 3666, 'thulpe': 3667, 'piss': 3668, 'shed': 3669, 'warm': 3670, 'wetherspoon': 3671, 'wrdazkculf': 3672, 'colorful': 3673, 'dye': 3674, 'fashion': 3675, 'futurenow': 3676, 'futuretrend': 3677, 'futurism': 3678, 'obsession': 3679, 'appliance': 3680, 'glove': 3681, 'outsource': 3682, 'sic': 3683, 'ventilaor': 3684, 'cattle': 3685, 'coronaviruse': 3686, 'slaughter': 3687, 'bandwidth': 3688, 'piece': 3689, 'brand': 3690, 'coffee': 3691, 'tchotchke': 3692, 'tumbleweed': 3693, 'cdc': 3694, 'discouraging': 3695, 'mor': 3696, 'dwarf': 3697, 'exgjd': 3698, 'wkioubnkn': 3699, 'vendor': 3700, 'deudnlemws': 3701, 'aire': 3702, 'patinent': 3703, 'nzupdh': 3704, 'ft_cgmampx': 3705, 'teavgzkzic': 3706, 'malignancy': 3707, 'teravolt': 3708, 'correlation': 3709, 'deficient': 3710, 'nascent': 3711, 'pill': 3712, 'health_official': 3713, 'random': 3714, 'exponentially': 3715, 'pmoind': 3716, 'maximum': 3717, 'avscr': 3718, 'chaos': 3719, 'complicated': 3720, 'fv': 3721, 'appreciate': 3722, 'dedication': 3723, 'deeply': 3724, 'unprecedented': 3725, 'firefighter': 3726, 'svoidrif': 3727, 'public_health': 3728, 'sound': 3729, 'experimentation': 3730, 'arrange': 3731, 'aiyoynmcus': 3732, 'evolve': 3733, 'pace': 3734, 'inhale': 3735, 'peeling': 3736, 'steam': 3737, 'schizophrenia': 3738, 'cf': 3739, 'ttxbd': 3740, 'abundantly': 3741, 'athlete': 3742, 'competition': 3743, 'music': 3744, 'pole': 3745, 'stream': 3746, 'ex': 3747, 'successor': 3748, 'muzaee': 3749, 'processing': 3750, 'favipiravir': 3751, 'pjkywmf': 3752, 'dayschallenge': 3753, 'ubfeluso': 3754, 'lbhapx': 3755, 'convene': 3756, 'fmohnigeria': 3757, 'press_briefing': 3758, 'pakistani': 3759, 'political': 3760, 'zone': 3761, 'broker': 3762, 'devastated': 3763, 'unchanged': 3764, 'downplay': 3765, 'modelling': 3766, 'reportedly': 3767, 'zkcse': 3768, 'additionally': 3769, 'everyday': 3770, 'suspend': 3771, 'fungal': 3772, 'auspol': 3773, 'cede': 3774, 'corporate': 3775, 'physical': 3776, 'publicly': 3777, 'epgrrw': 3778, 'destination': 3779, 'rt_cdctravel': 3780, 'showcase': 3781, 'auckland': 3782, 'cabinet': 3783, 'excess_capacity': 3784, 'gives_us': 3785, 'myocarditis': 3786, 'hhs': 3787, 'substantial': 3788, 'beneficiary': 3789, 'credit': 3790, 'disregard': 3791, 'challenging': 3792, 'pro': 3793, 'widely_used': 3794, 'literacy': 3795, 'mouthwash': 3796, 'uuvvd': 3797, 'anv': 3798, 'roche': 3799, 'intern': 3800, 'jmdpza': 3801, 'determine': 3802, 'sjeh': 3803, 'fa': 3804, 'claiming': 3805, 'follower': 3806, 'pedophile': 3807, 'republican': 3808, 'theorist': 3809, 'touted': 3810, 'vdj': 3811, 'yhqiqw': 3812, 'agqkueaufy': 3813, 'indication': 3814, 'ischemic': 3815, 'expend': 3816, 'decisive': 3817, 'president': 3818, 'reposition': 3819, 'reasoning': 3820, 'depopulate': 3821, 'cuehui': 3822, 'vyxnnnenmp': 3823, 'basically': 3824, 'payback': 3825, 'elsewhere': 3826, 'hct': 3827, 'xfjn': 3828, 'press_event': 3829, 'qxh': 3830, 'transcript': 3831, 'xkrpcvqjxc': 3832, 'fennel': 3833, 'cbia': 3834, 'functional': 3835, 'gymnasium': 3836, 'institute': 3837, 'swimming': 3838, 'tmtmc': 3839, 'dhscgovuk': 3840, 'roboski': 3841, 'lpcwwdvpxp': 3842, 'qfhizdw': 3843, 'shrink': 3844, 'total_number': 3845, 'damage': 3846, 'zealander': 3847, 'consecutive_day': 3848, 'license': 3849, 'charity': 3850, 'bbfkgebjtb': 3851, 'correctly': 3852, 'eipkb': 3853, 'fleamarket': 3854, 'pantie': 3855, 'cdcmmwr_find': 3856, 'undetected': 3857, 'vokbzil': 3858, 'girl': 3859, 'paste': 3860, 'toenail': 3861, 'village': 3862, 'mtqmalnmy': 3863, 'fortune': 3864, 'missile': 3865, 'destruction': 3866, 'exclusive': 3867, 'shortness': 3868, 'anticipate': 3869, 'backend': 3870, 'serology': 3871, 'cerebral': 3872, 'cq': 3873, 'injectable': 3874, 'malaria': 3875, 'quinine': 3876, 'designate': 3877, 'prefect': 3878, 'nyzlpjyfxm': 3879, 'attendance': 3880, 'behaviour': 3881, 'department': 3882, 'drastically': 3883, 'infectious': 3884, 'presymptomatic': 3885, 'zaernrbqd': 3886, 'actual': 3887, 'glitter': 3888, 'lighting': 3889, 'max': 3890, 'subsidize': 3891, 'positively': 3892, 'branch': 3893, 'answering': 3894, 'nvzbbyuzi': 3895, 'latex': 3896, 'nightclub': 3897, 'purpose': 3898, 'correspondent': 3899, 'eyewitness': 3900, 'gregmilamsky': 3901, 'oregonian': 3902, 'itly': 3903, 'jbrsrrejqb': 3904, 'highly': 3905, 'modiji': 3906, 'qvl': 3907, 'sop': 3908, 'yjr': 3909, 'administer': 3910, 'advocate': 3911, 'bloodlette': 3912, 'dictatorship': 3913, 'triump': 3914, 'sisi': 3915, 'renowned': 3916, 'idol': 3917, 'ill': 3918, 'uninterested': 3919, 'covidsafe': 3920, 'fact_checkers': 3921, 'instal': 3922, 'smartphone': 3923, 'condolence': 3924, 'sacrifice': 3925, 'administrator': 3926, 'education': 3927, 'faculty': 3928, 'institutes': 3929, 'ldoxt': 3930, 'ygzvswko': 3931, 'specifically': 3932, 'angry': 3933, 'nail': 3934, 'centerstage': 3935, 'statesmanship': 3936, 'morne': 3937, 'runny_nose': 3938, 'secretion': 3939, 'sputum': 3940, 'aka': 3941, 'celebration': 3942, 'modia': 3943, 'hail': 3944, 'necessarily': 3945, 'ultimately': 3946, 'falsify': 3947, 'ago': 3948, 'jean': 3949, 'six_month': 3950, 'homequarantine': 3951, 'oscorpe': 3952, 'shall': 3953, 'milestone': 3954, 'citrus': 3955, 'peel': 3956, 'hang': 3957, 'constrain': 3958, 'nazcaget': 3959, 'upwards': 3960, 'airline': 3961, 'urban': 3962, 'antiviral': 3963, 'modulator': 3964, 'repurposed': 3965, 'zinc': 3966, 'bunch': 3967, 'fruit': 3968, 'photograph': 3969, 'pant': 3970, 'publishing': 3971, 'qmq': 3972, 'russian': 3973, 'annoy': 3974, 'bkftxkwc': 3975, 'covidiot': 3976, 'stqzuvqsxg': 3977, 'pc': 3978, 'pqa': 3979, 'every_day': 3980, 'nfqtkag': 3981, 'matthancock': 3982, 'oor': 3983, 'broiler': 3984, 'convention': 3985, 'clarifie': 3986, 'remark': 3987, 'aunt': 3988, 'frustrate': 3989, 'moistly': 3990, 'sexually': 3991, 'tide': 3992, 'bui': 3993, 'expedite': 3994, 'wfwxug': 3995, 'bone': 3996, 'pvvi': 3997, 'unrecognized': 3998, 'vjmzd': 3999, 'circumstance': 4000, 'breastfeeding': 4001, 'thrive': 4002, 'faqs': 4003, 'legislative': 4004, 'rush': 4005, 'defence': 4006, 'reunion': 4007, 'pcikohrwmk': 4008, 'dgfibldna': 4009, 'hamster': 4010, 'indifferent': 4011, 'lwmyzyatpg': 4012, 'shockingly': 4013, 'xwdvhuf': 4014, 'auto': 4015, 'coolie': 4016, 'ebf': 4017, 'entrepreneur': 4018, 'hardship': 4019, 'invisible': 4020, 'layoffed': 4021, 'listen': 4022, 'representative': 4023, 'rmatlq': 4024, 'boast': 4025, 'ag': 4026, 'devastation': 4027, 'succeed': 4028, 'suffering': 4029, 'tiksny': 4030, 'tvb': 4031, 'untold': 4032, 'fwbpmvluwr': 4033, 'involvement': 4034, 'bjtwdcnh': 4035, 'bow': 4036, 'frontliner': 4037, 'uemeh': 4038, 'unj': 4039, 'faith': 4040, 'religion': 4041, 'operating': 4042, 'immunization': 4043, 'swift': 4044, 'cavity': 4045, 'encephalitic': 4046, 'hemato': 4047, 'insertion': 4048, 'nasal': 4049, 'painful': 4050, 'wand': 4051, 'electronic': 4052, 'polling': 4053, 'frankly': 4054, 'perhaps': 4055, 'meatpacke': 4056, 'plant': 4057, 'tanzania': 4058, 'truck': 4059, 'per_day': 4060, 'worth': 4061, 'zoom': 4062, 'biosecurity': 4063, 'joint': 4064, 'upgraded': 4065, 'journey': 4066, 'bspug': 4067, 'evict': 4068, 'nyer': 4069, 'ok': 4070, 'snow': 4071, 'show_symptom': 4072, 'cat': 4073, 'fdahtle': 4074, 'naked': 4075, 'vandalizing': 4076, 'communicable': 4077, 'density': 4078, 'initiate': 4079, 'mauritius': 4080, 'cont': 4081, 'isolated': 4082, 'nlvswwhpu': 4083, 'horse': 4084, 'sit': 4085, 'son': 4086, 'sugarcreek': 4087, 'thoroughbre': 4088, 'osxwz': 4089, 'xmd': 4090, 'meat': 4091, 'wlmmu': 4092, 'eln': 4093, 'india': 4094, 'iazkwxgtik': 4095, 'negatively': 4096, 'recession': 4097, 'tqimhdoaxh': 4098, 'aaradhya': 4099, 'jlwte': 4100, 'extract': 4101, 'pubs_bar': 4102, 'vandalize': 4103, 'ddiqujsvii': 4104, 'supervisor': 4105, 'prolong': 4106, 'htiph': 4107, 'endure': 4108, 'poem': 4109, 'reprint': 4110, 'kgwovtnil': 4111, 'berejiklian': 4112, 'favourably': 4113, 'north_shore': 4114, 'maharashtra': 4115, 'qjaxvovyn': 4116, 'plssfrtgn': 4117, 'brexit': 4118, 'deadline': 4119, 'faqtturllk': 4120, 'fade': 4121, 'single_day': 4122, 'tamilnadu': 4123, 'vellore': 4124, 'dryer': 4125, 'lamp': 4126, 'trumpuniversity': 4127, 'direction': 4128, 'leicester': 4129, 'mercury': 4130, 'sincerely': 4131, 'gudbpy': 4132, 'upcome': 4133, 'vte': 4134, 'cigar': 4135, 'discontinue': 4136, 'game': 4137, 'cupboard': 4138, 'medically': 4139, 'hosu': 4140, 'recovery_rate': 4141, 'definition': 4142, 'geographic': 4143, 'pui': 4144, 'hoax': 4145, 'qha': 4146, 'fatalityrate': 4147, 'grahamscooke': 4148, 'imperial_em': 4149, 'cazgwwbqpw': 4150, 'manager': 4151, 'swannyqld': 4152, 'nonessential': 4153, 'closer': 4154, 'collide': 4155, 'hx': 4156, 'potency': 4157, 'inbox': 4158, 'diaper': 4159, 'finalise': 4160, 'ftca': 4161, 'tag': 4162, 'description': 4163, 'alistairhaime': 4164, 'capturing': 4165, 'legislation': 4166, 'cardiology': 4167, 'faq': 4168, 'vqp': 4169, 'congestion': 4170, 'mhghunv': 4171, 'op': 4172, 'flus': 4173, 'pande': 4174, 'temgy': 4175, 'molecular': 4176, 'prkbpcxfq': 4177, 'mind': 4178, 'cuff': 4179, 'stethoscope': 4180, 'thermometer': 4181, 'douse': 4182, 'knock': 4183, 'reopening': 4184, 'jete': 4185, 'sepsis': 4186, 'sheet': 4187, 'misbehave': 4188, 'assam': 4189, 'guwahati': 4190, 'opphrrlnmu': 4191, 'mainly': 4192, 'exempt': 4193, 'onward': 4194, 'million_tests': 4195, 'somewhere': 4196, 'systematically': 4197, 'arthritis': 4198, 'gouty': 4199, 'polio': 4200, 'bottled': 4201, 'drinker': 4202, 'lager': 4203, 'reassure': 4204, 'coincidence': 4205, 'writer': 4206, 'leapfrog': 4207, 'dub': 4208, 'expel': 4209, 'nanopathologist': 4210, 'supposedly': 4211, 'benchmark': 4212, 'wytp': 4213, 'yolay': 4214, 'ypwy': 4215, 'circulating': 4216, 'blm': 4217, 'declaration': 4218, 'advance': 4219, 'automatically': 4220, 'owe': 4221, 'drhk': 4222, 'overinflate': 4223, 'daytime': 4224, 'harassment': 4225, 'lost': 4226, 'lzsuskmjf': 4227, 'ecxmfk': 4228, 'ujwxfyx': 4229, 'visualize': 4230, 'unjustifiable': 4231, 'framework': 4232, 'impressive': 4233, 'incl': 4234, 'yavatmal': 4235, 'congregate': 4236, 'primarily': 4237, 'rispg': 4238, 'lbjsdj': 4239, 'proactively': 4240, 'ydtvnjlm': 4241, 'sc': 4242, 'dire': 4243, 'division': 4244, 'flame': 4245, 'stoke': 4246, 'unsurprisingly': 4247, 'lvfvvtjef': 4248, 'mutual': 4249, 'stake': 4250, 'fo': 4251, 'india_record': 4252, 'mall': 4253, 'organized': 4254, 'theft': 4255, 'iuj': 4256, 'substantially': 4257, 'ltqn': 4258, 'sz': 4259, 'mayor': 4260, 'prohibit': 4261, 'demise': 4262, 'bang': 4263, 'shouting': 4264, 'barack': 4265, 'decency': 4266, 'obamagate': 4267, 'tradition': 4268, 'assign': 4269, 'historical': 4270, 'beverage': 4271, 'vigilant': 4272, 'kzjget': 4273, 'fat': 4274, 'baking_soda': 4275, 'fqat': 4276, 'ballot': 4277, 'qfpfvifh': 4278, 'gandhinagar': 4279, 'gialss': 4280, 'mennewsdesk': 4281, 'rebeccadayman': 4282, 'supplementing': 4283, 'thumb': 4284, 'closed': 4285, 'myu': 4286, 'aduhuuab': 4287, 'eayqsl': 4288, 'mixture': 4289, 'mebbmdfogd': 4290, 'mismanagement': 4291, 'fill': 4292, 'poultry': 4293, 'vzfkxfkisr': 4294, 'stupid': 4295, 'thoroughly': 4296, 'augmentation': 4297, 'gradually': 4298, 'complaint': 4299, 'extraordinary': 4300, 'aggression': 4301, 'humor': 4302, 'recieved': 4303, 'rich': 4304, 'pvuqttqmtm': 4305, 'dobb': 4306, 'bfor': 4307, 'cs_uxqrrmn': 4308, 'vehicle': 4309, 'climate': 4310, 'denial': 4311, 'teach': 4312, 'registry': 4313, 'bml': 4314, 'ln': 4315, 'renter': 4316, 'abcworldnew': 4317, 'asthma': 4318, 'damn': 4319, 'dementia': 4320, 'lifelong': 4321, 'survival': 4322, 'quadruple': 4323, 'kjpcdzqsue': 4324, 'locality': 4325, 'unique': 4326, 'theory': 4327, 'land': 4328, 'thereafter': 4329, 'allergy': 4330, 'emtprmdv': 4331, 'homelessness': 4332, 'toiletpaper': 4333, 'haul': 4334, 'institution': 4335, 'ntnsndr': 4336, 'fucking': 4337, 'occu': 4338, 'courage': 4339, 'underestimate': 4340, 'year_old': 4341, 'mitigate': 4342, 'prescribing': 4343, 'triage': 4344, 'exkc': 4345, 'everythingonly': 4346, 'doctoral': 4347, 'educational': 4348, 'wcyprn': 4349, 'ozaguhhgtp': 4350, 'icmrnirrh': 4351, 'arkansa': 4352, 'hoard': 4353, 'conditioner': 4354, 'hall': 4355, 'tfsckou': 4356, 'sooner': 4357, 'sophisticated': 4358, 'curfews': 4359, 'conducted': 4360, 'olbbadbh': 4361, 'shoutout': 4362, 'behave': 4363, 'illiterate': 4364, 'literate': 4365, 'beef': 4366, 'snap': 4367, 'saturday': 4368, 'vsihwf': 4369, 'xjmclrwz': 4370, 'dump': 4371, 'hike': 4372, 'criticise': 4373, 'dedicate': 4374, 'rash': 4375, 'sharing': 4376, 'unusual': 4377, 'cane': 4378, 'lathi': 4379, 'obey': 4380, 'pelt': 4381, 'stone': 4382, 'borne': 4383, 'viewer': 4384, 'cast': 4385, 'fiscal': 4386, 'rbi': 4387, 'doncaster': 4388, 'mgembobhbm': 4389, 'qkpxbrxtly': 4390, 'quaver': 4391, 'sized': 4392, 'debacle': 4393, 'lyme': 4394, 'pnxnb': 4395, 'internationally': 4396, 'senatedem': 4397, 'welding': 4398, 'pig': 4399, 'lower': 4400, 'rpasvlstep': 4401, 'brief': 4402, 'styf': 4403, 'wo': 4404, 'install': 4405, 'surreptitiously': 4406, 'depict': 4407, 'indonesian': 4408, 'traditional': 4409, 'severe_illness': 4410, 'uptrend': 4411, 'cp': 4412, 'malnourished': 4413, 'warrior': 4414, 'programme': 4415, 'ea': 4416, 'dismissive': 4417, 'handful': 4418, 'lucky': 4419, 'minimize': 4420, 'neighbourhood': 4421, 'stab': 4422, 'harder': 4423, 'theatlantic': 4424, 'establishment': 4425, 'clinically': 4426, 'erkaax': 4427, 'cvd': 4428, 'intermittent': 4429, 'impunity': 4430, 'dissolve': 4431, 'custo': 4432, 'alot': 4433, 'viruse': 4434, 'kofbfifk': 4435, 'yayitsrob': 4436, 'grandmother': 4437, 'porn': 4438, 'incubate': 4439, 'cxpeteqtib': 4440, 'rgdka': 4441, 'dance': 4442, 'fwl': 4443, 'hqtbuixp': 4444, 'indo': 4445, 'machine': 4446, 'scout': 4447, 'sensor': 4448, 'hazardous': 4449, 'discontinued': 4450, 'annually': 4451, 'dorito': 4452, 'flavor': 4453, 'shit': 4454, 'decoction': 4455, 'correction': 4456, 'fxazvtcur': 4457, 'vessel': 4458, 'accessible': 4459, 'conservative': 4460, 'enemy': 4461, 'suppress': 4462, 'domino': 4463, 'hfmsy': 4464, 'considerably': 4465, 'constraint': 4466, 'quantitative': 4467, 'reality': 4468, 'interim': 4469, 'specimen': 4470, 'clash': 4471, 'demonstrator': 4472, 'alien': 4473, 'bef': 4474, 'specie': 4475, 'xcgr': 4476, 'caretaker': 4477, 'hvtcyizmqc': 4478, 'waterford': 4479, 'ctleobp': 4480, 'narendramodi': 4481, 'eschew': 4482, 'pcoxd': 4483, 'aide': 4484, 'potu': 4485, 'new_york_city': 4486, 'cultural': 4487, 'speed': 4488, 'tectonic': 4489, 'warp': 4490, 'code': 4491, 'sixth': 4492, 'exacerbate': 4493, 'humanitarian': 4494, 'immediate': 4495, 'unreliefchief': 4496, 'swintersection': 4497, 'nxsr': 4498, 'prediction': 4499, 'heath': 4500, 'vial': 4501, 'india_records': 4502, 'namely': 4503, 'desperately': 4504, 'intensive_care': 4505, 'staffing': 4506, 'unit': 4507, 'udnd': 4508, 'uidqtc': 4509, 'infographic': 4510, 'bash': 4511, 'forge': 4512, 'xdfm': 4513, 'alikodangotefdn': 4514, 'dpffzimdnt': 4515, 'oximeter': 4516, 'tcowcgvtej': 4517, 'prepair': 4518, 'trump_tweete': 4519, 'ridiculous': 4520, 'adherence': 4521, 'ncdc': 4522, 'officialaitlive': 4523, 'cke': 4524, 'apa': 4525, 'presentation': 4526, 'convenience': 4527, 'cruise_ship': 4528, 'gene': 4529, 'manufacturere': 4530, 'fallout': 4531, 'psychological': 4532, 'hnucnsizqr': 4533, 'attach': 4534, 'mob': 4535, 'senior': 4536, 'waitakere': 4537, 'costly': 4538, 'guee': 4539, 'outofthedarkage': 4540, 'morally': 4541, 'reprehensible': 4542, 'rip': 4543, 'chase': 4544, 'integral': 4545, 'mandatorily': 4546, 'amazing': 4547, 'uorfvy': 4548, 'reconciliation': 4549, 'aiim': 4550, 'closing': 4551, 'hate': 4552, 'plbf': 4553, 'fivefold': 4554, 'triple': 4555, 'quantifie': 4556, 'fed': 4557, 'onpoli': 4558, 'commence': 4559, 'optimisation': 4560, 'pheoc': 4561, 'nutritional': 4562, 'supplement': 4563, 'overactivation': 4564, 'pvnz': 4565, 'storm': 4566, 'unexpected': 4567, 'centric': 4568, 'fmf': 4569, 'nuo': 4570, 'clot': 4571, 'ought': 4572, 'treating': 4573, 'harmless': 4574, 'unwittingly': 4575, 'otmzyzigby': 4576, 'okrdep': 4577, 'vpb': 4578, 'nhh': 4579, 'placebo': 4580, 'delete': 4581, 'indus': 4582, 'unattended': 4583, 'mrul': 4584, 'unfold': 4585, 'grim': 4586, 'xnjoy': 4587, 'committee': 4588, 'czzcj': 4589, 'sysilcsith': 4590, 'pgonuxvuuc': 4591, 'postmortem': 4592, 'investment': 4593, 'outweigh': 4594, 'restore': 4595, 'trade': 4596, 'pullman': 4597, 'amjtwulic': 4598, 'emphasize': 4599, 'tiny': 4600, 'varujnxe': 4601, 'fraud': 4602, 'borrow': 4603, 'chalmer': 4604, 'deficit': 4605, 'jechalmer': 4606, 'watering': 4607, 'unessential': 4608, 'preexisting': 4609, 'illustration': 4610, 'soap': 4611, 'public_space': 4612, 'takeaction': 4613, 'oltgxwwr': 4614, 'gk': 4615, 'blackface': 4616, 'disseminate': 4617, 'accredit': 4618, 'alternative': 4619, 'fmfix': 4620, 'reject': 4621, 'shamble': 4622, 'mxvpqic': 4623, 'yjenhv': 4624, 'infamous': 4625, 'efficacious': 4626, 'immunogenic': 4627, 'woepg': 4628, 'clothesline': 4629, 'jogger': 4630, 'ozssapd': 4631, 'walker': 4632, 'mspybaljbd': 4633, 'unaware': 4634, 'learning': 4635, 'fist': 4636, 'drharshvardhan': 4637, 'advantage': 4638, 'hearten': 4639, 'lcmjwzoqnn': 4640, 'grocerie': 4641, 'vegetable': 4642, 'crack': 4643, 'artist': 4644, 'cushion': 4645, 'kenyan': 4646, 'dfcpqypjod': 4647, 'supremacist': 4648, 'rumor': 4649, 'tracer': 4650, 'talker': 4651, 'dyosxyvl': 4652, 'thrash': 4653, 'drown': 4654, 'originator': 4655, 'fluid': 4656, 'liver': 4657, 'cooperation': 4658, 'lxwwouvkgc': 4659, 'regret': 4660, 'instrument': 4661, 'agenda': 4662, 'orangenetwork': 4663, 'breast': 4664, 'colombian': 4665, 'anger': 4666, 'mechanical': 4667, 'ventilation': 4668, 'brit': 4669, 'panicbuye': 4670, 'core': 4671, 'examination': 4672, 'mentored': 4673, 'simulation': 4674, 'everywhere': 4675, 'flattened': 4676, 'nighealthwatch': 4677, 'ceo': 4678, 'dawe': 4679, 'madmorr': 4680, 'rubbish': 4681, 'dilution': 4682, 'drunk': 4683, 'grenon': 4684, 'textile': 4685, 'exclude': 4686, 'medecin': 4687, 'testify': 4688, 'title': 4689, 'cciuxx': 4690, 'endothelial': 4691, 'injury': 4692, 'pathogenesis': 4693, 'critically_ill': 4694, 'sard': 4695, 'bottom': 4696, 'rkrqb': 4697, 'zkct': 4698, 'newborn': 4699, 'prophetise': 4700, 'sun': 4701, 'unsweetened': 4702, 'utter': 4703, 'bill_gate': 4704, 'destiny': 4705, 'gate': 4706, 'literally': 4707, 'cool': 4708, 'broken': 4709, 'dhzbtew': 4710, 'measurement': 4711, 'precise': 4712, 'permanently': 4713, 'coast': 4714, 'zszw': 4715, 'last_hour': 4716, 'camp': 4717, 'camper': 4718, 'jgk': 4719, 'rbtbbm': 4720, 'sleep': 4721, 'lower_bound': 4722, 'uncaptured': 4723, 'anywhere': 4724, 'clinicaltrial': 4725, 'variable': 4726, 'samples_tested': 4727, 'motgizktmq': 4728, 'relevance': 4729, 'divert': 4730, 'eddy': 4731, 'jdwna': 4732, 'ckmch': 4733, 'uncomfortable': 4734, 'adolescent': 4735, 'milder': 4736, 'retain': 4737, 'emphasise': 4738, 'gt': 4739, 'ventilate': 4740, 'adf': 4741, 'thereof': 4742, 'victorian': 4743, 'mock': 4744, 'watery': 4745, 'portuguese': 4746, 'mvpkohlsk': 4747, 'icus': 4748, 'brave': 4749, 'mainstream': 4750, 'idsp': 4751, 'ihip': 4752, 'portal': 4753, 'coinfection': 4754, 'erspublication': 4755, 'increasingly': 4756, 'jail': 4757, 'reinstate': 4758, 'flouting': 4759, 'waiting': 4760, 'bury': 4761, 'attributable': 4762, 'densely': 4763, 'populate': 4764, 'medicate': 4765, 'shock': 4766, 'hxrgvq': 4767, 'baselessly': 4768, 'pztrtruopg': 4769, 'mark': 4770, 'untf': 4771, 'complain': 4772, 'search': 4773, 'cubicle': 4774, 'gallon': 4775, 'xxaxhlqtu': 4776, 'laugh': 4777, 'staystrong': 4778, 'pack': 4779, 'depth': 4780, 'gozl': 4781, 'incidence': 4782, 'ear': 4783, 'innocence': 4784, 'fgzrjvz': 4785, 'randomly': 4786, 'statistically': 4787, 'demographic': 4788, 'snitch': 4789, 'implant': 4790, 'microchip': 4791, 'cmnztzjqnp': 4792, 'tipsy': 4793, 'paralyzed': 4794, 'ixd': 4795, 'fvvjqlx': 4796, 'generally': 4797, 'hntneewd': 4798, 'lifesave': 4799, 'systemic': 4800, 'defer': 4801, 'nzjhwjgj': 4802, 'statedept': 4803, 'underlying': 4804, 'expire': 4805, 'sterilize': 4806, 'prakashjavdekar': 4807, 'profbhargava': 4808, 'sensational': 4809, 'traffic': 4810, 'unconfirmed': 4811, 'accuse': 4812, 'embezzle': 4813, 'making': 4814, 'billhanage': 4815, 'ery': 4816, 'wzvcvgwcnx': 4817, 'kmph': 4818, 'hvp': 4819, 'txck': 4820, 'trench': 4821, 'zoec': 4822, 'allergic': 4823, 'nrkk': 4824, 'rhinitis': 4825, 'lqlwlncte': 4826, 'mri': 4827, 'supervise': 4828, 'alck': 4829, 'congrat': 4830, 'trap': 4831, 'bogie': 4832, 'instant': 4833, 'manner': 4834, 'wander': 4835, 'argentinian': 4836, 'aamaadmiparty': 4837, 'arvindkejriwal': 4838, 'bright': 4839, 'portray': 4840, 'reassuring': 4841, 'sight': 4842, 'jamaati': 4843, 'ftcppegcmz': 4844, 'integrate': 4845, 'prong': 4846, 'qbeksxlom': 4847, 'qyqa': 4848, 'skip': 4849, 'confusing': 4850, 'landlord': 4851, 'keeping': 4852, 'caffeine': 4853, 'chemically': 4854, 'compound': 4855, 'ginger': 4856, 'ptskiwru': 4857, 'stimulant': 4858, 'long_term_care': 4859, 'guyana': 4860, 'indiainguyana': 4861, 'eular': 4862, 'ftuook': 4863, 'repairer': 4864, 'announced': 4865, 'barda': 4866, 'execution': 4867, 'expansion': 4868, 'handsanitizer': 4869, 'methanol': 4870, 'cumulatively': 4871, 'tracked': 4872, 'smartnew': 4873, 'survivor': 4874, 'ttocbbwtmp': 4875, 'bullshit': 4876, 'pointless': 4877, 'foreseeable': 4878, 'gaming': 4879, 'server': 4880, 'agniveer': 4881, 'arab': 4882, 'behalf': 4883, 'gayatri': 4884, 'missionary': 4885, 'nvdxdty': 4886, 'spitter': 4887, 'fibrinolysis': 4888, 'shutdown': 4889, 'biomagnetism': 4890, 'explicitly': 4891, 'xhrcs': 4892, 'admittance': 4893, 'statisticslink': 4894, 'priest': 4895, 'satyendra': 4896, 'uuevhabks': 4897, 'calm': 4898, 'handwash': 4899, 'wmznwl': 4900, 'booofuf': 4901, 'instance': 4902, 'strength': 4903, 'favorite': 4904, 'candle': 4905, 'pm_modi': 4906, 'solidarity': 4907, 'cmoguj': 4908, 'amplitude': 4909, 'characteristic': 4910, 'erase': 4911, 'guess': 4912, 'scanned': 4913, 'virtually': 4914, 'dirnav': 4915, 'analyst': 4916, 'beginning': 4917, 'impplemente': 4918, 'dark': 4919, 'rashe': 4920, 'submit': 4921, 'aggressive': 4922, 'cdwiqvbx': 4923, 'pk': 4924, 'preparation': 4925, 'intensify': 4926, 'fellow': 4927, 'container': 4928, 'indigenous': 4929, 'rkvudprnti': 4930, 'startup': 4931, 'wherein': 4932, 'irrefutable': 4933, 'racism': 4934, 'coevolution': 4935, 'coexistence': 4936, 'wellbeing': 4937, 'nsmyv': 4938, 'vpmi': 4939, 'disadvantaged': 4940, 'displace': 4941, 'penetrate': 4942, 'ballistic': 4943, 'mission': 4944, 'submarine': 4945, 'sclerosis': 4946, 'dy': 4947, 'eerp': 4948, 'fun': 4949, 'seldom': 4950, 'dioxide': 4951, 'immunoresponse': 4952, 'nzjw': 4953, 'taxi': 4954, 'spare': 4955, 'hero': 4956, 'self_monitor': 4957, 'sh': 4958, 'vir': 4959, 'ysuwn': 4960, 'dunno': 4961, 'gyna': 4962, 'tract': 4963, 'revoke': 4964, 'coffin': 4965, 'crap': 4966, 'motorbike': 4967, 'stack': 4968, 'coriander': 4969, 'powder': 4970, 'peep': 4971, 'cottage': 4972, 'executive': 4973, 'hf': 4974, 'transplant': 4975, 'ojj': 4976, 'provisional': 4977, 'rzos': 4978, 'tpq': 4979, 'zeid': 4980, 'honorable': 4981, 'ravi': 4982, 'modestly': 4983, 'idiot': 4984, 'witchcraft': 4985, 'maker': 4986, 'ekitm': 4987, 'formal': 4988, 'nb': 4989, 'widen': 4990, 'zkizeqp': 4991, 'sar': 4992, 'scar': 4993, 'ggpyiwsgm': 4994, 'ssumojmq': 4995, 'adviser': 4996, 'newsletter': 4997, 'afffecte': 4998, 'omarkelly': 4999, 'personally': 5000, 'dynzzapt': 5001, 'fifth': 5002, 'mosquito': 5003, 'safeguard': 5004, 'afterwards': 5005, 'backhand': 5006, 'favourite': 5007, 'strew': 5008, 'guarantee': 5009, 'whatthebit': 5010, 'mondaymorne': 5011, 'evolution': 5012, 'hood': 5013, 'visual': 5014, 'vvop': 5015, 'uikhy': 5016, 'fewest': 5017, 'rinjcm': 5018, 'expressly': 5019, 'suppose': 5020, 'adapt': 5021, 'poglgiuwb': 5022, 'sjforkid': 5023, 'hmep': 5024, 'izq': 5025, 'pub': 5026, 'moonshot': 5027, 'pspgdzajb': 5028, 'inventor': 5029, 'gyghkcibcb': 5030, 'notification': 5031, 'intimate': 5032, 'uldsmpcw': 5033, 'obtain': 5034, 'vapor': 5035, 'recitation': 5036, 'social_distance': 5037, 'yfr': 5038, 'genetically': 5039, 'organism': 5040, 'recipient': 5041, 'jwzr': 5042, 'pull': 5043, 'vast_majority': 5044, 'grip': 5045, 'willing': 5046, 'checkup': 5047, 'postnatal': 5048, 'prenatal': 5049, 'undo': 5050, 'baap': 5051, 'ffohg': 5052, 'lgte': 5053, 'palmera': 5054, 'plagiarize': 5055, 'untreated': 5056, 'equally': 5057, 'feh': 5058, 'ivk': 5059, 'original': 5060, 'connection': 5061, 'headache': 5062, 'pet_owner': 5063, 'rid': 5064, 'dvprfsae': 5065, 'dynamical': 5066, 'realtime': 5067, 'oyo_edo': 5068, 'lucknow': 5069, 'pczzrdocgm': 5070, 'swab': 5071, 'rwqpwvfvty': 5072, 'overtake': 5073, 'lpc': 5074, 'okhjtjrkn': 5075, 'resist': 5076, 'bundle': 5077, 'offload': 5078, 'wrap': 5079, 'bbvneea': 5080, 'reopeningsafely': 5081, 'insgagjede': 5082, 'loondc': 5083, 'etktm': 5084, 'slva': 5085, 'bore': 5086, 'flock': 5087, 'ikea': 5088, 'tgn': 5089, 'undertaken': 5090, 'infointer': 5091, 'uarqerdb': 5092, 'fumtg': 5093, 'piswidhw': 5094, 'hair': 5095, 'lace': 5096, 'weave': 5097, 'tkm': 5098, 'ondo': 5099, 'satv': 5100, 'swov': 5101, 'settle': 5102, 'dinner': 5103, 'llvfwal': 5104, 'theme': 5105, 'vallance_say': 5106, 'drdo_india': 5107, 'laud': 5108, 'dndxqn': 5109, 'vcahy': 5110, 'hvefzudjlh': 5111, 'ihirzsqge': 5112, 'documentation': 5113, 'htohtdbl': 5114, 'acidosis': 5115, 'excessive': 5116, 'gaiter': 5117, 'rely': 5118, 'sotmoabx': 5119, 'status': 5120, 'ssmqli': 5121, 'mighty': 5122, 'paw': 5123, 'peta': 5124, 'cheer': 5125, 'embed': 5126, 'practical': 5127, 'hide': 5128, 'park': 5129, 'midwest': 5130, 'plain': 5131, 'furlough': 5132, 'fog': 5133, 'undertake': 5134, 'stocked': 5135, 'sjolikrsje': 5136, 'aajlwd': 5137, 'narrow': 5138, 'african': 5139, 'discourage': 5140, 'neurological': 5141, 'palliative': 5142, 'brilliant': 5143, 'absent': 5144, 'coronaoutbreak': 5145, 'emotionally': 5146, 'married': 5147, 'contactkdsg': 5148, 'reliable': 5149, 'diy': 5150, 'gaslighted': 5151, 'questionable': 5152, 'sweden': 5153, 'fatigue': 5154, 'nxhrtw': 5155, 'progression': 5156, 'mbuhari': 5157, 'housefly': 5158, 'blind': 5159, 'obstacle': 5160, 'positivevibe': 5161, 'talent': 5162, 'justifie': 5163, 'kaufman': 5164, 'nominate': 5165, 'pblft': 5166, 'three_storie': 5167, 'headteacher': 5168, 'cpoadn': 5169, 'fxp': 5170, 'ctnr': 5171, 'unproven': 5172, 'jus': 5173, 'antigen': 5174, 'doorstep': 5175, 'organize': 5176, 'van': 5177, 'bent': 5178, 'elbow': 5179, 'tlua': 5180, 'jvagkxu': 5181, 'prevalence': 5182, 'cheek': 5183, 'capitalism': 5184, 'civilization': 5185, 'editorial': 5186, 'danieltobia': 5187, 'literaryeric': 5188, 'saving': 5189, 'trauma': 5190, 'zacbissonnette': 5191, 'coronawarrior': 5192, 'salute': 5193, 'concoction': 5194, 'herb': 5195, 'juice': 5196, 'lentil': 5197, 'tamarind': 5198, 'saying': 5199, 'era': 5200, 'pumntkow': 5201, 'evvqawq': 5202, 'changeover': 5203, 'xeffezv': 5204, 'reaffirm': 5205, 'alledegedly': 5206, 'staphylococcus': 5207, 'spreadsheet': 5208, 'oiwfkghyvp': 5209, 'diagnosed': 5210, 'horizon': 5211, 'distract': 5212, 'immigration': 5213, 'leehurstcomic': 5214, 'newworldorder': 5215, 'removal': 5216, 'totalitarianism': 5217, 'biological': 5218, 'dollar': 5219, 'cxxp': 5220, 'decedent': 5221, 'morbidity': 5222, 'hype': 5223, 'transition': 5224, 'dealer': 5225, 'bug': 5226, 'squash': 5227, 'discusse': 5228, 'prep': 5229, 'years_ago': 5230, 'jjxsv': 5231, 'requisition': 5232, 'liquor': 5233, 'rbjm': 5234, 'scheme': 5235, 'ivankatrump': 5236, 'hdrboq': 5237, 'insufficient': 5238, 'sciencemagazine': 5239, 'cash': 5240, 'sanitary': 5241, 'seize': 5242, 'technician': 5243, 'interstate': 5244, 'apparently': 5245, 'erte': 5246, 'every_phone': 5247, 'insert': 5248, 'penalise': 5249, 'watsapp': 5250, 'sweep': 5251, 'chz': 5252, 'temperature': 5253, 'une': 5254, 'seanhannity': 5255, 'notmypresident': 5256, 'offend': 5257, 'hiagiilrcu': 5258, 'ice': 5259, 'rink': 5260, 'fatality_rate': 5261, 'censor': 5262, 'inept': 5263, 'irresponsible': 5264, 'surely': 5265, 'tragic': 5266, 'hinge': 5267, 'live_update': 5268, 'sizable': 5269, 'vnff': 5270, 'energetic': 5271, 'layer': 5272, 'logically': 5273, 'mucus': 5274, 'unicef': 5275, 'dependent': 5276, 'replication': 5277, 'selectively': 5278, 'yield': 5279, 'icymi': 5280, 'overnight': 5281, 'dphss': 5282, 'storage': 5283, 'childcare': 5284, 'nanovjfvg': 5285, 'peruvian': 5286, 'calendar': 5287, 'garbage': 5288, 'packet': 5289, 'gcetgdnfu': 5290, 'ampsalf': 5291, 'bizarre': 5292, 'conspiratorial': 5293, 'blacklive': 5294, 'importantly': 5295, 'wildly': 5296, 'counsel': 5297, 'defraud': 5298, 'greek': 5299, 'bacx': 5300, 'hcuiptkg': 5301, 'lkgl': 5302, 'dfszpk': 5303, 'shipment': 5304, 'shipping': 5305, 'apology': 5306, 'arise': 5307, 'consternation': 5308, 'lqlfumwmvu': 5309, 'constitute': 5310, 'character': 5311, 'nedk': 5312, 'placement': 5313, 'starve': 5314, 'spite': 5315, 'shout': 5316, 'adelaide': 5317, 'ckfrp': 5318, 'inflammatory': 5319, 'territorial': 5320, 'hcw': 5321, 'nkcwillfur': 5322, 'stewardship': 5323, 'ceccgov': 5324, 'undp': 5325, 'adjustment': 5326, 'ebclrcf': 5327, 'th_consecutive': 5328, 'brasil': 5329, 'abandon': 5330, 'zsnqpwu': 5331, 'lhyatuon': 5332, 'kiss': 5333, 'spaghetti': 5334, 'conflict': 5335, 'domestically': 5336, 'globalnew': 5337, 'primer': 5338, 'purposefully': 5339, 'revolution': 5340, 'wuhan_lab': 5341, 'cycle': 5342, 'pimp': 5343, 'goat': 5344, 'tiger': 5345, 'succumbed': 5346, 'ecbb': 5347, 'mdvl': 5348, 'qrenl': 5349, 'dvlm': 5350, 'illegally': 5351, 'servant': 5352, 'samadi': 5353, 'humanly': 5354, 'wipe': 5355, 'ifvttnf': 5356, 'vfanb': 5357, 'bwbhkkhtv': 5358, 'oversold': 5359, 'christian': 5360, 'exotic': 5361, 'tkbjfqk': 5362, 'russianvaccine': 5363, 'russie': 5364, 'complex': 5365, 'sdftylug': 5366, 'controversy': 5367, 'grossly': 5368, 'reagent': 5369, 'utilise': 5370, 'inside': 5371, 'kindness': 5372, 'vxjuvzv': 5373, 'winner': 5374, 'nudge': 5375, 'forehead': 5376, 'harm': 5377, 'infrared': 5378, 'organ': 5379, 'component': 5380, 'reliably': 5381, 'rymzjhe': 5382, 'fmh': 5383, 'sm': 5384, 'vok': 5385, 'memory': 5386, 'confuse': 5387, 'writing': 5388, 'serum': 5389, 'qswuj': 5390, 'portugal': 5391, 'transform': 5392, 'pura': 5393, 'tierra': 5394, 'chatbot': 5395, 'cfs': 5396, 'persistent': 5397, 'avjf': 5398, 'upward': 5399, 'yhiwepz': 5400, 'uncontrolle': 5401, 'denominator': 5402, 'pq': 5403, 'pcrt': 5404, 'path': 5405, 'irony': 5406, 'posts_shared': 5407, 'abide': 5408, 'uk_face': 5409, 'bhak': 5410, 'pz': 5411, 'institutional': 5412, 'organizational': 5413, 'technical': 5414, 'maximize': 5415, 'alllivesmatter': 5416, 'handling': 5417, 'pathetic': 5418, 'evvxr': 5419, 'tyuuuvlaoe': 5420, 'clause': 5421, 'consent': 5422, 'spoon': 5423, 'verification': 5424, 'confinement': 5425, 'saline': 5426, 'jnvnyh': 5427, 'manual': 5428, 'insecticide': 5429, 'iqlrf': 5430, 'sla': 5431, 'hurricane': 5432, 'preventive': 5433, 'dismal': 5434, 'hng': 5435, 'qbkz': 5436, 'uoyrxq': 5437, 'mamataofficial': 5438, 'guuaqdnn': 5439, 'assoc': 5440, 'rbrefuf': 5441, 'tackling': 5442, 'careless': 5443, 'heartless': 5444, 'lazy': 5445, 'notion': 5446, 'stance': 5447, 'height': 5448, 'india_scale': 5449, 'pnbf': 5450, 'curb': 5451, 'dispel': 5452, 'easing': 5453, 'nedn': 5454, 'statewide': 5455, 'ucab': 5456, 'brahmin': 5457, 'chop': 5458, 'tongue': 5459, 'chhojrszi': 5460, 'qymgi': 5461, 'wcuf': 5462, 'phznziikpc': 5463, 'grime': 5464, 'payer': 5465, 'performance': 5466, 'wcs': 5467, 'rvoezxs': 5468, 'tg': 5469, 'wealthy': 5470, 'dist': 5471, 'technique': 5472, 'comprise': 5473, 'oopngtukxq': 5474, 'ration': 5475, 'ancient': 5476, 'iycxbezk': 5477, 'auisugd': 5478, 'beard': 5479, 'detain': 5480, 'uighur': 5481, 'wgmgwrnx': 5482, 'aggregation': 5483, 'ahubok': 5484, 'huddle': 5485, 'optimal': 5486, 'freight': 5487, 'ashishkjha': 5488, 'paulmromer': 5489, 'secretly': 5490, 'breakthrough': 5491, 'hya': 5492, 'leto': 5493, 'procession': 5494, 'facebook': 5495, 'veterinary': 5496, 'impeachment': 5497, 'proceeding': 5498, 'vgfhduvt': 5499, 'cheesburger': 5500, 'hamburger': 5501, 'ultimate': 5502, 'belize': 5503, 'bi': 5504, 'dignity': 5505, 'downgrade': 5506, 'horrific': 5507, 'shud': 5508, 'ventilatoin': 5509, 'ichoboxycy': 5510, 'khaleesyd': 5511, 'mutate': 5512, 'reopensafely': 5513, 'lucok': 5514, 'weieputao': 5515, 'earliest': 5516, 'fulfil': 5517, 'practitioner': 5518, 'strongly': 5519, 'wish': 5520, 'qw': 5521, 'clique': 5522, 'demonize': 5523, 'disguised': 5524, 'latimeralder': 5525, 'rep': 5526, 'saver': 5527, 'supplementation': 5528, 'yam': 5529, 'dining': 5530, 'pytmuqomdt': 5531, 'abou': 5532, 'rope': 5533, 'prone': 5534, 'fabric': 5535, 'killing': 5536, 'city_mayor': 5537, 'conquer': 5538, 'germain': 5539, 'agra': 5540, 'iwcmznbk': 5541, 'inch': 5542, 'adopt': 5543, 'goc': 5544, 'mtajy': 5545, 'hsijax': 5546, 'broadly': 5547, 'sjid': 5548, 'vea': 5549, 'bhm': 5550, 'reception': 5551, 'cbzwboekeh': 5552, 'eyed': 5553, 'mwfvpyalmk': 5554, 'intelligence': 5555, 'sharepic': 5556, 'belief': 5557, 'fumd': 5558, 'chemo': 5559, 'otyhvb': 5560, 'potsale': 5561, 'fool': 5562, 'owaisi': 5563, 'grasp': 5564, 'chanel': 5565, 'tablighis': 5566, 'defensible': 5567, 'presume': 5568, 'forcibly': 5569, 'acknowledge': 5570, 'analyse': 5571, 'az': 5572, 'award': 5573, 'beautiful': 5574, 'haqamjao': 5575, 'minhealthnz': 5576, 'tugzlxy': 5577, 'mi': 5578, 'universal': 5579, 'expression': 5580, 'dktpgtugb': 5581, 'unused': 5582, 'ehtufpx': 5583, 'rrz': 5584, 'unloved': 5585, 'convertible': 5586, 'convertiblecar': 5587, 'vfvvnqg': 5588, 'brzdj': 5589, 'banerjee': 5590, 'pldvjip': 5591, 'duration': 5592, 'qyqz': 5593, 'flaw': 5594, 'cardboard': 5595, 'sv': 5596, 'xxppwb': 5597, 'oexgh': 5598, 'unimaginable': 5599, 'initially': 5600, 'mistakenly': 5601, 'rysghfrcf': 5602, 'gtg': 5603, 'queue': 5604, 'edeyj': 5605, 'ous': 5606, 'rovi_ir': 5607, 'ccqiygbxl': 5608, 'pune': 5609, 'borno': 5610, 'hhyfb': 5611, 'looked': 5612, 'skeptically': 5613, 'funny': 5614, 'glastonbury': 5615, 'ulzq': 5616, 'abnormally': 5617, 'equivalent': 5618, 'tyneside': 5619, 'standing': 5620, 'schoolkid': 5621, 'correctness': 5622, 'lapse': 5623, 'momentarily': 5624, 'nnstfk': 5625, 'unity': 5626, 'commemorative': 5627, 'countryside': 5628, 'pilot': 5629, 'xxeraxvkhi': 5630, 'batch': 5631, 'matching': 5632, 'ntbcvlfu': 5633, 'rollout': 5634, 'czlyzlshnr': 5635, 'enlarge': 5636, 'activist': 5637, 'latino': 5638, 'qkkqyewne': 5639, 'municipal': 5640, 'bgp': 5641, 'colder': 5642, 'cubdgeqy': 5643, 'rt_pcr': 5644, 'hpowrn': 5645, 'selection': 5646, 'stagger': 5647, 'cwvkd': 5648, 'senatorkapenga': 5649, 'case_definition': 5650, 'halfway': 5651, 'nope': 5652, 'gvhtxuha': 5653, 'prepared': 5654, 'shortsighted': 5655, 'butchthorne': 5656, 'rosewood': 5657, 'jinpe': 5658, 'breed': 5659, 'fibre': 5660, 'tissue': 5661, 'ailment': 5662, 'carefully': 5663, 'covidwarrior': 5664, 'ouppcxfv': 5665, 'introvert': 5666, 'sweat': 5667, 'smell': 5668, 'wskwzx': 5669, 'codwlb': 5670, 'gbm': 5671, 'huxtfm': 5672, 'lesion': 5673, 'neutropenic': 5674, 'contest': 5675, 'detourer': 5676, 'yell': 5677, 'csbaeaig': 5678, 'imowcg': 5679, 'toolkit': 5680, 'fdyu': 5681, 'pwizpycbuq': 5682, 'opinion': 5683, 'uaay': 5684, 'career': 5685, 'environment': 5686, 'absentee': 5687, 'curbside': 5688, 'dhswi': 5689, 'mkehealth': 5690, 'contagion': 5691, 'dioas': 5692, 'khnew': 5693, 'probability': 5694, 'scrutiny': 5695, 'social_media': 5696, 'database': 5697, 'residual': 5698, 'whenever': 5699, 'hmoindia_unlock': 5700, 'lpvhokqf': 5701, 'incarceration': 5702, 'object': 5703, 'logistic': 5704, 'robust': 5705, 'jgin': 5706, 'prue': 5707, 'worsen': 5708, 'carping': 5709, 'endless': 5710, 'homeoffice': 5711, 'impress': 5712, 'remote': 5713, 'mentally': 5714, 'mine': 5715, 'boot': 5716, 'scarf': 5717, 'piling': 5718, 'rhtuxcwpj': 5719, 'lick': 5720, 'anyway': 5721, 'plateaue': 5722, 'disclose': 5723, 'bioeasy': 5724, 'uwqkxsvg': 5725, 'fuatsoa': 5726, 'fhiyxgiyhg': 5727, 'voter': 5728, 'aphmfyirsj': 5729, 'ymlowpxoxo': 5730, 'depleting': 5731, 'domsinainyc': 5732, 'induction': 5733, 'maintenance': 5734, 'exezylua': 5735, 'rgjphg': 5736, 'enhanced': 5737, 'interrogation': 5738, 'cabin': 5739, 'diamond': 5740, 'ggvhcybw': 5741, 'vacate': 5742, 'reporting_lags': 5743, 'ingrle': 5744, 'ngyxdle': 5745, 'sumac': 5746, 'equal': 5747, 'viz': 5748, 'flood': 5749, 'lwasrwxs': 5750, 'oppose': 5751, 'poll': 5752, 'incomplete': 5753, 'abdicate': 5754, 'housing': 5755, 'uoy': 5756, 'covidteste': 5757, 'wgsiptjkg': 5758, 'childhood': 5759, 'immunisation': 5760, 'overstate': 5761, 'entered': 5762, 'qudkgltmpz': 5763, 'ywoga': 5764, 'slznwsxeyv': 5765, 'kebbi': 5766, 'osun': 5767, 'gsnuswrow': 5768, 'counselling': 5769, 'sxgvpipgm': 5770, 'teaching': 5771, 'engine': 5772, 'honestly': 5773, 'theselc': 5774, 'pucyr': 5775, 'trophy': 5776, 'trophywife': 5777, 'memorial': 5778, 'variability': 5779, 'blatantly': 5780, 'njnow': 5781, 'persist': 5782, 'nepotism': 5783, 'i_am_adunnii': 5784, 'magnitude': 5785, 'qvmcpwdazy': 5786, 'personality': 5787, 'scramble': 5788, 'art': 5789, 'brighten': 5790, 'qgw': 5791, 'inhaler': 5792, 'livelihood': 5793, 'minimise': 5794, 'recognise': 5795, 'bfvshh': 5796, 'serbian': 5797, 'dictator': 5798, 'iraqi': 5799, 'exhort': 5800, 'rig': 5801, 'wrf': 5802, 'dutch': 5803, 'neutralize': 5804, 'bakery': 5805, 'strictly': 5806, 'washable': 5807, 'chrysanthemum': 5808, 'encouraged': 5809, 'undoubtedly': 5810, 'variety': 5811, 'spark': 5812, 'speculation': 5813, 'nasty': 5814, 'odazhlplp': 5815, 'silent': 5816, 'spreader': 5817, 'chrisleender': 5818, 'vpqa': 5819, 'regime': 5820, 'qone': 5821, 'cook': 5822, 'injure': 5823, 'screened': 5824, 'ride': 5825, 'upsurge': 5826, 'rerun': 5827, 'swiss': 5828, 'admittedly': 5829, 'flinch': 5830, 'indiawillwin': 5831, 'garaare': 5832, 'naturopathy': 5833, 'supervision': 5834, 'vati': 5835, 'willbe': 5836, 'explosion': 5837, 'aged': 5838, 'residential': 5839, 'classroom': 5840, 'ivjqme': 5841, 'livestock': 5842, 'ipxm': 5843, 'jacindaardern': 5844, 'vaccineswork': 5845, 'eehtoihoy': 5846, 'bulk': 5847, 'croatian': 5848, 'gpoc': 5849, 'reg': 5850, 'uuud': 5851, 'equip': 5852, 'casvfzgz': 5853, 'covidindiaseva': 5854, 'fee': 5855, 'offset': 5856, 'helicopter': 5857, 'lii': 5858, 'owtjvezywh': 5859, 'six_months': 5860, 'copy': 5861, 'moisture': 5862, 'radio': 5863, 'bbz': 5864, 'bellend': 5865, 'sti': 5866, 'vbzo': 5867, 'kryz': 5868, 'didi': 5869, 'poison': 5870, 'raoult': 5871, 'azithromycin': 5872, 'qfv': 5873, 'mercy': 5874, 'hrs': 5875, 'badly': 5876, 'ixfn': 5877, 'thief': 5878, 'fraction': 5879, 'jdnj': 5880, 'nzxu': 5881, 'wionew': 5882, 'cinema': 5883, 'club': 5884, 'stafford': 5885, 'pommlby': 5886, 'contraception': 5887, 'reiterate': 5888, 'dupe': 5889, 'ethic': 5890, 'forgery': 5891, 'loot': 5892, 'udupi': 5893, 'unpredictable': 5894, 'mohfw_india': 5895, 'suo': 5896, 'invest': 5897, 'white_side': 5898, 'kwmadrb': 5899, 'weakness': 5900, 'lolageek': 5901, 'fixtp': 5902, 'owsg': 5903, 'clicking': 5904, 'tzwv': 5905, 'pssgfffugh': 5906, 'buogecco': 5907, 'grdrmdcwtm': 5908, 'medical_supplie': 5909, 'wuhan_institute': 5910, 'mingle': 5911, 'outrage': 5912, 'exosome': 5913, 'induce': 5914, 'advanced': 5915, 'microscope': 5916, 'eventual': 5917, 'wherever': 5918, 'apologie': 5919, 'indeed': 5920, 'lastly': 5921, 'unfairly': 5922, 'florence': 5923, 'rohnmsghns': 5924, 'yvzbe': 5925, 'uwi': 5926, 'levy': 5927, 'punekar': 5928, 'sero': 5929, 'graveyard': 5930, 'moot': 5931, 'suxeenrkrp': 5932, 'curse': 5933, 'warehouse': 5934, 'library': 5935, 'drecdqtn': 5936, 'income_countrie': 5937, 'lbhneiyhv': 5938, 'northwest': 5939, 'dyojlfjhyd': 5940, 'vldiswteyn': 5941, 'dmfpob': 5942, 'orgy': 5943, 'fpwl': 5944, 'ldttt': 5945, 'ffzg': 5946, 'graph': 5947, 'lzsy': 5948, 'pruc': 5949, 'conventional': 5950, 'ntanewsnow': 5951, 'sqepmhrjyt': 5952, 'csbztpv': 5953, 'weed': 5954, 'escalate': 5955, 'ciztojz': 5956, 'dedicated': 5957, 'abt': 5958, 'profitable': 5959, 'ukraine': 5960, 'conserve': 5961, 'uxcev': 5962, 'vnbb': 5963, 'accidentally': 5964, 'celebratory': 5965, 'firing': 5966, 'terrify': 5967, 'insider': 5968, 'falsification': 5969, 'pumwczmlni': 5970, 'bare': 5971, 'deplete': 5972, 'ewhzrrykvo': 5973, 'intravenous': 5974, 'oral': 5975, 'lrmcoulgza': 5976, 'th': 5977, 'recovered': 5978, 'ibis': 5979, 'biegjeosc': 5980, 'burden': 5981, 'elsieilorifor': 5982, 'pkcaqvyi': 5983, 'ptf': 5984, 'utilisation': 5985, 'firework': 5986, 'afford': 5987, 'preview': 5988, 'thnlkqvgop': 5989, 'glance': 5990, 'graphical': 5991, 'representation': 5992, 'usatsml': 5993, 'thinner': 5994, 'usefulness': 5995, 'vqwfwrb': 5996, 'dkzsfyake': 5997, 'crossed': 5998, 'merely': 5999, 'garment': 6000, 'tattere': 6001, 'viewed_hundred': 6002, 'digital': 6003, 'sum': 6004, 'progressive': 6005, 'qgeunivuri': 6006, 'cult': 6007, 'psychology': 6008, 'corridor': 6009, 'shocking': 6010, 'imam': 6011, 'gold': 6012, 'awhad': 6013, 'homemade': 6014, 'ppm': 6015, 'luck': 6016, 'bulletin': 6017, 'dalit': 6018, 'electrician': 6019, 'scene': 6020, 'upheaval': 6021, 'android': 6022, 'acid': 6023, 'sip': 6024, 'stomach': 6025, 'daqi': 6026, 'opposite': 6027, 'hhbn': 6028, 'tst': 6029, 'boiling': 6030, 'either': 6031, 'confiscate': 6032, 'grodzisk': 6033, 'originally': 6034, 'polish': 6035, 'myoc': 6036, 'jamgy': 6037, 'rianonzv': 6038, 'ahmedabad': 6039, 'kanpur': 6040, 'hairdresser': 6041, 'patron': 6042, 'indefinitely': 6043, 'cherry': 6044, 'dubious': 6045, 'dthiu': 6046, 'clonc': 6047, 'percent': 6048, 'thankfully': 6049, 'lxmn': 6050, 'coordination': 6051, 'sp': 6052, 'ltbfewepeh': 6053, 'lhilkz': 6054, 'maldive': 6055, 'vjxutat': 6056, 'whoimpact': 6057, 'bqh': 6058, 'jsvpt': 6059, 'intestinal': 6060, 'pigeon': 6061, 'undigested': 6062, 'nbs': 6063, 'awyg': 6064, 'dharavi': 6065, 'packed': 6066, 'qwxmd': 6067, 'ste': 6068, 'restatement': 6069, 'confiscation': 6070, 'firearm': 6071, 'states_uts': 6072, 'hjskn': 6073, 'gz': 6074, 'queenstown': 6075, 'afternoon': 6076, 'etjd': 6077, 'exhx': 6078, 'recite': 6079, 'sacred': 6080, 'mmrhhz': 6081, 'siwc': 6082, 'disposable': 6083, 'mime': 6084, 'bailout': 6085, 'bullfight': 6086, 'matador': 6087, 'dyiqctrmo': 6088, 'frduxkjdxe': 6089, 'knowthefacts': 6090, 'cdvr': 6091, 'askd': 6092, 'bcoz': 6093, 'mvankerkhove': 6094, 'wasa': 6095, 'lady': 6096, 'wind': 6097, 'mrzqvinz': 6098, 'eee': 6099, 'exclusively': 6100, 'burgerke': 6101, 'designer': 6102, 'pedestrian': 6103, 'uisf': 6104, 'clock': 6105, 'racist': 6106, 'eyfrvwhi': 6107, 'bidensoetoro': 6108, 'lawyer': 6109, 'whole_world': 6110, 'fair_call': 6111, 'rwc': 6112, 'scottmorrisonmp': 6113, 'balloon': 6114, 'bhagane': 6115, 'ho': 6116, 'lage': 6117, 'resposible': 6118, 'sad': 6119, 'unki': 6120, 'imagine': 6121, 'sustainability': 6122, 'dismantle': 6123, 'izsvh': 6124, 'swear': 6125, 'ojzfd': 6126, 'previous_weeks': 6127, 'muddy': 6128, 'qlkgsiz': 6129, 'brasilian': 6130, 'byrz': 6131, 'used': 6132, 'defend': 6133, 'justify': 6134, 'xmwgqqhfg': 6135, 'case_fatality': 6136, 'htekvgtx': 6137, 'fitness': 6138, 'eymmygiz': 6139, 'sdypxhrhrr': 6140, 'slippery': 6141, 'requirement': 6142, 'fxe': 6143, 'labordaysafe': 6144, 'ochy': 6145, 'ribduigj': 6146, 'zoodirector': 6147, 'anniversary': 6148, 'bound': 6149, 'pride': 6150, 'pulse': 6151, 'doublechecking': 6152, 'rejoice': 6153, 'hospitalist': 6154, 'redefine': 6155, 'redeploy': 6156, 'stretched': 6157, 'rcavqsw': 6158, 'ink': 6159, 'subcategorie': 6160, 'suspension': 6161, 'visa': 6162, 'visas': 6163, 'nzpxlnpdof': 6164, 'eybgcijfji': 6165, 'paulo': 6166, 'insight': 6167, 'discipline': 6168, 'day_rolle': 6169, 'existent': 6170, 'telephone': 6171, 'deg': 6172, 'epicentre': 6173, 'hemisphere': 6174, 'america': 6175, 'weaponize': 6176, 'logo': 6177, 'gdh': 6178, 'ljlv': 6179, 'pollutant': 6180, 'arvindersoin': 6181, 'cake': 6182, 'wor': 6183, 'dharman': 6184, 'homeopathy': 6185, 'hydroquinone': 6186, 'kadha': 6187, 'selfdepricate': 6188, 'soar': 6189, 'limitation': 6190, 'jewish': 6191, 'temple': 6192, 'qpqzj': 6193, 'excellent': 6194, 'taiwanese': 6195, 'tightness': 6196, 'saudi': 6197, 'spirit': 6198, 'togetherness': 6199, 'ttauadehwy': 6200, 'synchronise': 6201, 'crete': 6202, 'uwscnvzq': 6203, 'gzzyuzhv': 6204, 'szgqel': 6205, 'appreciative': 6206, 'improved': 6207, 'instability': 6208, 'care_facilitie': 6209, 'covi': 6210, 'attractive': 6211, 'retracted': 6212, 'retention': 6213, 'kpucqyashj': 6214, 'clip': 6215, 'waiter': 6216, 'rvp': 6217, 'vrna': 6218, 'magazine': 6219, 'mountain': 6220, 'ravbt': 6221, 'tbqs': 6222, 'assault': 6223, 'err': 6224, 'muioea': 6225, 'ojxckp': 6226, 'rebuild': 6227, 'fundamentally': 6228, 'methodological': 6229, 'intact': 6230, 'tortuous': 6231, 'trick': 6232, 'clmjgqb': 6233, 'gross': 6234, 'corrector': 6235, 'spiritual': 6236, 'downing': 6237, 'competitive': 6238, 'preliminary': 6239, 'angdy': 6240, 'interval': 6241, 'pyrjegqdgs': 6242, 'serial': 6243, 'oecvtuvcd': 6244, 'million_test': 6245, 'darker': 6246, 'rbauhj': 6247, 'skinned': 6248, 'docter': 6249, 'tally': 6250, 'different_types': 6251, 'hctfbo': 6252, 'outdoor': 6253, 'ahy': 6254, 'apocalyptic': 6255, 'shooter': 6256, 'tasmac': 6257, 'pejdsy': 6258, 'healthylife': 6259, 'usizr': 6260, 'vcly': 6261, 'float': 6262, 'mzse': 6263, 'dysfunctional': 6264, 'overreaction': 6265, 'weaken': 6266, 'ttitw': 6267, 'tkyxqyrnok': 6268, 'conjunction': 6269, 'fabricate': 6270, 'dexamethsaone': 6271, 'shelf': 6272, 'stuff': 6273, 'gout': 6274, 'nxbkgzr': 6275, 'rheumatic': 6276, 'ufcwibkgxr': 6277, 'cdcgov': 6278, 'acti': 6279, 'gpqyw': 6280, 'sahjge': 6281, 'nairobi': 6282, 'uaefsh': 6283, 'troubling': 6284, 'celcius': 6285, 'cannon': 6286, 'device': 6287, 'joke': 6288, 'laughter': 6289, 'wqjvyrcfqf': 6290, 'bhqczo': 6291, 'obrsrz': 6292, 'smrasvtxko': 6293, 'toothpaste': 6294, 'cosmetic': 6295, 'experimental': 6296, 'slsdvae': 6297, 'nqnlw': 6298, 'cafe': 6299, 'playground': 6300, 'overcome': 6301, 'qliiucgaj': 6302, 'underground': 6303, 'amply': 6304, 'combined': 6305, 'delhi': 6306, 'igoehxgvrs': 6307, 'sentence': 6308, 'lsjucn': 6309, 'dive': 6310, 'chrisgulli': 6311, 'mandilovell': 6312, 'pundit': 6313, 'pennsylvania': 6314, 'ixowxgvhic': 6315, 'real_time': 6316, 'software': 6317, 'utilitise': 6318, 'rvxs': 6319, 'reflection': 6320, 'reimbursement': 6321, 'evil': 6322, 'terminate': 6323, 'tycoon': 6324, 'generation': 6325, 'inconvenient': 6326, 'seemingly': 6327, 'acutely': 6328, 'weekend_lag': 6329, 'sugar': 6330, 'ezrqnvdnl': 6331, 'tobacco': 6332, 'analytic': 6333, 'hitsolution': 6334, 'predictive': 6335, 'wmhgseg': 6336, 'iwldkqyy': 6337, 'bottleneck': 6338, 'eltv': 6339, 'goi': 6340, 'pave': 6341, 'tijv': 6342, 'entitlement': 6343, 'pjxjasqmao': 6344, 'plight': 6345, 'phv': 6346, 'airlocke': 6347, 'chamber': 6348, 'cotton': 6349, 'frolly': 6350, 'compute': 6351, 'lancashire': 6352, 'meant': 6353, 'unite': 6354, 'ucnrcuz': 6355, 'lmu': 6356, 'puk': 6357, 'colored': 6358, 'heavy': 6359, 'rain': 6360, 'fork': 6361, 'misso': 6362, 'roijpca': 6363, 'toaster': 6364, 'bicester': 6365, 'conveniently': 6366, 'coworke': 6367, 'mesnaxyvfw': 6368, 'plenty': 6369, 'wifi': 6370, 'recbkf': 6371, 'dashboards': 6372, 'dpkrtbt': 6373, 'sporadic': 6374, 'imperative': 6375, 'uhedbrjpc': 6376, 'alukas': 6377, 'joy': 6378, 'bbcnew': 6379, 'eminent': 6380, 'iammisstree': 6381, 'stated': 6382, 'enabled': 6383, 'bumper': 6384, 'ihik': 6385, 'dot': 6386, 'stunning': 6387, 'covert': 6388, 'doorway': 6389, 'stopthespread': 6390, 'unnecessarily': 6391, 'aest': 6392, 'vrqwnnweb': 6393, 'attendant': 6394, 'filc': 6395, 'xml': 6396, 'sswvenugi': 6397, 'hwso': 6398, 'mve': 6399, 'might': 6400, 'viralvideo': 6401, 'tumor': 6402, 'chikmagalur': 6403, 'mangalore': 6404, 'motivate': 6405, 'ramzaan': 6406, 'shimoga': 6407, 'initial': 6408, 'marred': 6409, 'nswrbn': 6410, 'outage': 6411, 'sufficiently': 6412, 'idux': 6413, 'introduction': 6414, 'usgkdfoe': 6415, 'ayhezmpf': 6416, 'factchecknet': 6417, 'vomwvprlxn': 6418, 'rcb': 6419, 'remarkably': 6420, 'amit': 6421, 'prospect': 6422, 'unemployed': 6423, 'flaunt': 6424, 'kidnap': 6425, 'refrigerator': 6426, 'spill': 6427, 'taxis': 6428, 'pobyc': 6429, 'underserved': 6430, 'pqlafrxu': 6431, 'leaflet': 6432, 'andrewlawrence': 6433, 'ato': 6434, 'ignorance': 6435, 'martindaubney': 6436, 'blxny': 6437, 'gwy': 6438, 'turnaround': 6439, 'tlyzik': 6440, 'roadblock': 6441, 'virality': 6442, 'sfubiwf': 6443, 'ftaxnhm': 6444, 'sharply': 6445, 'nun': 6446, 'duiqxiwr': 6447, 'incorrect': 6448, 'farmer': 6449, 'gdp': 6450, 'psu': 6451, 'simplify': 6452, 'installment': 6453, 'rnqvxpezex': 6454, 'qgnhrxbgiu': 6455, 'carlson': 6456, 'lmn': 6457, 'plate': 6458, 'ffanyk': 6459, 'cdcenvironment': 6460, 'relevant': 6461, 'zj': 6462, 'sebf': 6463, 'differ': 6464, 'fabunan': 6465, 'filipino': 6466, 'oxygenation': 6467, 'crocodile': 6468, 'ketchup': 6469, 'resolution': 6470, 'hpjrxruyby': 6471, 'izgiqf': 6472, 'elxglfi': 6473, 'joined': 6474, 'hotline': 6475, 'vhejvx': 6476, 'fgb': 6477, 'bqbv': 6478, 'holiday_weekend': 6479, 'unusually': 6480, 'xhl': 6481, 'asymmetry': 6482, 'buyer': 6483, 'outbid': 6484, 'demonstration': 6485, 'sbd': 6486, 'nztxknzz': 6487, 'reported': 6488, 'feasible': 6489, 'visor': 6490, 'bullfighter': 6491, 'inspector': 6492, 'ptihgdh': 6493, 'gavi': 6494, 'vet': 6495, 'commemorate': 6496, 'shxj': 6497, 'unevenly': 6498, 'tremendous': 6499, 'pillar': 6500, 'consistency': 6501, 'improperly': 6502, 'ulbshv': 6503, 'unsafely': 6504, 'empow': 6505, 'soccer': 6506, 'syhane': 6507, 'tighten': 6508, 'adsrezpsfh': 6509, 'qae': 6510, 'mobilization': 6511, 'promotion': 6512, 'sensitisation': 6513, 'ranaayyub': 6514, 'weather': 6515, 'astounding': 6516, 'shiva': 6517, 'within_hours': 6518, 'vxzjcd': 6519, 'choke': 6520, 'cystic': 6521, 'reversible': 6522, 'tension': 6523, 'fatali': 6524, 'abruptly': 6525, 'aerosol': 6526, 'pesowy': 6527, 'xur': 6528, 'inactivate': 6529, 'authoritarian': 6530, 'shopping': 6531, 'inadvertently': 6532, 'bull': 6533, 'eating': 6534, 'rysslizifm': 6535, 'tuqfudzenx': 6536, 'accordingly': 6537, 'tviz': 6538, 'confine': 6539, 'perfectly': 6540, 'authenticity': 6541, 'aoc': 6542, 'swabs_taken': 6543, 'assiduously': 6544, 'grading': 6545, 'fl': 6546, 'wbqwntjfjv': 6547, 'quarantining': 6548, 'irregular': 6549, 'standardize': 6550, 'armed': 6551, 'blackout': 6552, 'drama': 6553, 'korean': 6554, 'netflix': 6555, 'terrius': 6556, 'tpk': 6557, 'philippine': 6558, 'antibodie': 6559, 'ard': 6560, 'pgcu': 6561, 'pxc': 6562, 'abate': 6563, 'southwest': 6564, 'zeaoychrso': 6565, 'axio': 6566, 'verifying': 6567, 'aerosolized': 6568, 'ipbn': 6569, 'molecule': 6570, 'pink': 6571, 'someday': 6572, 'elder': 6573, 'elucidate': 6574, 'msvirtual': 6575, 'subtle': 6576, 'wivmo': 6577, 'xbfv': 6578, 'casteism': 6579, 'doom': 6580, 'baffle': 6581, 'bottle': 6582, 'disappoint': 6583, 'exclamation': 6584, 'facebut': 6585, 'nowdouble': 6586, 'relieve': 6587, 'sharedouble': 6588, 'foquk': 6589, 'niger': 6590, 'carbon': 6591, 'chnhw': 6592, 'emission': 6593, 'tire': 6594, 'secretary': 6595, 'coca_facebook': 6596, 'acceptable': 6597, 'rio': 6598, 'fovbu': 6599, 'oversight': 6600, 'eau': 6601, 'achievement': 6602, 'iwblf': 6603, 'jno': 6604, 'reluctance': 6605, 'pledge': 6606, 'uphold': 6607, 'parasite': 6608, 'pzttptjndg': 6609, 'whitehouse': 6610, 'similarly': 6611, 'alertness': 6612, 'bvsrcz': 6613, 'gradual': 6614, 'causal': 6615, 'liberal': 6616, 'melbourne': 6617, 'protester': 6618, 'familiafeele': 6619, 'qxa': 6620, 'xtcbj': 6621, 'followed': 6622, 'frneszyq': 6623, 'manifestation': 6624, 'ukrainian': 6625, 'afterward': 6626, 'caregiver': 6627, 'binaxnow': 6628, 'changer': 6629, 'renew': 6630, 'tester': 6631, 'flout': 6632, 'urqpfqzel': 6633, 'euro': 6634, 'convince': 6635, 'gxfclpdh': 6636, 'paulpauwaert': 6637, 'usgikdf': 6638, 'wear_masks': 6639, 'ouyi': 6640, 'ozbpzx': 6641, 'dwhvyn': 6642, 'fbgzdhkfbb': 6643, 'bkh': 6644, 'blindingly': 6645, 'inzdx': 6646, 'lzid': 6647, 'fcxllys': 6648, 'basketball': 6649, 'dribbling': 6650, 'ngelkttq': 6651, 'lmr': 6652, 'pipe': 6653, 'upcoming': 6654, 'neglect': 6655, 'elpmcaddu': 6656, 'funnel': 6657, 'viralogy': 6658, 'rebound': 6659, 'vwz': 6660, 'msuatenv': 6661, 'bosvkm': 6662, 'aaddqsuhsu': 6663, 'turkey': 6664, 'incompletely': 6665, 'inflection': 6666, 'deteriorate': 6667, 'samoa': 6668, 'sars_cov': 6669, 'unfulfilled': 6670, 'http': 6671, 'wuixjt': 6672, 'cola': 6673, 'creams': 6674, 'milkshake': 6675, 'preserve': 6676, 'rough': 6677, 'qmwpnnog': 6678, 'transit': 6679, 'mohfw': 6680, 'major_highlight': 6681, 'backfire': 6682, 'unmasked': 6683, 'yjaalhky': 6684, 'knowledgeable': 6685, 'coronilvati': 6686, 'ghiya': 6687, 'legislature': 6688, 'bureaucract': 6689, 'accompany': 6690, 'favor': 6691, 'mental': 6692, 'noninvasive': 6693, 'stably': 6694, 'fxx': 6695, 'xcoatj': 6696, 'vgysm': 6697, 'tabloid': 6698, 'cylinder': 6699, 'lpg': 6700, 'revenue': 6701, 'fxluplmto': 6702, 'unequivocally': 6703, 'voertnkm': 6704, 'west_virginia': 6705, 'wvumediacollege': 6706, 'like_illnesse': 6707, 'legitimately': 6708, 'legitfund': 6709, 'came': 6710, 'suppression': 6711, 'vldzfrneaj': 6712, 'cdft': 6713, 'ozs': 6714, 'swamp': 6715, 'regularity': 6716, 'sprawl': 6717, 'irif': 6718, 'subx': 6719, 'secon': 6720, 'wearing_mask': 6721, 'fnujz': 6722, 'gopp': 6723, 'corner': 6724, 'vsfm': 6725, 'maked': 6726, 'modi': 6727, 'hdthidev': 6728, 'negotiate': 6729, 'consist': 6730, 'demystify': 6731, 'engineering': 6732, 'uvfbawrbhb': 6733, 'adverse': 6734, 'differential': 6735, 'reaction': 6736, 'ekiti_oyo': 6737, 'occupy': 6738, 'ikqhxe': 6739, 'dail': 6740, 'ypfgilt': 6741, 'defunde': 6742, 'rnc': 6743, 'waitkato': 6744, 'fact_checked': 6745, 'pgxjssssu': 6746, 'transmitting': 6747, 'congolese': 6748, 'perchbicester': 6749, 'nande': 6750, 'exhale': 6751, 'facd': 6752, 'ingress': 6753, 'lol': 6754, 'mate': 6755, 'paint': 6756, 'valve': 6757, 'wobble': 6758, 'changing': 6759, 'medscape': 6760, 'disagree': 6761, 'unforeseen': 6762, 'pqsvrxu': 6763, 'latest': 6764, 'egg': 6765, 'foodsafety': 6766, 'spoil': 6767, 'lf': 6768, 'nlktfg': 6769, 'cs': 6770, 'qjqzsg': 6771, 'czchbztlcs': 6772, 'attorney': 6773, 'buenaventura': 6774, 'vidal': 6775, 'lvauyitfv': 6776, 'friendly': 6777, 'hhrrsczwkq': 6778, 'pinch': 6779, 'bkexwng': 6780, 'americold': 6781, 'mt': 6782, 'envoy': 6783, 'pmpk': 6784, 'emotion': 6785, 'ovihbirz': 6786, 'anarchist': 6787, 'antifa': 6788, 'lately': 6789, 'havoc': 6790, 'revere': 6791, 'terrorism': 6792, 'wreck': 6793, 'decisively': 6794, 'swiftly': 6795, 'ditch': 6796, 'healthoverexam': 6797, 'modigovtfaile': 6798, 'ccpvirus': 6799, 'strike': 6800, 'exhaustion': 6801, 'loneliness': 6802, 'vflbqqbat': 6803, 'waqgluhb': 6804, 'backdate': 6805, 'undiction': 6806, 'vaet': 6807, 'pkjokx': 6808, 'unanimously': 6809, 'gaowg': 6810, 'gdyphe': 6811, 'kqkbkbkefe': 6812, 'zaypioejs': 6813, 'strung': 6814, 'ttsi': 6815, 'rec': 6816, 'secondly': 6817, 'eighth': 6818, 'aexkx': 6819, 'tireless': 6820, 'curative': 6821, 'xvlnplmcmj': 6822, 'pdlo': 6823, 'ts': 6824, 'blanket': 6825, 'wiybsfnetx': 6826, 'artificial': 6827, 'identification': 6828, 'fain': 6829, 'tosurvive': 6830, 'geographically': 6831, 'tailor': 6832, 'mkbzvkiccq': 6833, 'fwiw': 6834, 'encounter': 6835, 'jgjy': 6836, 'matuwwit': 6837, 'vjiu': 6838, 'amazed': 6839, 'dismiss': 6840, 'camera': 6841, 'inaccurate': 6842, 'insect': 6843, 'hgq': 6844, 'wt': 6845, 'misuse': 6846, 'mmxygitrd': 6847, 'tramp': 6848, 'inflation': 6849, 'rzrktinhs': 6850, 'secr': 6851, 'shoe': 6852, 'insult': 6853, 'statistical': 6854, 'advertising': 6855, 'ayurve': 6856, 'champion': 6857, 'ggipbvlrcv': 6858, 'unauthorized': 6859, 'technically': 6860, 'smxkjvutjw': 6861, 'wastage': 6862, 'ttkrjrnly': 6863, 'penalty': 6864, 'tswqrr': 6865, 'quantity': 6866, 'specialized': 6867, 'sem': 6868, 'wlffjcvb': 6869, 'reversal': 6870, 'topple': 6871, 'poet': 6872, 'asse': 6873, 'tbfuqt': 6874, 'apfpac': 6875, 'oo': 6876, 'ciwer': 6877, 'eal': 6878, 'ukxg': 6879, 'ygqvtqghkj': 6880, 'kiktvvgpr': 6881, 'emotional': 6882, 'wreak': 6883, 'overwhelmingly': 6884, 'vdg': 6885, 'efficaciously': 6886, 'moayush': 6887, 'pioneer': 6888, 'redouble': 6889, 'soukyaofficial': 6890, 'yypvdowjh': 6891, 'disastrous': 6892, 'tory': 6893, 'wh': 6894, 'letterbox': 6895, 'looking': 6896, 'pamphlet': 6897, 'client': 6898, 'placebopill': 6899, 'iyrrxic': 6900, 'accuracy': 6901, 'historically': 6902, 'compensate': 6903, 'inflate': 6904, 'disposal': 6905, 'furious': 6906, 'gjp': 6907, 'veil': 6908, 'reluctantly': 6909, 'suck': 6910, 'prioritize': 6911, 'mvohu': 6912, 'simulate': 6913, 'txuqoipc': 6914, 'heneryhawk': 6915, 'tehuasgk': 6916, 'bt': 6917, 'tdiy': 6918, 'deck': 6919, 'automation': 6920, 'rtlokopb': 6921, 'aicxapng': 6922, 'exploit': 6923, 'madness': 6924, 'marchmadness': 6925, 'mslndpusww': 6926, 'oygsomocof': 6927, 'swim': 6928, 'anubis': 6929, 'exploratory': 6930, 'lak': 6931, 'etsy': 6932, 'benzalkonium': 6933, 'chloride': 6934, 'bedxiv': 6935, 'aqhtf': 6936, 'certainly': 6937, 'fzfu': 6938, 'considerable': 6939, 'typical': 6940, 'cszxbxqiew': 6941, 'voluntarily': 6942, 'bsiwgnkr': 6943, 'hopeful': 6944, 'indecipherable': 6945, 'hav': 6946, 'moved': 6947, 'rock': 6948, 'impair': 6949, 'datugqdw': 6950, 'dnc': 6951, 'firewood': 6952, 'powerpoint': 6953, 'recreate': 6954, 'rundown': 6955, 'sander': 6956, 'nnvivhwh': 6957, 'concentrated': 6958, 'rukwsd': 6959, 'solely': 6960, 'currency': 6961, 'jockey': 6962, 'wpu': 6963, 'infuse': 6964, 'ccqiyxnml': 6965, 'masturbate': 6966, 'robredo': 6967, 'avoidable': 6968, 'seexuwcfkd': 6969, 'jlfudzzyx': 6970, 'paflz': 6971, 'clorox': 6972, 'mesenchymal': 6973, 'stem': 6974, 'practise': 6975, 'superimpose': 6976, 'crowded': 6977, 'pvblhx': 6978, 'completion': 6979, 'entrust': 6980, 'shoulder': 6981, 'nutrition': 6982, 'geographical': 6983, 'sampling': 6984, 'con': 6985, 'zgrvmqpfpu': 6986, 'qowyu': 6987, 'zwpc': 6988, 'vonderleyen': 6989, 'peaked': 6990, 'antidote': 6991, 'retreat': 6992, 'hiwlgxmllr': 6993, 'fcxlvca': 6994, 'sjws': 6995, 'morrison': 6996, 'petrol': 6997, 'pump': 6998, 'coordinator': 6999, 'ptfcovid': 7000, 'corona_virus': 7001, 'sniff': 7002, 'tc': 7003, 'spell': 7004, 'dietary': 7005, 'personalize': 7006, 'outpatient': 7007, 'azadi': 7008, 'spree': 7009, 'aaurl': 7010, 'uogq': 7011, 'absolutely': 7012, 'following': 7013, 'haldi': 7014, 'swasari': 7015, 'thrice': 7016, 'blower': 7017, 'drs': 7018, 'fur': 7019, 'sexcounsele': 7020, 'ventillate': 7021, 'acting': 7022, 'dtjpv': 7023, 'augustamaster': 7024, 'boredom': 7025, 'flower': 7026, 'academic': 7027, 'graphic': 7028, 'islamist': 7029, 'imperial': 7030, 'computer': 7031, 'mailinvoting': 7032, 'midcourse': 7033, 'singing': 7034, 'rajasthan': 7035, 'bask': 7036, 'briton': 7037, 'dcpadsw': 7038, 'aamjhkc': 7039, 'collaborate': 7040, 'yihkwugyj': 7041, 'probe': 7042, 'gruele': 7043, 'hardy': 7044, 'ricci_sergienko': 7045, 'though': 7046, 'visualization': 7047, 'lps': 7048, 'lungtransplant': 7049, 'argue': 7050, 'spicy': 7051, 'raw': 7052, 'urologist': 7053, 'ffcfs': 7054, 'qg': 7055, 'hggjzunp': 7056, 'patronize': 7057, 'exhausted': 7058, 'plead': 7059, 'expectation': 7060, 'realistic': 7061, 'mtq': 7062, 'sarcastic': 7063, 'bylbcx': 7064, 'fxhntoslvr': 7065, 'rlr': 7066, 'tincture': 7067, '𝗰𝗼𝗺𝗽𝗹𝗲𝘁𝗲𝗹𝘆': 7068, 'vmdw': 7069, 'trumppressconf': 7070, 'yic': 7071, 'surround': 7072, 'eff': 7073, 'alexkx': 7074, 'discredit': 7075, 'disinformation': 7076, 'ebmgbe': 7077, 'ivdlk': 7078, 'intentional': 7079, 'venezuelan': 7080, 'ljb': 7081, 'qglqmz': 7082, 'catastrophic': 7083, 'frontier': 7084, 'txxmftb': 7085, 'brnabic': 7086, 'agent': 7087, 'sterility': 7088, 'fad': 7089, 'headline': 7090, 'groupie': 7091, 'dr_sourabhkp': 7092, 'rashlessdoctor': 7093, 'flow': 7094, 'streamline': 7095, 'planting': 7096, 'recast': 7097, 'tired': 7098, 'vaccinated': 7099, 'augyoqdmvg': 7100, 'homeschoole': 7101, 'sfkohmci': 7102, 'qymhxyiqwx': 7103, 'mk': 7104, 'rochelle': 7105, 'shite': 7106, 'urtis': 7107, 'usual': 7108, 'yhgvabqcz': 7109, 'londoner': 7110, 'strange': 7111, 'feb': 7112, 'rdh': 7113, 'bhabhi': 7114, 'mat': 7115, 'onmtrcprm': 7116, 'fantasy': 7117, 'primate': 7118, 'finger': 7119, 'complacent': 7120, 'cuskxln': 7121, 'parameter': 7122, 'exhaustive': 7123, 'pmrklhcyhy': 7124, 'yzfbbeym': 7125, 'fadaeopahd': 7126, 'sabotage': 7127, 'telecom': 7128, 'intentionally': 7129, 'vulgar': 7130, 'jshnbqfqku': 7131, 'reinfecte': 7132, 'reinfection': 7133, 'subsequent': 7134, 'ig': 7135, 'igpma': 7136, 'aroha': 7137, 'investor': 7138, 'pound': 7139, 'alcoholic': 7140, 'refresh': 7141, 'tasty': 7142, 'ldnwnywg': 7143, 'antiseptic': 7144, 'athens': 7145, 'wa': 7146, 'correctional': 7147, 'detention': 7148, 'organizer': 7149, 'oyhhpc': 7150, 'kfi': 7151, 'qblqn': 7152, 'zsa': 7153, 'erratic': 7154, 'rfetmavs': 7155, 'handshake': 7156, 'ashishskynew': 7157, 'tbtbrnhr': 7158, 'lmzr': 7159, 'reassurance': 7160, 'rigorous': 7161, 'fahnyi': 7162, 'poo': 7163, 'chip': 7164, 'avoid_touche': 7165, 'eexpwgmjjj': 7166, 'hands_often': 7167, 'unwashed': 7168, 'upgrade': 7169, 'afraid': 7170, 'purple': 7171, 'nr': 7172, 'tzeagemqrl': 7173, 'entertain': 7174, 'shark': 7175, 'lsceubpj': 7176, 'rbk': 7177, 'ivb': 7178, 'rh': 7179, 'mromjvlrap': 7180, 'bzrz': 7181, 'dpn': 7182, 'senator': 7183, 'codecheck': 7184, 'npis': 7185, 'refactor': 7186, 'uguzntmvm': 7187, 'godelhiite': 7188, 'snnjpdydwv': 7189, 'lpzwyifmr': 7190, 'defended': 7191, 'retweet': 7192, 'suicidal': 7193, 'wjpigeupae': 7194, 'znjruqw': 7195, 'realism': 7196, 'tube': 7197, 'masking': 7198, 'shrime': 7199, 'cocktail': 7200, 'dvte': 7201, 'pmjjby': 7202, 'lockout': 7203, 'fruition': 7204, 'eak': 7205, 'repo': 7206, 'cccs': 7207, 'authoritie': 7208, 'outset': 7209, 'swsfutbor': 7210, 'disburse': 7211, 'mobilise': 7212, 'msme': 7213, 'planned': 7214, 'wf': 7215, 'necessity': 7216, 'ajpy': 7217, 'htub': 7218, 'systematic': 7219, 'posters_created': 7220, 'registered_user': 7221, 'betadine': 7222, 'drip': 7223, 'bcgni': 7224, 'covidstudy': 7225, 'cwod': 7226, 'finpd': 7227, 'novotel': 7228, 'outstanding': 7229, 'martial': 7230, 'ripnkfiznh': 7231, 'singer': 7232, 'icai': 7233, 'god': 7234, 'tent': 7235, 'viame': 7236, 'observed': 7237, 'threshold': 7238, 'oruzefgb': 7239, 'imminent': 7240, 'occasionally': 7241, 'divide': 7242, 'officialdmrc': 7243, 'pwyobp': 7244, 'signage': 7245, 'sticker': 7246, 'philosophy': 7247, 'mtj': 7248, 'courtroom': 7249, 'hearing': 7250, 'characterise': 7251, 'shincheonji': 7252, 'uefaj': 7253, 'ydtj': 7254, 'jblso': 7255, 'confusion': 7256, 'impression': 7257, 'perspective': 7258, 'kfnxxzmhfq': 7259, 'slightly_lower': 7260, 'relationship': 7261, 'personalise': 7262, 'myzh': 7263, 'vwizq': 7264, 'bfn': 7265, 'ql': 7266, 'hphnsthgq': 7267, 'thrombotic': 7268, 'past_hour': 7269, 'coronavaccine': 7270, 'nqhsjbdssl': 7271, 'cjxswluy': 7272, 'implicitly': 7273, 'lxpuxvogrn': 7274, 'nervous': 7275, 'insurgency': 7276, 'bobdsjsp': 7277, 'unleash': 7278, 'dajqm': 7279, 'fvzd': 7280, 'qojih': 7281, 'enlist': 7282, 'ueuyyxf': 7283, 'urssm': 7284, 'critique': 7285, 'oaux': 7286, 'frenzy': 7287, 'malaysian': 7288, 'remarkable': 7289, 'avifavir': 7290, 'shopper': 7291, 'dlpsu': 7292, 'prophylaxis': 7293, 'taskforce': 7294, 'expensive': 7295, 'ayyjuurrv': 7296, 'ewrtwhnrk': 7297, 'uzixgbvysr': 7298, 'kp': 7299, 'yurbkwb': 7300, 'artifact': 7301, 'tobacconist': 7302, 'star': 7303, 'ivhq': 7304, 'socialism': 7305, 'guoq': 7306, 'nhs': 7307, 'campai': 7308, 'wga': 7309, 'wfi': 7310, 'bolivar': 7311, 'muhame': 7312, 'ceiling': 7313, 'whistle': 7314, 'innovative': 7315, 'cqswucu': 7316, 'infinity': 7317, 'yiystm': 7318, 'arizonan': 7319, 'yhdirx': 7320, 'columbiame': 7321, 'raam': 7322, 'behind': 7323, 'disastrously': 7324, 'hfluzp': 7325, 'transparently': 7326, 'wqf': 7327, 'unequally': 7328, 'cgcrtwwsno': 7329, 'katbfozleb': 7330, 'cbwlvnly': 7331, 'rluc': 7332, 'nriiemnjuw': 7333, 'publichealth': 7334, 'eager': 7335, 'jzkw': 7336, 'ldpqp': 7337, 'ghmtivsnl': 7338, 'selfish': 7339, 'fwaqzjvtqt': 7340, 'ttify': 7341, 'outline': 7342, 'thirdeyeblind': 7343, 'construct': 7344, 'prioritised': 7345, 'hapless': 7346, 'cardiovascular': 7347, 'derivative': 7348, 'pharmacological': 7349, 'spa': 7350, 'gypph': 7351, 'tasrzzaydw': 7352, 'bphcdjqfxg': 7353, 'orange': 7354, 'lbcebnbb': 7355, 'hardworke': 7356, 'super': 7357, 'unsung': 7358, 'alkaline': 7359, 'qgcmxhmjq': 7360, 'responsibly': 7361, 'cessation': 7362, 'otssobmko': 7363, 'sky': 7364, 'osmosisme': 7365, 'eerily': 7366, 'unofficial': 7367, 'robbery': 7368, 'btw': 7369, 'obese': 7370, 'weight': 7371, 'whine': 7372, 'vadodara': 7373, 'rrsgnu': 7374, 'cernovich': 7375, 'drain': 7376, 'industrial': 7377, 'usurped': 7378, 'utilize': 7379, 'localised': 7380, 'qvwfmxwoar': 7381, 'dis': 7382, 'underscore': 7383, 'misleading': 7384, 'reconfigure': 7385, 'lugansk': 7386, 'separatist': 7387, 'scatter': 7388, 'disobeying': 7389, 'falsely': 7390, 'prefer': 7391, 'qffucix': 7392, 'vromo': 7393, 'hunting': 7394, 'uifyq': 7395, 'still_learning': 7396, 'activation': 7397, 'hclvzmbhyl': 7398, 'ipzym': 7399, 'qq': 7400, 'intake': 7401, 'toxin': 7402, 'lz': 7403, 'ophthalmologist': 7404, 'tkurp': 7405, 'brick': 7406, 'confident': 7407, 'cup': 7408, 'disheveled': 7409, 'prime_minister': 7410, 'tray': 7411, 'providing': 7412, 'sing': 7413, 'exclusion': 7414, 'doc': 7415, 'faheemyounus': 7416, 'qxwesswg': 7417, 'eqtdgetvem': 7418, 'djyzs': 7419, 'rv': 7420, 'bendigo': 7421, 'scy': 7422, 'wmc': 7423, 'saejgu': 7424, 'bihnybueac': 7425, 'goverment': 7426, 'makhi': 7427, 'hjnqfoawk': 7428, 'niosh': 7429, 'empower': 7430, 'aiqs': 7431, 'weeks_ago': 7432, 'constant': 7433, 'humidity': 7434, 'szddkye': 7435, 'grief': 7436, 'resolutely': 7437, 'jbcvwsrxfd': 7438, 'unimed': 7439, 'michigan': 7440, 'dmtlx': 7441, 'clue': 7442, 'qiy': 7443, 'coat': 7444, 'ghxm': 7445, 'reservoir': 7446, 'demolish': 7447, 'establishe': 7448, 'fecl': 7449, 'prqh': 7450, 'unify': 7451, 'indiadst': 7452, 'sofi': 7453, 'sobzt': 7454, 'ybth': 7455, 'assertion': 7456, 'conclusion': 7457, 'contrary': 7458, 'undercount': 7459, 'cmm': 7460, 'insolvency': 7461, 'aggregate': 7462, 'reasonably': 7463, 'unreliable': 7464, 'sulfur': 7465, 'neighbour': 7466, 'uypis': 7467, 'gratitude': 7468, 'hvhcyss': 7469, 'besacz': 7470, 'wtb': 7471, 'astrologer': 7472, 'thecoronavirus': 7473, 'covidactnow': 7474, 'ew': 7475, 'gh': 7476, 'qehlpnt': 7477, 'fcj': 7478, 'ijxza': 7479, 'bre': 7480, 'stabilise': 7481, 'vtjgcsornu': 7482, 'upside': 7483, 'figd': 7484, 'recall': 7485, 'veaukpkaqx': 7486, 'sutorhapcs': 7487, 'brisbane': 7488, 'recruit': 7489, 'fluent': 7490, 'patiently': 7491, 'physics': 7492, 'yqlzdmkxjf': 7493, 'twin': 7494, 'rarygxc': 7495, 'elvislive': 7496, 'graceland': 7497, 'infra': 7498, 'mwxta': 7499, 'stigma': 7500, 'horrify': 7501, 'acetylcysteine': 7502, 'controllable': 7503, 'hoonsq': 7504, 'synagogue': 7505, 'edun': 7506, 'exzth': 7507, 'lean': 7508, 'motorway': 7509, 'snapchat': 7510, 'bandwagon': 7511, 'disparate': 7512, 'flatland': 7513, 'ugly': 7514, 'unhealthy': 7515, 'benzorn': 7516, 'ifp': 7517, 'sl': 7518, 'ckfwataghi': 7519, 'compatible': 7520, 'vfwm': 7521, 'pulmonologist': 7522, 'secondary': 7523, 'ntzum': 7524, 'scarce': 7525, 'amklne': 7526, 'medic': 7527, 'diabetes': 7528, 'enhancement': 7529, 'tedro': 7530, 'fudiofwvhc': 7531, 'fumnkjuff': 7532, 'interactive': 7533, 'catastrophe': 7534, 'macedonian': 7535, 'hqdr': 7536, 'inundate': 7537, 'cone': 7538, 'oatjxupsom': 7539, 'sewage': 7540, 'remotely': 7541, 'fsz': 7542, 'mnxn': 7543, 'infer': 7544, 'predicament': 7545, 'cwbjvw': 7546, 'xem': 7547, 'jdeely': 7548, 'lifescihiggin': 7549, 'frgvjd': 7550, 'yklez': 7551, 'cpap': 7552, 'dirty': 7553, 'sanitiser': 7554, 'wotsjkcv': 7555, 'bullet': 7556, 'corruption': 7557, 'cuomo': 7558, 'hole': 7559, 'newyorkcity': 7560, 'racket': 7561, 'unstable': 7562, 'uegl': 7563, 'custody': 7564, 'gloriously': 7565, 'natesilver': 7566, 'otoh': 7567, 'shade': 7568, 'usable': 7569, 'hgbx': 7570, 'yeq': 7571, 'pointed': 7572, 'tfummxsmzy': 7573, 'audience': 7574, 'downtown': 7575, 'ndxbbcg': 7576, 'vc': 7577, 'adtd': 7578, 'shaving': 7579, 'tkno': 7580, 'wmtxl': 7581, 'tbnxig': 7582, 'weekday': 7583, 'outlier': 7584, 'qhlesjvz': 7585, 'smugly': 7586, 'casually': 7587, 'ksqmptax': 7588, 'seroprevalence': 7589, 'concert': 7590, 'president_xi': 7591, 'ulambssv': 7592, 'ztyhjzn': 7593, 'emrxyhbr': 7594, 'zs': 7595, 'changed': 7596, 'cevoxu': 7597, 'ultraviolet': 7598, 'bean': 7599, 'guard': 7600, 'biomedical': 7601, 'ownership': 7602, 'gbccz': 7603, 'uegozko': 7604, 'zjekiqous': 7605, 'selfless': 7606, 'troop': 7607, 'indicative': 7608, 'woy': 7609, 'ckntxvsnyc': 7610, 'nxirzawb': 7611, 'bb': 7612, 'hekjhjp': 7613, 'meddle': 7614, 'gently': 7615, 'runni': 7616, 'disproven': 7617, 'sexyteen': 7618, 'attract': 7619, 'punishment': 7620, 'mcsma': 7621, 'cent': 7622, 'wit': 7623, 'paczqe': 7624, 'chinatown': 7625, 'edit': 7626, 'pedrlyr': 7627, 'guuofsrh': 7628, 'stemi': 7629, 'chx': 7630, 'famine': 7631, 'fpddlk': 7632, 'renovation': 7633, 'distraction': 7634, 'rheaarrested': 7635, 'fqxfbs': 7636, 'mvbmymh': 7637, 'swing': 7638, 'ungncrp': 7639, 'nicely': 7640, 'riwr': 7641, 'ogfj': 7642, 'marginally': 7643, 'gkv': 7644, 'olb': 7645, 'ozxsxtqvst': 7646, 'performed': 7647, 'neighbor': 7648, 'naxxot': 7649, 'ifdryzwafw': 7650, 'unsure': 7651, 'ball': 7652, 'ceremonial': 7653, 'anthem': 7654, 'tests_bringing': 7655, 'glass': 7656, 'inhibit': 7657, 'qhvx': 7658, 'cff': 7659, 'increa': 7660, 'inaugural': 7661, 'mak': 7662, 'oyrhwuunmn': 7663, 'universally': 7664, 'diligence': 7665, 'unverified': 7666, 'astonishingly': 7667, 'fmly': 7668, 'igwcl': 7669, 'nursinghome': 7670, 'uoese': 7671, 'clog': 7672, 'hurdle': 7673, 'something_else': 7674, 'weird': 7675, 'emergencie': 7676, 'flattenthecurve': 7677, 'forgive': 7678, 'srruh': 7679, 'periodic': 7680, 'buvcnpdftq': 7681, 'ageusia': 7682, 'anosmia': 7683, 'diminish': 7684, 'almfb': 7685, 'aop': 7686, 'pdaubxz': 7687, 'jsufqnojix': 7688, 'tdztpcsq': 7689, 'explosive': 7690, 'tamiflu': 7691, 'dissimilar': 7692, 'nhwdofneh': 7693, 'cnixuuanj': 7694, 'sk': 7695, 'fczkg': 7696, 'reclassify': 7697, 'ujc': 7698, 'glare': 7699, 'pretence': 7700, 'bmfhsiu': 7701, 'nc': 7702, 'wv': 7703, 'peddle': 7704, 'bigly': 7705, 'retractable': 7706, 'tru': 7707, 'hzxfkohttm': 7708, 'uftuh': 7709, 'westminster': 7710, 'parlor': 7711, 'utpol': 7712, 'cheerleader': 7713, 'cowboy': 7714, 'jeg': 7715, 'oufdux': 7716, 'wring': 7717, 'portend': 7718, 'rrt': 7719, 'patience': 7720, 'continuo': 7721, 'rmyiwkxw': 7722, 'repository': 7723, 'hay': 7724, 'ztq': 7725, 'catfish': 7726, 'reai': 7727, 'sbxt': 7728, 'ftpancwsvl': 7729, 'manifest': 7730, 'multiplie': 7731, 'ravikundurthi': 7732, 'vbcsl': 7733, 'olhnvalf': 7734, 'study_finds': 7735, 'hippocratic': 7736, 'mathematically': 7737, 'oath': 7738, 'reward': 7739, 'unsafe': 7740, 'pmet': 7741, 'lahood': 7742, 'casesare': 7743, 'uori': 7744, 'consultant': 7745, 'involved': 7746, 'karipurairport': 7747, 'sompeev': 7748, 'broomeinwelly': 7749, 'globuleak': 7750, 'wondrous': 7751, 'ggyg': 7752, 'jahcyw': 7753, 'muscle': 7754, 'lactancy': 7755, 'dimension': 7756, 'pinpoint': 7757, 'socioeconomic': 7758, 'disband': 7759, 'pie': 7760, 'unband': 7761, 'ass': 7762, 'wheelchair': 7763, 'gunarockya': 7764, 'mxr': 7765, 'crazy': 7766, 'matk': 7767, 'simoncowell': 7768, 'utddi': 7769, 'placing': 7770, 'bioengineered': 7771, 'bubonic': 7772, 'cart': 7773, 'dilute': 7774, 'distanc': 7775, 'strategie': 7776, 'deferral': 7777, 'mortgage': 7778, 'catalyst': 7779, 'pneumococcal': 7780, 'preventable': 7781, 'snsbnwj': 7782, 'tf': 7783, 'vkvkvfc': 7784, 'manila': 7785, 'cutlery': 7786, 'oxm': 7787, 'pvb': 7788, 'mannequin': 7789, 'cashewchicken': 7790, 'incorporate': 7791, 'plasmatherapy': 7792, 'devastate': 7793, 'mascot': 7794, 'ozj': 7795, 'yykj': 7796, 'supress': 7797, 'sdmncvngfg': 7798, 'handcuff': 7799, 'violently': 7800, 'recognizing': 7801, 'ofb': 7802, 'tbpyuakvql': 7803, 'newschecker': 7804, 'reading': 7805, 'dishearten': 7806, 'stoned': 7807, 'reduced': 7808, 'retrospective': 7809, 'statin': 7810, 'svilvxxepo': 7811, 'oversee': 7812, 'ucxdklszfn': 7813, 'corriente': 7814, 'filming': 7815, 'fraudulent': 7816, 'nite': 7817, 'possession': 7818, 'ofogdqeswv': 7819, 'qgxurur': 7820, 'czxsivpor': 7821, 'wale': 7822, 'beet': 7823, 'pinezqhpk': 7824, 'unstoppable': 7825, 'pdpwirpb': 7826, 'uftdbrmrmg': 7827, 'bjskcxdlc': 7828, 'indictment': 7829, 'scathing': 7830, 'kap': 7831, 'ms': 7832, 'tone': 7833, 'eczlsbx': 7834, 'oq': 7835, 'vxzia': 7836, 'forecasting': 7837, 'lmoijfxuz': 7838, 'soundly': 7839, 'twatty': 7840, 'modified': 7841, 'staggered': 7842, 'liberate': 7843, 'oldie': 7844, 'bother': 7845, 'jhaqxsehwi': 7846, 'activecase': 7847, 'compose': 7848, 'dhsreport': 7849, 'fvthjt': 7850, 'diphtheria': 7851, 'pertussis': 7852, 'tetanus': 7853, 'assassination': 7854, 'antonioguterre': 7855, 'exceptional': 7856, 'bxmsuysgbw': 7857, 'childrensphila': 7858, 'tangle': 7859, 'kucwjye': 7860, 'laxative': 7861, 'motivation': 7862, 'swyqfbogvk': 7863, 'contempl': 7864, 'deliberate': 7865, 'confidential': 7866, 'ljyq': 7867, 'palermo': 7868, 'gomcrbxi': 7869, 'inadequate': 7870, 'trtpbmu': 7871, 'financing': 7872, 'hq': 7873, 'vice': 7874, 'dvluhr': 7875, 'inability': 7876, 'inefficiency': 7877, 'reserve': 7878, 'merkel': 7879, 'covidnet': 7880, 'dsjl': 7881, 'nmg': 7882, 'pboxwj': 7883, 'infertility': 7884}\n"
          ]
        }
      ]
    },
    {
      "cell_type": "code",
      "metadata": {
        "id": "sEsnR18VxfXt"
      },
      "source": [
        "# Create Corpus: Term Document Frequency\n",
        "corpus = [id2word.doc2bow(text) for text in tweets_data]"
      ],
      "execution_count": null,
      "outputs": []
    },
    {
      "cell_type": "code",
      "metadata": {
        "id": "1KWgLkgfxkI7"
      },
      "source": [
        "# Build LDA model\n",
        "lda_model = gensim.models.ldamodel.LdaModel(corpus=corpus,\n",
        "                                           id2word=id2word,\n",
        "                                           num_topics=15, \n",
        "                                           random_state=100,\n",
        "                                           update_every=1,\n",
        "                                           chunksize=10,\n",
        "                                           passes=10,\n",
        "                                           alpha='symmetric',\n",
        "                                           iterations=100,\n",
        "                                           per_word_topics=True)"
      ],
      "execution_count": null,
      "outputs": []
    },
    {
      "cell_type": "code",
      "metadata": {
        "id": "pFJ5SsZFxmzZ",
        "colab": {
          "base_uri": "https://localhost:8080/"
        },
        "outputId": "6a1a188b-e7c5-472f-d095-fe32be7dfb36"
      },
      "source": [
        "print(lda_model.print_topics())"
      ],
      "execution_count": null,
      "outputs": [
        {
          "output_type": "stream",
          "name": "stdout",
          "text": [
            "[(0, '0.123*\"number\" + 0.119*\"confirm\" + 0.042*\"week\" + 0.027*\"care\" + 0.025*\"tell\" + 0.025*\"late\" + 0.020*\"publish\" + 0.017*\"economy\" + 0.017*\"reach\" + 0.015*\"drtedro\"'), (1, '0.356*\"covid\" + 0.050*\"risk\" + 0.035*\"community\" + 0.024*\"give\" + 0.022*\"treatment\" + 0.019*\"full\" + 0.017*\"recommend\" + 0.013*\"explain\" + 0.011*\"false\" + 0.010*\"join\"'), (2, '0.043*\"update\" + 0.036*\"doctor\" + 0.029*\"world\" + 0.024*\"government\" + 0.024*\"follow\" + 0.022*\"share\" + 0.016*\"immunity\" + 0.016*\"video\" + 0.015*\"recent\" + 0.015*\"reduce\"'), (3, '0.054*\"yesterday\" + 0.050*\"remain\" + 0.035*\"record\" + 0.031*\"bring\" + 0.026*\"situation\" + 0.025*\"quarantine\" + 0.024*\"available\" + 0.019*\"information\" + 0.018*\"stay\" + 0.018*\"tests_completed\"'), (4, '0.078*\"virus\" + 0.038*\"low\" + 0.030*\"child\" + 0.027*\"support\" + 0.025*\"infection\" + 0.024*\"become\" + 0.022*\"create\" + 0.021*\"currently\" + 0.018*\"different\" + 0.016*\"fall\"'), (5, '0.189*\"people\" + 0.058*\"pandemic\" + 0.028*\"mask\" + 0.026*\"never\" + 0.024*\"learn\" + 0.022*\"suggest\" + 0.022*\"story\" + 0.021*\"symptom\" + 0.021*\"woman\" + 0.018*\"mean\"'), (6, '0.053*\"show\" + 0.043*\"datum\" + 0.040*\"time\" + 0.032*\"person\" + 0.030*\"way\" + 0.026*\"find\" + 0.026*\"call\" + 0.024*\"man\" + 0.024*\"possible\" + 0.022*\"restriction\"'), (7, '0.341*\"case\" + 0.127*\"new\" + 0.073*\"today\" + 0.054*\"recover\" + 0.029*\"recovery\" + 0.019*\"look\" + 0.018*\"lockdown\" + 0.016*\"still\" + 0.011*\"develop\" + 0.011*\"middlemore\"'), (8, '0.164*\"report\" + 0.146*\"state\" + 0.130*\"death\" + 0.046*\"last\" + 0.046*\"active\" + 0.020*\"transmission\" + 0.017*\"probable\" + 0.015*\"system\" + 0.014*\"compare\" + 0.014*\"rise\"'), (9, '0.082*\"claim\" + 0.055*\"die\" + 0.038*\"work\" + 0.026*\"include\" + 0.024*\"police\" + 0.024*\"protect\" + 0.020*\"human\" + 0.020*\"alexismadrigal\" + 0.017*\"post\" + 0.015*\"former\"'), (10, '0.070*\"country\" + 0.066*\"vaccine\" + 0.057*\"spread\" + 0.054*\"high\" + 0.044*\"continue\" + 0.025*\"cure\" + 0.025*\"first\" + 0.023*\"daily\" + 0.018*\"announce\" + 0.018*\"live\"'), (11, '0.103*\"patient\" + 0.046*\"hospital\" + 0.029*\"measure\" + 0.024*\"early\" + 0.021*\"hour\" + 0.021*\"least\" + 0.018*\"likely\" + 0.018*\"study\" + 0.017*\"supply\" + 0.016*\"contact\"'), (12, '0.088*\"total\" + 0.052*\"amp\" + 0.038*\"positive\" + 0.027*\"well\" + 0.024*\"far\" + 0.017*\"leader\" + 0.017*\"big\" + 0.017*\"lab\" + 0.016*\"start\" + 0.014*\"critical\"'), (13, '0.059*\"due\" + 0.045*\"increase\" + 0.030*\"news\" + 0.028*\"must\" + 0.024*\"disease\" + 0.021*\"family\" + 0.020*\"home\" + 0.019*\"handle\" + 0.017*\"break\" + 0.016*\"fail\"'), (14, '0.165*\"test\" + 0.084*\"day\" + 0.047*\"testing\" + 0.031*\"set\" + 0.028*\"visit\" + 0.026*\"outbreak\" + 0.025*\"long\" + 0.021*\"detail\" + 0.021*\"date\" + 0.017*\"evidence\"')]\n"
          ]
        }
      ]
    },
    {
      "cell_type": "code",
      "metadata": {
        "id": "h5JhiVS1ymdO"
      },
      "source": [
        "from wordcloud import WordCloud"
      ],
      "execution_count": null,
      "outputs": []
    },
    {
      "cell_type": "code",
      "metadata": {
        "id": "x4a5j0mgyuqd"
      },
      "source": [
        "import matplotlib.pyplot as plt "
      ],
      "execution_count": null,
      "outputs": []
    },
    {
      "cell_type": "code",
      "metadata": {
        "id": "Hk-jXnv6xpPe"
      },
      "source": [
        "import matplotlib.colors as mcolors\n",
        "\n",
        "cols = [color for name, color in mcolors.TABLEAU_COLORS.items()]  # more colors: 'mcolors.XKCD_COLORS'\n",
        "\n",
        "cloud = WordCloud(stopwords=stop_words,\n",
        "                  background_color='white',\n",
        "                  width=2500,\n",
        "                  height=1800,\n",
        "                  max_words=10,\n",
        "                  colormap='tab10',\n",
        "                  color_func=lambda *args, **kwargs: cols[i],\n",
        "                  prefer_horizontal=1.0)\n",
        "\n",
        "topics = lda_model.show_topics(formatted=False)\n",
        "\n",
        "fig, axes = plt.subplots(2, 2, figsize=(10,10), sharex=True, sharey=True)\n",
        "\n",
        "for i, ax in enumerate(axes.flatten()):\n",
        "    fig.add_subplot(ax)\n",
        "    topic_words = dict(topics[i][1])\n",
        "    cloud.generate_from_frequencies(topic_words, max_font_size=300)\n",
        "    plt.gca().imshow(cloud)\n",
        "    plt.gca().set_title('Topic ' + str(i), fontdict=dict(size=16))\n",
        "    plt.gca().axis('off')\n",
        "\n",
        "\n",
        "plt.subplots_adjust(wspace=0, hspace=0)\n",
        "plt.axis('off')\n",
        "plt.margins(x=0, y=0)\n",
        "plt.tight_layout()\n",
        "plt.show()"
      ],
      "execution_count": null,
      "outputs": []
    },
    {
      "cell_type": "code",
      "metadata": {
        "id": "6Bbg4j7eyRVP"
      },
      "source": [
        "def format_topics_sentences(ldamodel, corpus, texts):\n",
        "    # Init output\n",
        "    sent_topics_df = pd.DataFrame()\n",
        "\n",
        "    # Get main topic in each document\n",
        "    for i, row_list in enumerate(ldamodel[corpus]):\n",
        "        row = row_list[0] if ldamodel.per_word_topics else row_list            \n",
        "        # print(row)\n",
        "        row = sorted(row, key=lambda x: (x[1]), reverse=True)\n",
        "        # Get the Dominant topic, Perc Contribution and Keywords for each document\n",
        "        for j, (topic_num, prop_topic) in enumerate(row):\n",
        "            if j == 0:  # => dominant topic\n",
        "                wp = ldamodel.show_topic(topic_num)\n",
        "                topic_keywords = \", \".join([word for word, prop in wp])\n",
        "                sent_topics_df = sent_topics_df.append(pd.Series([int(topic_num), round(prop_topic,4), topic_keywords]), ignore_index=True)\n",
        "            else:\n",
        "                break\n",
        "    sent_topics_df.columns = ['Dominant_Topic', 'Perc_Contribution', 'Topic_Keywords']\n",
        "\n",
        "    # Add original text to the end of the output\n",
        "    contents = pd.Series(texts)\n",
        "    sent_topics_df = pd.concat([sent_topics_df, contents], axis=1)\n",
        "    return(sent_topics_df)\n",
        "\n",
        "\n",
        "\n"
      ],
      "execution_count": null,
      "outputs": []
    },
    {
      "cell_type": "code",
      "metadata": {
        "id": "F4Bm6K6SyiLl"
      },
      "source": [
        "df_topic_sents_keywords = format_topics_sentences(ldamodel=lda_model, corpus=corpus, texts=tweets_data)"
      ],
      "execution_count": null,
      "outputs": []
    },
    {
      "cell_type": "code",
      "metadata": {
        "id": "_tnzT-F1sl98",
        "colab": {
          "base_uri": "https://localhost:8080/",
          "height": 363
        },
        "outputId": "d356636a-510c-4da2-8b46-d8ab180e7118"
      },
      "source": [
        "# Format\n",
        "df_dominant_topic = df_topic_sents_keywords.reset_index()\n",
        "df_dominant_topic.columns = ['Document_No', 'Dominant_Topic', 'Topic_Perc_Contrib', 'Keywords', 'Text']\n",
        "df_dominant_topic.head(10)"
      ],
      "execution_count": null,
      "outputs": [
        {
          "output_type": "execute_result",
          "data": {
            "text/html": [
              "<div>\n",
              "<style scoped>\n",
              "    .dataframe tbody tr th:only-of-type {\n",
              "        vertical-align: middle;\n",
              "    }\n",
              "\n",
              "    .dataframe tbody tr th {\n",
              "        vertical-align: top;\n",
              "    }\n",
              "\n",
              "    .dataframe thead th {\n",
              "        text-align: right;\n",
              "    }\n",
              "</style>\n",
              "<table border=\"1\" class=\"dataframe\">\n",
              "  <thead>\n",
              "    <tr style=\"text-align: right;\">\n",
              "      <th></th>\n",
              "      <th>Document_No</th>\n",
              "      <th>Dominant_Topic</th>\n",
              "      <th>Topic_Perc_Contrib</th>\n",
              "      <th>Keywords</th>\n",
              "      <th>Text</th>\n",
              "    </tr>\n",
              "  </thead>\n",
              "  <tbody>\n",
              "    <tr>\n",
              "      <th>0</th>\n",
              "      <td>0</td>\n",
              "      <td>8.0</td>\n",
              "      <td>0.3644</td>\n",
              "      <td>report, state, death, last, active, transmissi...</td>\n",
              "      <td>[currently, report, death, general, discrepanc...</td>\n",
              "    </tr>\n",
              "    <tr>\n",
              "      <th>1</th>\n",
              "      <td>1</td>\n",
              "      <td>8.0</td>\n",
              "      <td>0.8963</td>\n",
              "      <td>report, state, death, last, active, transmissi...</td>\n",
              "      <td>[state, report, death, small, rise, last, repo...</td>\n",
              "    </tr>\n",
              "    <tr>\n",
              "      <th>2</th>\n",
              "      <td>2</td>\n",
              "      <td>5.0</td>\n",
              "      <td>0.6378</td>\n",
              "      <td>people, pandemic, mask, never, learn, suggest,...</td>\n",
              "      <td>[politically, correct, woman, almost, pandemic...</td>\n",
              "    </tr>\n",
              "    <tr>\n",
              "      <th>3</th>\n",
              "      <td>3</td>\n",
              "      <td>14.0</td>\n",
              "      <td>0.8133</td>\n",
              "      <td>test, day, testing, set, visit, outbreak, long...</td>\n",
              "      <td>[testing, laboratory, test, icmrdelhi]</td>\n",
              "    </tr>\n",
              "    <tr>\n",
              "      <th>4</th>\n",
              "      <td>4</td>\n",
              "      <td>7.0</td>\n",
              "      <td>0.5117</td>\n",
              "      <td>case, new, today, recover, recovery, look, loc...</td>\n",
              "      <td>[populous, state, generate, large, case, count...</td>\n",
              "    </tr>\n",
              "    <tr>\n",
              "      <th>5</th>\n",
              "      <td>5</td>\n",
              "      <td>6.0</td>\n",
              "      <td>0.7793</td>\n",
              "      <td>show, datum, time, person, way, find, call, ma...</td>\n",
              "      <td>[find, average, person, infect, people, datum,...</td>\n",
              "    </tr>\n",
              "    <tr>\n",
              "      <th>6</th>\n",
              "      <td>6</td>\n",
              "      <td>5.0</td>\n",
              "      <td>0.6329</td>\n",
              "      <td>people, pandemic, mask, never, learn, suggest,...</td>\n",
              "      <td>[covid, symptom, stay_home, away, people, lear...</td>\n",
              "    </tr>\n",
              "    <tr>\n",
              "      <th>7</th>\n",
              "      <td>7</td>\n",
              "      <td>6.0</td>\n",
              "      <td>0.4416</td>\n",
              "      <td>show, datum, time, person, way, find, call, ma...</td>\n",
              "      <td>[call, chaotic, disaster, dedqzehasb]</td>\n",
              "    </tr>\n",
              "    <tr>\n",
              "      <th>8</th>\n",
              "      <td>8</td>\n",
              "      <td>2.0</td>\n",
              "      <td>0.6110</td>\n",
              "      <td>update, doctor, world, government, follow, sha...</td>\n",
              "      <td>[clearly, leave, kind, game_plan]</td>\n",
              "    </tr>\n",
              "    <tr>\n",
              "      <th>9</th>\n",
              "      <td>9</td>\n",
              "      <td>1.0</td>\n",
              "      <td>0.7490</td>\n",
              "      <td>covid, risk, community, give, treatment, full,...</td>\n",
              "      <td>[retraction, chloroquine, macrolide, treatment...</td>\n",
              "    </tr>\n",
              "  </tbody>\n",
              "</table>\n",
              "</div>"
            ],
            "text/plain": [
              "   Document_No  ...                                               Text\n",
              "0            0  ...  [currently, report, death, general, discrepanc...\n",
              "1            1  ...  [state, report, death, small, rise, last, repo...\n",
              "2            2  ...  [politically, correct, woman, almost, pandemic...\n",
              "3            3  ...             [testing, laboratory, test, icmrdelhi]\n",
              "4            4  ...  [populous, state, generate, large, case, count...\n",
              "5            5  ...  [find, average, person, infect, people, datum,...\n",
              "6            6  ...  [covid, symptom, stay_home, away, people, lear...\n",
              "7            7  ...              [call, chaotic, disaster, dedqzehasb]\n",
              "8            8  ...                  [clearly, leave, kind, game_plan]\n",
              "9            9  ...  [retraction, chloroquine, macrolide, treatment...\n",
              "\n",
              "[10 rows x 5 columns]"
            ]
          },
          "metadata": {},
          "execution_count": 24
        }
      ]
    },
    {
      "cell_type": "code",
      "metadata": {
        "colab": {
          "base_uri": "https://localhost:8080/",
          "height": 206
        },
        "id": "UKhWEXp3tFq-",
        "outputId": "c5c10d14-c9d3-4549-c2a4-0d09433393b0"
      },
      "source": [
        "train.head(5)"
      ],
      "execution_count": null,
      "outputs": [
        {
          "output_type": "execute_result",
          "data": {
            "text/html": [
              "<div>\n",
              "<style scoped>\n",
              "    .dataframe tbody tr th:only-of-type {\n",
              "        vertical-align: middle;\n",
              "    }\n",
              "\n",
              "    .dataframe tbody tr th {\n",
              "        vertical-align: top;\n",
              "    }\n",
              "\n",
              "    .dataframe thead th {\n",
              "        text-align: right;\n",
              "    }\n",
              "</style>\n",
              "<table border=\"1\" class=\"dataframe\">\n",
              "  <thead>\n",
              "    <tr style=\"text-align: right;\">\n",
              "      <th></th>\n",
              "      <th>id</th>\n",
              "      <th>tweet</th>\n",
              "      <th>label</th>\n",
              "    </tr>\n",
              "  </thead>\n",
              "  <tbody>\n",
              "    <tr>\n",
              "      <th>0</th>\n",
              "      <td>1</td>\n",
              "      <td>The CDC currently reports 99031 deaths. In gen...</td>\n",
              "      <td>real</td>\n",
              "    </tr>\n",
              "    <tr>\n",
              "      <th>1</th>\n",
              "      <td>2</td>\n",
              "      <td>States reported 1121 deaths a small rise from ...</td>\n",
              "      <td>real</td>\n",
              "    </tr>\n",
              "    <tr>\n",
              "      <th>2</th>\n",
              "      <td>3</td>\n",
              "      <td>Politically Correct Woman (Almost) Uses Pandem...</td>\n",
              "      <td>fake</td>\n",
              "    </tr>\n",
              "    <tr>\n",
              "      <th>3</th>\n",
              "      <td>4</td>\n",
              "      <td>#IndiaFightsCorona: We have 1524 #COVID testin...</td>\n",
              "      <td>real</td>\n",
              "    </tr>\n",
              "    <tr>\n",
              "      <th>4</th>\n",
              "      <td>5</td>\n",
              "      <td>Populous states can generate large case counts...</td>\n",
              "      <td>real</td>\n",
              "    </tr>\n",
              "  </tbody>\n",
              "</table>\n",
              "</div>"
            ],
            "text/plain": [
              "   id                                              tweet label\n",
              "0   1  The CDC currently reports 99031 deaths. In gen...  real\n",
              "1   2  States reported 1121 deaths a small rise from ...  real\n",
              "2   3  Politically Correct Woman (Almost) Uses Pandem...  fake\n",
              "3   4  #IndiaFightsCorona: We have 1524 #COVID testin...  real\n",
              "4   5  Populous states can generate large case counts...  real"
            ]
          },
          "metadata": {},
          "execution_count": 39
        }
      ]
    },
    {
      "cell_type": "code",
      "metadata": {
        "id": "tNuY6yyBtPlM"
      },
      "source": [
        "df_dominant_topic['label'] = train['label']"
      ],
      "execution_count": null,
      "outputs": []
    },
    {
      "cell_type": "code",
      "metadata": {
        "colab": {
          "base_uri": "https://localhost:8080/",
          "height": 206
        },
        "id": "nSbqOECjtb1v",
        "outputId": "8efbd4f2-54fe-48b5-9b47-2e684b24322a"
      },
      "source": [
        "df_dominant_topic.head(5)"
      ],
      "execution_count": null,
      "outputs": [
        {
          "output_type": "execute_result",
          "data": {
            "text/html": [
              "<div>\n",
              "<style scoped>\n",
              "    .dataframe tbody tr th:only-of-type {\n",
              "        vertical-align: middle;\n",
              "    }\n",
              "\n",
              "    .dataframe tbody tr th {\n",
              "        vertical-align: top;\n",
              "    }\n",
              "\n",
              "    .dataframe thead th {\n",
              "        text-align: right;\n",
              "    }\n",
              "</style>\n",
              "<table border=\"1\" class=\"dataframe\">\n",
              "  <thead>\n",
              "    <tr style=\"text-align: right;\">\n",
              "      <th></th>\n",
              "      <th>Document_No</th>\n",
              "      <th>Dominant_Topic</th>\n",
              "      <th>Topic_Perc_Contrib</th>\n",
              "      <th>Keywords</th>\n",
              "      <th>Text</th>\n",
              "    </tr>\n",
              "  </thead>\n",
              "  <tbody>\n",
              "    <tr>\n",
              "      <th>0</th>\n",
              "      <td>0</td>\n",
              "      <td>8.0</td>\n",
              "      <td>0.3644</td>\n",
              "      <td>report, state, death, last, active, transmissi...</td>\n",
              "      <td>[currently, report, death, general, discrepanc...</td>\n",
              "    </tr>\n",
              "    <tr>\n",
              "      <th>1</th>\n",
              "      <td>1</td>\n",
              "      <td>8.0</td>\n",
              "      <td>0.8963</td>\n",
              "      <td>report, state, death, last, active, transmissi...</td>\n",
              "      <td>[state, report, death, small, rise, last, repo...</td>\n",
              "    </tr>\n",
              "    <tr>\n",
              "      <th>2</th>\n",
              "      <td>2</td>\n",
              "      <td>5.0</td>\n",
              "      <td>0.6378</td>\n",
              "      <td>people, pandemic, mask, never, learn, suggest,...</td>\n",
              "      <td>[politically, correct, woman, almost, pandemic...</td>\n",
              "    </tr>\n",
              "    <tr>\n",
              "      <th>3</th>\n",
              "      <td>3</td>\n",
              "      <td>14.0</td>\n",
              "      <td>0.8133</td>\n",
              "      <td>test, day, testing, set, visit, outbreak, long...</td>\n",
              "      <td>[testing, laboratory, test, icmrdelhi]</td>\n",
              "    </tr>\n",
              "    <tr>\n",
              "      <th>4</th>\n",
              "      <td>4</td>\n",
              "      <td>7.0</td>\n",
              "      <td>0.5117</td>\n",
              "      <td>case, new, today, recover, recovery, look, loc...</td>\n",
              "      <td>[populous, state, generate, large, case, count...</td>\n",
              "    </tr>\n",
              "  </tbody>\n",
              "</table>\n",
              "</div>"
            ],
            "text/plain": [
              "   Document_No  ...                                               Text\n",
              "0            0  ...  [currently, report, death, general, discrepanc...\n",
              "1            1  ...  [state, report, death, small, rise, last, repo...\n",
              "2            2  ...  [politically, correct, woman, almost, pandemic...\n",
              "3            3  ...             [testing, laboratory, test, icmrdelhi]\n",
              "4            4  ...  [populous, state, generate, large, case, count...\n",
              "\n",
              "[5 rows x 5 columns]"
            ]
          },
          "metadata": {},
          "execution_count": 25
        }
      ]
    },
    {
      "cell_type": "code",
      "metadata": {
        "colab": {
          "base_uri": "https://localhost:8080/"
        },
        "id": "s-s2RDzKd958",
        "outputId": "57c391ef-d9f1-457b-e713-69c46a753745"
      },
      "source": [
        "#score \n",
        "from gensim.models import CoherenceModel\n",
        "# Compute Coherence Score\n",
        "coherence_model_lda = CoherenceModel(model=lda_model, texts=tweets_data, dictionary=id2word, coherence='c_v')\n",
        "coherence_lda = coherence_model_lda.get_coherence()\n",
        "print('\\nCoherence Score: ', coherence_lda)"
      ],
      "execution_count": null,
      "outputs": [
        {
          "output_type": "stream",
          "name": "stdout",
          "text": [
            "\n",
            "Coherence Score:  0.4316100803500762\n"
          ]
        }
      ]
    },
    {
      "cell_type": "code",
      "metadata": {
        "id": "bYwhqawLevIv"
      },
      "source": [
        "df_dominant_topic['label'] = train['label']"
      ],
      "execution_count": null,
      "outputs": []
    },
    {
      "cell_type": "code",
      "metadata": {
        "colab": {
          "base_uri": "https://localhost:8080/"
        },
        "id": "FeqIrqRztefK",
        "outputId": "0f1195c4-8320-42e7-e5df-bfa387448704"
      },
      "source": [
        "df_dominant_topic.groupby(\"Dominant_Topic\").label.value_counts()"
      ],
      "execution_count": null,
      "outputs": [
        {
          "output_type": "execute_result",
          "data": {
            "text/plain": [
              "Dominant_Topic  label\n",
              "0.0             real     222\n",
              "                fake     211\n",
              "1.0             real     159\n",
              "                fake     155\n",
              "2.0             fake     297\n",
              "                real      87\n",
              "3.0             real     195\n",
              "                fake     144\n",
              "4.0             fake     287\n",
              "                real     173\n",
              "5.0             real     216\n",
              "                fake     199\n",
              "6.0             fake     268\n",
              "                real     155\n",
              "7.0             real     617\n",
              "                fake      89\n",
              "8.0             real     352\n",
              "                fake      50\n",
              "9.0             fake     344\n",
              "                real     100\n",
              "10.0            fake     200\n",
              "                real     192\n",
              "11.0            fake     238\n",
              "                real     206\n",
              "12.0            fake     218\n",
              "                real     172\n",
              "13.0            fake     290\n",
              "                real     144\n",
              "14.0            real     370\n",
              "                fake      70\n",
              "Name: label, dtype: int64"
            ]
          },
          "metadata": {},
          "execution_count": 30
        }
      ]
    },
    {
      "cell_type": "code",
      "metadata": {
        "id": "82oE5nx7e-6_"
      },
      "source": [
        "dfu = df_dominant_topic.groupby(\"Dominant_Topic\").label.value_counts().unstack()"
      ],
      "execution_count": null,
      "outputs": []
    },
    {
      "cell_type": "code",
      "metadata": {
        "colab": {
          "base_uri": "https://localhost:8080/",
          "height": 518
        },
        "id": "t0EkD3BFe3bN",
        "outputId": "7b8c54ad-60d3-4b24-d091-22df4f74f3db"
      },
      "source": [
        "\n",
        "# plot\n",
        "ax = dfu.plot(kind='bar', figsize=(7, 5), xlabel='Topics', ylabel='Count', rot=0)\n",
        "ax.legend(title='Fake&Real', bbox_to_anchor=(1, 1), loc='upper left')\n",
        "plt.title(\"Topic wise fake and real tweets comparison\")"
      ],
      "execution_count": null,
      "outputs": [
        {
          "output_type": "error",
          "ename": "NameError",
          "evalue": "ignored",
          "traceback": [
            "\u001b[0;31m---------------------------------------------------------------------------\u001b[0m",
            "\u001b[0;31mNameError\u001b[0m                                 Traceback (most recent call last)",
            "\u001b[0;32m<ipython-input-33-eaa559a6d939>\u001b[0m in \u001b[0;36m<module>\u001b[0;34m()\u001b[0m\n\u001b[1;32m      3\u001b[0m \u001b[0max\u001b[0m \u001b[0;34m=\u001b[0m \u001b[0mdfu\u001b[0m\u001b[0;34m.\u001b[0m\u001b[0mplot\u001b[0m\u001b[0;34m(\u001b[0m\u001b[0mkind\u001b[0m\u001b[0;34m=\u001b[0m\u001b[0;34m'bar'\u001b[0m\u001b[0;34m,\u001b[0m \u001b[0mfigsize\u001b[0m\u001b[0;34m=\u001b[0m\u001b[0;34m(\u001b[0m\u001b[0;36m7\u001b[0m\u001b[0;34m,\u001b[0m \u001b[0;36m5\u001b[0m\u001b[0;34m)\u001b[0m\u001b[0;34m,\u001b[0m \u001b[0mxlabel\u001b[0m\u001b[0;34m=\u001b[0m\u001b[0;34m'Topics'\u001b[0m\u001b[0;34m,\u001b[0m \u001b[0mylabel\u001b[0m\u001b[0;34m=\u001b[0m\u001b[0;34m'Count'\u001b[0m\u001b[0;34m,\u001b[0m \u001b[0mrot\u001b[0m\u001b[0;34m=\u001b[0m\u001b[0;36m0\u001b[0m\u001b[0;34m)\u001b[0m\u001b[0;34m\u001b[0m\u001b[0;34m\u001b[0m\u001b[0m\n\u001b[1;32m      4\u001b[0m \u001b[0max\u001b[0m\u001b[0;34m.\u001b[0m\u001b[0mlegend\u001b[0m\u001b[0;34m(\u001b[0m\u001b[0mtitle\u001b[0m\u001b[0;34m=\u001b[0m\u001b[0;34m'Fake&Real'\u001b[0m\u001b[0;34m,\u001b[0m \u001b[0mbbox_to_anchor\u001b[0m\u001b[0;34m=\u001b[0m\u001b[0;34m(\u001b[0m\u001b[0;36m1\u001b[0m\u001b[0;34m,\u001b[0m \u001b[0;36m1\u001b[0m\u001b[0;34m)\u001b[0m\u001b[0;34m,\u001b[0m \u001b[0mloc\u001b[0m\u001b[0;34m=\u001b[0m\u001b[0;34m'upper left'\u001b[0m\u001b[0;34m)\u001b[0m\u001b[0;34m\u001b[0m\u001b[0;34m\u001b[0m\u001b[0m\n\u001b[0;32m----> 5\u001b[0;31m \u001b[0mplt\u001b[0m\u001b[0;34m.\u001b[0m\u001b[0mtitle\u001b[0m\u001b[0;34m(\u001b[0m\u001b[0;34m\"Topic wise fake and real tweets comparison\"\u001b[0m\u001b[0;34m)\u001b[0m\u001b[0;34m\u001b[0m\u001b[0;34m\u001b[0m\u001b[0m\n\u001b[0m",
            "\u001b[0;31mNameError\u001b[0m: name 'plt' is not defined"
          ]
        },
        {
          "output_type": "display_data",
          "data": {
            "image/png": "[encoded data removed]",
            "text/plain": [
              "<Figure size 504x360 with 1 Axes>"
            ]
          },
          "metadata": {
            "needs_background": "light"
          }
        }
      ]
    },
    {
      "cell_type": "code",
      "metadata": {
        "id": "wdOXKuelwdS0"
      },
      "source": [
        "#Building model with 2 topics\n",
        "# Build LDA model\n",
        "# lda_model2 = gensim.models.ldamodel.LdaModel(corpus=corpus,\n",
        "#                                            id2word=id2word,\n",
        "#                                            num_topics=2, \n",
        "#                                            random_state=100,\n",
        "#                                            update_every=1,\n",
        "#                                            chunksize=10,\n",
        "#                                            passes=10,\n",
        "#                                            alpha='symmetric',\n",
        "#                                            iterations=100,\n",
        "#                                            per_word_topics=True)\n",
        "\n",
        "lda_model2 = gensim.models.ldamodel.LdaModel(corpus=corpus,\n",
        "                                           id2word=id2word,\n",
        "                                           num_topics=4, \n",
        "                                           random_state=100,\n",
        "                                           update_every=1,\n",
        "                                           chunksize=10,\n",
        "                                           passes=10,\n",
        "                                           alpha='asymmetric',\n",
        "                                           eta = 0.61,\n",
        "                                           iterations=100,\n",
        "                                           per_word_topics=True)"
      ],
      "execution_count": null,
      "outputs": []
    },
    {
      "cell_type": "code",
      "metadata": {
        "colab": {
          "base_uri": "https://localhost:8080/"
        },
        "id": "Zo322EV5SE3l",
        "outputId": "3baf8a53-80e5-48d7-a004-33a8cbaec7f5"
      },
      "source": [
        "from gensim.models import CoherenceModel\n",
        "# Compute Coherence Score\n",
        "coherence_model_lda = CoherenceModel(model=lda_model2, texts=tweets_data, dictionary=id2word, coherence='c_v')\n",
        "coherence_lda = coherence_model_lda.get_coherence()\n",
        "print('\\nCoherence Score: ', coherence_lda)"
      ],
      "execution_count": null,
      "outputs": [
        {
          "output_type": "stream",
          "text": [
            "\n",
            "Coherence Score:  0.48728301630792586\n"
          ],
          "name": "stdout"
        }
      ]
    },
    {
      "cell_type": "code",
      "metadata": {
        "id": "etGonUCeSWGk"
      },
      "source": [
        ""
      ],
      "execution_count": null,
      "outputs": []
    },
    {
      "cell_type": "code",
      "metadata": {
        "colab": {
          "base_uri": "https://localhost:8080/"
        },
        "id": "rOjgj6-exPaU",
        "outputId": "d61919c1-567c-4ce6-cfba-f807c8dde281"
      },
      "source": [
        "print(lda_model2.print_topics())"
      ],
      "execution_count": null,
      "outputs": [
        {
          "output_type": "stream",
          "text": [
            "[(0, '0.070*\"case\" + 0.029*\"report\" + 0.029*\"test\" + 0.026*\"covid\" + 0.026*\"state\" + 0.026*\"new\" + 0.023*\"death\" + 0.018*\"number\" + 0.017*\"confirm\" + 0.015*\"today\"'), (1, '0.038*\"people\" + 0.029*\"covid\" + 0.012*\"spread\" + 0.011*\"country\" + 0.010*\"risk\" + 0.008*\"amp\" + 0.007*\"work\" + 0.006*\"mask\" + 0.006*\"visit\" + 0.005*\"child\"'), (2, '0.021*\"claim\" + 0.020*\"vaccine\" + 0.019*\"virus\" + 0.019*\"covid\" + 0.017*\"pandemic\" + 0.014*\"die\" + 0.014*\"patient\" + 0.010*\"doctor\" + 0.010*\"hospital\" + 0.008*\"cure\"'), (3, '0.011*\"news\" + 0.011*\"government\" + 0.010*\"lockdown\" + 0.010*\"measure\" + 0.009*\"man\" + 0.009*\"police\" + 0.009*\"restriction\" + 0.008*\"announce\" + 0.007*\"add\" + 0.006*\"explain\"')]\n"
          ],
          "name": "stdout"
        }
      ]
    },
    {
      "cell_type": "code",
      "metadata": {
        "colab": {
          "base_uri": "https://localhost:8080/",
          "height": 515
        },
        "id": "EJqTH3ywxUQl",
        "outputId": "69b692d8-085d-469b-dd8f-3e9cfd3a5e2c"
      },
      "source": [
        "import matplotlib.colors as mcolors\n",
        "\n",
        "cols = [color for name, color in mcolors.TABLEAU_COLORS.items()]  # more colors: 'mcolors.XKCD_COLORS'\n",
        "\n",
        "cloud = WordCloud(stopwords=stop_words,\n",
        "                  background_color='white',\n",
        "                  width=2500,\n",
        "                  height=1800,\n",
        "                  max_words=10,\n",
        "                  colormap='tab10',\n",
        "                  color_func=lambda *args, **kwargs: cols[i],\n",
        "                  prefer_horizontal=1.0)\n",
        "\n",
        "topics = lda_model2.show_topics(formatted=False)\n",
        "for i in range(0,2):\n",
        "    topic_words = dict(topics[i][1])\n",
        "    cloud.generate_from_frequencies(topic_words, max_font_size=300)\n",
        "    plt.gca().imshow(cloud)\n",
        "    plt.gca().set_title('Topic ' + str(i), fontdict=dict(size=16))\n",
        "    plt.gca().axis('off')\n",
        "    plt.show()\n"
      ],
      "execution_count": null,
      "outputs": [
        {
          "output_type": "display_data",
          "data": {
            "image/png": "[encoded data removed]",
            "text/plain": [
              "<Figure size 432x288 with 1 Axes>"
            ]
          },
          "metadata": {
            "needs_background": "light"
          }
        },
        {
          "output_type": "display_data",
          "data": {
            "image/png": "[encoded data removed]",
            "text/plain": [
              "<Figure size 432x288 with 1 Axes>"
            ]
          },
          "metadata": {
            "needs_background": "light"
          }
        }
      ]
    },
    {
      "cell_type": "code",
      "metadata": {
        "id": "8WNt9jXfyHRe"
      },
      "source": [
        "\n",
        "topics = lda_model2.show_topics(formatted=False)"
      ],
      "execution_count": null,
      "outputs": []
    },
    {
      "cell_type": "code",
      "metadata": {
        "colab": {
          "base_uri": "https://localhost:8080/"
        },
        "id": "nwj5vm8axzMs",
        "outputId": "f8ba807e-61a2-4e2d-aad1-c386881e67ce"
      },
      "source": [
        "\n",
        "topics"
      ],
      "execution_count": null,
      "outputs": [
        {
          "output_type": "execute_result",
          "data": {
            "text/plain": [
              "[(0,\n",
              "  [('case', 0.0701615),\n",
              "   ('report', 0.029498627),\n",
              "   ('test', 0.028517896),\n",
              "   ('covid', 0.026413726),\n",
              "   ('state', 0.026191244),\n",
              "   ('new', 0.02602658),\n",
              "   ('death', 0.023362173),\n",
              "   ('number', 0.017988263),\n",
              "   ('confirm', 0.017316636),\n",
              "   ('today', 0.014943904)]),\n",
              " (1,\n",
              "  [('people', 0.0384777),\n",
              "   ('covid', 0.028734127),\n",
              "   ('spread', 0.011964982),\n",
              "   ('country', 0.010663466),\n",
              "   ('risk', 0.010270071),\n",
              "   ('amp', 0.008006418),\n",
              "   ('work', 0.0066663423),\n",
              "   ('mask', 0.0057424745),\n",
              "   ('visit', 0.0056848205),\n",
              "   ('child', 0.0051519955)]),\n",
              " (2,\n",
              "  [('claim', 0.020584354),\n",
              "   ('vaccine', 0.020027911),\n",
              "   ('virus', 0.019368129),\n",
              "   ('covid', 0.019155689),\n",
              "   ('pandemic', 0.01654614),\n",
              "   ('die', 0.013844307),\n",
              "   ('patient', 0.013613669),\n",
              "   ('doctor', 0.010467149),\n",
              "   ('hospital', 0.010410543),\n",
              "   ('cure', 0.007769237)]),\n",
              " (3,\n",
              "  [('news', 0.010862843),\n",
              "   ('government', 0.010543032),\n",
              "   ('lockdown', 0.009745963),\n",
              "   ('measure', 0.009706587),\n",
              "   ('man', 0.009291801),\n",
              "   ('police', 0.009162337),\n",
              "   ('restriction', 0.00908928),\n",
              "   ('announce', 0.008114258),\n",
              "   ('add', 0.0067486926),\n",
              "   ('explain', 0.005783545)])]"
            ]
          },
          "metadata": {},
          "execution_count": 110
        }
      ]
    },
    {
      "cell_type": "code",
      "metadata": {
        "colab": {
          "base_uri": "https://localhost:8080/"
        },
        "id": "cyoAw21AyJ14",
        "outputId": "f976f895-518e-4812-bc51-616558560967"
      },
      "source": [
        " dict(topics[0][1])"
      ],
      "execution_count": null,
      "outputs": [
        {
          "output_type": "execute_result",
          "data": {
            "text/plain": [
              "{'case': 0.0701615,\n",
              " 'confirm': 0.017316636,\n",
              " 'covid': 0.026413726,\n",
              " 'death': 0.023362173,\n",
              " 'new': 0.02602658,\n",
              " 'number': 0.017988263,\n",
              " 'report': 0.029498627,\n",
              " 'state': 0.026191244,\n",
              " 'test': 0.028517896,\n",
              " 'today': 0.014943904}"
            ]
          },
          "metadata": {},
          "execution_count": 111
        }
      ]
    },
    {
      "cell_type": "code",
      "metadata": {
        "id": "DA0zY8mlyTVy"
      },
      "source": [
        "df_topic_keywords = format_topics_sentences(ldamodel=lda_model2, corpus=corpus, texts=tweets_data)\n"
      ],
      "execution_count": null,
      "outputs": []
    },
    {
      "cell_type": "code",
      "metadata": {
        "colab": {
          "base_uri": "https://localhost:8080/",
          "height": 536
        },
        "id": "oMAu46uGzrCg",
        "outputId": "d2000101-214c-4acb-d19a-3c4c19d4f489"
      },
      "source": [
        "# Format\n",
        "df_dominant_topic2 = df_topic_keywords.reset_index()\n",
        "df_dominant_topic2.columns = ['Document_No', 'Dominant_Topic', 'Topic_Perc_Contrib', 'Keywords', 'Text']\n",
        "df_dominant_topic2.head(10)"
      ],
      "execution_count": null,
      "outputs": [
        {
          "output_type": "execute_result",
          "data": {
            "text/html": [
              "<div>\n",
              "<style scoped>\n",
              "    .dataframe tbody tr th:only-of-type {\n",
              "        vertical-align: middle;\n",
              "    }\n",
              "\n",
              "    .dataframe tbody tr th {\n",
              "        vertical-align: top;\n",
              "    }\n",
              "\n",
              "    .dataframe thead th {\n",
              "        text-align: right;\n",
              "    }\n",
              "</style>\n",
              "<table border=\"1\" class=\"dataframe\">\n",
              "  <thead>\n",
              "    <tr style=\"text-align: right;\">\n",
              "      <th></th>\n",
              "      <th>Document_No</th>\n",
              "      <th>Dominant_Topic</th>\n",
              "      <th>Topic_Perc_Contrib</th>\n",
              "      <th>Keywords</th>\n",
              "      <th>Text</th>\n",
              "    </tr>\n",
              "  </thead>\n",
              "  <tbody>\n",
              "    <tr>\n",
              "      <th>0</th>\n",
              "      <td>0</td>\n",
              "      <td>0.0</td>\n",
              "      <td>0.8113</td>\n",
              "      <td>case, report, test, covid, state, new, death, ...</td>\n",
              "      <td>[currently, report, death, general, discrepanc...</td>\n",
              "    </tr>\n",
              "    <tr>\n",
              "      <th>1</th>\n",
              "      <td>1</td>\n",
              "      <td>0.0</td>\n",
              "      <td>0.9321</td>\n",
              "      <td>case, report, test, covid, state, new, death, ...</td>\n",
              "      <td>[state, report, death, small, rise, last, repo...</td>\n",
              "    </tr>\n",
              "    <tr>\n",
              "      <th>2</th>\n",
              "      <td>2</td>\n",
              "      <td>2.0</td>\n",
              "      <td>0.3073</td>\n",
              "      <td>claim, vaccine, virus, covid, pandemic, die, p...</td>\n",
              "      <td>[politically, correct, woman, almost, pandemic...</td>\n",
              "    </tr>\n",
              "    <tr>\n",
              "      <th>3</th>\n",
              "      <td>3</td>\n",
              "      <td>0.0</td>\n",
              "      <td>0.8778</td>\n",
              "      <td>case, report, test, covid, state, new, death, ...</td>\n",
              "      <td>[testing, laboratory, test, icmrdelhi]</td>\n",
              "    </tr>\n",
              "    <tr>\n",
              "      <th>4</th>\n",
              "      <td>4</td>\n",
              "      <td>0.0</td>\n",
              "      <td>0.9588</td>\n",
              "      <td>case, report, test, covid, state, new, death, ...</td>\n",
              "      <td>[populous, state, generate, large, case, count...</td>\n",
              "    </tr>\n",
              "    <tr>\n",
              "      <th>5</th>\n",
              "      <td>5</td>\n",
              "      <td>1.0</td>\n",
              "      <td>0.3695</td>\n",
              "      <td>people, covid, spread, country, risk, amp, wor...</td>\n",
              "      <td>[find, average, person, infect, people, datum,...</td>\n",
              "    </tr>\n",
              "    <tr>\n",
              "      <th>6</th>\n",
              "      <td>6</td>\n",
              "      <td>1.0</td>\n",
              "      <td>0.9042</td>\n",
              "      <td>people, covid, spread, country, risk, amp, wor...</td>\n",
              "      <td>[covid, symptom, stay_home, away, people, lear...</td>\n",
              "    </tr>\n",
              "    <tr>\n",
              "      <th>7</th>\n",
              "      <td>7</td>\n",
              "      <td>2.0</td>\n",
              "      <td>0.8300</td>\n",
              "      <td>claim, vaccine, virus, covid, pandemic, die, p...</td>\n",
              "      <td>[call, chaotic, disaster, dedqzehasb]</td>\n",
              "    </tr>\n",
              "    <tr>\n",
              "      <th>8</th>\n",
              "      <td>8</td>\n",
              "      <td>3.0</td>\n",
              "      <td>0.6120</td>\n",
              "      <td>news, government, lockdown, measure, man, poli...</td>\n",
              "      <td>[clearly, leave, kind, game_plan]</td>\n",
              "    </tr>\n",
              "    <tr>\n",
              "      <th>9</th>\n",
              "      <td>9</td>\n",
              "      <td>2.0</td>\n",
              "      <td>0.9029</td>\n",
              "      <td>claim, vaccine, virus, covid, pandemic, die, p...</td>\n",
              "      <td>[retraction, chloroquine, macrolide, treatment...</td>\n",
              "    </tr>\n",
              "  </tbody>\n",
              "</table>\n",
              "</div>"
            ],
            "text/plain": [
              "   Document_No  ...                                               Text\n",
              "0            0  ...  [currently, report, death, general, discrepanc...\n",
              "1            1  ...  [state, report, death, small, rise, last, repo...\n",
              "2            2  ...  [politically, correct, woman, almost, pandemic...\n",
              "3            3  ...             [testing, laboratory, test, icmrdelhi]\n",
              "4            4  ...  [populous, state, generate, large, case, count...\n",
              "5            5  ...  [find, average, person, infect, people, datum,...\n",
              "6            6  ...  [covid, symptom, stay_home, away, people, lear...\n",
              "7            7  ...              [call, chaotic, disaster, dedqzehasb]\n",
              "8            8  ...                  [clearly, leave, kind, game_plan]\n",
              "9            9  ...  [retraction, chloroquine, macrolide, treatment...\n",
              "\n",
              "[10 rows x 5 columns]"
            ]
          },
          "metadata": {},
          "execution_count": 113
        }
      ]
    },
    {
      "cell_type": "code",
      "metadata": {
        "id": "xDzFgBjp0OO5"
      },
      "source": [
        "df_dominant_topic2['label'] = train['label']"
      ],
      "execution_count": null,
      "outputs": []
    },
    {
      "cell_type": "code",
      "metadata": {
        "colab": {
          "base_uri": "https://localhost:8080/"
        },
        "id": "ULCc6Dfw0EJW",
        "outputId": "7be77b30-3843-49cc-d418-dbe109064d19"
      },
      "source": [
        "\n",
        "df_dominant_topic2.groupby(\"Dominant_Topic\").label.value_counts()"
      ],
      "execution_count": null,
      "outputs": [
        {
          "output_type": "execute_result",
          "data": {
            "text/plain": [
              "Dominant_Topic  label\n",
              "0.0             real     1949\n",
              "                fake      514\n",
              "1.0             real     1031\n",
              "                fake      755\n",
              "2.0             fake     1230\n",
              "                real      205\n",
              "3.0             fake      561\n",
              "                real      175\n",
              "Name: label, dtype: int64"
            ]
          },
          "metadata": {},
          "execution_count": 115
        }
      ]
    },
    {
      "cell_type": "code",
      "metadata": {
        "id": "hi2Feaez0Iqr"
      },
      "source": [
        "dfu = df_dominant_topic2.groupby(\"Dominant_Topic\").label.value_counts().unstack()"
      ],
      "execution_count": null,
      "outputs": []
    },
    {
      "cell_type": "code",
      "metadata": {
        "colab": {
          "base_uri": "https://localhost:8080/",
          "height": 367
        },
        "id": "Xt1EyMFL0psf",
        "outputId": "cdfa01cf-e51f-4ab7-d9e1-c35ffda3102d"
      },
      "source": [
        "\n",
        "# plot\n",
        "ax = dfu.plot(kind='bar', figsize=(7, 5), xlabel='Topics', ylabel='Count', rot=0)\n",
        "ax.legend(title='Fake&Real', bbox_to_anchor=(1, 1), loc='upper left')\n",
        "plt.title(\"Topic wise fake and real tweets comparison\")"
      ],
      "execution_count": null,
      "outputs": [
        {
          "output_type": "execute_result",
          "data": {
            "text/plain": [
              "Text(0.5, 1.0, 'Topic wise fake and real tweets comparison')"
            ]
          },
          "metadata": {},
          "execution_count": 117
        },
        {
          "output_type": "display_data",
          "data": {
            "image/png": "[encoded data removed]",
            "text/plain": [
              "<Figure size 504x360 with 1 Axes>"
            ]
          },
          "metadata": {
            "needs_background": "light"
          }
        }
      ]
    },
    {
      "cell_type": "code",
      "metadata": {
        "id": "TA_RCGxj15E2"
      },
      "source": [
        "#Hyper parameter tuning"
      ],
      "execution_count": null,
      "outputs": []
    },
    {
      "cell_type": "code",
      "metadata": {
        "id": "7oPjc4TFS8IS"
      },
      "source": [
        "# supporting function\n",
        "def compute_coherence_values(corpus, dictionary, k, a, b):\n",
        "    \n",
        "    lda_model = gensim.models.LdaMulticore(corpus=corpus,\n",
        "                                           id2word=dictionary,\n",
        "                                           num_topics=k, \n",
        "                                           random_state=100,\n",
        "                                           chunksize=100,\n",
        "                                           passes=10,\n",
        "                                           alpha=a,\n",
        "                                           eta=b)\n",
        "    \n",
        "    coherence_model_lda = CoherenceModel(model=lda_model, texts=tweets_data, dictionary=id2word, coherence='c_v')\n",
        "    \n",
        "    return coherence_model_lda.get_coherence()"
      ],
      "execution_count": null,
      "outputs": []
    },
    {
      "cell_type": "code",
      "metadata": {
        "id": "WIu2OeFhUf21"
      },
      "source": [
        "corpus_sets = [# gensim.utils.ClippedCorpus(corpus, num_of_docs*0.25), \n",
        "               # gensim.utils.ClippedCorpus(corpus, num_of_docs*0.5), \n",
        "               gensim.utils.ClippedCorpus(corpus, len(corpus)*0.75), \n",
        "               corpus]"
      ],
      "execution_count": null,
      "outputs": []
    },
    {
      "cell_type": "code",
      "metadata": {
        "colab": {
          "base_uri": "https://localhost:8080/"
        },
        "id": "HUt3qisQTHGL",
        "outputId": "9dbf9ca5-51f5-49d6-b5be-9ff5818fec59"
      },
      "source": [
        "import tqdm\n",
        "import numpy as np\n",
        "grid = {}\n",
        "grid['Validation_Set'] = {}\n",
        "# Topics range\n",
        "min_topics = 2\n",
        "max_topics = 7\n",
        "step_size = 1\n",
        "topics_range = range(min_topics, max_topics, step_size)\n",
        "# Alpha parameter\n",
        "alpha = list(np.arange(0.01, 1, 0.3))\n",
        "alpha.append('symmetric')\n",
        "alpha.append('asymmetric')\n",
        "# Beta parameter\n",
        "beta = list(np.arange(0.01, 1, 0.3))\n",
        "beta.append('symmetric')\n",
        "# Validation sets\n",
        "num_of_docs = len(corpus)\n",
        "corpus_sets = [# gensim.utils.ClippedCorpus(corpus, num_of_docs*0.25), \n",
        "               # gensim.utils.ClippedCorpus(corpus, num_of_docs*0.5), \n",
        "               gensim.utils.ClippedCorpus(corpus, int(num_of_docs*0.5))]\n",
        "corpus_title = ['50% Corpus']\n",
        "model_results = {'Validation_Set': [],\n",
        "                 'Topics': [],\n",
        "                 'Alpha': [],\n",
        "                 'Beta': [],\n",
        "                 'Coherence': []\n",
        "                }\n",
        "# Can take a long time to run\n",
        "if 1 == 1:\n",
        "    pbar = tqdm.tqdm(total=25)\n",
        "    \n",
        "    # iterate through validation corpuses\n",
        "    for i in range(len(corpus_sets)):\n",
        "        # iterate through number of topics\n",
        "        for k in topics_range:\n",
        "            # iterate through alpha values\n",
        "            for a in alpha:\n",
        "                # iterare through beta values\n",
        "                for b in beta:\n",
        "                    # get the coherence score for the given parameters\n",
        "                    cv = compute_coherence_values(corpus=corpus_sets[i], dictionary=id2word, \n",
        "                                                  k=k, a=a, b=b)\n",
        "                    # Save the model results\n",
        "                    model_results['Validation_Set'].append(corpus_title[i])\n",
        "                    model_results['Topics'].append(k)\n",
        "                    model_results['Alpha'].append(a)\n",
        "                    model_results['Beta'].append(b)\n",
        "                    model_results['Coherence'].append(cv)\n",
        "                    \n",
        "                    pbar.update(1)\n",
        "    pd.DataFrame(model_results).to_csv('lda_tuning_results.csv', index=False)\n",
        "    pbar.close()"
      ],
      "execution_count": null,
      "outputs": [
        {
          "output_type": "stream",
          "text": [
            "\n",
            "\n",
            "\n",
            "  0%|          | 0/25 [00:00<?, ?it/s]\u001b[A\u001b[A\u001b[A/usr/local/lib/python3.7/dist-packages/gensim/models/ldamodel.py:1023: RuntimeWarning: divide by zero encountered in log\n",
            "  diff = np.log(self.expElogbeta)\n",
            "\n",
            "\n",
            "\n",
            "  4%|▍         | 1/25 [00:12<04:53, 12.23s/it]\u001b[A\u001b[A\u001b[A\n",
            "\n",
            "\n",
            "  8%|▊         | 2/25 [00:26<05:08, 13.43s/it]\u001b[A\u001b[A\u001b[A\n",
            "\n",
            "\n",
            " 12%|█▏        | 3/25 [00:42<05:19, 14.53s/it]\u001b[A\u001b[A\u001b[A\n",
            "\n",
            "\n",
            " 16%|█▌        | 4/25 [00:58<05:21, 15.32s/it]\u001b[A\u001b[A\u001b[A\n",
            "\n",
            "\n",
            " 20%|██        | 5/25 [01:14<05:06, 15.30s/it]\u001b[A\u001b[A\u001b[A\n",
            "\n",
            "\n",
            " 24%|██▍       | 6/25 [01:26<04:32, 14.32s/it]\u001b[A\u001b[A\u001b[A\n",
            "\n",
            "\n",
            " 28%|██▊       | 7/25 [01:42<04:24, 14.72s/it]\u001b[A\u001b[A\u001b[A\n",
            "\n",
            "\n",
            " 32%|███▏      | 8/25 [01:59<04:24, 15.58s/it]\u001b[A\u001b[A\u001b[A\n",
            "\n",
            "\n",
            " 36%|███▌      | 9/25 [02:17<04:23, 16.48s/it]\u001b[A\u001b[A\u001b[A\n",
            "\n",
            "\n",
            " 40%|████      | 10/25 [02:34<04:07, 16.53s/it]\u001b[A\u001b[A\u001b[A\n",
            "\n",
            "\n",
            " 44%|████▍     | 11/25 [02:47<03:33, 15.27s/it]\u001b[A\u001b[A\u001b[A\n",
            "\n",
            "\n",
            " 48%|████▊     | 12/25 [03:02<03:17, 15.18s/it]\u001b[A\u001b[A\u001b[A\n",
            "\n",
            "\n",
            " 52%|█████▏    | 13/25 [03:19<03:08, 15.75s/it]\u001b[A\u001b[A\u001b[A\n",
            "\n",
            "\n",
            " 56%|█████▌    | 14/25 [03:36<03:00, 16.37s/it]\u001b[A\u001b[A\u001b[A\n",
            "\n",
            "\n",
            " 60%|██████    | 15/25 [03:52<02:42, 16.23s/it]\u001b[A\u001b[A\u001b[A\n",
            "\n",
            "\n",
            " 64%|██████▍   | 16/25 [04:04<02:14, 14.95s/it]\u001b[A\u001b[A\u001b[A\n",
            "\n",
            "\n",
            " 68%|██████▊   | 17/25 [04:19<01:59, 14.88s/it]\u001b[A\u001b[A\u001b[A\n",
            "\n",
            "\n",
            " 72%|███████▏  | 18/25 [04:35<01:46, 15.24s/it]\u001b[A\u001b[A\u001b[A\n",
            "\n",
            "\n",
            " 76%|███████▌  | 19/25 [04:52<01:35, 15.90s/it]\u001b[A\u001b[A\u001b[A\n",
            "\n",
            "\n",
            "  2%|▏         | 2/100 [06:01<4:55:07, 180.69s/it]\n",
            "\n",
            "\n",
            "\n",
            " 84%|████████▍ | 21/25 [05:20<00:58, 14.74s/it]\u001b[A\u001b[A\u001b[A\n",
            "\n",
            "\n",
            " 88%|████████▊ | 22/25 [05:36<00:44, 14.90s/it]\u001b[A\u001b[A\u001b[A\n",
            "\n",
            "\n",
            " 92%|█████████▏| 23/25 [05:53<00:31, 15.53s/it]\u001b[A\u001b[A\u001b[A\n",
            "\n",
            "\n",
            " 96%|█████████▌| 24/25 [06:10<00:16, 16.21s/it]\u001b[A\u001b[A\u001b[A\n",
            "\n",
            "\n",
            "100%|██████████| 25/25 [06:27<00:00, 16.28s/it]\u001b[A\u001b[A\u001b[A\n",
            "\n",
            "\n",
            "26it [06:40, 15.23s/it]                        \u001b[A\u001b[A\u001b[A\n",
            "\n",
            "\n",
            "27it [06:54, 15.01s/it]\u001b[A\u001b[A\u001b[A\n",
            "\n",
            "\n",
            "28it [07:11, 15.54s/it]\u001b[A\u001b[A\u001b[A\n",
            "\n",
            "\n",
            "29it [07:29, 16.17s/it]\u001b[A\u001b[A\u001b[A\n",
            "\n",
            "\n",
            "30it [07:45, 16.17s/it]\u001b[A\u001b[A\u001b[A\n",
            "\n",
            "\n",
            "31it [07:58, 15.36s/it]\u001b[A\u001b[A\u001b[A\n",
            "\n",
            "\n",
            "32it [08:14, 15.52s/it]\u001b[A\u001b[A\u001b[A\n",
            "\n",
            "\n",
            "33it [08:32, 16.18s/it]\u001b[A\u001b[A\u001b[A\n",
            "\n",
            "\n",
            "34it [08:49, 16.53s/it]\u001b[A\u001b[A\u001b[A\n",
            "\n",
            "\n",
            "35it [09:05, 16.36s/it]\u001b[A\u001b[A\u001b[A\n",
            "\n",
            "\n",
            "36it [09:19, 15.49s/it]\u001b[A\u001b[A\u001b[A\n",
            "\n",
            "\n",
            "37it [09:35, 15.76s/it]\u001b[A\u001b[A\u001b[A\n",
            "\n",
            "\n",
            "38it [09:54, 16.80s/it]\u001b[A\u001b[A\u001b[A\n",
            "\n",
            "\n",
            "39it [10:14, 17.77s/it]\u001b[A\u001b[A\u001b[A\n",
            "\n",
            "\n",
            "40it [10:31, 17.53s/it]\u001b[A\u001b[A\u001b[A\n",
            "\n",
            "\n",
            "41it [10:44, 16.19s/it]\u001b[A\u001b[A\u001b[A\n",
            "\n",
            "\n",
            "42it [11:00, 16.06s/it]\u001b[A\u001b[A\u001b[A\n",
            "\n",
            "\n",
            "43it [11:17, 16.42s/it]\u001b[A\u001b[A\u001b[A\n",
            "\n",
            "\n",
            "44it [11:36, 17.06s/it]\u001b[A\u001b[A\u001b[A\n",
            "\n",
            "\n",
            "45it [11:52, 16.66s/it]\u001b[A\u001b[A\u001b[A\n",
            "\n",
            "\n",
            "46it [12:03, 15.22s/it]\u001b[A\u001b[A\u001b[A\n",
            "\n",
            "\n",
            "47it [12:19, 15.21s/it]\u001b[A\u001b[A\u001b[A\n",
            "\n",
            "\n",
            "48it [12:35, 15.44s/it]\u001b[A\u001b[A\u001b[A\n",
            "\n",
            "\n",
            "49it [12:51, 15.88s/it]\u001b[A\u001b[A\u001b[A\n",
            "\n",
            "\n",
            "50it [13:07, 15.65s/it]\u001b[A\u001b[A\u001b[A\n",
            "\n",
            "\n",
            "51it [13:20, 15.00s/it]\u001b[A\u001b[A\u001b[A\n",
            "\n",
            "\n",
            "52it [13:37, 15.58s/it]\u001b[A\u001b[A\u001b[A\n",
            "\n",
            "\n",
            "53it [13:57, 16.80s/it]\u001b[A\u001b[A\u001b[A\n",
            "\n",
            "\n",
            "54it [14:17, 17.79s/it]\u001b[A\u001b[A\u001b[A\n",
            "\n",
            "\n",
            "55it [14:33, 17.46s/it]\u001b[A\u001b[A\u001b[A\n",
            "\n",
            "\n",
            "56it [14:47, 16.35s/it]\u001b[A\u001b[A\u001b[A\n",
            "\n",
            "\n",
            "57it [15:03, 16.12s/it]\u001b[A\u001b[A\u001b[A\n",
            "\n",
            "\n",
            "58it [15:20, 16.55s/it]\u001b[A\u001b[A\u001b[A\n",
            "\n",
            "\n",
            "59it [15:39, 17.09s/it]\u001b[A\u001b[A\u001b[A\n",
            "\n",
            "\n",
            "60it [15:54, 16.70s/it]\u001b[A\u001b[A\u001b[A\n",
            "\n",
            "\n",
            "61it [16:08, 15.78s/it]\u001b[A\u001b[A\u001b[A\n",
            "\n",
            "\n",
            "62it [16:24, 15.94s/it]\u001b[A\u001b[A\u001b[A\n",
            "\n",
            "\n",
            "63it [16:42, 16.57s/it]\u001b[A\u001b[A\u001b[A\n",
            "\n",
            "\n",
            "64it [17:00, 16.96s/it]\u001b[A\u001b[A\u001b[A\n",
            "\n",
            "\n",
            "65it [17:17, 16.75s/it]\u001b[A\u001b[A\u001b[A\n",
            "\n",
            "\n",
            "66it [17:31, 16.15s/it]\u001b[A\u001b[A\u001b[A\n",
            "\n",
            "\n",
            "67it [17:49, 16.65s/it]\u001b[A\u001b[A\u001b[A\n",
            "\n",
            "\n",
            "68it [18:09, 17.59s/it]\u001b[A\u001b[A\u001b[A\n",
            "\n",
            "\n",
            "69it [18:29, 18.48s/it]\u001b[A\u001b[A\u001b[A\n",
            "\n",
            "\n",
            "70it [18:46, 18.02s/it]\u001b[A\u001b[A\u001b[A\n",
            "\n",
            "\n",
            "71it [18:59, 16.47s/it]\u001b[A\u001b[A\u001b[A\n",
            "\n",
            "\n",
            "72it [19:15, 16.37s/it]\u001b[A\u001b[A\u001b[A\n",
            "\n",
            "\n",
            "73it [19:33, 16.72s/it]\u001b[A\u001b[A\u001b[A\n",
            "\n",
            "\n",
            "74it [19:51, 17.27s/it]\u001b[A\u001b[A\u001b[A\n",
            "\n",
            "\n",
            "75it [20:07, 16.70s/it]\u001b[A\u001b[A\u001b[A\n",
            "\n",
            "\n",
            "76it [20:19, 15.31s/it]\u001b[A\u001b[A\u001b[A\n",
            "\n",
            "\n",
            "77it [20:34, 15.20s/it]\u001b[A\u001b[A\u001b[A\n",
            "\n",
            "\n",
            "78it [20:50, 15.53s/it]\u001b[A\u001b[A\u001b[A\n",
            "\n",
            "\n",
            "79it [21:07, 15.94s/it]\u001b[A\u001b[A\u001b[A\n",
            "\n",
            "\n",
            "80it [21:22, 15.52s/it]\u001b[A\u001b[A\u001b[A\n",
            "\n",
            "\n",
            "81it [21:36, 15.07s/it]\u001b[A\u001b[A\u001b[A\n",
            "\n",
            "\n",
            "82it [21:52, 15.54s/it]\u001b[A\u001b[A\u001b[A\n",
            "\n",
            "\n",
            "83it [22:11, 16.46s/it]\u001b[A\u001b[A\u001b[A\n",
            "\n",
            "\n",
            "84it [22:30, 17.38s/it]\u001b[A\u001b[A\u001b[A\n",
            "\n",
            "\n",
            "85it [22:47, 17.14s/it]\u001b[A\u001b[A\u001b[A\n",
            "\n",
            "\n",
            "86it [23:02, 16.45s/it]\u001b[A\u001b[A\u001b[A\n",
            "\n",
            "\n",
            "87it [23:18, 16.23s/it]\u001b[A\u001b[A\u001b[A\n",
            "\n",
            "\n",
            "88it [23:35, 16.59s/it]\u001b[A\u001b[A\u001b[A\n",
            "\n",
            "\n",
            "89it [23:54, 17.19s/it]\u001b[A\u001b[A\u001b[A\n",
            "\n",
            "\n",
            "90it [24:09, 16.57s/it]\u001b[A\u001b[A\u001b[A\n",
            "\n",
            "\n",
            "91it [24:22, 15.73s/it]\u001b[A\u001b[A\u001b[A\n",
            "\n",
            "\n",
            "92it [24:40, 16.14s/it]\u001b[A\u001b[A\u001b[A\n",
            "\n",
            "\n",
            "93it [24:58, 16.92s/it]\u001b[A\u001b[A\u001b[A\n",
            "\n",
            "\n",
            "94it [25:16, 17.06s/it]\u001b[A\u001b[A\u001b[A\n",
            "\n",
            "\n",
            "95it [25:32, 16.77s/it]\u001b[A\u001b[A\u001b[A\n",
            "\n",
            "\n",
            "96it [25:46, 16.06s/it]\u001b[A\u001b[A\u001b[A\n",
            "\n",
            "\n",
            "97it [26:03, 16.44s/it]\u001b[A\u001b[A\u001b[A\n",
            "\n",
            "\n",
            "98it [26:23, 17.38s/it]\u001b[A\u001b[A\u001b[A\n",
            "\n",
            "\n",
            "99it [26:44, 18.38s/it]\u001b[A\u001b[A\u001b[A\n",
            "\n",
            "\n",
            "100it [27:00, 17.72s/it]\u001b[A\u001b[A\u001b[A\n",
            "\n",
            "\n",
            "101it [27:13, 16.20s/it]\u001b[A\u001b[A\u001b[A\n",
            "\n",
            "\n",
            "102it [27:28, 16.04s/it]\u001b[A\u001b[A\u001b[A\n",
            "\n",
            "\n",
            "103it [27:45, 16.33s/it]\u001b[A\u001b[A\u001b[A\n",
            "\n",
            "\n",
            "104it [28:03, 16.80s/it]\u001b[A\u001b[A\u001b[A\n",
            "\n",
            "\n",
            "105it [28:18, 16.29s/it]\u001b[A\u001b[A\u001b[A\n",
            "\n",
            "\n",
            "106it [28:30, 15.06s/it]\u001b[A\u001b[A\u001b[A\n",
            "\n",
            "\n",
            "107it [28:45, 14.83s/it]\u001b[A\u001b[A\u001b[A\n",
            "\n",
            "\n",
            "108it [29:01, 15.17s/it]\u001b[A\u001b[A\u001b[A\n",
            "\n",
            "\n",
            "109it [29:17, 15.59s/it]\u001b[A\u001b[A\u001b[A\n",
            "\n",
            "\n",
            "110it [29:32, 15.28s/it]\u001b[A\u001b[A\u001b[A\n",
            "\n",
            "\n",
            "111it [29:46, 14.84s/it]\u001b[A\u001b[A\u001b[A\n",
            "\n",
            "\n",
            "112it [30:03, 15.50s/it]\u001b[A\u001b[A\u001b[A\n",
            "\n",
            "\n",
            "113it [30:21, 16.44s/it]\u001b[A\u001b[A\u001b[A\n",
            "\n",
            "\n",
            "114it [30:41, 17.29s/it]\u001b[A\u001b[A\u001b[A\n",
            "\n",
            "\n",
            "115it [30:56, 16.79s/it]\u001b[A\u001b[A\u001b[A\n",
            "\n",
            "\n",
            "116it [31:10, 16.03s/it]\u001b[A\u001b[A\u001b[A\n",
            "\n",
            "\n",
            "117it [31:26, 15.90s/it]\u001b[A\u001b[A\u001b[A\n",
            "\n",
            "\n",
            "118it [31:44, 16.48s/it]\u001b[A\u001b[A\u001b[A\n",
            "\n",
            "\n",
            "119it [32:02, 17.04s/it]\u001b[A\u001b[A\u001b[A\n",
            "\n",
            "\n",
            "120it [32:17, 16.44s/it]\u001b[A\u001b[A\u001b[A\n",
            "\n",
            "\n",
            "121it [32:31, 15.77s/it]\u001b[A\u001b[A\u001b[A\n",
            "\n",
            "\n",
            "122it [32:49, 16.21s/it]\u001b[A\u001b[A\u001b[A\n",
            "\n",
            "\n",
            "123it [33:08, 16.98s/it]\u001b[A\u001b[A\u001b[A\n",
            "\n",
            "\n",
            "124it [33:27, 17.70s/it]\u001b[A\u001b[A\u001b[A\n",
            "\n",
            "\n",
            "125it [33:42, 17.05s/it]\u001b[A\u001b[A\u001b[A\n",
            "\n",
            "\n",
            "126it [33:56, 16.14s/it]\u001b[A\u001b[A\u001b[A\n",
            "\n",
            "\n",
            "127it [34:14, 16.48s/it]\u001b[A\u001b[A\u001b[A\n",
            "\n",
            "\n",
            "128it [34:33, 17.44s/it]\u001b[A\u001b[A\u001b[A\n",
            "\n",
            "\n",
            "129it [34:54, 18.48s/it]\u001b[A\u001b[A\u001b[A\n",
            "\n",
            "\n",
            "130it [35:10, 17.68s/it]\u001b[A\u001b[A\u001b[A\n",
            "\n",
            "\n",
            "131it [35:23, 16.16s/it]\u001b[A\u001b[A\u001b[A\n",
            "\n",
            "\n",
            "132it [35:38, 15.85s/it]\u001b[A\u001b[A\u001b[A\n",
            "\n",
            "\n",
            "133it [35:55, 16.24s/it]\u001b[A\u001b[A\u001b[A\n",
            "\n",
            "\n",
            "134it [36:13, 16.77s/it]\u001b[A\u001b[A\u001b[A\n",
            "\n",
            "\n",
            "135it [36:28, 16.15s/it]\u001b[A\u001b[A\u001b[A\n",
            "\n",
            "\n",
            "136it [36:40, 14.91s/it]\u001b[A\u001b[A\u001b[A\n",
            "\n",
            "\n",
            "137it [36:54, 14.77s/it]\u001b[A\u001b[A\u001b[A\n",
            "\n",
            "\n",
            "138it [37:10, 15.00s/it]\u001b[A\u001b[A\u001b[A\n",
            "\n",
            "\n",
            "139it [37:26, 15.41s/it]\u001b[A\u001b[A\u001b[A\n",
            "\n",
            "\n",
            "140it [37:40, 14.93s/it]\u001b[A\u001b[A\u001b[A\n",
            "\n",
            "\n",
            "141it [37:54, 14.82s/it]\u001b[A\u001b[A\u001b[A\n",
            "\n",
            "\n",
            "142it [38:11, 15.31s/it]\u001b[A\u001b[A\u001b[A\n",
            "\n",
            "\n",
            "143it [38:29, 16.27s/it]\u001b[A\u001b[A\u001b[A\n",
            "\n",
            "\n",
            "144it [38:49, 17.22s/it]\u001b[A\u001b[A\u001b[A\n",
            "\n",
            "\n",
            "145it [39:04, 16.73s/it]\u001b[A\u001b[A\u001b[A\n",
            "\n",
            "\n",
            "146it [39:19, 16.01s/it]\u001b[A\u001b[A\u001b[A\n",
            "\n",
            "\n",
            "147it [39:34, 15.92s/it]\u001b[A\u001b[A\u001b[A\n",
            "\n",
            "\n",
            "  0%|          | 0/540 [1:37:27<?, ?it/s]\n",
            " 28%|██▊       | 150/540 [1:30:43<3:55:54, 36.29s/it]\n",
            "\n",
            "\n",
            "\n",
            "149it [40:11, 17.25s/it]\u001b[A\u001b[A\u001b[A\n",
            "\n",
            "\n",
            "150it [40:26, 16.18s/it]\n"
          ],
          "name": "stderr"
        }
      ]
    },
    {
      "cell_type": "code",
      "metadata": {
        "colab": {
          "base_uri": "https://localhost:8080/"
        },
        "id": "hdeJYdTZTzsP",
        "outputId": "0d5bd613-c554-480e-dbf7-869898938fe0"
      },
      "source": [
        "cd '/content/drive/MyDrive/FakeNewsData/fakeNewsData'"
      ],
      "execution_count": null,
      "outputs": [
        {
          "output_type": "stream",
          "text": [
            "/content/drive/MyDrive/FakeNewsData/fakeNewsData\n"
          ],
          "name": "stdout"
        }
      ]
    },
    {
      "cell_type": "code",
      "metadata": {
        "id": "SSbEXtFjqn6h"
      },
      "source": [
        " pd.DataFrame(model_results).to_csv('lda_tuning_results.csv', index=False)"
      ],
      "execution_count": null,
      "outputs": []
    },
    {
      "cell_type": "code",
      "metadata": {
        "id": "rdZYTbxOqrt9"
      },
      "source": [
        "model_results_df = pd.DataFrame(model_results)"
      ],
      "execution_count": null,
      "outputs": []
    },
    {
      "cell_type": "code",
      "metadata": {
        "colab": {
          "base_uri": "https://localhost:8080/"
        },
        "id": "Op4kG41rtM8W",
        "outputId": "2731a8df-d9a0-4675-86d5-2da2029ae616"
      },
      "source": [
        "model_results_df.columns"
      ],
      "execution_count": null,
      "outputs": [
        {
          "output_type": "execute_result",
          "data": {
            "text/plain": [
              "Index(['Validation_Set', 'Topics', 'Alpha', 'Beta', 'Coherence'], dtype='object')"
            ]
          },
          "metadata": {},
          "execution_count": 42
        }
      ]
    },
    {
      "cell_type": "code",
      "metadata": {
        "id": "5iRvvnmeq8Cx"
      },
      "source": [
        "import seaborn as sns"
      ],
      "execution_count": null,
      "outputs": []
    },
    {
      "cell_type": "code",
      "metadata": {
        "colab": {
          "base_uri": "https://localhost:8080/",
          "height": 313
        },
        "id": "RfUvB3H4tC_3",
        "outputId": "2c611f06-6773-4e0b-fe09-892272ab0942"
      },
      "source": [
        "ax = sns.lineplot(data= model_results_df, x=\"Topics\", y=\"Coherence\")\n",
        "ax.set_title(\"Topic coherence for determining optimal topics\")"
      ],
      "execution_count": null,
      "outputs": [
        {
          "output_type": "execute_result",
          "data": {
            "text/plain": [
              "Text(0.5, 1.0, 'Topic coherence for determining optimal topics')"
            ]
          },
          "metadata": {},
          "execution_count": 45
        },
        {
          "output_type": "display_data",
          "data": {
            "image/png": "[encoded data removed]",
            "text/plain": [
              "<Figure size 432x288 with 1 Axes>"
            ]
          },
          "metadata": {
            "needs_background": "light"
          }
        }
      ]
    },
    {
      "cell_type": "code",
      "metadata": {
        "id": "ftM0j9SutUGj"
      },
      "source": [
        ""
      ],
      "execution_count": null,
      "outputs": []
    }
  ]
}