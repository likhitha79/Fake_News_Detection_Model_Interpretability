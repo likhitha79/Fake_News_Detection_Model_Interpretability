{
  "nbformat": 4,
  "nbformat_minor": 0,
  "metadata": {
    "colab": {
      "name": "Analysis_with_keyword_Extraction_and_Measuring_model_robustness",
      "provenance": [],
      "collapsed_sections": [],
      "toc_visible": true
    },
    "kernelspec": {
      "display_name": "Python 3",
      "name": "python3"
    },
    "language_info": {
      "name": "python"
    }
  },
  "cells": [
    {
      "cell_type": "code",
      "metadata": {
        "id": "8ajrYNFrC2wJ"
      },
      "source": [
        "import pandas as pd\n",
        "import numpy as np\n",
        "import warnings\n",
        "warnings.filterwarnings(\"ignore\")\n",
        "import tensorflow as tf\n",
        "import seaborn as sns\n",
        "import nltk\n",
        "import re\n",
        "from nltk.corpus import stopwords\n",
        "import matplotlib.pyplot as plt\n",
        "from sklearn.feature_extraction.text import CountVectorizer, TfidfTransformer\n",
        "from sklearn.metrics import classification_report,confusion_matrix\n",
        "from sklearn.metrics import accuracy_score, f1_score, precision_score, recall_score\n",
        "from sklearn.svm import LinearSVC\n",
        "from sklearn.pipeline import Pipeline\n",
        "from sklearn.linear_model import SGDClassifier, LogisticRegression\n",
        "from sklearn.neural_network import MLPClassifier\n",
        "from joblib import dump, load\n",
        "from sklearn.ensemble import GradientBoostingClassifier\n",
        "from sklearn import tree\n",
        "import numpy as np\n",
        "import itertools\n"
      ],
      "execution_count": null,
      "outputs": []
    },
    {
      "cell_type": "code",
      "metadata": {
        "id": "F3xSL7cmD9uT"
      },
      "source": [
        "train_data = pd.read_excel('/content/drive/MyDrive/FakeNewsData/fakeNewsData/Constraint_English_Train.xlsx')\n"
      ],
      "execution_count": null,
      "outputs": []
    },
    {
      "cell_type": "code",
      "metadata": {
        "id": "rnp2rAhQEAcw"
      },
      "source": [
        "test_data = pd.read_excel('/content/drive/MyDrive/FakeNewsData/fakeNewsData/Constraint_English_Test.xlsx')"
      ],
      "execution_count": null,
      "outputs": []
    },
    {
      "cell_type": "code",
      "metadata": {
        "id": "vGM4ASz1EDO8"
      },
      "source": [
        "val_data = pd.read_excel('/content/drive/MyDrive/FakeNewsData/fakeNewsData/Constraint_English_Val.xlsx')\n"
      ],
      "execution_count": null,
      "outputs": []
    },
    {
      "cell_type": "code",
      "metadata": {
        "id": "3DM0Ko7iEI9c"
      },
      "source": [
        "import re\n",
        "import string"
      ],
      "execution_count": null,
      "outputs": []
    },
    {
      "cell_type": "code",
      "metadata": {
        "id": "2Eo7ihqgE0xH"
      },
      "source": [
        "#Removing punctuations and special characters\n",
        "def remove_special_charac_and_punctuations(text) :\n",
        "  # define the pattern to keep\n",
        "  pat = r'[^a-zA-z0-9\\'\\s]' \n",
        "  txt = re.sub(pat, '', text)\n",
        "  txt = ''.join([c for c in txt if c not in string.punctuation])\n",
        "  return  txt\n"
      ],
      "execution_count": null,
      "outputs": []
    },
    {
      "cell_type": "code",
      "metadata": {
        "colab": {
          "base_uri": "https://localhost:8080/"
        },
        "id": "SzSK2oJJcsca",
        "outputId": "426f8164-f9ac-4231-ef23-356bdf48b37a"
      },
      "source": [
        "from google.colab import drive\n",
        "drive.mount('/content/drive')"
      ],
      "execution_count": null,
      "outputs": [
        {
          "output_type": "stream",
          "name": "stdout",
          "text": [
            "Mounted at /content/drive\n"
          ]
        }
      ]
    },
    {
      "cell_type": "code",
      "metadata": {
        "id": "nxMsPdsWE4Fd"
      },
      "source": [
        "#Remove stop words\n",
        "import nltk as nltk"
      ],
      "execution_count": null,
      "outputs": []
    },
    {
      "cell_type": "code",
      "metadata": {
        "colab": {
          "base_uri": "https://localhost:8080/"
        },
        "id": "FCP3OkghE5w_",
        "outputId": "bbe80178-78de-4ca5-afeb-78f516067ab0"
      },
      "source": [
        "nltk.download('stopwords')"
      ],
      "execution_count": null,
      "outputs": [
        {
          "output_type": "stream",
          "name": "stdout",
          "text": [
            "[nltk_data] Downloading package stopwords to /root/nltk_data...\n",
            "[nltk_data]   Unzipping corpora/stopwords.zip.\n"
          ]
        },
        {
          "output_type": "execute_result",
          "data": {
            "text/plain": [
              "True"
            ]
          },
          "metadata": {},
          "execution_count": 11
        }
      ]
    },
    {
      "cell_type": "code",
      "metadata": {
        "id": "6irE1KL2E6wM"
      },
      "source": [
        "stopword_list = nltk.corpus.stopwords.words('english')"
      ],
      "execution_count": null,
      "outputs": []
    },
    {
      "cell_type": "code",
      "metadata": {
        "id": "cGpCzwataPfy"
      },
      "source": [
        "from nltk.tokenize import word_tokenize"
      ],
      "execution_count": null,
      "outputs": []
    },
    {
      "cell_type": "code",
      "metadata": {
        "id": "uTORb0hbE-Bp"
      },
      "source": [
        "#Will not be using this for buildign base model\n",
        "def remove_stopwords(text):\n",
        "    # convert sentence into token of words\n",
        "    tokens = word_tokenize(text)\n",
        "    tokens = [token.strip() for token in tokens]\n",
        "    # check in lowercase \n",
        "    t = [token for token in tokens if token.lower() not in stopword_list]\n",
        "    text = ' '.join(t)    \n",
        "    return text"
      ],
      "execution_count": null,
      "outputs": []
    },
    {
      "cell_type": "code",
      "metadata": {
        "id": "rkWMvj-HE_ku"
      },
      "source": [
        "train_data[\"cleaned\"]=  train_data['tweet'].apply(remove_special_charac_and_punctuations)"
      ],
      "execution_count": null,
      "outputs": []
    },
    {
      "cell_type": "code",
      "metadata": {
        "id": "rIMdLhgG8rG6"
      },
      "source": [
        "val_data['cleaned'] = val_data['tweet'].apply(remove_special_charac_and_punctuations)"
      ],
      "execution_count": null,
      "outputs": []
    },
    {
      "cell_type": "code",
      "metadata": {
        "id": "24NMGNH6FKw9"
      },
      "source": [
        "#Converting text to lower case\n",
        "train_data[\"cleaned\"] = train_data[\"cleaned\"].str.lower()"
      ],
      "execution_count": null,
      "outputs": []
    },
    {
      "cell_type": "code",
      "metadata": {
        "id": "pBpkeGbpFRtv"
      },
      "source": [
        "val_data[\"cleaned\"] = val_data[\"cleaned\"].str.lower()"
      ],
      "execution_count": null,
      "outputs": []
    },
    {
      "cell_type": "code",
      "metadata": {
        "id": "AnAk6bjQHfiW"
      },
      "source": [
        "ctf_data = pd.read_csv(\"/content/drive/MyDrive/FakeNewsData/fakeNewsData/new_ctf_data.txt\",sep = '\\t',header = None)"
      ],
      "execution_count": null,
      "outputs": []
    },
    {
      "cell_type": "code",
      "metadata": {
        "id": "eAKBfVqvHvtF"
      },
      "source": [
        "ctf_data.columns = ['label','tweet']"
      ],
      "execution_count": null,
      "outputs": []
    },
    {
      "cell_type": "code",
      "metadata": {
        "id": "p6Y1ICAuILob"
      },
      "source": [
        "ctf_data['cleaned'] = ctf_data['tweet'].apply(remove_special_charac_and_punctuations)"
      ],
      "execution_count": null,
      "outputs": []
    },
    {
      "cell_type": "code",
      "metadata": {
        "colab": {
          "base_uri": "https://localhost:8080/"
        },
        "id": "a7cN64wpIRyC",
        "outputId": "f83e5e22-0d9e-4c23-c68c-81b4c826f7af"
      },
      "source": [
        "ctf_data['cleaned'].head(5)"
      ],
      "execution_count": null,
      "outputs": [
        {
          "output_type": "execute_result",
          "data": {
            "text/plain": [
              "0                         media briefing on covid with\n",
              "1      new johnson amp johnson says its covid vacci...\n",
              "2              i hope a lot of people read this thread\n",
              "3      what if coronavirus part of that lysol can t...\n",
              "4      thailand claiming they have good result of m...\n",
              "Name: cleaned, dtype: object"
            ]
          },
          "metadata": {},
          "execution_count": 28
        }
      ]
    },
    {
      "cell_type": "markdown",
      "metadata": {
        "id": "AYJ01DdQFZYU"
      },
      "source": [
        "# Keyword Extractor"
      ]
    },
    {
      "cell_type": "code",
      "metadata": {
        "colab": {
          "base_uri": "https://localhost:8080/"
        },
        "id": "o23mTqJPFc_q",
        "outputId": "6b32b887-36a2-412f-fba1-a99f16550ca2"
      },
      "source": [
        "!pip install yake"
      ],
      "execution_count": null,
      "outputs": [
        {
          "output_type": "stream",
          "name": "stdout",
          "text": [
            "Collecting yake\n",
            "  Downloading yake-0.4.8-py2.py3-none-any.whl (60 kB)\n",
            "\u001b[K     |████████████████████████████████| 60 kB 2.6 MB/s \n",
            "\u001b[?25hRequirement already satisfied: tabulate in /usr/local/lib/python3.7/dist-packages (from yake) (0.8.9)\n",
            "Requirement already satisfied: click>=6.0 in /usr/local/lib/python3.7/dist-packages (from yake) (7.1.2)\n",
            "Collecting jellyfish\n",
            "  Downloading jellyfish-0.8.8.tar.gz (134 kB)\n",
            "\u001b[K     |████████████████████████████████| 134 kB 8.6 MB/s \n",
            "\u001b[?25hRequirement already satisfied: networkx in /usr/local/lib/python3.7/dist-packages (from yake) (2.6.3)\n",
            "Requirement already satisfied: numpy in /usr/local/lib/python3.7/dist-packages (from yake) (1.19.5)\n",
            "Collecting segtok\n",
            "  Downloading segtok-1.5.10.tar.gz (25 kB)\n",
            "Requirement already satisfied: regex in /usr/local/lib/python3.7/dist-packages (from segtok->yake) (2019.12.20)\n",
            "Building wheels for collected packages: jellyfish, segtok\n",
            "  Building wheel for jellyfish (setup.py) ... \u001b[?25l\u001b[?25hdone\n",
            "  Created wheel for jellyfish: filename=jellyfish-0.8.8-cp37-cp37m-linux_x86_64.whl size=73206 sha256=6291c004750974b1098ecffb2a59f697bc4191fe386d0a290b71a6ae5427a18d\n",
            "  Stored in directory: /root/.cache/pip/wheels/82/aa/f4/716387e1f167cbbf911488aa056138152f4d8699c9c9b43ea8\n",
            "  Building wheel for segtok (setup.py) ... \u001b[?25l\u001b[?25hdone\n",
            "  Created wheel for segtok: filename=segtok-1.5.10-py3-none-any.whl size=25030 sha256=1d22f9ca6efc566f3692a5aa0b192847c2fd2b2b91e3f9a32ad01b5517b80873\n",
            "  Stored in directory: /root/.cache/pip/wheels/67/b7/d0/a121106e61339eee5ed083bc230b1c8dc422c49a5a28c2addd\n",
            "Successfully built jellyfish segtok\n",
            "Installing collected packages: segtok, jellyfish, yake\n",
            "Successfully installed jellyfish-0.8.8 segtok-1.5.10 yake-0.4.8\n"
          ]
        }
      ]
    },
    {
      "cell_type": "code",
      "metadata": {
        "id": "k3rHXPZgFS1f"
      },
      "source": [
        "import yake"
      ],
      "execution_count": null,
      "outputs": []
    },
    {
      "cell_type": "code",
      "metadata": {
        "id": "BSu7vmKIFbyb",
        "colab": {
          "base_uri": "https://localhost:8080/",
          "height": 132
        },
        "outputId": "143f8356-c4af-4f51-85d4-f9d757d2852f"
      },
      "source": [
        "kw_extractor = yake.KeywordExtractor()\n",
        "language = \"en\"\n",
        "max_ngram_size = \n",
        "deduplication_threshold = 0.5\n",
        "numOfKeywords = 10"
      ],
      "execution_count": null,
      "outputs": [
        {
          "output_type": "error",
          "ename": "SyntaxError",
          "evalue": "ignored",
          "traceback": [
            "\u001b[0;36m  File \u001b[0;32m\"<ipython-input-22-5d910d791098>\"\u001b[0;36m, line \u001b[0;32m3\u001b[0m\n\u001b[0;31m    max_ngram_size =\u001b[0m\n\u001b[0m                     ^\u001b[0m\n\u001b[0;31mSyntaxError\u001b[0m\u001b[0;31m:\u001b[0m invalid syntax\n"
          ]
        }
      ]
    },
    {
      "cell_type": "code",
      "metadata": {
        "id": "j6KrlW61F43l"
      },
      "source": [
        "text = \"\"\"spaCy is an open-source software library for advanced natural language processing, written in the programming languages Python and Cython. The library is published under the MIT license and its main developers are Matthew Honnibal and Ines Montani, the founders of the software company Explosion.\"\"\""
      ],
      "execution_count": null,
      "outputs": []
    },
    {
      "cell_type": "code",
      "metadata": {
        "id": "v4RpyvCoGxXq"
      },
      "source": [
        "text2 =\"bollywood actor aamir kahan has anonymously donated Rs 15000 to people living in a slum.\""
      ],
      "execution_count": null,
      "outputs": []
    },
    {
      "cell_type": "code",
      "metadata": {
        "id": "aQ2OSVx2Ftxl"
      },
      "source": [
        "custom_kw_extractor = yake.KeywordExtractor(lan=language, n=max_ngram_size, dedupLim=deduplication_threshold, top=numOfKeywords, features=None)\n",
        "keywords = custom_kw_extractor.extract_keywords(text2)"
      ],
      "execution_count": null,
      "outputs": []
    },
    {
      "cell_type": "code",
      "metadata": {
        "colab": {
          "base_uri": "https://localhost:8080/"
        },
        "id": "LhX3awfYF0qi",
        "outputId": "3a72b29e-d041-4b6e-accf-0dc93a966c77"
      },
      "source": [
        "for kw in keywords:\n",
        "    print(kw)"
      ],
      "execution_count": null,
      "outputs": [
        {
          "name": "stdout",
          "output_type": "stream",
          "text": [
            "('bollywood actor', 0.04940384002065631)\n",
            "('actor aamir', 0.09700399286574239)\n",
            "('aamir kahan', 0.09700399286574239)\n",
            "('anonymously donated', 0.09700399286574239)\n",
            "('people living', 0.09700399286574239)\n",
            "('slum', 0.15831692877998726)\n",
            "('actor', 0.29736558256021506)\n",
            "('aamir', 0.29736558256021506)\n",
            "('kahan', 0.29736558256021506)\n",
            "('donated', 0.29736558256021506)\n"
          ]
        }
      ]
    },
    {
      "cell_type": "code",
      "metadata": {
        "id": "vAsKnZywF-FS"
      },
      "source": [
        "# kw_list = [i[0] for i in keywords]"
      ],
      "execution_count": null,
      "outputs": []
    },
    {
      "cell_type": "code",
      "metadata": {
        "id": "fj73QdPjIBjj"
      },
      "source": [
        "train_data.iloc[406,:]['keywords']"
      ],
      "execution_count": null,
      "outputs": []
    },
    {
      "cell_type": "code",
      "metadata": {
        "id": "NJAM1Jf-RQxE"
      },
      "source": [
        "kw_list = train_data.iloc[406,:]['keywords']"
      ],
      "execution_count": null,
      "outputs": []
    },
    {
      "cell_type": "code",
      "metadata": {
        "colab": {
          "base_uri": "https://localhost:8080/"
        },
        "id": "KZ3uWMoqXu2i",
        "outputId": "f48b01f4-eaa0-4958-9721-4b6ee18ed3e8"
      },
      "source": [
        "kw_list"
      ],
      "execution_count": null,
      "outputs": [
        {
          "data": {
            "text/plain": [
              "['aamir',\n",
              " 'aamir khan',\n",
              " 'actor',\n",
              " 'actor aamir',\n",
              " 'anonymously donated',\n",
              " 'bollywoof actor',\n",
              " 'donated',\n",
              " 'khan',\n",
              " 'people living',\n",
              " 'slum']"
            ]
          },
          "execution_count": 123,
          "metadata": {},
          "output_type": "execute_result"
        }
      ]
    },
    {
      "cell_type": "code",
      "metadata": {
        "id": "va75m36uI6pg"
      },
      "source": [
        "def keyword_extractor(x) :\n",
        "  custom_kw_extractor = yake.KeywordExtractor(lan=language, n=max_ngram_size, dedupLim=deduplication_threshold, top=numOfKeywords, features=None)\n",
        "  keywords = custom_kw_extractor.extract_keywords(x)\n",
        "  kw_list = [i[0] for i in keywords]\n",
        "  return kw_list"
      ],
      "execution_count": null,
      "outputs": []
    },
    {
      "cell_type": "code",
      "metadata": {
        "id": "o9b0Cx2MOqxX"
      },
      "source": [
        "train_data['keywords'] = train_data['cleaned'].apply(lambda x  : keyword_extractor(x))"
      ],
      "execution_count": null,
      "outputs": []
    },
    {
      "cell_type": "code",
      "metadata": {
        "id": "qdCN4fLcQH9u"
      },
      "source": [
        "train_data['keywords'].head(5)"
      ],
      "execution_count": null,
      "outputs": []
    },
    {
      "cell_type": "code",
      "metadata": {
        "colab": {
          "background_save": true
        },
        "id": "NRfQ3byvQb66"
      },
      "source": [
        "def listToString(s):    \n",
        "    str1 = \" \"    \n",
        "    return (str1.join(s))"
      ],
      "execution_count": null,
      "outputs": []
    },
    {
      "cell_type": "code",
      "metadata": {
        "colab": {
          "background_save": true
        },
        "id": "KEbRCqciQjCC"
      },
      "source": [
        "train_data['keyword_string'] = train_data['keywords'].apply(lambda x : listToString(x))"
      ],
      "execution_count": null,
      "outputs": []
    },
    {
      "cell_type": "code",
      "metadata": {
        "colab": {
          "background_save": true,
          "base_uri": "https://localhost:8080/"
        },
        "id": "UR0DdNKmQ0Jb",
        "outputId": "733d1007-2ae4-4305-c8f4-04757b3d5b1a"
      },
      "source": [
        "train_data['keyword_string'].head(5)"
      ],
      "execution_count": null,
      "outputs": [
        {
          "data": {
            "text/plain": [
              "0    people today toll stands death counts reports ...\n",
              "1    states reported small rise tuesday southern so...\n",
              "2    coronavirus nashville politically correct plas...\n",
              "3    covid testing staysafe indiawillwin testing la...\n",
              "4    million today populous states generate large l...\n",
              "Name: keyword_string, dtype: object"
            ]
          },
          "execution_count": null,
          "metadata": {},
          "output_type": "execute_result"
        }
      ]
    },
    {
      "cell_type": "code",
      "metadata": {
        "id": "9fkqq2QBMTP2"
      },
      "source": [
        "myDict = {key: [0,0] for key in kw_list}"
      ],
      "execution_count": null,
      "outputs": []
    },
    {
      "cell_type": "code",
      "metadata": {
        "colab": {
          "base_uri": "https://localhost:8080/"
        },
        "id": "abVJnYRqNZVa",
        "outputId": "a3711023-5b31-438a-d8d3-018ac575e38c"
      },
      "source": [
        "myDict"
      ],
      "execution_count": null,
      "outputs": [
        {
          "data": {
            "text/plain": [
              "{'aamir': [0, 0],\n",
              " 'aamir khan': [0, 0],\n",
              " 'actor': [0, 0],\n",
              " 'actor aamir': [0, 0],\n",
              " 'anonymously donated': [0, 0],\n",
              " 'bollywoof actor': [0, 0],\n",
              " 'donated': [0, 0],\n",
              " 'khan': [0, 0],\n",
              " 'people living': [0, 0],\n",
              " 'slum': [0, 0]}"
            ]
          },
          "execution_count": 125,
          "metadata": {},
          "output_type": "execute_result"
        }
      ]
    },
    {
      "cell_type": "code",
      "metadata": {
        "id": "mIeYD00ULxhS"
      },
      "source": [
        "def label_counter(x,my_dict):\n",
        " for index,row in x.iterrows() :\n",
        "   label = row['label']\n",
        "   tweet = row['cleaned']\n",
        "   for k in my_dict.keys() :\n",
        "     if k in tweet :\n",
        "       if label == \"real\" :\n",
        "         my_dict[k][0] =  my_dict[k][0] + 1\n",
        "       else :\n",
        "         my_dict[k][1] =  my_dict[k][1] + 1\n",
        " return my_dict"
      ],
      "execution_count": null,
      "outputs": []
    },
    {
      "cell_type": "code",
      "metadata": {
        "id": "YwTfZ0unNrJO"
      },
      "source": [
        "dict1_counter = label_counter(train_data,myDict)"
      ],
      "execution_count": null,
      "outputs": []
    },
    {
      "cell_type": "code",
      "metadata": {
        "id": "9wtLjjx4Jp46"
      },
      "source": [
        "def total_label_counter(my_dict) :\n",
        "  real_ct = 0\n",
        "  fake_ct = 0\n",
        "  for key in my_dict.keys() :\n",
        "     real_ct = real_ct + my_dict[key][0]\n",
        "     fake_ct = fake_ct + my_dict[key][1]\n",
        "  return (real_ct,fake_ct)\n",
        "\n"
      ],
      "execution_count": null,
      "outputs": []
    },
    {
      "cell_type": "code",
      "metadata": {
        "id": "8O1S-8OUNFek"
      },
      "source": [
        "res = total_label_counter(myDict)"
      ],
      "execution_count": null,
      "outputs": []
    },
    {
      "cell_type": "code",
      "metadata": {
        "colab": {
          "base_uri": "https://localhost:8080/"
        },
        "id": "FU4bgJ6aPcs2",
        "outputId": "e0906ba9-a477-4193-84ea-5af1b6ff1289"
      },
      "source": [
        "res"
      ],
      "execution_count": null,
      "outputs": [
        {
          "data": {
            "text/plain": [
              "(55, 111)"
            ]
          },
          "execution_count": 119,
          "metadata": {},
          "output_type": "execute_result"
        }
      ]
    },
    {
      "cell_type": "code",
      "metadata": {
        "id": "W9f1AGRhLnc0"
      },
      "source": [
        "#second example   plastic bag"
      ],
      "execution_count": null,
      "outputs": []
    },
    {
      "cell_type": "code",
      "metadata": {
        "colab": {
          "base_uri": "https://localhost:8080/"
        },
        "id": "J4Ah_zLnTwX4",
        "outputId": "470f45f6-3e70-47ff-82ab-db2d1bb01c4a"
      },
      "source": [
        "train_data.iloc[503,]['keywords']"
      ],
      "execution_count": null,
      "outputs": [
        {
          "data": {
            "text/plain": [
              "['elderly woman',\n",
              " 'woman struggling',\n",
              " 'breathe lying',\n",
              " 'hospital morgue',\n",
              " 'plastic bag',\n",
              " 'bag',\n",
              " 'video',\n",
              " 'relatives',\n",
              " 'woman',\n",
              " 'lying']"
            ]
          },
          "execution_count": 68,
          "metadata": {},
          "output_type": "execute_result"
        }
      ]
    },
    {
      "cell_type": "code",
      "metadata": {
        "id": "BEOOBQj1UMB1"
      },
      "source": [
        "kw_list2 = train_data.iloc[503,]['keywords']"
      ],
      "execution_count": null,
      "outputs": []
    },
    {
      "cell_type": "code",
      "metadata": {
        "id": "UDEm356YUVxx"
      },
      "source": [
        "myDict2 = {key: [0,0] for key in kw_list2}"
      ],
      "execution_count": null,
      "outputs": []
    },
    {
      "cell_type": "code",
      "metadata": {
        "id": "kMk0YoLeUamv"
      },
      "source": [
        "dict2_counter = label_counter(train_data,myDict2)"
      ],
      "execution_count": null,
      "outputs": []
    },
    {
      "cell_type": "code",
      "metadata": {
        "colab": {
          "base_uri": "https://localhost:8080/"
        },
        "id": "YAjSHpSHVaqs",
        "outputId": "79067594-c587-4670-b419-6f3524874491"
      },
      "source": [
        "dict2_counter"
      ],
      "execution_count": null,
      "outputs": [
        {
          "data": {
            "text/plain": [
              "{'bag': [0, 16],\n",
              " 'breathe lying': [0, 1],\n",
              " 'elderly woman': [0, 1],\n",
              " 'hospital morgue': [0, 1],\n",
              " 'lying': [18, 26],\n",
              " 'plastic bag': [0, 3],\n",
              " 'relatives': [1, 3],\n",
              " 'video': [9, 189],\n",
              " 'woman': [17, 34],\n",
              " 'woman struggling': [0, 1]}"
            ]
          },
          "execution_count": 133,
          "metadata": {},
          "output_type": "execute_result"
        }
      ]
    },
    {
      "cell_type": "code",
      "metadata": {
        "colab": {
          "base_uri": "https://localhost:8080/"
        },
        "id": "Y9vYrzRpVbn_",
        "outputId": "e83e6dc5-81b6-4aec-c8a6-a3098f974178"
      },
      "source": [
        "total_label_counter(dict2_counter)"
      ],
      "execution_count": null,
      "outputs": [
        {
          "data": {
            "text/plain": [
              "(45, 275)"
            ]
          },
          "execution_count": 141,
          "metadata": {},
          "output_type": "execute_result"
        }
      ]
    },
    {
      "cell_type": "code",
      "metadata": {
        "colab": {
          "base_uri": "https://localhost:8080/"
        },
        "id": "tMmMbZQUVf5Y",
        "outputId": "43b649b7-7c7a-4956-905b-261180065eee"
      },
      "source": [
        "dict1_counter"
      ],
      "execution_count": null,
      "outputs": [
        {
          "data": {
            "text/plain": [
              "{'aamir': [0, 5],\n",
              " 'aamir khan': [0, 5],\n",
              " 'actor': [15, 14],\n",
              " 'actor aamir': [0, 3],\n",
              " 'anonymously donated': [0, 1],\n",
              " 'bollywoof actor': [0, 1],\n",
              " 'donated': [0, 5],\n",
              " 'khan': [7, 17],\n",
              " 'people living': [3, 4],\n",
              " 'slum': [3, 1]}"
            ]
          },
          "execution_count": 137,
          "metadata": {},
          "output_type": "execute_result"
        }
      ]
    },
    {
      "cell_type": "code",
      "metadata": {
        "colab": {
          "base_uri": "https://localhost:8080/"
        },
        "id": "YVMl8WPOVviW",
        "outputId": "75c7ce3b-0418-4452-ac89-bf0a3bcfa627"
      },
      "source": [
        "total_label_counter(dict1_counter)"
      ],
      "execution_count": null,
      "outputs": [
        {
          "data": {
            "text/plain": [
              "(28, 56)"
            ]
          },
          "execution_count": 140,
          "metadata": {},
          "output_type": "execute_result"
        }
      ]
    },
    {
      "cell_type": "code",
      "metadata": {
        "id": "s9imGLv_VyOz"
      },
      "source": [
        "kw_list3 = train_data.iloc[2878,]['keywords']\n",
        "myDict3 = {key: [0,0] for key in kw_list3}"
      ],
      "execution_count": null,
      "outputs": []
    },
    {
      "cell_type": "code",
      "metadata": {
        "colab": {
          "base_uri": "https://localhost:8080/"
        },
        "id": "AvRX7s-caP8W",
        "outputId": "7315fb9c-2634-4fa7-b89a-abfaec02d599"
      },
      "source": [
        "dict3_counter = label_counter(train_data,myDict3)\n",
        "dict3_counter"
      ],
      "execution_count": null,
      "outputs": [
        {
          "data": {
            "text/plain": [
              "{'breaking lockdown': [0, 1],\n",
              " 'gandhi': [2, 10],\n",
              " 'gandhi priyanka': [0, 0],\n",
              " 'lockdown regulations': [0, 1],\n",
              " 'meerut road': [0, 1],\n",
              " 'mohoddin pur': [0, 1],\n",
              " 'muradnagar nahar': [0, 1],\n",
              " 'nahar': [0, 1],\n",
              " 'rahul gandhi': [0, 3],\n",
              " 'visit friends': [0, 1]}"
            ]
          },
          "execution_count": 144,
          "metadata": {},
          "output_type": "execute_result"
        }
      ]
    },
    {
      "cell_type": "code",
      "metadata": {
        "colab": {
          "base_uri": "https://localhost:8080/"
        },
        "id": "y6xUkZe1aZ95",
        "outputId": "9b0925cf-426f-4e92-8d3c-443d76e41502"
      },
      "source": [
        "total_label_counter(dict3_counter)"
      ],
      "execution_count": null,
      "outputs": [
        {
          "data": {
            "text/plain": [
              "(2, 20)"
            ]
          },
          "execution_count": 145,
          "metadata": {},
          "output_type": "execute_result"
        }
      ]
    },
    {
      "cell_type": "code",
      "metadata": {
        "id": "2ZNmTvJ0aiYu"
      },
      "source": [
        "kw_list4 = train_data.iloc[45,]['keywords']\n",
        "myDict4 = {key: [0,0] for key in kw_list4}"
      ],
      "execution_count": null,
      "outputs": []
    },
    {
      "cell_type": "code",
      "metadata": {
        "colab": {
          "base_uri": "https://localhost:8080/"
        },
        "id": "m6Ujn-VQbX0x",
        "outputId": "dcc07eb0-ca42-407b-ead2-8796828a7563"
      },
      "source": [
        "myDict4"
      ],
      "execution_count": null,
      "outputs": [
        {
          "data": {
            "text/plain": [
              "{'cases': [0, 0],\n",
              " 'consecutive days': [0, 0],\n",
              " 'days': [0, 0],\n",
              " 'exceeded': [0, 0],\n",
              " 'india': [0, 0],\n",
              " 'indiafightscorona': [0, 0],\n",
              " 'recoveries': [0, 0]}"
            ]
          },
          "execution_count": 158,
          "metadata": {},
          "output_type": "execute_result"
        }
      ]
    },
    {
      "cell_type": "code",
      "metadata": {
        "colab": {
          "base_uri": "https://localhost:8080/"
        },
        "id": "s3NbHQxhbZNc",
        "outputId": "3b1d9a55-3c92-4fc9-fecd-6cc6532c5d6a"
      },
      "source": [
        "dict4_counter = label_counter(train_data,myDict4)\n",
        "dict4_counter"
      ],
      "execution_count": null,
      "outputs": [
        {
          "data": {
            "text/plain": [
              "{'cases': [976, 131],\n",
              " 'consecutive days': [3, 0],\n",
              " 'days': [224, 70],\n",
              " 'exceeded': [12, 0],\n",
              " 'india': [563, 255],\n",
              " 'indiafightscorona': [319, 3],\n",
              " 'recoveries': [99, 4]}"
            ]
          },
          "execution_count": 159,
          "metadata": {},
          "output_type": "execute_result"
        }
      ]
    },
    {
      "cell_type": "code",
      "metadata": {
        "colab": {
          "base_uri": "https://localhost:8080/"
        },
        "id": "4VTsQUFabgLy",
        "outputId": "ac35eba0-10fd-445f-ca61-1c94304cea0e"
      },
      "source": [
        "total_label_counter(dict4_counter)"
      ],
      "execution_count": null,
      "outputs": [
        {
          "data": {
            "text/plain": [
              "(2196, 463)"
            ]
          },
          "execution_count": 160,
          "metadata": {},
          "output_type": "execute_result"
        }
      ]
    },
    {
      "cell_type": "code",
      "metadata": {
        "id": "U89EPrcNb98s"
      },
      "source": [
        "kw_list5 = train_data.iloc[70,]['keywords']\n",
        "myDict5 = {key: [0,0] for key in kw_list5}"
      ],
      "execution_count": null,
      "outputs": []
    },
    {
      "cell_type": "code",
      "metadata": {
        "colab": {
          "base_uri": "https://localhost:8080/"
        },
        "id": "E1kBdrTjfEJu",
        "outputId": "22a1cb28-5c10-4d0f-e3e1-4f06d0b4511c"
      },
      "source": [
        "myDict5"
      ],
      "execution_count": null,
      "outputs": [
        {
          "data": {
            "text/plain": [
              "{'dyk': [0, 0],\n",
              " 'dyk handwashing': [0, 0],\n",
              " 'handwashing remains': [0, 0],\n",
              " 'prevent': [0, 0],\n",
              " 'remains': [0, 0],\n",
              " 'spread': [0, 0],\n",
              " 'surgeongeneral dyk': [0, 0],\n",
              " 'things': [0, 0],\n",
              " 'viruses': [0, 0]}"
            ]
          },
          "execution_count": 162,
          "metadata": {},
          "output_type": "execute_result"
        }
      ]
    },
    {
      "cell_type": "code",
      "metadata": {
        "colab": {
          "base_uri": "https://localhost:8080/"
        },
        "id": "FCWeqfp_fO5h",
        "outputId": "0ea7d1ae-9528-4b9e-c3ae-06eb28d53840"
      },
      "source": [
        "dict5_counter = label_counter(train_data,myDict5)\n",
        "dict5_counter"
      ],
      "execution_count": null,
      "outputs": [
        {
          "data": {
            "text/plain": [
              "{'dyk': [9, 2],\n",
              " 'dyk handwashing': [1, 0],\n",
              " 'handwashing remains': [1, 0],\n",
              " 'prevent': [83, 70],\n",
              " 'remains': [89, 2],\n",
              " 'spread': [192, 79],\n",
              " 'surgeongeneral dyk': [2, 0],\n",
              " 'things': [10, 11],\n",
              " 'viruses': [5, 26]}"
            ]
          },
          "execution_count": 163,
          "metadata": {},
          "output_type": "execute_result"
        }
      ]
    },
    {
      "cell_type": "code",
      "metadata": {
        "colab": {
          "base_uri": "https://localhost:8080/"
        },
        "id": "PkSHChk2fHf4",
        "outputId": "e036f877-7ae5-4202-ba78-7f4f3d0eec1f"
      },
      "source": [
        "total_label_counter(dict5_counter)"
      ],
      "execution_count": null,
      "outputs": [
        {
          "data": {
            "text/plain": [
              "(392, 190)"
            ]
          },
          "execution_count": 164,
          "metadata": {},
          "output_type": "execute_result"
        }
      ]
    },
    {
      "cell_type": "code",
      "metadata": {
        "colab": {
          "background_save": true
        },
        "id": "7L2zDgtffBmx"
      },
      "source": [
        "kw_list6 = train_data.iloc[29,]['keywords']\n",
        "myDict6 = {key: [0,0] for key in kw_list6}"
      ],
      "execution_count": null,
      "outputs": []
    },
    {
      "cell_type": "code",
      "metadata": {
        "colab": {
          "background_save": true,
          "base_uri": "https://localhost:8080/"
        },
        "id": "YCjvS_k6fBpI",
        "outputId": "07cbfc57-a843-4eb7-84c1-2c88bf75cfd4"
      },
      "source": [
        "myDict6"
      ],
      "execution_count": null,
      "outputs": [
        {
          "data": {
            "text/plain": [
              "{'coronavirus': [0, 0],\n",
              " 'effective sanitizers': [0, 0],\n",
              " 'found vaporized': [0, 0],\n",
              " 'hydrogen peroxide': [0, 0],\n",
              " 'masks nih': [0, 0],\n",
              " 'nih': [0, 0],\n",
              " 'nih found': [0, 0],\n",
              " 'reusing': [0, 0],\n",
              " 'sanitizers': [0, 0],\n",
              " 'vaporized hydrogen': [0, 0]}"
            ]
          },
          "execution_count": null,
          "metadata": {},
          "output_type": "execute_result"
        }
      ]
    },
    {
      "cell_type": "code",
      "metadata": {
        "colab": {
          "base_uri": "https://localhost:8080/"
        },
        "id": "QvGLaQwmfBtB",
        "outputId": "94115064-dd80-4a0c-f5ea-94f53ef9dfaf"
      },
      "source": [
        "dict6_counter = label_counter(train_data,myDict6)\n",
        "dict6_counter"
      ],
      "execution_count": null,
      "outputs": [
        {
          "output_type": "execute_result",
          "data": {
            "text/plain": [
              "{'coronavirus': [465, 1235],\n",
              " 'effective sanitizers': [1, 0],\n",
              " 'found vaporized': [1, 0],\n",
              " 'hydrogen peroxide': [1, 0],\n",
              " 'masks nih': [1, 0],\n",
              " 'nih': [7, 8],\n",
              " 'nih found': [1, 0],\n",
              " 'reusing': [1, 0],\n",
              " 'sanitizers': [1, 3],\n",
              " 'vaporized hydrogen': [1, 0]}"
            ]
          },
          "metadata": {},
          "execution_count": 36
        }
      ]
    },
    {
      "cell_type": "code",
      "metadata": {
        "id": "VuPDY8Q3g_MN",
        "colab": {
          "base_uri": "https://localhost:8080/"
        },
        "outputId": "7119c39a-cef1-4e87-a84c-84d2bcee14f3"
      },
      "source": [
        "total_label_counter(dict6_counter)"
      ],
      "execution_count": null,
      "outputs": [
        {
          "output_type": "execute_result",
          "data": {
            "text/plain": [
              "(480, 1246)"
            ]
          },
          "metadata": {},
          "execution_count": 39
        }
      ]
    },
    {
      "cell_type": "markdown",
      "metadata": {
        "id": "tZ_HMwYuZe9G"
      },
      "source": [
        "#Model building"
      ]
    },
    {
      "cell_type": "code",
      "metadata": {
        "id": "UKDoSwcsbfFV"
      },
      "source": [
        "nltk.download('stopwords')"
      ],
      "execution_count": null,
      "outputs": []
    },
    {
      "cell_type": "code",
      "metadata": {
        "id": "QvDBVtUobmld"
      },
      "source": [
        "stops = set(stopwords.words(\"english\"))\n",
        "def cleantext(string):\n",
        "    text = string.lower().split()\n",
        "    text = \" \".join(text)\n",
        "    text = re.sub(r\"http(\\S)+\",' ',text)    \n",
        "    text = re.sub(r\"www(\\S)+\",' ',text)\n",
        "    text = re.sub(r\"&\",' and ',text)  \n",
        "    tx = text.replace('&amp',' ')\n",
        "    text = re.sub(r\"[^0-9a-zA-Z]+\",' ',text)\n",
        "    text = text.split()\n",
        "    text = [w for w in text if not w in stops]\n",
        "    text = \" \".join(text)\n",
        "    return text"
      ],
      "execution_count": null,
      "outputs": []
    },
    {
      "cell_type": "code",
      "metadata": {
        "id": "MKGN6Ci4boYS"
      },
      "source": [
        "train = pd.read_excel('/content/drive/MyDrive/FakeNewsData/fakeNewsData/Constraint_English_Train.xlsx')\n",
        "val = pd.read_excel('/content/drive/MyDrive/FakeNewsData/fakeNewsData/Constraint_English_Val.xlsx')"
      ],
      "execution_count": null,
      "outputs": []
    },
    {
      "cell_type": "code",
      "metadata": {
        "id": "4SmKAPaNbrR3"
      },
      "source": [
        "train['cleaned'] = train['tweet'].map(lambda x: cleantext(x))\n",
        "val['cleaned'] = val['tweet'].map(lambda x: cleantext(x))"
      ],
      "execution_count": null,
      "outputs": []
    },
    {
      "cell_type": "code",
      "metadata": {
        "id": "RIv6ZCXCZd51"
      },
      "source": [
        "def plot_confusion_matrix(cm,\n",
        "                          target_names,\n",
        "                          title='Confusion matrix',\n",
        "                          cmap=None,\n",
        "                          normalize=True):\n",
        "    accuracy = np.trace(cm) / float(np.sum(cm))\n",
        "    misclass = 1 - accuracy\n",
        "\n",
        "    if cmap is None:\n",
        "        cmap = plt.get_cmap('Blues')\n",
        "\n",
        "    plt.figure(figsize=(5, 4))\n",
        "    plt.imshow(cm, interpolation='nearest', cmap=cmap)\n",
        "    plt.title(title)\n",
        "    plt.colorbar()\n",
        "\n",
        "    if target_names is not None:\n",
        "        tick_marks = np.arange(len(target_names))\n",
        "        plt.xticks(tick_marks, target_names, rotation=45)\n",
        "        plt.yticks(tick_marks, target_names)\n",
        "\n",
        "    if normalize:\n",
        "        cm = cm.astype('float') / cm.sum(axis=1)[:, np.newaxis]\n",
        "\n",
        "\n",
        "    thresh = cm.max() / 1.5 if normalize else cm.max() / 2\n",
        "    for i, j in itertools.product(range(cm.shape[0]), range(cm.shape[1])):\n",
        "        if normalize:\n",
        "            plt.text(j, i, \"{:0.4f}\".format(cm[i, j]),\n",
        "                     horizontalalignment=\"center\",\n",
        "                     color=\"white\" if cm[i, j] > thresh else \"black\")\n",
        "        else:\n",
        "            plt.text(j, i, \"{:,}\".format(cm[i, j]),\n",
        "                     horizontalalignment=\"center\",\n",
        "                     color=\"white\" if cm[i, j] > thresh else \"black\")\n",
        "\n",
        "\n",
        "    plt.tight_layout()\n",
        "    plt.ylabel('True label')\n",
        "    #plt.xlabel('Predicted label\\naccuracy={:0.4f}; misclass={:0.4f}'.format(accuracy, misclass))\n",
        "    plt.xlabel('Predicted label')\n",
        "    plt.show()"
      ],
      "execution_count": null,
      "outputs": []
    },
    {
      "cell_type": "code",
      "metadata": {
        "id": "JYBcbNYXZmxg"
      },
      "source": [
        "def print_metrices(pred,true):\n",
        "    print(confusion_matrix(true,pred))\n",
        "    print(classification_report(true,pred,))\n",
        "    print(\"Accuracy : \",accuracy_score(pred,true))\n",
        "    print(\"Precison : \",precision_score(pred,true, average = 'weighted'))\n",
        "    print(\"Recall : \",recall_score(pred,true,  average = 'weighted'))\n",
        "    print(\"F1 : \",f1_score(pred,true,  average = 'weighted'))\n",
        "    \n",
        "    "
      ],
      "execution_count": null,
      "outputs": []
    },
    {
      "cell_type": "code",
      "metadata": {
        "id": "V19nhxqjZosq"
      },
      "source": [
        "pipeline = Pipeline([\n",
        "        ('bow', CountVectorizer()),  \n",
        "        ('tfidf', TfidfTransformer()),  \n",
        "        ('c', LinearSVC())\n",
        "    ])\n",
        "fit = pipeline.fit(train['cleaned'],train['label'])"
      ],
      "execution_count": null,
      "outputs": []
    },
    {
      "cell_type": "code",
      "metadata": {
        "colab": {
          "base_uri": "https://localhost:8080/"
        },
        "id": "BF3_q3GxL_Mv",
        "outputId": "aa7f4c94-3d77-4654-91d7-b640fe58574c"
      },
      "source": [
        "val['label']"
      ],
      "execution_count": null,
      "outputs": [
        {
          "output_type": "execute_result",
          "data": {
            "text/plain": [
              "0       fake\n",
              "1       fake\n",
              "2       fake\n",
              "3       fake\n",
              "4       real\n",
              "        ... \n",
              "2135    fake\n",
              "2136    real\n",
              "2137    fake\n",
              "2138    fake\n",
              "2139    real\n",
              "Name: label, Length: 2140, dtype: object"
            ]
          },
          "metadata": {},
          "execution_count": 48
        }
      ]
    },
    {
      "cell_type": "code",
      "metadata": {
        "colab": {
          "base_uri": "https://localhost:8080/",
          "height": 571
        },
        "id": "EhdrUcluaUgs",
        "outputId": "d51ba172-2c60-4321-8502-006e75187d10"
      },
      "source": [
        "pred=pipeline.predict(val['cleaned'])\n",
        "print_metrices(pred,val['label'])\n",
        "plot_confusion_matrix(confusion_matrix(val['label'],pred),target_names=['fake','real'], normalize = False, \\\n",
        "                      title = 'Confusion matix of SVM on validation data')\n"
      ],
      "execution_count": null,
      "outputs": [
        {
          "output_type": "stream",
          "name": "stdout",
          "text": [
            "[[ 963   57]\n",
            " [  83 1037]]\n",
            "              precision    recall  f1-score   support\n",
            "\n",
            "        fake       0.92      0.94      0.93      1020\n",
            "        real       0.95      0.93      0.94      1120\n",
            "\n",
            "    accuracy                           0.93      2140\n",
            "   macro avg       0.93      0.94      0.93      2140\n",
            "weighted avg       0.93      0.93      0.93      2140\n",
            "\n",
            "Accuracy :  0.9345794392523364\n",
            "Precison :  0.9348008619335585\n",
            "Recall :  0.9345794392523364\n",
            "F1 :  0.9345519215989282\n"
          ]
        },
        {
          "output_type": "display_data",
          "data": {
            "image/png": "[encoded data removed]",
            "text/plain": [
              "<Figure size 360x288 with 2 Axes>"
            ]
          },
          "metadata": {
            "needs_background": "light"
          }
        }
      ]
    },
    {
      "cell_type": "markdown",
      "metadata": {
        "id": "RAFRZj-XLS_e"
      },
      "source": [
        "## Validating on new CTF data set (Covariance shift)"
      ]
    },
    {
      "cell_type": "code",
      "metadata": {
        "id": "knnpMZNuLo-4"
      },
      "source": [
        "ctf_data['label'] = ctf_data['label'].astype(\"category\")"
      ],
      "execution_count": null,
      "outputs": []
    },
    {
      "cell_type": "code",
      "metadata": {
        "colab": {
          "base_uri": "https://localhost:8080/"
        },
        "id": "NYxnNVtkMKpD",
        "outputId": "5b7443b8-f627-4b7a-9b58-e3e67108d620"
      },
      "source": [
        "ctf_data['label'].value_counts()"
      ],
      "execution_count": null,
      "outputs": [
        {
          "output_type": "execute_result",
          "data": {
            "text/plain": [
              "1    387\n",
              "0    387\n",
              "Name: label, dtype: int64"
            ]
          },
          "metadata": {},
          "execution_count": 137
        }
      ]
    },
    {
      "cell_type": "code",
      "metadata": {
        "colab": {
          "base_uri": "https://localhost:8080/"
        },
        "id": "v-ZokzngMPXc",
        "outputId": "5d6e46f2-d0a8-42d0-b023-c887e3b5b6aa"
      },
      "source": [
        "ctf_data['label']"
      ],
      "execution_count": null,
      "outputs": [
        {
          "output_type": "execute_result",
          "data": {
            "text/plain": [
              "0      0\n",
              "1      1\n",
              "2      0\n",
              "3      1\n",
              "4      1\n",
              "      ..\n",
              "769    0\n",
              "770    1\n",
              "771    1\n",
              "772    1\n",
              "773    0\n",
              "Name: label, Length: 774, dtype: category\n",
              "Categories (2, int64): [0, 1]"
            ]
          },
          "metadata": {},
          "execution_count": 50
        }
      ]
    },
    {
      "cell_type": "code",
      "metadata": {
        "id": "Mu79uPlCMFYR"
      },
      "source": [
        "ctf_data['label'] = ctf_data['label'].map({0 : \"real\",1:\"fake\"})"
      ],
      "execution_count": null,
      "outputs": []
    },
    {
      "cell_type": "code",
      "metadata": {
        "colab": {
          "base_uri": "https://localhost:8080/",
          "height": 571
        },
        "id": "OqRt0VacLSQL",
        "outputId": "56ed5c84-6e90-4076-f216-07c6e89311ba"
      },
      "source": [
        "pred_ctf=pipeline.predict(ctf_data['cleaned'])\n",
        "print_metrices(pred_ctf,ctf_data['label'])\n",
        "plot_confusion_matrix(confusion_matrix(ctf_data['label'],pred_ctf),target_names=['fake','real'], normalize = False, \\\n",
        "                      title = 'Confusion matix of SVM on CTF data')\n"
      ],
      "execution_count": null,
      "outputs": [
        {
          "output_type": "stream",
          "name": "stdout",
          "text": [
            "[[359  28]\n",
            " [255 132]]\n",
            "              precision    recall  f1-score   support\n",
            "\n",
            "        fake       0.58      0.93      0.72       387\n",
            "        real       0.82      0.34      0.48       387\n",
            "\n",
            "    accuracy                           0.63       774\n",
            "   macro avg       0.70      0.63      0.60       774\n",
            "weighted avg       0.70      0.63      0.60       774\n",
            "\n",
            "Accuracy :  0.6343669250645995\n",
            "Precison :  0.80639518191348\n",
            "Recall :  0.6343669250645995\n",
            "F1 :  0.6687762209211128\n"
          ]
        },
        {
          "output_type": "display_data",
          "data": {
            "image/png": "[encoded data removed]",
            "text/plain": [
              "<Figure size 360x288 with 2 Axes>"
            ]
          },
          "metadata": {
            "needs_background": "light"
          }
        }
      ]
    },
    {
      "cell_type": "markdown",
      "metadata": {
        "id": "FNlEwZZSTosh"
      },
      "source": [
        "##Training with embeddings"
      ]
    },
    {
      "cell_type": "code",
      "metadata": {
        "id": "IDeXZVtGTxmS"
      },
      "source": [
        "import tensorflow_hub as hub"
      ],
      "execution_count": null,
      "outputs": []
    },
    {
      "cell_type": "code",
      "metadata": {
        "colab": {
          "base_uri": "https://localhost:8080/"
        },
        "id": "aRezU9OXVxej",
        "outputId": "3e817bfb-7bda-4077-cce0-002dc9f6f666"
      },
      "source": [
        "!pip3 install tensorflow_text"
      ],
      "execution_count": null,
      "outputs": [
        {
          "output_type": "stream",
          "name": "stdout",
          "text": [
            "Collecting tensorflow_text\n",
            "  Downloading tensorflow_text-2.6.0-cp37-cp37m-manylinux1_x86_64.whl (4.4 MB)\n",
            "\u001b[K     |████████████████████████████████| 4.4 MB 4.3 MB/s \n",
            "\u001b[?25hRequirement already satisfied: tensorflow-hub>=0.8.0 in /usr/local/lib/python3.7/dist-packages (from tensorflow_text) (0.12.0)\n",
            "Requirement already satisfied: tensorflow<2.7,>=2.6.0 in /usr/local/lib/python3.7/dist-packages (from tensorflow_text) (2.6.0)\n",
            "Requirement already satisfied: tensorflow-estimator~=2.6 in /usr/local/lib/python3.7/dist-packages (from tensorflow<2.7,>=2.6.0->tensorflow_text) (2.6.0)\n",
            "Requirement already satisfied: astunparse~=1.6.3 in /usr/local/lib/python3.7/dist-packages (from tensorflow<2.7,>=2.6.0->tensorflow_text) (1.6.3)\n",
            "Requirement already satisfied: gast==0.4.0 in /usr/local/lib/python3.7/dist-packages (from tensorflow<2.7,>=2.6.0->tensorflow_text) (0.4.0)\n",
            "Requirement already satisfied: keras~=2.6 in /usr/local/lib/python3.7/dist-packages (from tensorflow<2.7,>=2.6.0->tensorflow_text) (2.6.0)\n",
            "Requirement already satisfied: grpcio<2.0,>=1.37.0 in /usr/local/lib/python3.7/dist-packages (from tensorflow<2.7,>=2.6.0->tensorflow_text) (1.40.0)\n",
            "Requirement already satisfied: tensorboard~=2.6 in /usr/local/lib/python3.7/dist-packages (from tensorflow<2.7,>=2.6.0->tensorflow_text) (2.6.0)\n",
            "Requirement already satisfied: keras-preprocessing~=1.1.2 in /usr/local/lib/python3.7/dist-packages (from tensorflow<2.7,>=2.6.0->tensorflow_text) (1.1.2)\n",
            "Requirement already satisfied: numpy~=1.19.2 in /usr/local/lib/python3.7/dist-packages (from tensorflow<2.7,>=2.6.0->tensorflow_text) (1.19.5)\n",
            "Requirement already satisfied: termcolor~=1.1.0 in /usr/local/lib/python3.7/dist-packages (from tensorflow<2.7,>=2.6.0->tensorflow_text) (1.1.0)\n",
            "Requirement already satisfied: typing-extensions~=3.7.4 in /usr/local/lib/python3.7/dist-packages (from tensorflow<2.7,>=2.6.0->tensorflow_text) (3.7.4.3)\n",
            "Requirement already satisfied: clang~=5.0 in /usr/local/lib/python3.7/dist-packages (from tensorflow<2.7,>=2.6.0->tensorflow_text) (5.0)\n",
            "Requirement already satisfied: wrapt~=1.12.1 in /usr/local/lib/python3.7/dist-packages (from tensorflow<2.7,>=2.6.0->tensorflow_text) (1.12.1)\n",
            "Requirement already satisfied: absl-py~=0.10 in /usr/local/lib/python3.7/dist-packages (from tensorflow<2.7,>=2.6.0->tensorflow_text) (0.12.0)\n",
            "Requirement already satisfied: wheel~=0.35 in /usr/local/lib/python3.7/dist-packages (from tensorflow<2.7,>=2.6.0->tensorflow_text) (0.37.0)\n",
            "Requirement already satisfied: flatbuffers~=1.12.0 in /usr/local/lib/python3.7/dist-packages (from tensorflow<2.7,>=2.6.0->tensorflow_text) (1.12)\n",
            "Requirement already satisfied: protobuf>=3.9.2 in /usr/local/lib/python3.7/dist-packages (from tensorflow<2.7,>=2.6.0->tensorflow_text) (3.17.3)\n",
            "Requirement already satisfied: google-pasta~=0.2 in /usr/local/lib/python3.7/dist-packages (from tensorflow<2.7,>=2.6.0->tensorflow_text) (0.2.0)\n",
            "Requirement already satisfied: h5py~=3.1.0 in /usr/local/lib/python3.7/dist-packages (from tensorflow<2.7,>=2.6.0->tensorflow_text) (3.1.0)\n",
            "Requirement already satisfied: opt-einsum~=3.3.0 in /usr/local/lib/python3.7/dist-packages (from tensorflow<2.7,>=2.6.0->tensorflow_text) (3.3.0)\n",
            "Requirement already satisfied: six~=1.15.0 in /usr/local/lib/python3.7/dist-packages (from tensorflow<2.7,>=2.6.0->tensorflow_text) (1.15.0)\n",
            "Requirement already satisfied: cached-property in /usr/local/lib/python3.7/dist-packages (from h5py~=3.1.0->tensorflow<2.7,>=2.6.0->tensorflow_text) (1.5.2)\n",
            "Requirement already satisfied: tensorboard-data-server<0.7.0,>=0.6.0 in /usr/local/lib/python3.7/dist-packages (from tensorboard~=2.6->tensorflow<2.7,>=2.6.0->tensorflow_text) (0.6.1)\n",
            "Requirement already satisfied: werkzeug>=0.11.15 in /usr/local/lib/python3.7/dist-packages (from tensorboard~=2.6->tensorflow<2.7,>=2.6.0->tensorflow_text) (1.0.1)\n",
            "Requirement already satisfied: google-auth-oauthlib<0.5,>=0.4.1 in /usr/local/lib/python3.7/dist-packages (from tensorboard~=2.6->tensorflow<2.7,>=2.6.0->tensorflow_text) (0.4.6)\n",
            "Requirement already satisfied: setuptools>=41.0.0 in /usr/local/lib/python3.7/dist-packages (from tensorboard~=2.6->tensorflow<2.7,>=2.6.0->tensorflow_text) (57.4.0)\n",
            "Requirement already satisfied: requests<3,>=2.21.0 in /usr/local/lib/python3.7/dist-packages (from tensorboard~=2.6->tensorflow<2.7,>=2.6.0->tensorflow_text) (2.23.0)\n",
            "Requirement already satisfied: tensorboard-plugin-wit>=1.6.0 in /usr/local/lib/python3.7/dist-packages (from tensorboard~=2.6->tensorflow<2.7,>=2.6.0->tensorflow_text) (1.8.0)\n",
            "Requirement already satisfied: markdown>=2.6.8 in /usr/local/lib/python3.7/dist-packages (from tensorboard~=2.6->tensorflow<2.7,>=2.6.0->tensorflow_text) (3.3.4)\n",
            "Requirement already satisfied: google-auth<2,>=1.6.3 in /usr/local/lib/python3.7/dist-packages (from tensorboard~=2.6->tensorflow<2.7,>=2.6.0->tensorflow_text) (1.35.0)\n",
            "Requirement already satisfied: rsa<5,>=3.1.4 in /usr/local/lib/python3.7/dist-packages (from google-auth<2,>=1.6.3->tensorboard~=2.6->tensorflow<2.7,>=2.6.0->tensorflow_text) (4.7.2)\n",
            "Requirement already satisfied: cachetools<5.0,>=2.0.0 in /usr/local/lib/python3.7/dist-packages (from google-auth<2,>=1.6.3->tensorboard~=2.6->tensorflow<2.7,>=2.6.0->tensorflow_text) (4.2.2)\n",
            "Requirement already satisfied: pyasn1-modules>=0.2.1 in /usr/local/lib/python3.7/dist-packages (from google-auth<2,>=1.6.3->tensorboard~=2.6->tensorflow<2.7,>=2.6.0->tensorflow_text) (0.2.8)\n",
            "Requirement already satisfied: requests-oauthlib>=0.7.0 in /usr/local/lib/python3.7/dist-packages (from google-auth-oauthlib<0.5,>=0.4.1->tensorboard~=2.6->tensorflow<2.7,>=2.6.0->tensorflow_text) (1.3.0)\n",
            "Requirement already satisfied: importlib-metadata in /usr/local/lib/python3.7/dist-packages (from markdown>=2.6.8->tensorboard~=2.6->tensorflow<2.7,>=2.6.0->tensorflow_text) (4.8.1)\n",
            "Requirement already satisfied: pyasn1<0.5.0,>=0.4.6 in /usr/local/lib/python3.7/dist-packages (from pyasn1-modules>=0.2.1->google-auth<2,>=1.6.3->tensorboard~=2.6->tensorflow<2.7,>=2.6.0->tensorflow_text) (0.4.8)\n",
            "Requirement already satisfied: chardet<4,>=3.0.2 in /usr/local/lib/python3.7/dist-packages (from requests<3,>=2.21.0->tensorboard~=2.6->tensorflow<2.7,>=2.6.0->tensorflow_text) (3.0.4)\n",
            "Requirement already satisfied: urllib3!=1.25.0,!=1.25.1,<1.26,>=1.21.1 in /usr/local/lib/python3.7/dist-packages (from requests<3,>=2.21.0->tensorboard~=2.6->tensorflow<2.7,>=2.6.0->tensorflow_text) (1.24.3)\n",
            "Requirement already satisfied: certifi>=2017.4.17 in /usr/local/lib/python3.7/dist-packages (from requests<3,>=2.21.0->tensorboard~=2.6->tensorflow<2.7,>=2.6.0->tensorflow_text) (2021.5.30)\n",
            "Requirement already satisfied: idna<3,>=2.5 in /usr/local/lib/python3.7/dist-packages (from requests<3,>=2.21.0->tensorboard~=2.6->tensorflow<2.7,>=2.6.0->tensorflow_text) (2.10)\n",
            "Requirement already satisfied: oauthlib>=3.0.0 in /usr/local/lib/python3.7/dist-packages (from requests-oauthlib>=0.7.0->google-auth-oauthlib<0.5,>=0.4.1->tensorboard~=2.6->tensorflow<2.7,>=2.6.0->tensorflow_text) (3.1.1)\n",
            "Requirement already satisfied: zipp>=0.5 in /usr/local/lib/python3.7/dist-packages (from importlib-metadata->markdown>=2.6.8->tensorboard~=2.6->tensorflow<2.7,>=2.6.0->tensorflow_text) (3.5.0)\n",
            "Installing collected packages: tensorflow-text\n",
            "Successfully installed tensorflow-text-2.6.0\n"
          ]
        }
      ]
    },
    {
      "cell_type": "code",
      "metadata": {
        "id": "oaS1WdDJVuTa"
      },
      "source": [
        "import tensorflow_text "
      ],
      "execution_count": null,
      "outputs": []
    },
    {
      "cell_type": "code",
      "metadata": {
        "id": "Epkm-_ZkWMFB"
      },
      "source": [
        "embed = hub.load(\"https://tfhub.dev/google/universal-sentence-encoder-multilingual/3\")"
      ],
      "execution_count": null,
      "outputs": []
    },
    {
      "cell_type": "code",
      "metadata": {
        "colab": {
          "base_uri": "https://localhost:8080/"
        },
        "id": "N1B-RpgrWsvD",
        "outputId": "b8ca480f-c417-4ec1-c25d-3566fb8a1d36"
      },
      "source": [
        "!pip install tweet-preprocessor"
      ],
      "execution_count": null,
      "outputs": [
        {
          "output_type": "stream",
          "name": "stdout",
          "text": [
            "Collecting tweet-preprocessor\n",
            "  Downloading tweet_preprocessor-0.6.0-py3-none-any.whl (27 kB)\n",
            "Installing collected packages: tweet-preprocessor\n",
            "Successfully installed tweet-preprocessor-0.6.0\n"
          ]
        }
      ]
    },
    {
      "cell_type": "code",
      "metadata": {
        "id": "NucyUsdPWN9u"
      },
      "source": [
        "import preprocessor as p"
      ],
      "execution_count": null,
      "outputs": []
    },
    {
      "cell_type": "code",
      "metadata": {
        "id": "S2T7Hh80XXxx"
      },
      "source": [
        "p.set_options(p.OPT.URL, p.OPT.MENTION)"
      ],
      "execution_count": null,
      "outputs": []
    },
    {
      "cell_type": "code",
      "metadata": {
        "id": "6QjB6dEEXZcc"
      },
      "source": [
        "punctuations = string.punctuation"
      ],
      "execution_count": null,
      "outputs": []
    },
    {
      "cell_type": "code",
      "metadata": {
        "id": "uUEDAUoCXZfg"
      },
      "source": [
        "def clean(text):\n",
        "    text = p.clean(text)\n",
        "    text = re.sub(r'\\W+', ' ', text)  # remove non-alphanumeric characters\n",
        "    # replace numbers with the word 'number'\n",
        "    text = re.sub(r\"\\d+\", \"number\", text)\n",
        "    # don't consider sentenced with less than 3 words (i.e. assumed noise)\n",
        "    if len(text.strip().split()) < 3:\n",
        "        return None\n",
        "    text = text.lower()  # lower case everything\n",
        "    \n",
        "    return text.strip() # remove redundant spaces"
      ],
      "execution_count": null,
      "outputs": []
    },
    {
      "cell_type": "code",
      "metadata": {
        "id": "916rHKBmYyB3"
      },
      "source": [
        "train_df = pd.read_excel('/content/drive/MyDrive/FakeNewsData/fakeNewsData/Constraint_English_Train.xlsx')\n"
      ],
      "execution_count": null,
      "outputs": []
    },
    {
      "cell_type": "code",
      "metadata": {
        "id": "6AlXDE7yYyLL"
      },
      "source": [
        "val_df = pd.read_excel('/content/drive/MyDrive/FakeNewsData/fakeNewsData/Constraint_English_Val.xlsx')\n"
      ],
      "execution_count": null,
      "outputs": []
    },
    {
      "cell_type": "code",
      "metadata": {
        "id": "5pIpPriSYyOO"
      },
      "source": [
        "train_df = train_df.assign(clean_text=train_df.tweet.apply(clean)).dropna()"
      ],
      "execution_count": null,
      "outputs": []
    },
    {
      "cell_type": "code",
      "metadata": {
        "id": "6NWN3Z5UZI0P"
      },
      "source": [
        "val_df = val_df.assign(clean_text=val_df.tweet.apply(clean)).dropna()"
      ],
      "execution_count": null,
      "outputs": []
    },
    {
      "cell_type": "code",
      "metadata": {
        "id": "1-pEar6ZSJvZ"
      },
      "source": [
        "ctf_data = ctf_data.assign(clean_text=ctf_data.tweet.apply(clean)).dropna()"
      ],
      "execution_count": null,
      "outputs": []
    },
    {
      "cell_type": "code",
      "metadata": {
        "colab": {
          "base_uri": "https://localhost:8080/",
          "height": 53
        },
        "id": "vgwsVZ1-YyQz",
        "outputId": "886b3f70-f893-469a-8068-52ef0242df68"
      },
      "source": [
        "train_df['clean_text'][0]"
      ],
      "execution_count": null,
      "outputs": [
        {
          "output_type": "execute_result",
          "data": {
            "application/vnd.google.colaboratory.intrinsic+json": {
              "type": "string"
            },
            "text/plain": [
              "'the cdc currently reports number deaths in general the discrepancies in death counts between different sources are small and explicable the death toll stands at roughly number people today'"
            ]
          },
          "metadata": {},
          "execution_count": 28
        }
      ]
    },
    {
      "cell_type": "code",
      "metadata": {
        "colab": {
          "base_uri": "https://localhost:8080/"
        },
        "id": "LXmFWqPtYyTy",
        "outputId": "ffc6ba0a-741a-45a6-85b7-fafe1896e0a2"
      },
      "source": [
        "nltk.download('punkt')"
      ],
      "execution_count": null,
      "outputs": [
        {
          "output_type": "stream",
          "name": "stdout",
          "text": [
            "[nltk_data] Downloading package punkt to /root/nltk_data...\n",
            "[nltk_data]   Unzipping tokenizers/punkt.zip.\n"
          ]
        },
        {
          "output_type": "execute_result",
          "data": {
            "text/plain": [
              "True"
            ]
          },
          "metadata": {},
          "execution_count": 29
        }
      ]
    },
    {
      "cell_type": "code",
      "metadata": {
        "id": "vwt_GFT_YyW2"
      },
      "source": [
        "train_df = train_df.assign(final_text=train_df['clean_text'].apply(remove_stopwords))"
      ],
      "execution_count": null,
      "outputs": []
    },
    {
      "cell_type": "code",
      "metadata": {
        "colab": {
          "base_uri": "https://localhost:8080/",
          "height": 53
        },
        "id": "ebAO7hQSYyZv",
        "outputId": "4beb0b88-932a-4172-8c06-99dbb71fb9bc"
      },
      "source": [
        "train_df['final_text'][0]"
      ],
      "execution_count": null,
      "outputs": [
        {
          "output_type": "execute_result",
          "data": {
            "application/vnd.google.colaboratory.intrinsic+json": {
              "type": "string"
            },
            "text/plain": [
              "'cdc currently reports number deaths general discrepancies death counts different sources small explicable death toll stands roughly number people today'"
            ]
          },
          "metadata": {},
          "execution_count": 31
        }
      ]
    },
    {
      "cell_type": "code",
      "metadata": {
        "id": "KFQHl3iTalrm"
      },
      "source": [
        "val_df = val_df.assign(final_text=val_df['clean_text'].apply(remove_stopwords))"
      ],
      "execution_count": null,
      "outputs": []
    },
    {
      "cell_type": "code",
      "metadata": {
        "id": "nwoBJm7tScb4"
      },
      "source": [
        "ctf_data = ctf_data.assign(final_text=ctf_data['clean_text'].apply(remove_stopwords))"
      ],
      "execution_count": null,
      "outputs": []
    },
    {
      "cell_type": "code",
      "metadata": {
        "id": "sqGUWBrDasmx"
      },
      "source": [
        "from sklearn.model_selection import train_test_split"
      ],
      "execution_count": null,
      "outputs": []
    },
    {
      "cell_type": "code",
      "metadata": {
        "id": "1voYNP92aspo"
      },
      "source": [
        "msg_train, msg_test, y_train, y_test = train_test_split(train_df.final_text, train_df.label,)"
      ],
      "execution_count": null,
      "outputs": []
    },
    {
      "cell_type": "code",
      "metadata": {
        "colab": {
          "base_uri": "https://localhost:8080/"
        },
        "id": "xGnHJMjNbF9_",
        "outputId": "ad71b17e-9cd4-41c4-d0eb-8a1cbf496f5e"
      },
      "source": [
        "msg_test.shape"
      ],
      "execution_count": null,
      "outputs": [
        {
          "output_type": "execute_result",
          "data": {
            "text/plain": [
              "(1605,)"
            ]
          },
          "metadata": {},
          "execution_count": 35
        }
      ]
    },
    {
      "cell_type": "code",
      "metadata": {
        "colab": {
          "base_uri": "https://localhost:8080/"
        },
        "id": "4AnDdPWfassP",
        "outputId": "f7cd7828-270d-440b-eec8-516814da78ae"
      },
      "source": [
        "X_test = embed(msg_test)\n",
        "X_test.shape"
      ],
      "execution_count": null,
      "outputs": [
        {
          "output_type": "execute_result",
          "data": {
            "text/plain": [
              "TensorShape([1605, 512])"
            ]
          },
          "metadata": {},
          "execution_count": 36
        }
      ]
    },
    {
      "cell_type": "code",
      "metadata": {
        "id": "ofA8Vw_0asu7"
      },
      "source": [
        "X_train = embed(msg_train)"
      ],
      "execution_count": null,
      "outputs": []
    },
    {
      "cell_type": "code",
      "metadata": {
        "colab": {
          "base_uri": "https://localhost:8080/"
        },
        "id": "xAFysBApasxe",
        "outputId": "603642a1-6426-4cd9-d6f9-35b66175b2c6"
      },
      "source": [
        "X_train.shape"
      ],
      "execution_count": null,
      "outputs": [
        {
          "output_type": "execute_result",
          "data": {
            "text/plain": [
              "TensorShape([4814, 512])"
            ]
          },
          "metadata": {},
          "execution_count": 38
        }
      ]
    },
    {
      "cell_type": "code",
      "metadata": {
        "id": "1VNyDJxqas0z"
      },
      "source": [
        "# #if size is high ang getting memeory issue we can use somethin glike this \n",
        "# splits = np.array_split(msg_train, 5)\n",
        "# l = list()\n",
        "# for split in splits:\n",
        "#     l.append(embed(split))\n",
        "# X_train = tf.concat(l, axis=0)\n",
        "# del l\n",
        "# X_train.shape"
      ],
      "execution_count": null,
      "outputs": []
    },
    {
      "cell_type": "code",
      "metadata": {
        "id": "teg5uZVGbl7D"
      },
      "source": [
        "from sklearn.svm import SVC"
      ],
      "execution_count": null,
      "outputs": []
    },
    {
      "cell_type": "code",
      "metadata": {
        "id": "nzc3-Mc8bl3m"
      },
      "source": [
        "from sklearn.utils.class_weight import compute_class_weight\n",
        "from sklearn.metrics import classification_report\n",
        "from sklearn.linear_model import LogisticRegression"
      ],
      "execution_count": null,
      "outputs": []
    },
    {
      "cell_type": "code",
      "metadata": {
        "id": "aSQ2lD0rbl1L"
      },
      "source": [
        "class_weight = compute_class_weight(\n",
        "    class_weight='balanced', classes=[\"real\",\"fake\"], y=y_train\n",
        ")"
      ],
      "execution_count": null,
      "outputs": []
    },
    {
      "cell_type": "code",
      "metadata": {
        "colab": {
          "base_uri": "https://localhost:8080/"
        },
        "id": "_rKCrodEblyX",
        "outputId": "6d1332a5-e91c-40c9-f943-d2abe1ec8b51"
      },
      "source": [
        "class_weight"
      ],
      "execution_count": null,
      "outputs": [
        {
          "output_type": "execute_result",
          "data": {
            "text/plain": [
              "array([0.95858224, 1.04515849])"
            ]
          },
          "metadata": {},
          "execution_count": 43
        }
      ]
    },
    {
      "cell_type": "code",
      "metadata": {
        "id": "DBgNi-3Qblaq"
      },
      "source": [
        "# clf = SVC(class_weight={\"real\":class_weight[0], \"fake\":class_weight[1]})"
      ],
      "execution_count": null,
      "outputs": []
    },
    {
      "cell_type": "code",
      "metadata": {
        "id": "-ruD0vNvcZbf"
      },
      "source": [
        "clf = SVC()"
      ],
      "execution_count": null,
      "outputs": []
    },
    {
      "cell_type": "code",
      "metadata": {
        "colab": {
          "base_uri": "https://localhost:8080/"
        },
        "id": "jf1kkVJpb33A",
        "outputId": "57fcd58e-922e-41c7-b8a5-cdc1f528f1cd"
      },
      "source": [
        "clf.fit(X_train, y_train)"
      ],
      "execution_count": null,
      "outputs": [
        {
          "output_type": "execute_result",
          "data": {
            "text/plain": [
              "SVC(C=1.0, break_ties=False, cache_size=200, class_weight=None, coef0=0.0,\n",
              "    decision_function_shape='ovr', degree=3, gamma='scale', kernel='rbf',\n",
              "    max_iter=-1, probability=False, random_state=None, shrinking=True,\n",
              "    tol=0.001, verbose=False)"
            ]
          },
          "metadata": {},
          "execution_count": 46
        }
      ]
    },
    {
      "cell_type": "code",
      "metadata": {
        "id": "Wfdt3dAdb36Z"
      },
      "source": [
        "y_pred = clf.predict(np.array(X_test))"
      ],
      "execution_count": null,
      "outputs": []
    },
    {
      "cell_type": "code",
      "metadata": {
        "colab": {
          "base_uri": "https://localhost:8080/"
        },
        "id": "g-ATEHXRb380",
        "outputId": "2bd9b78c-7170-4adf-fc3e-df0f61a34cca"
      },
      "source": [
        "print(classification_report(y_test, y_pred))"
      ],
      "execution_count": null,
      "outputs": [
        {
          "output_type": "stream",
          "name": "stdout",
          "text": [
            "              precision    recall  f1-score   support\n",
            "\n",
            "        fake       0.90      0.92      0.91       757\n",
            "        real       0.92      0.91      0.92       848\n",
            "\n",
            "    accuracy                           0.91      1605\n",
            "   macro avg       0.91      0.91      0.91      1605\n",
            "weighted avg       0.91      0.91      0.91      1605\n",
            "\n"
          ]
        }
      ]
    },
    {
      "cell_type": "code",
      "metadata": {
        "id": "osb4kdFWb3_b"
      },
      "source": [
        "#testing on validation data\n",
        "val_data = embed(val_df['final_text'])"
      ],
      "execution_count": null,
      "outputs": []
    },
    {
      "cell_type": "code",
      "metadata": {
        "id": "CPXmaAgMckjf"
      },
      "source": [
        "val_pred = clf.predict(np.array(val_data))"
      ],
      "execution_count": null,
      "outputs": []
    },
    {
      "cell_type": "code",
      "metadata": {
        "colab": {
          "base_uri": "https://localhost:8080/"
        },
        "id": "rPYyVy62czvY",
        "outputId": "9f6b256b-cf40-4276-bb9a-ec6a1455bf32"
      },
      "source": [
        "val_pred"
      ],
      "execution_count": null,
      "outputs": [
        {
          "output_type": "execute_result",
          "data": {
            "text/plain": [
              "array(['fake', 'fake', 'fake', ..., 'fake', 'fake', 'real'], dtype=object)"
            ]
          },
          "metadata": {},
          "execution_count": 51
        }
      ]
    },
    {
      "cell_type": "code",
      "metadata": {
        "colab": {
          "base_uri": "https://localhost:8080/"
        },
        "id": "6-ZiXKUQckmE",
        "outputId": "89dc0488-b923-47d0-8d6d-bce48f87ffba"
      },
      "source": [
        "print(classification_report(val_pred, val_df['label']))"
      ],
      "execution_count": null,
      "outputs": [
        {
          "output_type": "stream",
          "name": "stdout",
          "text": [
            "              precision    recall  f1-score   support\n",
            "\n",
            "        fake       0.92      0.89      0.90      1045\n",
            "        real       0.90      0.92      0.91      1095\n",
            "\n",
            "    accuracy                           0.91      2140\n",
            "   macro avg       0.91      0.91      0.91      2140\n",
            "weighted avg       0.91      0.91      0.91      2140\n",
            "\n"
          ]
        }
      ]
    },
    {
      "cell_type": "markdown",
      "metadata": {
        "id": "huUYYxxA-w_R"
      },
      "source": [
        "## Checking robustness of embedding technique  with DA techniques "
      ]
    },
    {
      "cell_type": "markdown",
      "metadata": {
        "id": "JgeN-N7UDu_B"
      },
      "source": [
        "### Synonym replacement"
      ]
    },
    {
      "cell_type": "code",
      "metadata": {
        "id": "UBj4dAvS-8mv"
      },
      "source": [
        "val_df['augmented'] = val_df['final_text'].apply(lambda x : synonym_replacement(x))"
      ],
      "execution_count": null,
      "outputs": []
    },
    {
      "cell_type": "code",
      "metadata": {
        "colab": {
          "base_uri": "https://localhost:8080/",
          "height": 35
        },
        "id": "oKEct8UgBc-l",
        "outputId": "f7eb638f-325f-4e35-9102-f3cd3a4754bb"
      },
      "source": [
        "val_df['augmented'][0]"
      ],
      "execution_count": null,
      "outputs": [
        {
          "output_type": "execute_result",
          "data": {
            "application/vnd.google.colaboratory.intrinsic+json": {
              "type": "string"
            },
            "text/plain": [
              "'formosan change islamism actualise islamic bear upon coronavirus covdnumber area'"
            ]
          },
          "metadata": {},
          "execution_count": 73
        }
      ]
    },
    {
      "cell_type": "code",
      "metadata": {
        "colab": {
          "base_uri": "https://localhost:8080/",
          "height": 35
        },
        "id": "CApppWWuBedx",
        "outputId": "ee2723dd-c23d-4ef3-98de-6307025761bb"
      },
      "source": [
        "val_df['final_text'][0]"
      ],
      "execution_count": null,
      "outputs": [
        {
          "output_type": "execute_result",
          "data": {
            "application/vnd.google.colaboratory.intrinsic+json": {
              "type": "string"
            },
            "text/plain": [
              "'chinese converting islam realising muslim affected coronavirus covdnumber country'"
            ]
          },
          "metadata": {},
          "execution_count": 74
        }
      ]
    },
    {
      "cell_type": "code",
      "metadata": {
        "id": "dTOJ18aB-9Hz"
      },
      "source": [
        "#testing on validation data\n",
        "val_embed = embed(val_df['augmented'])"
      ],
      "execution_count": null,
      "outputs": []
    },
    {
      "cell_type": "code",
      "metadata": {
        "colab": {
          "base_uri": "https://localhost:8080/"
        },
        "id": "6Io4GcEE-9Kd",
        "outputId": "c6543481-242f-422a-8c34-25ac87f8a53e"
      },
      "source": [
        "val_embed.shape"
      ],
      "execution_count": null,
      "outputs": [
        {
          "output_type": "execute_result",
          "data": {
            "text/plain": [
              "TensorShape([2140, 512])"
            ]
          },
          "metadata": {},
          "execution_count": 84
        }
      ]
    },
    {
      "cell_type": "code",
      "metadata": {
        "id": "qgqCpKSa-9NM"
      },
      "source": [
        "val_pred_embed = clf.predict(np.array(val_embed))"
      ],
      "execution_count": null,
      "outputs": []
    },
    {
      "cell_type": "code",
      "metadata": {
        "colab": {
          "base_uri": "https://localhost:8080/"
        },
        "id": "NcHeYP-z-9QR",
        "outputId": "7b91a662-45c0-4cad-9a08-2867edd330d8"
      },
      "source": [
        "val_pred_embed"
      ],
      "execution_count": null,
      "outputs": [
        {
          "output_type": "execute_result",
          "data": {
            "text/plain": [
              "array(['fake', 'real', 'fake', ..., 'fake', 'fake', 'real'], dtype=object)"
            ]
          },
          "metadata": {},
          "execution_count": 86
        }
      ]
    },
    {
      "cell_type": "code",
      "metadata": {
        "colab": {
          "base_uri": "https://localhost:8080/",
          "height": 571
        },
        "id": "mM-NUzmHA_mb",
        "outputId": "80038555-580b-4329-fbf1-b6585f3c97f5"
      },
      "source": [
        "\n",
        "pred_embed_aug= clf.predict(np.array(val_embed))\n",
        "print_metrices(pred_embed_aug,val_df['label'])\n",
        "plot_confusion_matrix(confusion_matrix(val_df['label'],pred_embed_aug),target_names=['fake','real'], normalize = False)\n"
      ],
      "execution_count": null,
      "outputs": [
        {
          "output_type": "stream",
          "name": "stdout",
          "text": [
            "[[922  98]\n",
            " [232 888]]\n",
            "              precision    recall  f1-score   support\n",
            "\n",
            "        fake       0.80      0.90      0.85      1020\n",
            "        real       0.90      0.79      0.84      1120\n",
            "\n",
            "    accuracy                           0.85      2140\n",
            "   macro avg       0.85      0.85      0.85      2140\n",
            "weighted avg       0.85      0.85      0.85      2140\n",
            "\n",
            "Accuracy :  0.8457943925233645\n",
            "Precison :  0.8527488939501036\n",
            "Recall :  0.8457943925233645\n",
            "F1 :  0.845947842199207\n"
          ]
        },
        {
          "output_type": "display_data",
          "data": {
            "image/png": "[encoded data removed]",
            "text/plain": [
              "<Figure size 360x288 with 2 Axes>"
            ]
          },
          "metadata": {
            "needs_background": "light"
          }
        }
      ]
    },
    {
      "cell_type": "markdown",
      "metadata": {
        "id": "UCee09QXD1aM"
      },
      "source": [
        "### Keyword synonym replacement"
      ]
    },
    {
      "cell_type": "code",
      "metadata": {
        "id": "I6C5hPuREW1l"
      },
      "source": [
        "val_df['keywords'] = val_df['final_text'].apply(lambda x : keyword_extractor(x))"
      ],
      "execution_count": null,
      "outputs": []
    },
    {
      "cell_type": "code",
      "metadata": {
        "id": "57VdVxShD4cN"
      },
      "source": [
        "def synonym_replacement(val): \n",
        "  cleaned_words = list(val['final_text'])\n",
        "  keywords = list(val['keywords'])\n",
        "  new_list = []\n",
        "  for item,words in enumerate(cleaned_words) :\n",
        "      split_words = words.split() \n",
        "      new_words = split_words.copy() \n",
        "      keyword_list = keywords[item]\n",
        "      synonyms = []\n",
        "      for keyword in keyword_list :\n",
        "       synonym_list = get_synonyms(keyword)\n",
        "       if len(synonym_list) > 0 :\n",
        "          synonyms.append(synonym_list)  \n",
        "       else :\n",
        "           synonyms.append(list(keyword.split(\" \")))    \n",
        "      dict1 = {}\n",
        "      for i,val in enumerate(keyword_list):\n",
        "        dict1[val] = synonyms[i]  \n",
        "      #new_words = [sample(dict1[word],1)[0] if word in keyword_list else (word if word in [\"covid19\",\"covid\",\"coronavirus\"] else \"noun\") for word in new_words]\n",
        "      new_words = [sample(dict1[word],1)[0] if word in keyword_list else word for word in new_words]\n",
        "      sentence = ' '.join(new_words)\n",
        "      new_list.append(sentence) \n",
        "  return new_list"
      ],
      "execution_count": null,
      "outputs": []
    },
    {
      "cell_type": "code",
      "metadata": {
        "id": "6WuH_78TD8mF"
      },
      "source": [
        "keyword_synonyms = synonym_replacement(val_df)"
      ],
      "execution_count": null,
      "outputs": []
    },
    {
      "cell_type": "code",
      "metadata": {
        "id": "9CfXFO1IENy3"
      },
      "source": [
        "val_df['keyword_synonyms'] = [\"\".join(i) for i in keyword_synonyms ]"
      ],
      "execution_count": null,
      "outputs": []
    },
    {
      "cell_type": "code",
      "metadata": {
        "id": "O43II8OEFEbw"
      },
      "source": [
        "val_df_ky_syn = embed(val_df['keyword_synonyms'])"
      ],
      "execution_count": null,
      "outputs": []
    },
    {
      "cell_type": "code",
      "metadata": {
        "colab": {
          "base_uri": "https://localhost:8080/",
          "height": 571
        },
        "id": "065Nl5xGE6kP",
        "outputId": "c8aead7a-63ab-4549-9b99-1b1e41f11268"
      },
      "source": [
        "pred_keyword_syn_embed=clf.predict(np.array(val_df_ky_syn))\n",
        "print_metrices(pred_keyword_syn_embed,val_df['label'])\n",
        "plot_confusion_matrix(confusion_matrix(val_df['label'],pred_keyword_syn_embed),target_names=['fake','real'], normalize = False, \\\n",
        "                      title = 'Confusion matix')\n"
      ],
      "execution_count": null,
      "outputs": [
        {
          "output_type": "stream",
          "name": "stdout",
          "text": [
            "[[921  99]\n",
            " [240 880]]\n",
            "              precision    recall  f1-score   support\n",
            "\n",
            "        fake       0.79      0.90      0.84      1020\n",
            "        real       0.90      0.79      0.84      1120\n",
            "\n",
            "    accuracy                           0.84      2140\n",
            "   macro avg       0.85      0.84      0.84      2140\n",
            "weighted avg       0.85      0.84      0.84      2140\n",
            "\n",
            "Accuracy :  0.841588785046729\n",
            "Precison :  0.8493126128956255\n",
            "Recall :  0.841588785046729\n",
            "F1 :  0.8417888268634682\n"
          ]
        },
        {
          "output_type": "display_data",
          "data": {
            "image/png": "[encoded data removed]",
            "text/plain": [
              "<Figure size 360x288 with 2 Axes>"
            ]
          },
          "metadata": {
            "needs_background": "light"
          }
        }
      ]
    },
    {
      "cell_type": "code",
      "metadata": {
        "id": "B3njTckuE6nL"
      },
      "source": [
        ""
      ],
      "execution_count": null,
      "outputs": []
    },
    {
      "cell_type": "code",
      "metadata": {
        "id": "GhPqZuN3E6p4"
      },
      "source": [
        ""
      ],
      "execution_count": null,
      "outputs": []
    },
    {
      "cell_type": "code",
      "metadata": {
        "id": "Wc0iT2cPE6sX"
      },
      "source": [
        ""
      ],
      "execution_count": null,
      "outputs": []
    },
    {
      "cell_type": "code",
      "metadata": {
        "id": "_PPTSdwCE6v1"
      },
      "source": [
        ""
      ],
      "execution_count": null,
      "outputs": []
    },
    {
      "cell_type": "markdown",
      "metadata": {
        "id": "olMEYHy1CLpo"
      },
      "source": [
        "## Checking with random deletion"
      ]
    },
    {
      "cell_type": "code",
      "metadata": {
        "colab": {
          "base_uri": "https://localhost:8080/"
        },
        "id": "0wws4GQfD76H",
        "outputId": "b7a73b0e-95b5-4344-ca05-e538511268ec"
      },
      "source": [
        "val_df.columns"
      ],
      "execution_count": null,
      "outputs": [
        {
          "output_type": "execute_result",
          "data": {
            "text/plain": [
              "Index(['id', 'tweet', 'label', 'clean_text', 'final_text', 'augmented',\n",
              "       'deletion', 'keywords', 'keyword_synonyms'],\n",
              "      dtype='object')"
            ]
          },
          "metadata": {},
          "execution_count": 118
        }
      ]
    },
    {
      "cell_type": "code",
      "metadata": {
        "id": "1NXQD_H2cko3"
      },
      "source": [
        "val_df['deletion'] = val_df['final_text'].apply(lambda x : random_deletion(x,0.4)) "
      ],
      "execution_count": null,
      "outputs": []
    },
    {
      "cell_type": "code",
      "metadata": {
        "id": "pjrSry27Cict"
      },
      "source": [
        "val_del_df_embed = embed(val_df['deletion'])"
      ],
      "execution_count": null,
      "outputs": []
    },
    {
      "cell_type": "code",
      "metadata": {
        "id": "lZQuiGNPckrb",
        "colab": {
          "base_uri": "https://localhost:8080/",
          "height": 571
        },
        "outputId": "a45cf1b0-704e-4360-fe82-716e2f6a527b"
      },
      "source": [
        "pred_del_embed=clf.predict(np.array(val_del_df_embed))\n",
        "print_metrices(pred_del_embed,val_df['label'])\n",
        "plot_confusion_matrix(confusion_matrix(val_df['label'],pred_del_embed),target_names=['fake','real'], normalize = False)\n"
      ],
      "execution_count": null,
      "outputs": [
        {
          "output_type": "stream",
          "name": "stdout",
          "text": [
            "[[935  85]\n",
            " [240 880]]\n",
            "              precision    recall  f1-score   support\n",
            "\n",
            "        fake       0.80      0.92      0.85      1020\n",
            "        real       0.91      0.79      0.84      1120\n",
            "\n",
            "    accuracy                           0.85      2140\n",
            "   macro avg       0.85      0.85      0.85      2140\n",
            "weighted avg       0.86      0.85      0.85      2140\n",
            "\n",
            "Accuracy :  0.8481308411214953\n",
            "Precison :  0.8576157098353359\n",
            "Recall :  0.8481308411214953\n",
            "F1 :  0.8484137348967399\n"
          ]
        },
        {
          "output_type": "display_data",
          "data": {
            "image/png": "[encoded data removed]",
            "text/plain": [
              "<Figure size 360x288 with 2 Axes>"
            ]
          },
          "metadata": {
            "needs_background": "light"
          }
        }
      ]
    },
    {
      "cell_type": "markdown",
      "metadata": {
        "id": "ZThDqfkILGny"
      },
      "source": [
        "### Random keyword deletion"
      ]
    },
    {
      "cell_type": "code",
      "metadata": {
        "id": "7oVug88dckuu"
      },
      "source": [
        "def keyword_deletion(val): \n",
        "  cleaned_words = list(val['final_text'])\n",
        "  keywords = list(val['keywords'])\n",
        "  new_list = []\n",
        "  for item,words in enumerate(cleaned_words) :\n",
        "      split_words = words.split() \n",
        "      new_words = split_words.copy() \n",
        "      keyword_list = keywords[item] \n",
        "      if(len(keyword_list) >  5 ):\n",
        "          keyword_list = sample(keyword_list,5)\n",
        "      else :\n",
        "          keyword_list = []\n",
        "      new_words = [\"\" if word in keyword_list else word for word in new_words]\n",
        "      sentence = ' '.join(new_words)\n",
        "      new_list.append(sentence) \n",
        "  return new_list"
      ],
      "execution_count": null,
      "outputs": []
    },
    {
      "cell_type": "code",
      "metadata": {
        "id": "zMtRqGGCb4DX"
      },
      "source": [
        "new_keywords_list_embed = keyword_deletion(val_df)\n",
        "val_df['keyword_deletion'] = [\"\".join(i) for i in new_keywords_list_embed ]"
      ],
      "execution_count": null,
      "outputs": []
    },
    {
      "cell_type": "code",
      "metadata": {
        "id": "PpglCKFfLpRd"
      },
      "source": [
        "val_keyword_del_embed = embed(val_df['keyword_deletion'])"
      ],
      "execution_count": null,
      "outputs": []
    },
    {
      "cell_type": "code",
      "metadata": {
        "colab": {
          "base_uri": "https://localhost:8080/",
          "height": 571
        },
        "id": "0jCYIww5LY53",
        "outputId": "a65b3fd7-803a-4dfa-d45c-17822db7d77f"
      },
      "source": [
        "pred_key_del_embed=clf.predict(np.array(val_keyword_del_embed))\n",
        "print_metrices(pred_key_del_embed,val_df['label'])\n",
        "plot_confusion_matrix(confusion_matrix(val_df['label'],pred_key_del_embed),target_names=['fake','real'], normalize = False, \\\n",
        "                      title = 'Confusion matix of SVM on validation data')\n"
      ],
      "execution_count": null,
      "outputs": [
        {
          "output_type": "stream",
          "name": "stdout",
          "text": [
            "[[902 118]\n",
            " [201 919]]\n",
            "              precision    recall  f1-score   support\n",
            "\n",
            "        fake       0.82      0.88      0.85      1020\n",
            "        real       0.89      0.82      0.85      1120\n",
            "\n",
            "    accuracy                           0.85      2140\n",
            "   macro avg       0.85      0.85      0.85      2140\n",
            "weighted avg       0.85      0.85      0.85      2140\n",
            "\n",
            "Accuracy :  0.8509345794392523\n",
            "Precison :  0.8534082125840989\n",
            "Recall :  0.8509345794392523\n",
            "F1 :  0.8508886486631134\n"
          ]
        },
        {
          "output_type": "display_data",
          "data": {
            "image/png": "[encoded data removed]",
            "text/plain": [
              "<Figure size 360x288 with 2 Axes>"
            ]
          },
          "metadata": {
            "needs_background": "light"
          }
        }
      ]
    },
    {
      "cell_type": "markdown",
      "metadata": {
        "id": "l3GW_oPDMmcH"
      },
      "source": [
        "### Random swap"
      ]
    },
    {
      "cell_type": "code",
      "metadata": {
        "id": "YuYXnGkHMouG"
      },
      "source": [
        "val_df['swap'] = val_df['final_text'].apply(lambda x : random_swap(x,len(x))) "
      ],
      "execution_count": null,
      "outputs": []
    },
    {
      "cell_type": "code",
      "metadata": {
        "id": "RSeuCv-kM5J8"
      },
      "source": [
        "val_swap_embed = embed(val_df['swap'])"
      ],
      "execution_count": null,
      "outputs": []
    },
    {
      "cell_type": "code",
      "metadata": {
        "colab": {
          "base_uri": "https://localhost:8080/",
          "height": 571
        },
        "id": "D006edCBMxSE",
        "outputId": "dae4fbce-f55a-4854-a9e2-89afc7f8d343"
      },
      "source": [
        "pred_swap_embed=clf.predict(np.array(val_swap_embed))\n",
        "print_metrices(pred_swap_embed,val_df['label'])\n",
        "plot_confusion_matrix(confusion_matrix(val_df['label'],pred_swap_embed),target_names=['fake','real'], normalize = False)\n"
      ],
      "execution_count": null,
      "outputs": [
        {
          "output_type": "stream",
          "name": "stdout",
          "text": [
            "[[ 931   89]\n",
            " [ 101 1019]]\n",
            "              precision    recall  f1-score   support\n",
            "\n",
            "        fake       0.90      0.91      0.91      1020\n",
            "        real       0.92      0.91      0.91      1120\n",
            "\n",
            "    accuracy                           0.91      2140\n",
            "   macro avg       0.91      0.91      0.91      2140\n",
            "weighted avg       0.91      0.91      0.91      2140\n",
            "\n",
            "Accuracy :  0.9112149532710281\n",
            "Precison :  0.9112313476792585\n",
            "Recall :  0.9112149532710281\n",
            "F1 :  0.9111944458426783\n"
          ]
        },
        {
          "output_type": "display_data",
          "data": {
            "image/png": "[encoded data removed]",
            "text/plain": [
              "<Figure size 360x288 with 2 Axes>"
            ]
          },
          "metadata": {
            "needs_background": "light"
          }
        }
      ]
    },
    {
      "cell_type": "markdown",
      "metadata": {
        "id": "QG0TrO3nOd3p"
      },
      "source": [
        "## validating on CTF data"
      ]
    },
    {
      "cell_type": "code",
      "metadata": {
        "id": "hbf8T9Z-OgSo"
      },
      "source": [
        "ctf_embed = embed(ctf_data['final_text'])"
      ],
      "execution_count": null,
      "outputs": []
    },
    {
      "cell_type": "code",
      "metadata": {
        "colab": {
          "base_uri": "https://localhost:8080/",
          "height": 571
        },
        "id": "9JHXP_jsMxU0",
        "outputId": "77fbd27e-46e7-44e4-aef2-ad922d333c84"
      },
      "source": [
        "pred_ctf_embed=clf.predict(np.array(ctf_embed))\n",
        "print_metrices(pred_ctf_embed,ctf_data['label'])\n",
        "plot_confusion_matrix(confusion_matrix(ctf_data['label'],pred_ctf_embed),target_names=['fake','real'], normalize = False)\n"
      ],
      "execution_count": null,
      "outputs": [
        {
          "output_type": "stream",
          "name": "stdout",
          "text": [
            "[[353  33]\n",
            " [270 109]]\n",
            "              precision    recall  f1-score   support\n",
            "\n",
            "        fake       0.57      0.91      0.70       386\n",
            "        real       0.77      0.29      0.42       379\n",
            "\n",
            "    accuracy                           0.60       765\n",
            "   macro avg       0.67      0.60      0.56       765\n",
            "weighted avg       0.67      0.60      0.56       765\n",
            "\n",
            "Accuracy :  0.6039215686274509\n",
            "Precison :  0.7981403818311609\n",
            "Recall :  0.6039215686274509\n",
            "F1 :  0.6474918611947518\n"
          ]
        },
        {
          "output_type": "display_data",
          "data": {
            "image/png": "[encoded data removed]",
            "text/plain": [
              "<Figure size 360x288 with 2 Axes>"
            ]
          },
          "metadata": {
            "needs_background": "light"
          }
        }
      ]
    },
    {
      "cell_type": "code",
      "metadata": {
        "id": "BtavIbcLMxYU"
      },
      "source": [
        ""
      ],
      "execution_count": null,
      "outputs": []
    },
    {
      "cell_type": "markdown",
      "metadata": {
        "id": "JFliqtNleTk3"
      },
      "source": [
        "#Data augmentation with synonym replacement"
      ]
    },
    {
      "cell_type": "code",
      "metadata": {
        "id": "8WS2l4FgZcdS"
      },
      "source": [
        "from nltk.corpus import wordnet "
      ],
      "execution_count": null,
      "outputs": []
    },
    {
      "cell_type": "code",
      "metadata": {
        "id": "Th01Oo0ha3DJ"
      },
      "source": [
        "def get_synonyms(word):\n",
        "    \"\"\"\n",
        "    Get synonyms of a word\n",
        "    \"\"\"\n",
        "    synonyms = set()\n",
        "    \n",
        "    for syn in wordnet.synsets(word): \n",
        "        for l in syn.lemmas(): \n",
        "            synonym = l.name().replace(\"_\", \" \").replace(\"-\", \" \").lower()\n",
        "            synonym = \"\".join([char for char in synonym if char in ' qwertyuiopasdfghjklzxcvbnm'])\n",
        "            synonyms.add(synonym) \n",
        "    \n",
        "    if word in synonyms:\n",
        "        synonyms.remove(word)\n",
        "    \n",
        "    return list(synonyms)"
      ],
      "execution_count": null,
      "outputs": []
    },
    {
      "cell_type": "code",
      "metadata": {
        "colab": {
          "base_uri": "https://localhost:8080/"
        },
        "id": "B8ADo97hbCFG",
        "outputId": "d40166f9-0239-4e9c-aed7-e24daa38f5c2"
      },
      "source": [
        "nltk.download('wordnet')"
      ],
      "execution_count": null,
      "outputs": [
        {
          "output_type": "stream",
          "name": "stdout",
          "text": [
            "[nltk_data] Downloading package wordnet to /root/nltk_data...\n",
            "[nltk_data]   Unzipping corpora/wordnet.zip.\n"
          ]
        },
        {
          "output_type": "execute_result",
          "data": {
            "text/plain": [
              "True"
            ]
          },
          "metadata": {},
          "execution_count": 55
        }
      ]
    },
    {
      "cell_type": "code",
      "metadata": {
        "colab": {
          "base_uri": "https://localhost:8080/"
        },
        "id": "i8T_LfJ6a7YY",
        "outputId": "8795c175-e44d-406f-c844-538fc659b30a"
      },
      "source": [
        "get_synonyms(\"simple\")"
      ],
      "execution_count": null,
      "outputs": [
        {
          "output_type": "execute_result",
          "data": {
            "text/plain": [
              "['wide eyed',\n",
              " 'childlike',\n",
              " 'unsubdivided',\n",
              " 'unproblematic',\n",
              " 'bare',\n",
              " 'mere',\n",
              " 'dewy eyed',\n",
              " 'dim witted',\n",
              " 'uncomplicated',\n",
              " 'elementary',\n",
              " 'round eyed',\n",
              " 'simple minded',\n",
              " 'simpleton']"
            ]
          },
          "metadata": {},
          "execution_count": 56
        }
      ]
    },
    {
      "cell_type": "code",
      "metadata": {
        "colab": {
          "base_uri": "https://localhost:8080/"
        },
        "id": "LV7uik9Ka-8B",
        "outputId": "fd7e603a-e5c3-4837-8a8b-ddd7518b568c"
      },
      "source": [
        "get_synonyms(\"important\")"
      ],
      "execution_count": null,
      "outputs": [
        {
          "output_type": "execute_result",
          "data": {
            "text/plain": [
              "['crucial', 'authoritative', 'of import', 'significant']"
            ]
          },
          "metadata": {},
          "execution_count": 57
        }
      ]
    },
    {
      "cell_type": "code",
      "metadata": {
        "id": "sVB6tIgYcKhm"
      },
      "source": [
        "import random"
      ],
      "execution_count": null,
      "outputs": []
    },
    {
      "cell_type": "code",
      "metadata": {
        "colab": {
          "base_uri": "https://localhost:8080/"
        },
        "id": "nH9ExFEBgVYs",
        "outputId": "61133aba-3a03-4687-c95e-2397d9913555"
      },
      "source": [
        " list1 = range(1,6)\n",
        " print(random.choice(list1))"
      ],
      "execution_count": null,
      "outputs": [
        {
          "output_type": "stream",
          "name": "stdout",
          "text": [
            "2\n"
          ]
        }
      ]
    },
    {
      "cell_type": "code",
      "metadata": {
        "id": "UU7_M2EtbJe_"
      },
      "source": [
        "def synonym_replacement(words):\n",
        "    n = 7\n",
        "    words = words.split()  \n",
        "    new_words = words.copy()\n",
        "    random_word_list = list(set([word for word in words if word not in stops]))\n",
        "    random.shuffle(random_word_list)\n",
        "    num_replaced = 0\n",
        "    \n",
        "    for random_word in random_word_list:\n",
        "        synonyms = get_synonyms(random_word)\n",
        "        \n",
        "        if len(synonyms) >= 1:\n",
        "            synonym = random.choice(list(synonyms))\n",
        "            new_words = [synonym if word == random_word else word for word in new_words]\n",
        "            num_replaced += 1\n",
        "        \n",
        "        if num_replaced >= n: #only replace up to n words\n",
        "            break\n",
        "\n",
        "    sentence = ' '.join(new_words)\n",
        "\n",
        "    return sentence"
      ],
      "execution_count": null,
      "outputs": []
    },
    {
      "cell_type": "code",
      "metadata": {
        "colab": {
          "base_uri": "https://localhost:8080/",
          "height": 53
        },
        "id": "a5hHchiUbZ52",
        "outputId": "40dcccca-ad1c-4f2f-8232-dc04744331fb"
      },
      "source": [
        "synonym_replacement(train['cleaned'][0])"
      ],
      "execution_count": null,
      "outputs": [
        {
          "output_type": "execute_result",
          "data": {
            "application/vnd.google.colaboratory.intrinsic+json": {
              "type": "string"
            },
            "text/plain": [
              "'center for disease control and prevention currently news report 99031 deaths oecumenical discrepancies death counts different sources humble explicable death toll stands roughly lakh people today'"
            ]
          },
          "metadata": {},
          "execution_count": 57
        }
      ]
    },
    {
      "cell_type": "code",
      "metadata": {
        "colab": {
          "base_uri": "https://localhost:8080/",
          "height": 53
        },
        "id": "TqOwxRkzcBVE",
        "outputId": "67c81d6f-2ecd-4dcb-bb05-8489adb39688"
      },
      "source": [
        "train['cleaned'][0]"
      ],
      "execution_count": null,
      "outputs": [
        {
          "output_type": "execute_result",
          "data": {
            "application/vnd.google.colaboratory.intrinsic+json": {
              "type": "string"
            },
            "text/plain": [
              "'cdc currently reports 99031 deaths general discrepancies death counts different sources small explicable death toll stands roughly 100000 people today'"
            ]
          },
          "metadata": {},
          "execution_count": 46
        }
      ]
    },
    {
      "cell_type": "code",
      "metadata": {
        "colab": {
          "base_uri": "https://localhost:8080/"
        },
        "id": "Qxk7YYRBhijg",
        "outputId": "c3890967-b18c-49fd-9f39-947945178acd"
      },
      "source": [
        "len(val)"
      ],
      "execution_count": null,
      "outputs": [
        {
          "output_type": "execute_result",
          "data": {
            "text/plain": [
              "2140"
            ]
          },
          "metadata": {},
          "execution_count": 58
        }
      ]
    },
    {
      "cell_type": "code",
      "metadata": {
        "colab": {
          "base_uri": "https://localhost:8080/",
          "height": 53
        },
        "id": "lNFYyZg-hs3g",
        "outputId": "93a64766-6379-44c2-fd88-78b786f42657"
      },
      "source": [
        "val['cleaned'][1]"
      ],
      "execution_count": null,
      "outputs": [
        {
          "output_type": "execute_result",
          "data": {
            "application/vnd.google.colaboratory.intrinsic+json": {
              "type": "string"
            },
            "text/plain": [
              "'11 13 people diamond princess cruise ship intially tested negative tests japan later confirmed positive united states'"
            ]
          },
          "metadata": {},
          "execution_count": 63
        }
      ]
    },
    {
      "cell_type": "code",
      "metadata": {
        "colab": {
          "base_uri": "https://localhost:8080/",
          "height": 53
        },
        "id": "_2vf8HTwhwqp",
        "outputId": "89e2cbca-ae4f-436b-a5c2-d0e57f1f8af9"
      },
      "source": [
        "val['augmented'][1]"
      ],
      "execution_count": null,
      "outputs": [
        {
          "output_type": "execute_result",
          "data": {
            "application/vnd.google.colaboratory.intrinsic+json": {
              "type": "string"
            },
            "text/plain": [
              "'11 long dozen mass diamond princess cruise ship intially tested negative tests japan later confirmed positive merge states'"
            ]
          },
          "metadata": {},
          "execution_count": 64
        }
      ]
    },
    {
      "cell_type": "code",
      "metadata": {
        "id": "bl5aLlK3cPDF"
      },
      "source": [
        "val['augmented'] = val['cleaned'].apply(lambda x : synonym_replacement(x))"
      ],
      "execution_count": null,
      "outputs": []
    },
    {
      "cell_type": "code",
      "metadata": {
        "colab": {
          "base_uri": "https://localhost:8080/"
        },
        "id": "0d4c0OfqhpMA",
        "outputId": "047f17ec-0c46-4d4d-833c-228fcf6bf51b"
      },
      "source": [
        "val['augmented']"
      ],
      "execution_count": null,
      "outputs": [
        {
          "output_type": "execute_result",
          "data": {
            "text/plain": [
              "0       formosan win over islamism bring in moslem bea...\n",
              "1       11 bakers dozen people baseball diamond prince...\n",
              "2       covid xix do bacteria computer virus toughened...\n",
              "3       microphone centime rnc speech praises donald t...\n",
              "4       sixer decade pitch edconwaysky explain former ...\n",
              "                              ...                        \n",
              "2135    donald trump wrongly arrogate new seeland big ...\n",
              "2136    flow understanding covid19 scatter largely per...\n",
              "2137    null screams sat around sleep with lockdown qu...\n",
              "2138    birx say covid nineteen eruption hold mass prompt\n",
              "2139    another 4422 new coronavirus cases confirmed u...\n",
              "Name: augmented, Length: 2140, dtype: object"
            ]
          },
          "metadata": {},
          "execution_count": 138
        }
      ]
    },
    {
      "cell_type": "code",
      "metadata": {
        "colab": {
          "base_uri": "https://localhost:8080/",
          "height": 571
        },
        "id": "qf4KkvS_hrLT",
        "outputId": "fc511131-500f-4ae4-db3d-66d3deb9f221"
      },
      "source": [
        "pred_aug=pipeline.predict(val['augmented'])\n",
        "print_metrices(pred_aug,val['label'])\n",
        "plot_confusion_matrix(confusion_matrix(val['label'],pred_aug),target_names=['fake','real'], normalize = False, \\\n",
        "                      title = 'Confusion matix of SVM on augemented validation data')\n"
      ],
      "execution_count": null,
      "outputs": [
        {
          "output_type": "stream",
          "name": "stdout",
          "text": [
            "[[935  85]\n",
            " [199 921]]\n",
            "              precision    recall  f1-score   support\n",
            "\n",
            "        fake       0.82      0.92      0.87      1020\n",
            "        real       0.92      0.82      0.87      1120\n",
            "\n",
            "    accuracy                           0.87      2140\n",
            "   macro avg       0.87      0.87      0.87      2140\n",
            "weighted avg       0.87      0.87      0.87      2140\n",
            "\n",
            "Accuracy :  0.8672897196261682\n",
            "Precison :  0.8723155874499332\n",
            "Recall :  0.8672897196261682\n",
            "F1 :  0.867335971410784\n"
          ]
        },
        {
          "output_type": "display_data",
          "data": {
            "image/png": "[encoded data removed]",
            "text/plain": [
              "<Figure size 360x288 with 2 Axes>"
            ]
          },
          "metadata": {
            "needs_background": "light"
          }
        }
      ]
    },
    {
      "cell_type": "code",
      "metadata": {
        "id": "Ko-ejFD9iI-v"
      },
      "source": [
        "def random_insertion(words, n):\n",
        "    \n",
        "    words = words.split()\n",
        "    new_words = words.copy()\n",
        "    \n",
        "    for _ in range(n):\n",
        "        add_word(new_words)\n",
        "        \n",
        "    sentence = ' '.join(new_words)\n",
        "    return sentence\n",
        "\n",
        "def add_word(new_words):\n",
        "    \n",
        "    synonyms = []\n",
        "    counter = 0\n",
        "    \n",
        "    while len(synonyms) < 1:\n",
        "        random_word = new_words[random.randint(0, len(new_words)-1)]\n",
        "        synonyms = get_synonyms(random_word)\n",
        "        counter += 1\n",
        "        if counter >= 10:\n",
        "            return\n",
        "        \n",
        "    random_synonym = synonyms[0]\n",
        "    random_idx = random.randint(0, len(new_words)-1)\n",
        "    new_words.insert(random_idx, random_synonym)"
      ],
      "execution_count": null,
      "outputs": []
    },
    {
      "cell_type": "code",
      "metadata": {
        "colab": {
          "base_uri": "https://localhost:8080/",
          "height": 35
        },
        "id": "9Kxs1TuFlcv4",
        "outputId": "2629d837-8534-4fbc-c942-f4ad45e0e9ba"
      },
      "source": [
        "random_insertion(val['cleaned'][0],3)"
      ],
      "execution_count": null,
      "outputs": [
        {
          "output_type": "execute_result",
          "data": {
            "application/vnd.google.colaboratory.intrinsic+json": {
              "type": "string"
            },
            "text/plain": [
              "'chinese converting islam formosan realising muslim affected involve coronavirus islamic covd19 country'"
            ]
          },
          "metadata": {},
          "execution_count": 77
        }
      ]
    },
    {
      "cell_type": "code",
      "metadata": {
        "colab": {
          "base_uri": "https://localhost:8080/",
          "height": 35
        },
        "id": "S9FK5-Ffli-3",
        "outputId": "5377ad21-1703-4a97-d938-f2dbe08deb9c"
      },
      "source": [
        "val['cleaned'][0]"
      ],
      "execution_count": null,
      "outputs": [
        {
          "output_type": "execute_result",
          "data": {
            "application/vnd.google.colaboratory.intrinsic+json": {
              "type": "string"
            },
            "text/plain": [
              "'chinese converting islam realising muslim affected coronavirus covd19 country'"
            ]
          },
          "metadata": {},
          "execution_count": 78
        }
      ]
    },
    {
      "cell_type": "code",
      "metadata": {
        "id": "trXnOgoIlogJ"
      },
      "source": [
        "val['insertion'] = val['cleaned'].apply(lambda x : random_insertion(x,3)) "
      ],
      "execution_count": null,
      "outputs": []
    },
    {
      "cell_type": "code",
      "metadata": {
        "colab": {
          "base_uri": "https://localhost:8080/",
          "height": 571
        },
        "id": "v0NvAOPbyA9e",
        "outputId": "f9596e22-cb0f-4e14-de65-f09fac35dfcd"
      },
      "source": [
        "pred_ins=pipeline.predict(val['insertion'])\n",
        "print_metrices(pred_ins,val['label'])\n",
        "plot_confusion_matrix(confusion_matrix(val['label'],pred_ins),target_names=['fake','real'], normalize = False, \\\n",
        "                      title = 'Confusion matix of SVM on validation data')\n"
      ],
      "execution_count": null,
      "outputs": [
        {
          "output_type": "stream",
          "name": "stdout",
          "text": [
            "[[ 952   68]\n",
            " [  87 1033]]\n",
            "              precision    recall  f1-score   support\n",
            "\n",
            "        fake       0.92      0.93      0.92      1020\n",
            "        real       0.94      0.92      0.93      1120\n",
            "\n",
            "    accuracy                           0.93      2140\n",
            "   macro avg       0.93      0.93      0.93      2140\n",
            "weighted avg       0.93      0.93      0.93      2140\n",
            "\n",
            "Accuracy :  0.927570093457944\n",
            "Precison :  0.92766786270583\n",
            "Recall :  0.927570093457944\n",
            "F1 :  0.9275457180642138\n"
          ]
        },
        {
          "output_type": "display_data",
          "data": {
            "image/png": "[encoded data removed]",
            "text/plain": [
              "<Figure size 360x288 with 2 Axes>"
            ]
          },
          "metadata": {
            "needs_background": "light"
          }
        }
      ]
    },
    {
      "cell_type": "markdown",
      "metadata": {
        "id": "kHgGjyDn_7Kh"
      },
      "source": [
        "# Random deletion"
      ]
    },
    {
      "cell_type": "code",
      "metadata": {
        "id": "eAAfwv3RyMUv"
      },
      "source": [
        "def random_deletion(words, p):\n",
        "\n",
        "    words = words.split()\n",
        "    \n",
        "    #obviously, if there's only one word, don't delete it\n",
        "    if len(words) == 1:\n",
        "        return words\n",
        "\n",
        "    #randomly delete words with probability p\n",
        "    new_words = []\n",
        "    for word in words:\n",
        "        r = random.uniform(0, 1)\n",
        "        if r > p:\n",
        "            new_words.append(word)\n",
        "\n",
        "    #if you end up deleting all words, just return a random word\n",
        "    if len(new_words) == 0:\n",
        "        rand_int = random.randint(0, len(words)-1)\n",
        "        return words[rand_int]\n",
        "\n",
        "    sentence = ' '.join(new_words)\n",
        "    \n",
        "    return sentence"
      ],
      "execution_count": null,
      "outputs": []
    },
    {
      "cell_type": "code",
      "metadata": {
        "id": "6bJImAQh_-0a"
      },
      "source": [
        "val['deletion'] = val['cleaned'].apply(lambda x : random_deletion(x,0.4)) "
      ],
      "execution_count": null,
      "outputs": []
    },
    {
      "cell_type": "code",
      "metadata": {
        "colab": {
          "base_uri": "https://localhost:8080/"
        },
        "id": "Am-grhRZAOb3",
        "outputId": "9168d7b5-ef5c-4c71-81d1-edd94ee5f9ae"
      },
      "source": [
        "val['deletion']"
      ],
      "execution_count": null,
      "outputs": [
        {
          "output_type": "execute_result",
          "data": {
            "text/plain": [
              "0       chinese converting realising muslim affected c...\n",
              "1       11 people diamond cruise intially tested negat...\n",
              "2         covid 19 caused bacterium virus treated aspirin\n",
              "3       mike pence praises donald trump covid 19 seaml...\n",
              "4                           6 data government coronavirus\n",
              "                              ...                        \n",
              "2135    donald trump wrongly claimed new zealand surge...\n",
              "2136    understanding covid19 spreads mostly person re...\n",
              "2137    sat around fuck lockdown quite confident assum...\n",
              "2138                  birx says covid control people move\n",
              "2139    another coronavirus cases confirmed highest nu...\n",
              "Name: deletion, Length: 2140, dtype: object"
            ]
          },
          "metadata": {},
          "execution_count": 141
        }
      ]
    },
    {
      "cell_type": "code",
      "metadata": {
        "colab": {
          "base_uri": "https://localhost:8080/",
          "height": 35
        },
        "id": "wySN08ukAQrb",
        "outputId": "548572ea-a9cc-44e5-f6ba-b574721d76e8"
      },
      "source": [
        "val['deletion'][0]"
      ],
      "execution_count": null,
      "outputs": [
        {
          "output_type": "execute_result",
          "data": {
            "application/vnd.google.colaboratory.intrinsic+json": {
              "type": "string"
            },
            "text/plain": [
              "'chinese converting islam realising affected'"
            ]
          },
          "metadata": {},
          "execution_count": 107
        }
      ]
    },
    {
      "cell_type": "code",
      "metadata": {
        "colab": {
          "base_uri": "https://localhost:8080/",
          "height": 35
        },
        "id": "vSeRZ8OKAvV0",
        "outputId": "945a71d5-844a-44b9-9b14-3bd48f05fa55"
      },
      "source": [
        "val['cleaned'][0]"
      ],
      "execution_count": null,
      "outputs": [
        {
          "output_type": "execute_result",
          "data": {
            "application/vnd.google.colaboratory.intrinsic+json": {
              "type": "string"
            },
            "text/plain": [
              "'chinese converting islam realising muslim affected coronavirus covd19 country'"
            ]
          },
          "metadata": {},
          "execution_count": 108
        }
      ]
    },
    {
      "cell_type": "code",
      "metadata": {
        "colab": {
          "base_uri": "https://localhost:8080/",
          "height": 571
        },
        "id": "41MEgsJXBAk9",
        "outputId": "254071f0-09ff-48ee-ab3d-75663717ed35"
      },
      "source": [
        "pred_del=pipeline.predict(val['deletion'])\n",
        "print_metrices(pred_del,val['label'])\n",
        "plot_confusion_matrix(confusion_matrix(val['label'],pred_del),target_names=['fake','real'], normalize = False, \\\n",
        "                      title = 'Confusion matix of SVM on deletion data')\n"
      ],
      "execution_count": null,
      "outputs": [
        {
          "output_type": "stream",
          "name": "stdout",
          "text": [
            "[[935  85]\n",
            " [147 973]]\n",
            "              precision    recall  f1-score   support\n",
            "\n",
            "        fake       0.86      0.92      0.89      1020\n",
            "        real       0.92      0.87      0.89      1120\n",
            "\n",
            "    accuracy                           0.89      2140\n",
            "   macro avg       0.89      0.89      0.89      2140\n",
            "weighted avg       0.89      0.89      0.89      2140\n",
            "\n",
            "Accuracy :  0.891588785046729\n",
            "Precison :  0.8929770249221184\n",
            "Recall :  0.891588785046729\n",
            "F1 :  0.8915329947192632\n"
          ]
        },
        {
          "output_type": "display_data",
          "data": {
            "image/png": "[encoded data removed]",
            "text/plain": [
              "<Figure size 360x288 with 2 Axes>"
            ]
          },
          "metadata": {
            "needs_background": "light"
          }
        }
      ]
    },
    {
      "cell_type": "markdown",
      "metadata": {
        "id": "oWNboQ9GClbK"
      },
      "source": [
        "#Synonym replacement only for keywords"
      ]
    },
    {
      "cell_type": "code",
      "metadata": {
        "id": "JtfNY0YmBOBW"
      },
      "source": [
        "kw_extractor = yake.KeywordExtractor()\n",
        "language = \"en\"\n",
        "max_ngram_size = 1\n",
        "deduplication_threshold = 0.7\n",
        "numOfKeywords = 10"
      ],
      "execution_count": null,
      "outputs": []
    },
    {
      "cell_type": "code",
      "metadata": {
        "id": "rNkxwre0C6Rn"
      },
      "source": [
        "text2 =\"bollywood actor aamir kahan has anonymously donated Rs 15000 to people living in a slum.\""
      ],
      "execution_count": null,
      "outputs": []
    },
    {
      "cell_type": "code",
      "metadata": {
        "id": "Ji99k6PrR2QE"
      },
      "source": [
        "val['keywords'] = val['cleaned'].apply(lambda x : keyword_extractor(x))"
      ],
      "execution_count": null,
      "outputs": []
    },
    {
      "cell_type": "code",
      "metadata": {
        "colab": {
          "base_uri": "https://localhost:8080/"
        },
        "id": "4psBZLKiDaFX",
        "outputId": "c38fba09-4ebf-407d-83fa-d73b4b868af0"
      },
      "source": [
        "val.columns"
      ],
      "execution_count": null,
      "outputs": [
        {
          "output_type": "execute_result",
          "data": {
            "text/plain": [
              "Index(['id', 'tweet', 'label', 'cleaned', 'augmented', 'insertion', 'deletion',\n",
              "       'keywords'],\n",
              "      dtype='object')"
            ]
          },
          "metadata": {},
          "execution_count": 152
        }
      ]
    },
    {
      "cell_type": "code",
      "metadata": {
        "id": "HrwDWbmpcB_I"
      },
      "source": [
        "from random import sample"
      ],
      "execution_count": null,
      "outputs": []
    },
    {
      "cell_type": "code",
      "metadata": {
        "id": "KOaU66rLDbIm"
      },
      "source": [
        "def synonym_replacement(val): \n",
        "  cleaned_words = list(val['cleaned'])\n",
        "  keywords = list(val['keywords'])\n",
        "  new_list = []\n",
        "  for item,words in enumerate(cleaned_words) :\n",
        "      split_words = words.split() \n",
        "      new_words = split_words.copy() \n",
        "      keyword_list = keywords[item]\n",
        "      synonyms = []\n",
        "      for keyword in keyword_list :\n",
        "       synonym_list = get_synonyms(keyword)\n",
        "       if len(synonym_list) > 0 :\n",
        "          synonyms.append(synonym_list)  \n",
        "       else :\n",
        "           synonyms.append(list(keyword.split(\" \")))    \n",
        "      dict1 = {}\n",
        "      for i,val in enumerate(keyword_list):\n",
        "        dict1[val] = synonyms[i]  \n",
        "      #new_words = [sample(dict1[word],1)[0] if word in keyword_list else (word if word in [\"covid19\",\"covid\",\"coronavirus\"] else \"noun\") for word in new_words]\n",
        "      new_words = [sample(dict1[word],1)[0] if word in keyword_list else word for word in new_words]\n",
        "      sentence = ' '.join(new_words)\n",
        "      new_list.append(sentence) \n",
        "  return new_list"
      ],
      "execution_count": null,
      "outputs": []
    },
    {
      "cell_type": "code",
      "metadata": {
        "id": "L5G2GKrUEogT"
      },
      "source": [
        "keyword_synonyms = synonym_replacement(val)"
      ],
      "execution_count": null,
      "outputs": []
    },
    {
      "cell_type": "code",
      "metadata": {
        "id": "_2F1LbdJfTR0"
      },
      "source": [
        "val['keyword_synonyms'] = [\"\".join(i) for i in keyword_synonyms ]"
      ],
      "execution_count": null,
      "outputs": []
    },
    {
      "cell_type": "code",
      "metadata": {
        "colab": {
          "base_uri": "https://localhost:8080/",
          "height": 35
        },
        "id": "OAMgiBshEsRT",
        "outputId": "6e3e958f-78e6-46f7-95f9-3013facfcae5"
      },
      "source": [
        "val['keyword_synonyms'][0]"
      ],
      "execution_count": null,
      "outputs": [
        {
          "output_type": "execute_result",
          "data": {
            "application/vnd.google.colaboratory.intrinsic+json": {
              "type": "string"
            },
            "text/plain": [
              "'formosan exchange islamism actualize moslem strike coronavirus covd19 state'"
            ]
          },
          "metadata": {},
          "execution_count": 87
        }
      ]
    },
    {
      "cell_type": "code",
      "metadata": {
        "colab": {
          "base_uri": "https://localhost:8080/",
          "height": 35
        },
        "id": "PaasXLT3FM3n",
        "outputId": "c28bd800-596d-44a7-b9a9-a986cea1c9df"
      },
      "source": [
        "val['cleaned'][0]"
      ],
      "execution_count": null,
      "outputs": [
        {
          "output_type": "execute_result",
          "data": {
            "application/vnd.google.colaboratory.intrinsic+json": {
              "type": "string"
            },
            "text/plain": [
              "'chinese converting islam realising muslim affected coronavirus covd19 country'"
            ]
          },
          "metadata": {},
          "execution_count": 88
        }
      ]
    },
    {
      "cell_type": "code",
      "metadata": {
        "colab": {
          "base_uri": "https://localhost:8080/"
        },
        "id": "cdtjmZ3ZEwMf",
        "outputId": "1e698a3a-5ab2-49a6-88cb-70994c380b1e"
      },
      "source": [
        "val['keywords'][0]"
      ],
      "execution_count": null,
      "outputs": [
        {
          "output_type": "execute_result",
          "data": {
            "text/plain": [
              "['country',\n",
              " 'chinese',\n",
              " 'coronavirus',\n",
              " 'converting',\n",
              " 'islam',\n",
              " 'realising',\n",
              " 'muslim',\n",
              " 'affected']"
            ]
          },
          "metadata": {},
          "execution_count": 56
        }
      ]
    },
    {
      "cell_type": "code",
      "metadata": {
        "colab": {
          "base_uri": "https://localhost:8080/",
          "height": 35
        },
        "id": "XfySAjAtFQ6e",
        "outputId": "155829e7-50a9-4152-c5fb-2fdf7d2cb148"
      },
      "source": [
        "val['keyword_synonyms'][10]"
      ],
      "execution_count": null,
      "outputs": [
        {
          "output_type": "execute_result",
          "data": {
            "application/vnd.google.colaboratory.intrinsic+json": {
              "type": "string"
            },
            "text/plain": [
              "'noun fly sheet favorable sky noun fright covid airway outride noun rubber coronavirus'"
            ]
          },
          "metadata": {},
          "execution_count": 57
        }
      ]
    },
    {
      "cell_type": "code",
      "metadata": {
        "colab": {
          "base_uri": "https://localhost:8080/",
          "height": 35
        },
        "id": "-TxlAKD2g-hh",
        "outputId": "d09c9652-a1bc-4edd-d9c9-302fa55b13ac"
      },
      "source": [
        "val['cleaned'][10]"
      ],
      "execution_count": null,
      "outputs": [
        {
          "output_type": "execute_result",
          "data": {
            "application/vnd.google.colaboratory.intrinsic+json": {
              "type": "string"
            },
            "text/plain": [
              "'still fly friendly skies without fear covid airlines stay serious safety coronavirus'"
            ]
          },
          "metadata": {},
          "execution_count": 58
        }
      ]
    },
    {
      "cell_type": "code",
      "metadata": {
        "colab": {
          "base_uri": "https://localhost:8080/"
        },
        "id": "RtOGzs3YhBnv",
        "outputId": "b0d8b627-216d-470c-b14a-befa4109b251"
      },
      "source": [
        "val['keywords'][10]"
      ],
      "execution_count": null,
      "outputs": [
        {
          "output_type": "execute_result",
          "data": {
            "text/plain": [
              "['coronavirus',\n",
              " 'fly',\n",
              " 'friendly',\n",
              " 'skies',\n",
              " 'fear',\n",
              " 'covid',\n",
              " 'airlines',\n",
              " 'stay',\n",
              " 'safety']"
            ]
          },
          "metadata": {},
          "execution_count": 59
        }
      ]
    },
    {
      "cell_type": "code",
      "metadata": {
        "colab": {
          "base_uri": "https://localhost:8080/"
        },
        "id": "LjVR8oq4FrWI",
        "outputId": "6134e0e9-8e94-48ab-f050-4b58fff72473"
      },
      "source": [
        "l1 = ['a']\n",
        "print(str(l1))"
      ],
      "execution_count": null,
      "outputs": [
        {
          "output_type": "stream",
          "name": "stdout",
          "text": [
            "['a']\n"
          ]
        }
      ]
    },
    {
      "cell_type": "code",
      "metadata": {
        "colab": {
          "base_uri": "https://localhost:8080/"
        },
        "id": "xyHuchcPdNGk",
        "outputId": "ad6a56bd-da70-4688-dd3d-0c9b45551633"
      },
      "source": [
        "get_synonyms(\"Amir Khan\")"
      ],
      "execution_count": null,
      "outputs": [
        {
          "output_type": "execute_result",
          "data": {
            "text/plain": [
              "[]"
            ]
          },
          "metadata": {},
          "execution_count": 63
        }
      ]
    },
    {
      "cell_type": "code",
      "metadata": {
        "colab": {
          "base_uri": "https://localhost:8080/",
          "height": 571
        },
        "id": "YkeWnlBLdUn1",
        "outputId": "d44e7e3d-37ef-404c-d65c-b5cbdf92dac3"
      },
      "source": [
        "pred_keyword=pipeline.predict(val['keyword_synonyms'])\n",
        "print_metrices(pred_keyword,val['label'])\n",
        "plot_confusion_matrix(confusion_matrix(val['label'],pred_keyword),target_names=['fake','real'], normalize = False, \\\n",
        "                      title = 'Confusion matix')\n"
      ],
      "execution_count": null,
      "outputs": [
        {
          "output_type": "stream",
          "name": "stdout",
          "text": [
            "[[966  54]\n",
            " [246 874]]\n",
            "              precision    recall  f1-score   support\n",
            "\n",
            "        fake       0.80      0.95      0.87      1020\n",
            "        real       0.94      0.78      0.85      1120\n",
            "\n",
            "    accuracy                           0.86      2140\n",
            "   macro avg       0.87      0.86      0.86      2140\n",
            "weighted avg       0.87      0.86      0.86      2140\n",
            "\n",
            "Accuracy :  0.8598130841121495\n",
            "Precison :  0.8747694965836802\n",
            "Recall :  0.8598130841121495\n",
            "F1 :  0.8603548010250226\n"
          ]
        },
        {
          "output_type": "display_data",
          "data": {
            "image/png": "[encoded data removed]",
            "text/plain": [
              "<Figure size 360x288 with 2 Axes>"
            ]
          },
          "metadata": {
            "needs_background": "light"
          }
        }
      ]
    },
    {
      "cell_type": "code",
      "metadata": {
        "colab": {
          "base_uri": "https://localhost:8080/"
        },
        "id": "UlLgLx0Wgge3",
        "outputId": "51e5efcf-d9e5-4362-bac1-c41b319184a4"
      },
      "source": [
        "pred_keyword"
      ],
      "execution_count": null,
      "outputs": [
        {
          "output_type": "execute_result",
          "data": {
            "text/plain": [
              "array(['fake', 'real', 'fake', ..., 'fake', 'fake', 'real'], dtype=object)"
            ]
          },
          "metadata": {},
          "execution_count": 230
        }
      ]
    },
    {
      "cell_type": "code",
      "metadata": {
        "colab": {
          "base_uri": "https://localhost:8080/"
        },
        "id": "HHMbMXdPgPdt",
        "outputId": "a03cf960-a17d-4c97-e514-dee3f8a28881"
      },
      "source": [
        "val['label']"
      ],
      "execution_count": null,
      "outputs": [
        {
          "output_type": "execute_result",
          "data": {
            "text/plain": [
              "0       fake\n",
              "1       fake\n",
              "2       fake\n",
              "3       fake\n",
              "4       real\n",
              "        ... \n",
              "2135    fake\n",
              "2136    real\n",
              "2137    fake\n",
              "2138    fake\n",
              "2139    real\n",
              "Name: label, Length: 2140, dtype: object"
            ]
          },
          "metadata": {},
          "execution_count": 227
        }
      ]
    },
    {
      "cell_type": "markdown",
      "metadata": {
        "id": "QOBTDMRXmEdO"
      },
      "source": [
        "# Random key word deletion"
      ]
    },
    {
      "cell_type": "code",
      "metadata": {
        "id": "n-sPq2VPgjP4"
      },
      "source": [
        "def keyword_deletion(val): \n",
        "  cleaned_words = list(val['cleaned'])\n",
        "  keywords = list(val['keywords'])\n",
        "  new_list = []\n",
        "  for item,words in enumerate(cleaned_words) :\n",
        "      split_words = words.split() \n",
        "      new_words = split_words.copy() \n",
        "      keyword_list = keywords[item] \n",
        "      if(len(keyword_list) >  5 ):\n",
        "          keyword_list = sample(keyword_list,5)\n",
        "      else :\n",
        "          keyword_list = []\n",
        "      new_words = [\"\" if word in keyword_list else word for word in new_words]\n",
        "      sentence = ' '.join(new_words)\n",
        "      new_list.append(sentence) \n",
        "  return new_list"
      ],
      "execution_count": null,
      "outputs": []
    },
    {
      "cell_type": "code",
      "metadata": {
        "id": "UMANE74Vo2Rx"
      },
      "source": [
        "new_keywords_list = keyword_deletion(val)\n",
        "val['keyword_deletion'] = [\"\".join(i) for i in new_keywords_list ]"
      ],
      "execution_count": null,
      "outputs": []
    },
    {
      "cell_type": "code",
      "metadata": {
        "colab": {
          "base_uri": "https://localhost:8080/",
          "height": 35
        },
        "id": "JNPo8F-zpR9P",
        "outputId": "ed148514-9da9-43f9-afa4-41db07ac4d51"
      },
      "source": [
        "val['keyword_deletion'][0]"
      ],
      "execution_count": null,
      "outputs": [
        {
          "output_type": "execute_result",
          "data": {
            "application/vnd.google.colaboratory.intrinsic+json": {
              "type": "string"
            },
            "text/plain": [
              "'  islam  muslim affected  covd19 '"
            ]
          },
          "metadata": {},
          "execution_count": 107
        }
      ]
    },
    {
      "cell_type": "code",
      "metadata": {
        "colab": {
          "base_uri": "https://localhost:8080/",
          "height": 571
        },
        "id": "7ii525zZpTe3",
        "outputId": "cb3f11b5-7bd2-451f-c638-95d38c8f1293"
      },
      "source": [
        "pred_kd=pipeline.predict(val['keyword_deletion'])\n",
        "print_metrices(pred_kd,val['label'])\n",
        "plot_confusion_matrix(confusion_matrix(val['label'],pred_kd),target_names=['fake','real'], normalize = False, \\\n",
        "                      title = 'Confusion matix of SVM on validation data')\n"
      ],
      "execution_count": null,
      "outputs": [
        {
          "output_type": "stream",
          "name": "stdout",
          "text": [
            "[[934  86]\n",
            " [135 985]]\n",
            "              precision    recall  f1-score   support\n",
            "\n",
            "        fake       0.87      0.92      0.89      1020\n",
            "        real       0.92      0.88      0.90      1120\n",
            "\n",
            "    accuracy                           0.90      2140\n",
            "   macro avg       0.90      0.90      0.90      2140\n",
            "weighted avg       0.90      0.90      0.90      2140\n",
            "\n",
            "Accuracy :  0.8967289719626168\n",
            "Precison :  0.8975583539490564\n",
            "Recall :  0.8967289719626168\n",
            "F1 :  0.8966725869166369\n"
          ]
        },
        {
          "output_type": "display_data",
          "data": {
            "image/png": "[encoded data removed]",
            "text/plain": [
              "<Figure size 360x288 with 2 Axes>"
            ]
          },
          "metadata": {
            "needs_background": "light"
          }
        }
      ]
    },
    {
      "cell_type": "markdown",
      "metadata": {
        "id": "MBMHae8Fqi1k"
      },
      "source": [
        "# Random Swap"
      ]
    },
    {
      "cell_type": "code",
      "metadata": {
        "id": "8kxtidAjp0UC"
      },
      "source": [
        "def swap_word(new_words):\n",
        "    \n",
        "    random_idx_1 = random.randint(0, len(new_words)-1)\n",
        "    random_idx_2 = random_idx_1\n",
        "    counter = 0\n",
        "    \n",
        "    while random_idx_2 == random_idx_1:\n",
        "        random_idx_2 = random.randint(0, len(new_words)-1)\n",
        "        counter += 1\n",
        "        \n",
        "        if counter > 3:\n",
        "            return new_words\n",
        "    \n",
        "    new_words[random_idx_1], new_words[random_idx_2] = new_words[random_idx_2], new_words[random_idx_1] \n",
        "    return new_words\n",
        "\n",
        "def random_swap(words, n):\n",
        "    \n",
        "    words = words.split()\n",
        "    new_words = words.copy()\n",
        "    \n",
        "    for _ in range(n):\n",
        "        new_words = swap_word(new_words)\n",
        "        \n",
        "    sentence = ' '.join(new_words)\n",
        "    \n",
        "    return sentence"
      ],
      "execution_count": null,
      "outputs": []
    },
    {
      "cell_type": "code",
      "metadata": {
        "id": "49OeYQDAqlOu"
      },
      "source": [
        "val['swap'] = val['cleaned'].apply(lambda x : random_swap(x,len(x))) "
      ],
      "execution_count": null,
      "outputs": []
    },
    {
      "cell_type": "code",
      "metadata": {
        "colab": {
          "base_uri": "https://localhost:8080/",
          "height": 35
        },
        "id": "BDSUbDelqwKa",
        "outputId": "4dd67d51-6521-4f65-b5cb-ca931d4eec3b"
      },
      "source": [
        "val['swap'][0]"
      ],
      "execution_count": null,
      "outputs": [
        {
          "output_type": "execute_result",
          "data": {
            "application/vnd.google.colaboratory.intrinsic+json": {
              "type": "string"
            },
            "text/plain": [
              "'covd19 islam affected chinese muslim converting realising coronavirus country'"
            ]
          },
          "metadata": {},
          "execution_count": 119
        }
      ]
    },
    {
      "cell_type": "code",
      "metadata": {
        "id": "Xzbvn2yHrxu9",
        "colab": {
          "base_uri": "https://localhost:8080/",
          "height": 35
        },
        "outputId": "9b5f3bd4-374e-4826-df5b-4611d12815af"
      },
      "source": [
        "val['cleaned'][0]"
      ],
      "execution_count": null,
      "outputs": [
        {
          "output_type": "execute_result",
          "data": {
            "application/vnd.google.colaboratory.intrinsic+json": {
              "type": "string"
            },
            "text/plain": [
              "'chinese converting islam realising muslim affected coronavirus covd19 country'"
            ]
          },
          "metadata": {},
          "execution_count": 120
        }
      ]
    },
    {
      "cell_type": "code",
      "metadata": {
        "colab": {
          "base_uri": "https://localhost:8080/",
          "height": 571
        },
        "id": "HfUm54xFrRRU",
        "outputId": "5b66d001-ba7a-4417-8d9f-9784814764d4"
      },
      "source": [
        "pred_rs=pipeline.predict(val['swap'])\n",
        "print_metrices(pred_rs,val['label'])\n",
        "plot_confusion_matrix(confusion_matrix(val['label'],pred_rs),target_names=['fake','real'], normalize = False, \\\n",
        "                      title = 'Confusion matix of SVM on validation data')\n"
      ],
      "execution_count": null,
      "outputs": [
        {
          "output_type": "stream",
          "name": "stdout",
          "text": [
            "[[ 963   57]\n",
            " [  83 1037]]\n",
            "              precision    recall  f1-score   support\n",
            "\n",
            "        fake       0.92      0.94      0.93      1020\n",
            "        real       0.95      0.93      0.94      1120\n",
            "\n",
            "    accuracy                           0.93      2140\n",
            "   macro avg       0.93      0.94      0.93      2140\n",
            "weighted avg       0.93      0.93      0.93      2140\n",
            "\n",
            "Accuracy :  0.9345794392523364\n",
            "Precison :  0.9348008619335585\n",
            "Recall :  0.9345794392523364\n",
            "F1 :  0.9345519215989282\n"
          ]
        },
        {
          "output_type": "display_data",
          "data": {
            "image/png": "[encoded data removed]",
            "text/plain": [
              "<Figure size 360x288 with 2 Axes>"
            ]
          },
          "metadata": {
            "needs_background": "light"
          }
        }
      ]
    },
    {
      "cell_type": "code",
      "metadata": {
        "id": "O-L-5noPrwIS"
      },
      "source": [
        ""
      ],
      "execution_count": null,
      "outputs": []
    },
    {
      "cell_type": "code",
      "metadata": {
        "id": "UQkkBAgnrbMs"
      },
      "source": [
        ""
      ],
      "execution_count": null,
      "outputs": []
    }
  ]
}